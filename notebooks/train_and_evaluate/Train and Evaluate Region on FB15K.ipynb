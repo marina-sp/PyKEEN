{
 "cells": [
  {
   "cell_type": "code",
   "execution_count": 1,
   "metadata": {
    "ExecuteTime": {
     "end_time": "2019-06-28T21:57:09.281272Z",
     "start_time": "2019-06-28T21:57:09.275283Z"
    }
   },
   "outputs": [],
   "source": [
    "TEST = True"
   ]
  },
  {
   "cell_type": "markdown",
   "metadata": {},
   "source": [
    "Check which hyper-parameters are required by Region:"
   ]
  },
  {
   "cell_type": "code",
   "execution_count": 2,
   "metadata": {
    "ExecuteTime": {
     "end_time": "2019-06-28T21:57:14.229258Z",
     "start_time": "2019-06-28T21:57:09.283262Z"
    }
   },
   "outputs": [
    {
     "data": {
      "text/plain": [
       "['embedding_dim',\n",
       " 'margin_loss',\n",
       " 'learning_rate',\n",
       " 'corrupt_relations',\n",
       " 'normalization_of_entities',\n",
       " 'init_radius',\n",
       " 'reg_lambda',\n",
       " 'loss_type',\n",
       " 'neg_factor',\n",
       " 'region_type']"
      ]
     },
     "execution_count": 2,
     "metadata": {},
     "output_type": "execute_result"
    }
   ],
   "source": [
    "from pykeen.kge_models import Region\n",
    "Region.hyper_params"
   ]
  },
  {
   "cell_type": "markdown",
   "metadata": {},
   "source": [
    "Train and evaluate Region (provide test set):\n",
    "* Define the path to our test set: **test_set_path**\n",
    "* Define the path to our the negative test set: **neg_test_path** in case of triple classfication evaluation\n",
    "* Define whether you want to compute the metrics (mean rank and hits@k) in raw or in a filtered setting: **filter_negative_triples**"
   ]
  },
  {
   "cell_type": "code",
   "execution_count": 3,
   "metadata": {
    "ExecuteTime": {
     "end_time": "2019-06-28T21:57:14.236270Z",
     "start_time": "2019-06-28T21:57:14.231279Z"
    }
   },
   "outputs": [],
   "source": [
    "config = dict(\n",
    "    metrics                     = ['mean_rank'],\n",
    "    training_set_path           = 'D:/uni/master/data/FB15K/train.tsv',\n",
    "    test_set_path               = 'D:/uni/master/data/FB15K/valid_150.tsv',\n",
    "    mapping_path                = 'D:/uni/master/data/fb15k/',\n",
    "    execution_mode              = 'Training_mode',\n",
    "    random_seed                 = 2,\n",
    "    \n",
    "    kg_embedding_model_name     = 'Region',\n",
    "    region_type                 = 'sphere',\n",
    "    embedding_dim               = 50,\n",
    "    init_radius                 = 0,\n",
    "    reg_lambda                  = 0.01,\n",
    "    loss_type                   = 'NLL',\n",
    "    neg_factor                  = 5,\n",
    "    corrupt_relations           = False,\n",
    " \n",
    "    normalization_of_entities   = 2,  # corresponds to L2\n",
    "    margin_loss                 = 0.0,\n",
    "    learning_rate               = 0.01,\n",
    "    es_metric                   = 'custom',\n",
    "    num_epochs                  = 1000,  \n",
    "    batch_size                  = 2048,\n",
    "    test_batch_size             = 6000,\n",
    "    filter_negative_triples     = False,\n",
    "    preferred_device            = 'gpu'\n",
    ")"
   ]
  },
  {
   "cell_type": "code",
   "execution_count": 4,
   "metadata": {
    "ExecuteTime": {
     "end_time": "2019-06-28T21:57:14.250203Z",
     "start_time": "2019-06-28T21:57:14.238271Z"
    }
   },
   "outputs": [
    {
     "data": {
      "text/plain": [
       "'D:/uni/master/models/region_FB15k_dim50_sphere_rad0_regL001_lr001_loss-NLL_margin0.0_negfactor5_epochs1000/'"
      ]
     },
     "execution_count": 4,
     "metadata": {},
     "output_type": "execute_result"
    }
   ],
   "source": [
    "output_directory = 'D:/uni/master/models/region_FB15k_dim{}_{}_rad{}_regL{}_lr{}_loss-{}_margin{}_negfactor{}_epochs{}/'.format(\n",
    "    config['embedding_dim'], config['region_type'], config['init_radius'], \n",
    "    str(config['reg_lambda']).replace('.',''), \n",
    "    str(config['learning_rate']).replace('.',''),\n",
    "    config['loss_type'],\n",
    "    config['margin_loss'],\n",
    "    config['neg_factor'],\n",
    "    config['num_epochs']\n",
    ")\n",
    "output_directory"
   ]
  },
  {
   "cell_type": "code",
   "execution_count": 5,
   "metadata": {
    "ExecuteTime": {
     "end_time": "2019-06-28T21:57:14.285554Z",
     "start_time": "2019-06-28T21:57:14.252198Z"
    }
   },
   "outputs": [],
   "source": [
    "if TEST:\n",
    "    output_directory = 'D:/uni/master/models/test/'"
   ]
  },
  {
   "cell_type": "code",
   "execution_count": 6,
   "metadata": {
    "ExecuteTime": {
     "end_time": "2019-06-28T21:57:14.295490Z",
     "start_time": "2019-06-28T21:57:14.286515Z"
    }
   },
   "outputs": [],
   "source": [
    "import logging\n",
    "import os\n",
    "import sys\n",
    "import time\n",
    "import pykeen"
   ]
  },
  {
   "cell_type": "code",
   "execution_count": 7,
   "metadata": {
    "ExecuteTime": {
     "end_time": "2019-06-28T21:57:14.301476Z",
     "start_time": "2019-06-28T21:57:14.297484Z"
    }
   },
   "outputs": [],
   "source": [
    "logging.basicConfig(level=logging.DEBUG)\n",
    "logging.getLogger('pykeen').setLevel(logging.DEBUG)"
   ]
  },
  {
   "cell_type": "code",
   "execution_count": 8,
   "metadata": {
    "ExecuteTime": {
     "end_time": "2019-06-28T21:57:14.314441Z",
     "start_time": "2019-06-28T21:57:14.303498Z"
    }
   },
   "outputs": [
    {
     "name": "stdout",
     "output_type": "stream",
     "text": [
      "3.6.8 |Anaconda, Inc.| (default, Feb 21 2019, 18:30:04) [MSC v.1916 64 bit (AMD64)]\n"
     ]
    }
   ],
   "source": [
    "print(sys.version)"
   ]
  },
  {
   "cell_type": "code",
   "execution_count": 9,
   "metadata": {
    "ExecuteTime": {
     "end_time": "2019-06-28T21:57:14.345357Z",
     "start_time": "2019-06-28T21:57:14.318429Z"
    },
    "scrolled": true
   },
   "outputs": [
    {
     "name": "stdout",
     "output_type": "stream",
     "text": [
      "Fri Jun 28 23:57:14 2019\n"
     ]
    }
   ],
   "source": [
    "print(time.asctime())"
   ]
  },
  {
   "cell_type": "code",
   "execution_count": 10,
   "metadata": {
    "ExecuteTime": {
     "end_time": "2019-06-28T21:57:14.354333Z",
     "start_time": "2019-06-28T21:57:14.349347Z"
    }
   },
   "outputs": [
    {
     "name": "stdout",
     "output_type": "stream",
     "text": [
      "0.0.26-dev\n"
     ]
    }
   ],
   "source": [
    "print(pykeen.get_version())"
   ]
  },
  {
   "cell_type": "markdown",
   "metadata": {},
   "source": [
    "## Train and evaluate Region:"
   ]
  },
  {
   "cell_type": "code",
   "execution_count": 11,
   "metadata": {
    "ExecuteTime": {
     "end_time": "2019-06-28T21:57:15.449428Z",
     "start_time": "2019-06-28T21:57:14.356328Z"
    },
    "scrolled": true
   },
   "outputs": [
    {
     "name": "stderr",
     "output_type": "stream",
     "text": [
      "DEBUG:matplotlib:$HOME=C:\\Users\\aquam\n",
      "DEBUG:matplotlib:CONFIGDIR=C:\\Users\\aquam\\.matplotlib\n",
      "DEBUG:matplotlib:matplotlib data path: D:\\uni\\master\\conda_env\\lib\\site-packages\\matplotlib\\mpl-data\n",
      "DEBUG:matplotlib:loaded rc file D:\\uni\\master\\conda_env\\lib\\site-packages\\matplotlib\\mpl-data\\matplotlibrc\n",
      "DEBUG:matplotlib:matplotlib version 3.0.3\n",
      "DEBUG:matplotlib:interactive is False\n",
      "DEBUG:matplotlib:platform is win32\n"
     ]
    },
    {
     "name": "stderr",
     "output_type": "stream",
     "text": [
      "DEBUG:matplotlib:loaded modules: ['builtins', 'sys', '_frozen_importlib', '_imp', '_warnings', '_thread', '_weakref', '_frozen_importlib_external', '_io', 'marshal', 'nt', 'winreg', 'zipimport', 'encodings', 'codecs', '_codecs', 'encodings.aliases', 'encodings.utf_8', '_signal', '__main__', 'encodings.latin_1', 'io', 'abc', '_weakrefset', 'encodings.cp1251', 'site', 'os', 'errno', 'stat', '_stat', 'ntpath', 'genericpath', 'os.path', '_collections_abc', '_sitebuiltins', 'sysconfig', '_bootlocale', '_locale', 'types', 'functools', '_functools', 'collections', 'operator', '_operator', 'keyword', 'heapq', '_heapq', 'itertools', 'reprlib', '_collections', 'weakref', 'collections.abc', 'importlib', 'importlib._bootstrap', 'importlib._bootstrap_external', 'warnings', 'importlib.util', 'importlib.abc', 'importlib.machinery', 'contextlib', 'mpl_toolkits', 'runpy', 'pkgutil', 'ipykernel', 'ipykernel._version', 'ipykernel.connect', '__future__', 'json', 'json.decoder', 're', 'enum', 'sre_compile', '_sre', 'sre_parse', 'sre_constants', 'copyreg', 'json.scanner', '_json', 'json.encoder', 'subprocess', 'time', 'signal', 'threading', 'traceback', 'linecache', 'tokenize', 'token', 'msvcrt', '_winapi', 'IPython', 'IPython.core', 'IPython.core.getipython', 'IPython.core.release', 'IPython.core.application', 'atexit', 'copy', 'glob', 'fnmatch', 'posixpath', 'logging', 'string', '_string', 'shutil', 'zlib', 'bz2', '_compression', '_bz2', 'lzma', '_lzma', 'traitlets', 'traitlets.traitlets', 'inspect', 'ast', '_ast', 'dis', 'opcode', '_opcode', 'six', 'struct', '_struct', 'traitlets.utils', 'traitlets.utils.getargspec', 'traitlets.utils.importstring', 'ipython_genutils', 'ipython_genutils._version', 'ipython_genutils.py3compat', 'ipython_genutils.encoding', 'locale', 'platform', 'traitlets.utils.sentinel', 'traitlets.utils.bunch', 'traitlets._version', 'traitlets.config', 'traitlets.config.application', 'decorator', 'traitlets.config.configurable', 'traitlets.config.loader', 'argparse', 'textwrap', 'gettext', 'ipython_genutils.path', 'random', 'math', 'hashlib', '_hashlib', '_blake2', '_sha3', 'bisect', '_bisect', '_random', 'ipython_genutils.text', 'ipython_genutils.importstring', 'IPython.core.crashhandler', 'pprint', 'IPython.core.ultratb', 'pydoc', 'urllib', 'urllib.parse', 'IPython.core.debugger', 'bdb', 'IPython.utils', 'IPython.utils.PyColorize', 'IPython.utils.coloransi', 'IPython.utils.ipstruct', 'IPython.utils.colorable', 'pygments', 'pygments.util', 'IPython.utils.py3compat', 'IPython.utils.encoding', 'IPython.core.excolors', 'IPython.testing', 'IPython.testing.skipdoctest', 'pdb', 'cmd', 'code', 'codeop', 'IPython.core.display_trap', 'IPython.utils.path', 'IPython.utils.process', 'IPython.utils._process_win32', 'ctypes', '_ctypes', 'ctypes._endian', 'ctypes.wintypes', 'IPython.utils._process_common', 'shlex', 'IPython.utils.decorators', 'IPython.utils.data', 'IPython.utils.terminal', 'IPython.utils.sysinfo', 'IPython.utils._sysinfo', 'IPython.core.profiledir', 'IPython.paths', 'tempfile', 'IPython.utils.importstring', 'IPython.terminal', 'IPython.terminal.embed', 'IPython.core.compilerop', 'IPython.core.magic_arguments', 'IPython.core.error', 'IPython.utils.text', 'pathlib', 'IPython.core.magic', 'getopt', 'IPython.core.oinspect', 'IPython.core.page', 'IPython.core.display', 'binascii', 'mimetypes', 'IPython.lib', 'IPython.lib.security', 'getpass', 'IPython.lib.pretty', 'datetime', '_datetime', 'IPython.utils.openpy', 'IPython.utils.dir2', 'IPython.utils.wildcard', 'pygments.lexers', 'pygments.lexers._mapping', 'pygments.modeline', 'pygments.plugin', 'pygments.lexers.python', 'pygments.lexer', 'pygments.filter', 'pygments.filters', 'pygments.token', 'pygments.regexopt', 'pygments.unistring', 'pygments.formatters', 'pygments.formatters._mapping', 'pygments.formatters.html', 'pygments.formatter', 'pygments.styles', 'IPython.core.inputtransformer2', 'typing', 'typing.io', 'typing.re', 'IPython.core.interactiveshell', 'asyncio', 'selectors', 'select', '_socket', '_overlapped', 'asyncio.base_events', 'concurrent', 'concurrent.futures', 'concurrent.futures._base', 'concurrent.futures.process', 'queue', 'multiprocessing', 'multiprocessing.context', 'multiprocessing.process', 'multiprocessing.reduction', 'pickle', '_compat_pickle', '_pickle', 'socket', '__mp_main__', 'multiprocessing.connection', '_multiprocessing', 'multiprocessing.util', 'concurrent.futures.thread', 'asyncio.compat', 'asyncio.coroutines', 'asyncio.constants', 'asyncio.events', 'asyncio.base_futures', 'asyncio.log', 'asyncio.futures', 'asyncio.base_tasks', '_asyncio', 'asyncio.tasks', 'asyncio.locks', 'asyncio.protocols', 'asyncio.queues', 'asyncio.streams', 'asyncio.subprocess', 'asyncio.transports', 'asyncio.windows_events', 'asyncio.base_subprocess', 'asyncio.proactor_events', 'asyncio.sslproto', 'ssl', 'ipaddress', '_ssl', 'base64', 'asyncio.selector_events', 'asyncio.windows_utils', 'pickleshare', 'IPython.core.prefilter', 'IPython.core.autocall', 'IPython.core.macro', 'IPython.core.splitinput', 'IPython.core.alias', 'IPython.core.builtin_trap', 'IPython.core.events', 'backcall', 'backcall.backcall', 'IPython.core.displayhook', 'IPython.core.displaypub', 'IPython.core.extensions', 'IPython.core.formatters', 'IPython.utils.sentinel', 'IPython.core.history', 'sqlite3', 'sqlite3.dbapi2', '_sqlite3', 'IPython.core.logger', 'IPython.core.payload', 'IPython.core.usage', 'IPython.display', 'IPython.lib.display', 'html', 'html.entities', 'IPython.utils.io', 'IPython.utils.capture', 'IPython.utils.strdispatch', 'IPython.core.hooks', 'IPython.utils.syspathcontext', 'IPython.utils.tempdir', 'IPython.utils.contexts', 'IPython.core.async_helpers', 'IPython.terminal.interactiveshell', 'prompt_toolkit', 'prompt_toolkit.application', 'prompt_toolkit.application.application', 'prompt_toolkit.buffer', 'prompt_toolkit.application.current', 'prompt_toolkit.eventloop', 'prompt_toolkit.eventloop.base', 'prompt_toolkit.log', 'prompt_toolkit.eventloop.coroutine', 'prompt_toolkit.eventloop.defaults', 'prompt_toolkit.utils', 'six.moves', 'wcwidth', 'wcwidth.wcwidth', 'wcwidth.table_wide', 'wcwidth.table_zero', 'prompt_toolkit.cache', 'prompt_toolkit.eventloop.future', 'prompt_toolkit.eventloop.context', 'prompt_toolkit.eventloop.async_generator', 'six.moves.queue', 'prompt_toolkit.eventloop.event', 'prompt_toolkit.application.run_in_terminal', 'prompt_toolkit.auto_suggest', 'prompt_toolkit.filters', 'prompt_toolkit.filters.base', 'prompt_toolkit.filters.app', 'prompt_toolkit.enums', 'prompt_toolkit.filters.utils', 'prompt_toolkit.filters.cli', 'prompt_toolkit.clipboard', 'prompt_toolkit.clipboard.base', 'prompt_toolkit.selection', 'prompt_toolkit.clipboard.in_memory', 'prompt_toolkit.completion', 'prompt_toolkit.completion.base', 'prompt_toolkit.completion.filesystem', 'prompt_toolkit.completion.word_completer', 'prompt_toolkit.completion.fuzzy_completer', 'prompt_toolkit.document', 'prompt_toolkit.history', 'prompt_toolkit.search', 'prompt_toolkit.key_binding', 'prompt_toolkit.key_binding.key_bindings', 'prompt_toolkit.keys', 'prompt_toolkit.key_binding.vi_state', 'prompt_toolkit.validation', 'prompt_toolkit.input', 'prompt_toolkit.input.base', 'prompt_toolkit.input.defaults', 'prompt_toolkit.input.typeahead', 'prompt_toolkit.key_binding.bindings', 'prompt_toolkit.key_binding.bindings.page_navigation', 'prompt_toolkit.key_binding.bindings.scroll', 'prompt_toolkit.key_binding.defaults', 'prompt_toolkit.key_binding.bindings.basic', 'prompt_toolkit.key_binding.key_processor', 'prompt_toolkit.key_binding.bindings.named_commands', 'prompt_toolkit.key_binding.bindings.completion', 'prompt_toolkit.key_binding.bindings.emacs', 'prompt_toolkit.key_binding.bindings.vi', 'prompt_toolkit.input.vt100_parser', 'prompt_toolkit.input.ansi_escape_sequences', 'prompt_toolkit.key_binding.digraphs', 'prompt_toolkit.key_binding.bindings.mouse', 'prompt_toolkit.layout', 'prompt_toolkit.layout.containers', 'prompt_toolkit.layout.controls', 'prompt_toolkit.formatted_text', 'prompt_toolkit.formatted_text.base', 'prompt_toolkit.formatted_text.html', 'xml', 'xml.dom', 'xml.dom.domreg', 'xml.dom.minidom', 'xml.dom.minicompat', 'xml.dom.xmlbuilder', 'xml.dom.NodeFilter', 'prompt_toolkit.formatted_text.ansi', 'prompt_toolkit.output', 'prompt_toolkit.output.base', 'prompt_toolkit.layout.screen', 'prompt_toolkit.output.defaults', 'prompt_toolkit.output.color_depth', 'prompt_toolkit.output.vt100', 'prompt_toolkit.styles', 'prompt_toolkit.styles.base', 'prompt_toolkit.styles.defaults', 'prompt_toolkit.styles.style', 'prompt_toolkit.styles.named_colors', 'prompt_toolkit.styles.pygments', 'prompt_toolkit.styles.style_transformation', 'colorsys', 'array', 'prompt_toolkit.formatted_text.pygments', 'prompt_toolkit.formatted_text.utils', 'prompt_toolkit.lexers', 'prompt_toolkit.lexers.base', 'prompt_toolkit.lexers.pygments', 'prompt_toolkit.mouse_events', 'prompt_toolkit.layout.processors', 'prompt_toolkit.layout.utils', 'prompt_toolkit.layout.dimension', 'prompt_toolkit.layout.margins', 'prompt_toolkit.layout.layout', 'prompt_toolkit.layout.menus', 'prompt_toolkit.renderer', 'prompt_toolkit.layout.mouse_handlers', 'prompt_toolkit.key_binding.bindings.cpr', 'prompt_toolkit.key_binding.emacs_state', 'prompt_toolkit.layout.dummy', 'prompt_toolkit.application.dummy', 'prompt_toolkit.shortcuts', 'prompt_toolkit.shortcuts.dialogs', 'prompt_toolkit.key_binding.bindings.focus', 'prompt_toolkit.widgets', 'prompt_toolkit.widgets.base', 'prompt_toolkit.widgets.toolbars', 'prompt_toolkit.widgets.dialogs', 'prompt_toolkit.widgets.menus', 'prompt_toolkit.shortcuts.prompt', 'prompt_toolkit.key_binding.bindings.auto_suggest', 'prompt_toolkit.key_binding.bindings.open_in_editor', 'prompt_toolkit.shortcuts.utils', 'prompt_toolkit.shortcuts.progress_bar', 'prompt_toolkit.shortcuts.progress_bar.base', 'prompt_toolkit.shortcuts.progress_bar.formatters', 'prompt_toolkit.patch_stdout', 'pygments.style', 'IPython.terminal.debugger', 'IPython.core.completer', 'unicodedata', 'IPython.core.latex_symbols', 'IPython.utils.generics', 'jedi', 'jedi.api', 'parso', 'parso.parser', 'parso.tree', 'parso._compatibility', 'parso.utils', 'parso.pgen2', 'parso.pgen2.generator', 'parso.pgen2.grammar_parser', 'parso.python', 'parso.python.tokenize', 'parso.python.token', 'parso.grammar', 'parso.python.diff', 'difflib', 'parso.python.parser', 'parso.python.tree', 'parso.python.prefix', 'parso.cache', 'gc', 'parso.python.errors', 'parso.normalizer', 'parso.python.pep8', 'jedi._compatibility', 'jedi.parser_utils', 'jedi.debug', 'jedi.settings', 'jedi.cache', 'jedi.api.classes', 'jedi.evaluate', 'jedi.evaluate.utils', 'jedi.evaluate.imports', 'jedi.evaluate.sys_path', 'jedi.evaluate.cache', 'jedi.evaluate.base_context', 'jedi.common', 'jedi.common.context', 'jedi.evaluate.helpers', 'jedi.common.utils', 'jedi.evaluate.compiled', 'jedi.evaluate.compiled.context', 'jedi.evaluate.filters', 'jedi.evaluate.flow_analysis', 'jedi.evaluate.recursion', 'jedi.evaluate.lazy_context', 'jedi.evaluate.compiled.access', 'jedi.evaluate.compiled.getattr_static', 'jedi.evaluate.compiled.fake', 'jedi.evaluate.analysis', 'jedi.evaluate.context', 'jedi.evaluate.context.module', 'jedi.evaluate.context.klass', 'jedi.evaluate.context.function', 'jedi.evaluate.docstrings', 'jedi.evaluate.pep0484', 'jedi.evaluate.arguments', 'jedi.evaluate.context.iterable', 'jedi.evaluate.param', 'jedi.evaluate.context.asynchronous', 'jedi.evaluate.parser_cache', 'jedi.evaluate.context.instance', 'jedi.evaluate.syntax_tree', 'jedi.evaluate.finder', 'jedi.api.keywords', 'pydoc_data', 'pydoc_data.topics', 'jedi.api.interpreter', 'jedi.evaluate.compiled.mixed', 'jedi.api.helpers', 'jedi.api.completion', 'jedi.api.environment', 'filecmp', 'jedi.evaluate.compiled.subprocess', 'jedi.evaluate.compiled.subprocess.functions', 'jedi.api.exceptions', 'jedi.api.project', 'jedi.evaluate.usages', 'IPython.terminal.ptutils', 'IPython.terminal.shortcuts', 'IPython.lib.clipboard', 'IPython.terminal.magics', 'IPython.terminal.pt_inputhooks', 'IPython.terminal.prompts', 'IPython.terminal.ipapp', 'IPython.core.magics', 'IPython.core.magics.auto', 'IPython.core.magics.basic', 'IPython.core.magics.code', 'urllib.request', 'email', 'http', 'http.client', 'email.parser', 'email.feedparser', 'email.errors', 'email._policybase', 'email.header', 'email.quoprimime', 'email.base64mime', 'email.charset', 'email.encoders', 'quopri', 'email.utils', 'email._parseaddr', 'calendar', 'email.message', 'uu', 'email._encoded_words', 'email.iterators', 'urllib.error', 'urllib.response', 'nturl2path', 'IPython.core.magics.config', 'IPython.core.magics.display', 'IPython.core.magics.execution', 'timeit', 'cProfile', '_lsprof', 'profile', 'optparse', 'pstats', 'IPython.utils.module_paths', 'IPython.utils.timing', 'IPython.core.magics.extension', 'IPython.core.magics.history', 'IPython.core.magics.logging', 'IPython.core.magics.namespace', 'IPython.core.magics.osm', 'IPython.core.magics.packaging', 'IPython.core.magics.pylab', 'IPython.core.pylabtools', 'IPython.core.magics.script', 'IPython.lib.backgroundjobs', 'IPython.core.shellapp', 'IPython.extensions', 'IPython.extensions.storemagic', 'IPython.utils.frame', 'jupyter_client', 'jupyter_client._version', 'jupyter_client.connect', 'zmq', 'zmq.backend', 'zmq.backend.select', 'zmq.backend.cython', 'zmq.backend.cython.constants', 'cython_runtime', 'zmq.backend.cython.error', '_cython_0_29_5', 'zmq.backend.cython.message', 'zmq.error', 'zmq.backend.cython.context', 'zmq.backend.cython.socket', 'zmq.backend.cython.utils', 'zmq.backend.cython._poll', 'zmq.backend.cython._version', 'zmq.backend.cython._device', 'zmq.backend.cython._proxy_steerable', 'zmq.sugar', 'zmq.sugar.constants', 'zmq.utils', 'zmq.utils.constant_names', 'zmq.sugar.context', 'zmq.sugar.attrsettr', 'zmq.sugar.socket', 'zmq.sugar.poll', 'zmq.utils.jsonapi', 'zmq.utils.strtypes', 'zmq.sugar.frame', 'zmq.sugar.tracker', 'zmq.sugar.version', 'zmq.sugar.stopwatch', 'jupyter_client.localinterfaces', 'jupyter_core', 'jupyter_core.version', 'jupyter_core.paths', 'jupyter_client.launcher', 'traitlets.log', 'jupyter_client.client', 'jupyter_client.channels', 'jupyter_client.channelsabc', 'jupyter_client.clientabc', 'jupyter_client.manager', 'jupyter_client.kernelspec', 'jupyter_client.managerabc', 'jupyter_client.blocking', 'jupyter_client.blocking.client', 'jupyter_client.blocking.channels', 'jupyter_client.multikernelmanager', 'uuid', 'ctypes.util', 'ipykernel.kernelapp', 'tornado', 'tornado.ioloop', 'numbers', 'tornado.concurrent', 'tornado.log', 'logging.handlers', 'tornado.escape', 'tornado.util', 'tornado.speedups', 'colorama', 'colorama.initialise', 'colorama.ansitowin32', 'colorama.ansi', 'colorama.winterm', 'colorama.win32', 'tornado.stack_context', 'tornado.platform', 'tornado.platform.auto', 'tornado.platform.common', 'tornado.platform.interface', 'tornado.platform.windows', 'zmq.eventloop', 'zmq.eventloop.ioloop', 'tornado.platform.asyncio', 'tornado.gen', 'zmq.eventloop.zmqstream', 'ipykernel.iostream', 'imp', 'jupyter_client.session', 'hmac', 'jupyter_client.jsonutil', 'dateutil', 'dateutil._version', 'dateutil.parser', 'dateutil.parser._parser', 'decimal', '_decimal', 'dateutil.relativedelta', 'dateutil._common', 'dateutil.tz', 'dateutil.tz.tz', 'dateutil.tz._common', 'dateutil.tz._factories', 'dateutil.tz.win', 'dateutil.parser.isoparser', '_strptime', 'jupyter_client.adapter', 'ipykernel.heartbeat', 'ipykernel.ipkernel', 'IPython.utils.tokenutil', 'ipykernel.comm', 'ipykernel.comm.manager', 'ipykernel.comm.comm', 'ipykernel.kernelbase', 'tornado.queues', 'tornado.locks', 'ipykernel.jsonutil', 'ipykernel.zmqshell', 'IPython.core.payloadpage', 'ipykernel.displayhook', 'ipykernel.parentpoller', 'faulthandler', 'ipykernel.datapub', 'ipykernel.serialize', 'ipykernel.pickleutil', 'ipykernel.codeutil', 'IPython.core.completerlib', 'storemagic', 'ipywidgets', 'ipywidgets._version', 'ipywidgets.widgets', 'ipywidgets.widgets.widget', 'ipywidgets.widgets.domwidget', 'ipywidgets.widgets.trait_types', 'ipywidgets.widgets.widget_layout', 'ipywidgets.widgets.widget_style', 'ipywidgets.widgets.valuewidget', 'ipywidgets.widgets.widget_core', 'ipywidgets.widgets.widget_bool', 'ipywidgets.widgets.widget_description', 'ipywidgets.widgets.widget_button', 'ipywidgets.widgets.widget_box', 'ipywidgets.widgets.docutils', 'ipywidgets.widgets.widget_float', 'ipywidgets.widgets.widget_int', 'ipywidgets.widgets.widget_color', 'ipywidgets.widgets.widget_date', 'ipywidgets.widgets.widget_output', 'ipywidgets.widgets.widget_selection', 'ipywidgets.widgets.widget_selectioncontainer', 'ipywidgets.widgets.widget_string', 'ipywidgets.widgets.widget_controller', 'ipywidgets.widgets.interaction', 'ipywidgets.widgets.widget_link', 'ipywidgets.widgets.widget_media', 'pykeen', 'pykeen.constants', 'numpy', 'numpy._globals', 'numpy.__config__', 'numpy.version', 'numpy._distributor_init', 'numpy._mklinit', 'numpy.core', 'numpy.core.info', 'numpy.core.multiarray', 'numpy.core.overrides', 'numpy.core._multiarray_umath', 'numpy.compat', 'numpy.compat._inspect', 'numpy.compat.py3k', 'numpy.core.umath', 'numpy.core.numerictypes', 'numpy.core._string_helpers', 'numpy.core._type_aliases', 'numpy.core._dtype', 'numpy.core.numeric', 'numpy.core._internal', 'numpy.core.fromnumeric', 'numpy.core._methods', 'numpy.core.arrayprint', 'numpy.core.defchararray', 'numpy.core.records', 'numpy.core.memmap', 'numpy.core.function_base', 'numpy.core.machar', 'numpy.core.getlimits', 'numpy.core.shape_base', 'numpy.core.einsumfunc', 'numpy.core._add_newdocs', 'numpy.core._multiarray_tests', 'numpy.core._dtype_ctypes', 'numpy._pytesttester', 'numpy.lib', 'numpy.lib.info', 'numpy.lib.type_check', 'numpy.lib.ufunclike', 'numpy.lib.index_tricks', 'numpy.matrixlib', 'numpy.matrixlib.defmatrix', 'numpy.linalg', 'numpy.linalg.info', 'numpy.linalg.linalg', 'numpy.lib.twodim_base', 'numpy.linalg.lapack_lite', 'numpy.linalg._umath_linalg', 'numpy.lib.function_base', 'numpy.lib.utils', 'numpy.lib.histograms', 'numpy.lib.stride_tricks', 'numpy.lib.mixins', 'numpy.lib.nanfunctions', 'numpy.lib.shape_base', 'numpy.lib.scimath', 'numpy.lib.polynomial', 'numpy.lib.arraysetops', 'numpy.lib.npyio', 'numpy.lib.format', 'numpy.lib._datasource', 'numpy.lib._iotools', 'numpy.lib.financial', 'numpy.lib.arrayterator', 'numpy.lib.arraypad', 'numpy.lib._version', 'numpy.fft', 'numpy.fft.info', 'numpy.fft.fftpack', 'numpy.fft.fftpack_lite', 'numpy.fft.helper', 'mkl_fft', 'mkl_fft._pydfti', '_cython_0_29_2', 'mkl_fft._version', 'mkl_fft._numpy_fft', 'numpy.polynomial', 'numpy.polynomial.polynomial', 'numpy.polynomial.polyutils', 'numpy.polynomial._polybase', 'numpy.polynomial.chebyshev', 'numpy.polynomial.legendre', 'numpy.polynomial.hermite', 'numpy.polynomial.hermite_e', 'numpy.polynomial.laguerre', 'numpy.random', 'numpy.random.mtrand', 'mtrand', 'numpy.ctypeslib', 'numpy.ma', 'numpy.ma.core', 'numpy.ma.extras', 'numpy.testing', 'unittest', 'unittest.result', 'unittest.util', 'unittest.case', 'unittest.suite', 'unittest.loader', 'unittest.main', 'unittest.runner', 'unittest.signals', 'numpy.testing._private', 'numpy.testing._private.utils', 'numpy.testing._private.decorators', 'numpy.testing._private.nosetester', 'pkg_resources', 'zipfile', 'plistlib', 'xml.parsers', 'xml.parsers.expat', 'pyexpat.errors', 'pyexpat.model', 'pyexpat', 'xml.parsers.expat.model', 'xml.parsers.expat.errors', 'pkg_resources.extern', 'pkg_resources._vendor', 'pkg_resources.extern.six', 'pkg_resources._vendor.six', 'pkg_resources.extern.six.moves', 'pkg_resources._vendor.six.moves', 'pkg_resources.py31compat', 'pkg_resources.extern.appdirs', 'pkg_resources._vendor.packaging.__about__', 'pkg_resources.extern.packaging', 'pkg_resources.extern.packaging.version', 'pkg_resources.extern.packaging._structures', 'pkg_resources.extern.packaging.specifiers', 'pkg_resources.extern.packaging._compat', 'pkg_resources.extern.packaging.requirements', 'pkg_resources.extern.pyparsing', 'pkg_resources.extern.six.moves.urllib', 'pkg_resources.extern.packaging.markers', 'pykeen.utilities', 'pykeen.utilities.handlers', 'pykeen.run', 'dataclasses', 'torch', 'torch._utils', 'torch.version', 'torch._six', 'torch._nvrtc', 'torch._C._jit_tree_views', 'torch._C._onnx', 'torch._C', 'torch.random', 'torch.serialization', 'tarfile', 'torch._tensor_str', 'torch.tensor', 'torch.utils', 'torch.utils.hooks', 'torch.storage', 'torch.cuda', 'torch.cuda.random', 'torch.cuda.sparse', 'torch.cuda.profiler', 'torch.cuda.nvtx', 'torch.cuda.streams', 'torch.sparse', 'torch.functional', 'torch.autograd', 'torch.autograd.variable', 'torch.autograd.function', 'torch.autograd.gradcheck', 'torch.testing', 'torch.autograd.grad_mode', 'torch.autograd.profiler', 'torch.nn', 'torch.nn.modules', 'torch.nn.modules.module', 'torch.nn.backends', 'torch.nn.backends.thnn', 'torch.nn.backends.backend', 'torch.nn._functions', 'torch.nn._functions.thnn', 'torch.nn._functions.thnn.auto', 'torch._thnn', 'torch._thnn.utils', 'torch.nn._functions.thnn.auto_double_backwards', 'torch.nn._functions.thnn.auto_symbolic', 'torch.autograd._functions', 'torch.autograd._functions.tensor', 'torch.autograd._functions.utils', 'torch.nn._functions.thnn.normalization', 'torch.nn._functions.thnn.fold', 'torch.nn._functions.thnn.sparse', 'torch.nn._functions.thnn.rnnFusedPointwise', 'torch.nn._functions.rnn', 'torch.backends', 'torch.backends.cudnn', 'torch.nn.functional', 'torch.nn.modules.utils', 'torch.nn._functions.padding', 'torch.nn._functions.vision', 'torch.nn.grad', 'torch.backends.cudnn.rnn', 'torch.nn._functions.dropout', 'torch.nn.parameter', 'torch.nn.modules.linear', 'torch.nn.modules.conv', 'torch.nn.modules.activation', 'torch.nn.modules.loss', 'torch.nn.modules.container', 'torch.nn.modules.pooling', 'torch.nn.modules.batchnorm', 'torch.nn.modules.instancenorm', 'torch.nn.modules.normalization', 'torch.nn.modules.dropout', 'torch.nn.modules.padding', 'torch.nn.modules.sparse', 'torch.nn.modules.rnn', 'torch.nn.utils', 'torch.nn.utils.rnn', 'torch.onnx', 'torch.nn._functions.packing', 'torch.nn.utils.clip_grad', 'torch.nn.utils.weight_norm', 'torch.nn.utils.convert_parameters', 'torch.nn.modules.pixelshuffle', 'torch.nn.modules.upsampling', 'torch.nn.modules.distance', 'torch.nn.modules.fold', 'torch.nn.parallel', 'torch.nn.parallel.parallel_apply', 'torch.nn.parallel.replicate', 'torch.cuda.comm', 'torch.cuda.nccl', 'torch.nn.parallel.data_parallel', 'torch.nn.parallel.scatter_gather', 'torch.nn.parallel._functions', 'torch.nn.parallel.distributed', 'torch.distributed', 'torch.nn.parallel.distributed_cpu', 'torch.nn.init', 'torch.optim', 'torch.optim.adadelta', 'torch.optim.optimizer', 'torch.optim.adagrad', 'torch.optim.adam', 'torch.optim.sparse_adam', 'torch.optim.adamax', 'torch.optim.asgd', 'torch.optim.sgd', 'torch.optim.rprop', 'torch.optim.rmsprop', 'torch.optim.lbfgs', 'torch.optim.lr_scheduler', 'torch.multiprocessing', 'torch.multiprocessing.reductions', 'multiprocessing.resource_sharer', 'torch.utils.backcompat', 'torch.jit', 'torch.jit.frontend', 'torch.distributions', 'torch.distributions.bernoulli', 'torch.distributions.constraints', 'torch.distributions.utils', 'torch.distributions.exp_family', 'torch.distributions.distribution', 'torch.distributions.beta', 'torch.distributions.dirichlet', 'torch.distributions.binomial', 'torch.distributions.categorical', 'torch.distributions.cauchy', 'torch.distributions.chi2', 'torch.distributions.gamma', 'torch.distributions.constraint_registry', 'torch.distributions.transforms', 'torch.distributions.exponential', 'torch.distributions.fishersnedecor', 'torch.distributions.geometric', 'torch.distributions.gumbel', 'torch.distributions.uniform', 'torch.distributions.transformed_distribution', 'torch.distributions.independent', 'torch.distributions.kl', 'torch.distributions.laplace', 'torch.distributions.log_normal', 'torch.distributions.normal', 'torch.distributions.logistic_normal', 'torch.distributions.multivariate_normal', 'torch.distributions.one_hot_categorical', 'torch.distributions.pareto', 'torch.distributions.poisson', 'torch.distributions.multinomial', 'torch.distributions.relaxed_bernoulli', 'torch.distributions.relaxed_categorical', 'torch.distributions.studentT', 'torch.backends.mkl', 'torch._torch_docs', 'torch._tensor_docs', 'torch._storage_docs', 'pykeen.utilities.pipeline', 'rdflib', 'rdflib.term', 'isodate', 'isodate.isodates', 'isodate.isostrf', 'isodate.duration', 'isodate.isotzinfo', 'isodate.isoerror', 'isodate.tzinfo', 'isodate.isotime', 'isodate.isodatetime', 'isodate.isoduration', 'rdflib.py3compat', 'rdflib.compat', 'xml.etree', 'xml.etree.cElementTree', 'xml.etree.ElementTree', 'xml.etree.ElementPath', '_elementtree', 'rdflib.namespace', 'rdflib.graph', 'rdflib.plugin', 'rdflib.store', 'rdflib.events', 'rdflib.parser', 'xml.sax', 'xml.sax.xmlreader', 'xml.sax.handler', 'xml.sax._exceptions', 'rdflib.serializer', 'rdflib.query', 'rdflib.exceptions', 'rdflib.paths', 'rdflib.resource', 'rdflib.collection', 'rdflib.util', 'sklearn', 'sklearn.__check_build', 'sklearn.__check_build._check_build', 'sklearn.base', 'scipy', 'scipy._distributor_init', 'scipy.__config__', 'scipy.version', 'scipy._lib', 'scipy._lib._testutils', 'scipy._lib._version', 'scipy._lib.six', 'scipy._lib._ccallback', 'scipy._lib._ccallback_c', 'scipy.sparse', 'scipy.sparse.base', 'scipy._lib._numpy_compat', 'scipy.sparse.sputils', 'scipy.sparse.csr', 'scipy.sparse._sparsetools', 'scipy.sparse.compressed', 'scipy._lib._util', 'scipy.sparse.data', 'scipy.sparse.dia', 'scipy.sparse.csc', 'scipy.sparse.lil', 'scipy.sparse._csparsetools', 'scipy.sparse.dok', 'scipy.sparse.coo', 'scipy.sparse.bsr', 'scipy.sparse.construct', 'scipy.sparse.extract', 'scipy.sparse._matrix_io', 'scipy.sparse.csgraph', 'scipy.sparse.csgraph._laplacian', 'scipy.sparse.csgraph._shortest_path', '_cython_0_29', 'scipy.sparse.csgraph._validation', 'scipy.sparse.csgraph._tools', 'scipy.sparse.csgraph._traversal', 'scipy.sparse.csgraph._min_spanning_tree', 'scipy.sparse.csgraph._reordering', 'sklearn.externals', 'sklearn.externals.six', 'sklearn.externals.six.moves', 'sklearn.externals.six.moves.urllib_parse', 'sklearn.externals.six.moves.urllib.parse', 'sklearn.externals.six.moves.urllib_error', 'sklearn.externals.six.moves.urllib.error', 'sklearn.externals.six.moves.urllib_request', 'sklearn.externals.six.moves.urllib.request', 'sklearn.externals.six.moves.urllib_response', 'sklearn.externals.six.moves.urllib.response', 'sklearn.externals.six.moves.urllib_robotparser', 'sklearn.externals.six.moves.urllib.robotparser', 'sklearn.externals.six.moves.urllib', 'sklearn.utils', 'sklearn.utils.murmurhash', 'sklearn.utils.validation', 'sklearn.utils.fixes', 'scipy.sparse.linalg', 'scipy.sparse.linalg.isolve', 'scipy.sparse.linalg.isolve.iterative', 'scipy.sparse.linalg.isolve._iterative', 'scipy.sparse.linalg.interface', 'scipy.sparse.linalg.isolve.utils', 'scipy._lib._threadsafety', 'scipy._lib.decorator', 'scipy.sparse.linalg.isolve.minres', 'scipy.sparse.linalg.isolve.lgmres', 'scipy.linalg', 'scipy.linalg.linalg_version', 'scipy.linalg.misc', 'scipy.linalg.blas', 'scipy.linalg._fblas', 'scipy.linalg.lapack', 'scipy.linalg._flapack', 'scipy.linalg.basic', 'scipy.linalg.flinalg', 'scipy.linalg._flinalg', 'scipy.linalg.decomp', 'scipy.linalg.decomp_svd', 'scipy.linalg._solve_toeplitz', 'scipy.linalg.decomp_lu', 'scipy.linalg._decomp_ldl', 'scipy.linalg.decomp_cholesky', 'scipy.linalg.decomp_qr', 'scipy.linalg._decomp_qz', 'scipy.linalg.decomp_schur', 'scipy.linalg._decomp_polar', 'scipy.linalg.matfuncs', 'scipy.linalg.special_matrices', 'scipy.linalg._expm_frechet', 'scipy.linalg._matfuncs_sqrtm', 'scipy.linalg._solvers', 'scipy.linalg._procrustes', 'scipy.linalg._decomp_update', 'scipy.linalg.cython_blas', 'scipy.linalg.cython_lapack', 'scipy.linalg._sketches', 'numpy.dual', 'scipy.sparse.linalg.isolve._gcrotmk', 'scipy.sparse.linalg.isolve.lsqr', 'scipy.sparse.linalg.isolve.lsmr', 'scipy.sparse.linalg.dsolve', 'scipy.sparse.linalg.dsolve.linsolve', 'scipy.sparse.linalg.dsolve._superlu', 'scipy.sparse.linalg.dsolve._add_newdocs', 'scipy.sparse.linalg.eigen', 'scipy.sparse.linalg.eigen.arpack', 'scipy.sparse.linalg.eigen.arpack.arpack', 'scipy.sparse.linalg.eigen.arpack._arpack', 'scipy.sparse.linalg.eigen.lobpcg', 'scipy.sparse.linalg.eigen.lobpcg.lobpcg', 'scipy.sparse.linalg.matfuncs', 'scipy.special', 'scipy.special.sf_error', 'scipy.special._ufuncs', 'scipy.special._ufuncs_cxx', 'scipy.special.basic', 'scipy.special.specfun', 'scipy.special.orthogonal', 'scipy.special._comb', 'scipy.special._logsumexp', 'scipy.special.spfun_stats', 'scipy.special._ellip_harm', 'scipy.special._ellip_harm_2', 'scipy.special.lambertw', 'scipy.special._spherical_bessel', 'scipy.sparse.linalg._onenormest', 'scipy.sparse.linalg._norm', 'scipy.sparse.linalg._expm_multiply', 'sklearn.exceptions', 'sklearn.externals.joblib', 'sklearn.externals.joblib.memory', 'sklearn.externals.joblib.hashing', 'sklearn.externals.joblib._compat', 'sklearn.externals.joblib.func_inspect', 'sklearn.externals.joblib.logger', 'sklearn.externals.joblib.disk', 'sklearn.externals.joblib._memory_helpers', 'sklearn.externals.joblib.numpy_pickle', 'sklearn.externals.joblib.numpy_pickle_utils', 'gzip', 'sklearn.externals.joblib.numpy_pickle_compat', 'sklearn.externals.joblib.backports', 'distutils', 'distutils.version', 'sklearn.externals.joblib.parallel', 'sklearn.externals.joblib._multiprocessing_helpers', 'multiprocessing.synchronize', 'sklearn.externals.joblib.format_stack', 'sklearn.externals.joblib.my_exceptions', 'sklearn.externals.joblib._parallel_backends', 'sklearn.externals.joblib.pool', 'mmap', 'multiprocessing.pool', 'sklearn.utils.class_weight', 'sklearn.utils.deprecation', 'sklearn.model_selection', 'sklearn.model_selection._split', 'sklearn.utils.multiclass', 'sklearn.model_selection._validation', 'sklearn.utils.metaestimators', 'sklearn.metrics', 'sklearn.metrics.ranking', 'scipy.stats', 'scipy.stats.stats', 'scipy.stats.distributions', 'scipy.stats._distn_infrastructure', 'scipy.misc', 'scipy.misc.doccer', 'scipy.misc.common', 'scipy.interpolate', 'scipy.interpolate.interpolate', 'scipy.interpolate.fitpack', 'scipy.interpolate._fitpack_impl', 'scipy.interpolate._fitpack', 'scipy.interpolate.dfitpack', 'scipy.interpolate._bsplines', 'scipy.interpolate._bspl', 'scipy.interpolate.polyint', 'scipy.interpolate._ppoly', 'scipy.interpolate.fitpack2', 'scipy.interpolate.interpnd', 'scipy.spatial', 'scipy.spatial.kdtree', 'scipy.spatial.ckdtree', 'scipy.spatial.qhull', 'scipy._lib.messagestream', 'scipy.spatial._spherical_voronoi', 'scipy.spatial._voronoi', 'scipy.spatial.distance', 'scipy.spatial._distance_wrap', 'scipy.spatial._hausdorff', 'scipy.spatial._plotutils', 'scipy.spatial._procrustes', 'scipy.spatial.transform', 'scipy.spatial.transform.rotation', 'scipy.interpolate.rbf', 'scipy.interpolate._cubic', 'scipy.interpolate.ndgriddata', 'scipy.interpolate._pade', 'scipy.misc.pilutil', 'PIL', 'PIL._version', 'PIL.Image', 'PIL._util', 'PIL.ImageMode', 'PIL._binary', 'PIL._imaging', 'cffi', 'cffi.api', 'cffi.lock', 'cffi.error', 'cffi.model', 'PIL.ImageFilter', 'scipy.stats._distr_params', 'scipy.optimize', 'scipy.optimize.optimize', 'scipy.optimize.linesearch', 'scipy.optimize.minpack2', 'scipy.optimize._minimize', 'scipy.optimize._trustregion_dogleg', 'scipy.optimize._trustregion', 'scipy.optimize._trustregion_ncg', 'scipy.optimize._trustregion_krylov', 'scipy.optimize._trlib', 'scipy.optimize._trlib._trlib', 'scipy.optimize._trustregion_exact', 'scipy.optimize._trustregion_constr', 'scipy.optimize._trustregion_constr.minimize_trustregion_constr', 'scipy.optimize._differentiable_functions', 'scipy.optimize._numdiff', 'scipy.optimize._group_columns', 'scipy.optimize._hessian_update_strategy', 'scipy.optimize._constraints', 'scipy.optimize._trustregion_constr.equality_constrained_sqp', 'scipy.optimize._trustregion_constr.projections', 'scipy.optimize._trustregion_constr.qp_subproblem', 'scipy.optimize._trustregion_constr.canonical_constraint', 'scipy.optimize._trustregion_constr.tr_interior_point', 'scipy.optimize._trustregion_constr.report', 'scipy.optimize.lbfgsb', 'scipy.optimize._lbfgsb', 'scipy.optimize.tnc', 'scipy.optimize.moduleTNC', 'scipy.optimize.cobyla', 'scipy.optimize._cobyla', 'scipy.optimize.slsqp', 'scipy.optimize._slsqp', 'scipy.optimize._root', 'scipy.optimize.minpack', 'scipy.optimize._minpack', 'scipy.optimize._lsq', 'scipy.optimize._lsq.least_squares', 'scipy.optimize._lsq.trf', 'scipy.optimize._lsq.common', 'scipy.optimize._lsq.dogbox', 'scipy.optimize._lsq.lsq_linear', 'scipy.optimize._lsq.trf_linear', 'scipy.optimize._lsq.givens_elimination', 'scipy.optimize._lsq.bvls', 'scipy.optimize._spectral', 'scipy.optimize.nonlin', 'scipy.optimize._root_scalar', 'scipy.optimize.zeros', 'scipy.optimize._zeros', 'scipy.optimize.nnls', 'scipy.optimize._nnls', 'scipy.optimize._basinhopping', 'scipy.optimize._linprog', 'scipy.optimize._linprog_ip', 'scipy.optimize._linprog_simplex', 'scipy.optimize._linprog_util', 'scipy.optimize._remove_redundancy', 'scipy.optimize._hungarian', 'scipy.optimize._differentialevolution', 'scipy.optimize._shgo', 'scipy.optimize._shgo_lib', 'scipy.optimize._shgo_lib.sobol_seq', 'scipy.optimize._shgo_lib.triangulation', 'scipy.optimize._dual_annealing', 'scipy.integrate', 'scipy.integrate.quadrature', 'scipy.integrate.odepack', 'scipy.integrate._odepack', 'scipy.integrate.quadpack', 'scipy.integrate._quadpack', 'scipy.integrate._ode', 'scipy.integrate.vode', 'scipy.integrate._dop', 'scipy.integrate.lsoda', 'scipy.integrate._bvp', 'scipy.integrate._ivp', 'scipy.integrate._ivp.ivp', 'scipy.integrate._ivp.bdf', 'scipy.integrate._ivp.common', 'scipy.integrate._ivp.base', 'scipy.integrate._ivp.radau', 'scipy.integrate._ivp.rk', 'scipy.integrate._ivp.lsoda', 'scipy.stats._constants', 'scipy.stats._continuous_distns', 'scipy.stats._stats', 'scipy.stats._tukeylambda_stats', 'scipy.stats._discrete_distns', 'scipy.stats.mstats_basic', 'scipy.stats._stats_mstats_common', 'scipy.stats._rvs_sampling', 'scipy.stats.morestats', 'scipy.stats.statlib', 'scipy.stats.contingency', 'scipy.stats._binned_statistic', 'scipy.stats.kde', 'scipy.stats.mvn', 'scipy.stats.mstats', 'scipy.stats.mstats_extras', 'scipy.stats._multivariate', 'sklearn.utils.extmath', 'sklearn.utils._logistic_sigmoid', '_cython_0_27_1', 'sklearn.utils.sparsefuncs_fast', 'sklearn.utils.sparsefuncs', 'sklearn.preprocessing', 'sklearn.preprocessing._function_transformer', 'sklearn.preprocessing.data', 'sklearn.preprocessing.label', 'sklearn.preprocessing.imputation', 'sklearn.metrics.base', 'sklearn.metrics.classification', 'sklearn.metrics.cluster', 'sklearn.metrics.cluster.supervised', 'sklearn.metrics.cluster.expected_mutual_info_fast', 'sklearn.utils.lgamma', 'sklearn.metrics.cluster.unsupervised', 'sklearn.metrics.pairwise', 'sklearn.metrics.pairwise_fast', 'sklearn.metrics.cluster.bicluster', 'sklearn.utils.linear_assignment_', 'sklearn.metrics.regression', 'sklearn.metrics.scorer', 'sklearn.model_selection._search', 'sklearn.utils.random', 'sklearn.utils._random', 'pykeen.hpo', 'pykeen.hpo.random_search', 'tqdm', 'tqdm._tqdm', 'tqdm._utils', 'tqdm._monitor', 'tqdm._tqdm_gui', 'tqdm._tqdm_pandas', 'tqdm._main', 'tqdm._version', 'pykeen.hpo.utils', 'pykeen.kge_models', 'pykeen.kge_models.conv_e', 'pykeen.kge_models.distmult', 'pykeen.kge_models.base', 'pykeen.kge_models.ermlp', 'pykeen.kge_models.rescal', 'pykeen.kge_models.structured_embedding', 'pykeen.kge_models.trans_e', 'pykeen.kge_models.trans_d', 'pykeen.kge_models.trans_h', 'pykeen.kge_models.trans_r', 'pykeen.kge_models.region', 'pykeen.kge_models.kg2e_kl', 'pykeen.kge_models.unstructured_model', 'pykeen.kge_models.utils', 'pykeen.utilities.evaluation_utils', 'pykeen.utilities.evaluation_utils.metrics_computations', 'pykeen.utilities.train_utils', 'pykeen.utilities.triples_creation_utils', 'pykeen.utilities.triples_creation_utils.data_transformation_utils', 'pykeen.utilities.triples_creation_utils.instance_creation_utils', 'matplotlib', 'matplotlib.cbook', 'matplotlib.cbook.deprecation', 'matplotlib.rcsetup', 'matplotlib.fontconfig_pattern', 'pyparsing', 'matplotlib.colors', 'matplotlib._color_data', 'cycler', 'matplotlib._version']\n"
     ]
    },
    {
     "name": "stderr",
     "output_type": "stream",
     "text": [
      "DEBUG:matplotlib:CACHEDIR=C:\\Users\\aquam\\.matplotlib\n",
      "DEBUG:matplotlib.font_manager:Using fontManager instance from C:\\Users\\aquam\\.matplotlib\\fontlist-v300.json\n",
      "DEBUG:matplotlib.pyplot:Loaded backend module://ipykernel.pylab.backend_inline version unknown.\n",
      "DEBUG:matplotlib.pyplot:Loaded backend module://ipykernel.pylab.backend_inline version unknown.\n"
     ]
    }
   ],
   "source": [
    "import numpy as np\n",
    "import matplotlib.pyplot as plt"
   ]
  },
  {
   "cell_type": "code",
   "execution_count": 12,
   "metadata": {
    "ExecuteTime": {
     "end_time": "2019-06-28T21:57:15.481511Z",
     "start_time": "2019-06-28T21:57:15.453428Z"
    }
   },
   "outputs": [
    {
     "name": "stderr",
     "output_type": "stream",
     "text": [
      "DEBUG:matplotlib.pyplot:Loaded backend module://ipykernel.pylab.backend_inline version unknown.\n"
     ]
    }
   ],
   "source": [
    "%matplotlib inline"
   ]
  },
  {
   "cell_type": "code",
   "execution_count": 13,
   "metadata": {
    "ExecuteTime": {
     "end_time": "2019-06-29T01:27:37.444858Z",
     "start_time": "2019-06-28T21:57:15.483338Z"
    },
    "scrolled": false
   },
   "outputs": [
    {
     "name": "stderr",
     "output_type": "stream",
     "text": [
      "DEBUG:pykeen.utilities.pipeline:Reading the label mappings...\n"
     ]
    },
    {
     "name": "stdout",
     "output_type": "stream",
     "text": [
      "{'metrics': ['mean_rank'], 'training_set_path': 'D:/uni/master/data/FB15K/train.tsv', 'test_set_path': 'D:/uni/master/data/FB15K/valid_150.tsv', 'mapping_path': 'D:/uni/master/data/fb15k/', 'execution_mode': 'Training_mode', 'random_seed': 2, 'kg_embedding_model_name': 'Region', 'region_type': 'sphere', 'embedding_dim': 50, 'init_radius': 0, 'reg_lambda': 0.01, 'loss_type': 'NLL', 'neg_factor': 5, 'corrupt_relations': False, 'normalization_of_entities': 2, 'margin_loss': 0.0, 'learning_rate': 0.01, 'es_metric': 'custom', 'num_epochs': 1000, 'batch_size': 2048, 'test_batch_size': 6000, 'filter_negative_triples': False, 'preferred_device': 'gpu', 'pykeen-version': '0.0.26-dev', 'num_entities': 14951, 'num_relations': 1345}\n"
     ]
    },
    {
     "name": "stderr",
     "output_type": "stream",
     "text": [
      "INFO:pykeen.utilities.pipeline:-------------Train KG Embeddings-------------\n",
      "DEBUG:pykeen.utilities.train_utils:****running model on cuda:0****\n",
      "INFO:pykeen.utilities.evaluation_utils.metrics_computations:Evaluation took 21.94s seconds\n"
     ]
    },
    {
     "name": "stdout",
     "output_type": "stream",
     "text": [
      "0.14344414644296566 (0.1108072987775336, 0.20333333333333334)\n"
     ]
    },
    {
     "name": "stderr",
     "output_type": "stream",
     "text": [
      "DEBUG:pykeen.utilities.train_utils:Saving the following model to disk:\n",
      "INFO:pykeen.utilities.train_utils:Epoch   0 / 1000 (63.1s):  loss: 0.604  val loss: 0.506  value: 0.143  patience:   1\n",
      "INFO:pykeen.utilities.train_utils:Epoch   1 / 1000 (63.4s):  loss: 0.403  val loss: 0.336  value: 0.143  patience:   2\n",
      "INFO:pykeen.utilities.train_utils:Epoch   2 / 1000 (63.6s):  loss: 0.304  val loss: 0.280  value: 0.143  patience:   3\n",
      "INFO:pykeen.utilities.train_utils:Epoch   3 / 1000 (63.7s):  loss: 0.275  val loss: 0.256  value: 0.143  patience:   4\n",
      "INFO:pykeen.utilities.train_utils:Epoch   4 / 1000 (63.6s):  loss: 0.264  val loss: 0.247  value: 0.143  patience:   5\n",
      "INFO:pykeen.utilities.train_utils:Epoch   5 / 1000 (63.4s):  loss: 0.258  val loss: 0.250  value: 0.143  patience:   6\n",
      "INFO:pykeen.utilities.train_utils:Epoch   6 / 1000 (63.5s):  loss: 0.256  val loss: 0.240  value: 0.143  patience:   7\n",
      "INFO:pykeen.utilities.train_utils:Epoch   7 / 1000 (63.7s):  loss: 0.254  val loss: 0.242  value: 0.143  patience:   8\n",
      "INFO:pykeen.utilities.train_utils:Epoch   8 / 1000 (63.7s):  loss: 0.253  val loss: 0.237  value: 0.143  patience:   9\n",
      "INFO:pykeen.utilities.train_utils:Epoch   9 / 1000 (63.5s):  loss: 0.252  val loss: 0.235  value: 0.143  patience:  10\n",
      "INFO:pykeen.utilities.evaluation_utils.metrics_computations:Evaluation took 22.60s seconds\n"
     ]
    },
    {
     "name": "stdout",
     "output_type": "stream",
     "text": [
      "0.12483754403248006 (0.09295698803428379, 0.19)\n"
     ]
    },
    {
     "name": "stderr",
     "output_type": "stream",
     "text": [
      "INFO:pykeen.utilities.train_utils:Epoch  10 / 1000 (63.5s):  loss: 0.252  val loss: 0.242  value: 0.125  patience:  11\n",
      "INFO:pykeen.utilities.train_utils:Epoch  11 / 1000 (63.6s):  loss: 0.252  val loss: 0.245  value: 0.125  patience:  12\n",
      "INFO:pykeen.utilities.train_utils:Epoch  12 / 1000 (63.7s):  loss: 0.251  val loss: 0.250  value: 0.125  patience:  13\n",
      "INFO:pykeen.utilities.train_utils:Epoch  13 / 1000 (63.5s):  loss: 0.251  val loss: 0.245  value: 0.125  patience:  14\n",
      "INFO:pykeen.utilities.train_utils:Epoch  14 / 1000 (63.5s):  loss: 0.251  val loss: 0.247  value: 0.125  patience:  15\n",
      "INFO:pykeen.utilities.train_utils:Epoch  15 / 1000 (63.5s):  loss: 0.251  val loss: 0.242  value: 0.125  patience:  16\n",
      "INFO:pykeen.utilities.train_utils:Epoch  16 / 1000 (63.6s):  loss: 0.251  val loss: 0.236  value: 0.125  patience:  17\n",
      "INFO:pykeen.utilities.train_utils:Epoch  17 / 1000 (63.5s):  loss: 0.250  val loss: 0.243  value: 0.125  patience:  18\n",
      "INFO:pykeen.utilities.train_utils:Epoch  18 / 1000 (63.5s):  loss: 0.250  val loss: 0.241  value: 0.125  patience:  19\n",
      "INFO:pykeen.utilities.train_utils:Epoch  19 / 1000 (63.6s):  loss: 0.250  val loss: 0.241  value: 0.125  patience:  20\n",
      "INFO:pykeen.utilities.evaluation_utils.metrics_computations:Evaluation took 22.55s seconds\n"
     ]
    },
    {
     "name": "stdout",
     "output_type": "stream",
     "text": [
      "0.12339870291657565 (0.09915542569784314, 0.16333333333333333)\n"
     ]
    },
    {
     "name": "stderr",
     "output_type": "stream",
     "text": [
      "INFO:pykeen.utilities.train_utils:Epoch  20 / 1000 (63.6s):  loss: 0.250  val loss: 0.256  value: 0.123  patience:  21\n",
      "INFO:pykeen.utilities.train_utils:Epoch  21 / 1000 (63.5s):  loss: 0.250  val loss: 0.238  value: 0.123  patience:  22\n",
      "INFO:pykeen.utilities.train_utils:Epoch  22 / 1000 (63.5s):  loss: 0.250  val loss: 0.238  value: 0.123  patience:  23\n",
      "INFO:pykeen.utilities.train_utils:Epoch  23 / 1000 (63.6s):  loss: 0.250  val loss: 0.242  value: 0.123  patience:  24\n",
      "INFO:pykeen.utilities.train_utils:Epoch  24 / 1000 (63.6s):  loss: 0.250  val loss: 0.238  value: 0.123  patience:  25\n",
      "INFO:pykeen.utilities.train_utils:Epoch  25 / 1000 (63.5s):  loss: 0.250  val loss: 0.238  value: 0.123  patience:  26\n",
      "INFO:pykeen.utilities.train_utils:Epoch  26 / 1000 (63.6s):  loss: 0.250  val loss: 0.235  value: 0.123  patience:  27\n",
      "INFO:pykeen.utilities.train_utils:Epoch  27 / 1000 (63.6s):  loss: 0.250  val loss: 0.231  value: 0.123  patience:  28\n",
      "INFO:pykeen.utilities.train_utils:Epoch  28 / 1000 (63.7s):  loss: 0.250  val loss: 0.237  value: 0.123  patience:  29\n",
      "INFO:pykeen.utilities.train_utils:Epoch  29 / 1000 (63.5s):  loss: 0.250  val loss: 0.232  value: 0.123  patience:  30\n",
      "INFO:pykeen.utilities.evaluation_utils.metrics_computations:Evaluation took 22.58s seconds\n"
     ]
    },
    {
     "name": "stdout",
     "output_type": "stream",
     "text": [
      "0.12879406926390918 (0.09574949252872147, 0.19666666666666666)\n"
     ]
    },
    {
     "name": "stderr",
     "output_type": "stream",
     "text": [
      "INFO:pykeen.utilities.train_utils:Epoch  30 / 1000 (63.5s):  loss: 0.253  val loss: 0.238  value: 0.129  patience:  31\n",
      "INFO:pykeen.utilities.train_utils:Epoch  31 / 1000 (63.8s):  loss: 0.252  val loss: 0.229  value: 0.129  patience:  32\n",
      "INFO:pykeen.utilities.train_utils:Epoch  32 / 1000 (63.6s):  loss: 0.250  val loss: 0.230  value: 0.129  patience:  33\n",
      "INFO:pykeen.utilities.train_utils:Epoch  33 / 1000 (63.9s):  loss: 0.250  val loss: 0.231  value: 0.129  patience:  34\n",
      "INFO:pykeen.utilities.train_utils:Epoch  34 / 1000 (63.6s):  loss: 0.250  val loss: 0.242  value: 0.129  patience:  35\n",
      "INFO:pykeen.utilities.train_utils:Epoch  35 / 1000 (63.5s):  loss: 0.250  val loss: 0.236  value: 0.129  patience:  36\n",
      "INFO:pykeen.utilities.train_utils:Epoch  36 / 1000 (63.8s):  loss: 0.250  val loss: 0.234  value: 0.129  patience:  37\n",
      "INFO:pykeen.utilities.train_utils:Epoch  37 / 1000 (63.5s):  loss: 0.250  val loss: 0.239  value: 0.129  patience:  38\n",
      "INFO:pykeen.utilities.train_utils:Epoch  38 / 1000 (63.5s):  loss: 0.250  val loss: 0.240  value: 0.129  patience:  39\n",
      "INFO:pykeen.utilities.train_utils:Epoch  39 / 1000 (63.6s):  loss: 0.250  val loss: 0.233  value: 0.129  patience:  40\n",
      "INFO:pykeen.utilities.evaluation_utils.metrics_computations:Evaluation took 22.61s seconds\n"
     ]
    },
    {
     "name": "stdout",
     "output_type": "stream",
     "text": [
      "0.17307267759506897 (0.13234797593691308, 0.25)\n"
     ]
    },
    {
     "name": "stderr",
     "output_type": "stream",
     "text": [
      "DEBUG:pykeen.utilities.train_utils:Saving the following model to disk:\n",
      "INFO:pykeen.utilities.train_utils:Epoch  40 / 1000 (63.6s):  loss: 0.250  val loss: 0.227  value: 0.173  patience:   1\n",
      "INFO:pykeen.utilities.train_utils:Epoch  41 / 1000 (63.5s):  loss: 0.250  val loss: 0.233  value: 0.173  patience:   2\n",
      "INFO:pykeen.utilities.train_utils:Epoch  42 / 1000 (63.5s):  loss: 0.250  val loss: 0.244  value: 0.173  patience:   3\n",
      "INFO:pykeen.utilities.train_utils:Epoch  43 / 1000 (63.6s):  loss: 0.250  val loss: 0.237  value: 0.173  patience:   4\n",
      "INFO:pykeen.utilities.train_utils:Epoch  44 / 1000 (63.7s):  loss: 0.255  val loss: 0.234  value: 0.173  patience:   5\n",
      "INFO:pykeen.utilities.train_utils:Epoch  45 / 1000 (63.5s):  loss: 0.259  val loss: 0.235  value: 0.173  patience:   6\n",
      "INFO:pykeen.utilities.train_utils:Epoch  46 / 1000 (63.6s):  loss: 0.256  val loss: 0.237  value: 0.173  patience:   7\n",
      "INFO:pykeen.utilities.train_utils:Epoch  47 / 1000 (63.6s):  loss: 0.251  val loss: 0.243  value: 0.173  patience:   8\n",
      "INFO:pykeen.utilities.train_utils:Epoch  48 / 1000 (63.6s):  loss: 0.252  val loss: 0.234  value: 0.173  patience:   9\n",
      "INFO:pykeen.utilities.train_utils:Epoch  49 / 1000 (63.5s):  loss: 0.252  val loss: 0.226  value: 0.173  patience:  10\n",
      "INFO:pykeen.utilities.evaluation_utils.metrics_computations:Evaluation took 22.56s seconds\n"
     ]
    },
    {
     "name": "stdout",
     "output_type": "stream",
     "text": [
      "0.154475709751697 (0.12107242082497564, 0.21333333333333335)\n"
     ]
    },
    {
     "name": "stderr",
     "output_type": "stream",
     "text": [
      "INFO:pykeen.utilities.train_utils:Epoch  50 / 1000 (63.5s):  loss: 0.251  val loss: 0.234  value: 0.154  patience:  11\n",
      "INFO:pykeen.utilities.train_utils:Epoch  51 / 1000 (63.6s):  loss: 0.251  val loss: 0.238  value: 0.154  patience:  12\n",
      "INFO:pykeen.utilities.train_utils:Epoch  52 / 1000 (63.6s):  loss: 0.252  val loss: 0.237  value: 0.154  patience:  13\n",
      "INFO:pykeen.utilities.train_utils:Epoch  53 / 1000 (63.5s):  loss: 0.251  val loss: 0.249  value: 0.154  patience:  14\n",
      "INFO:pykeen.utilities.train_utils:Epoch  54 / 1000 (63.5s):  loss: 0.251  val loss: 0.244  value: 0.154  patience:  15\n",
      "INFO:pykeen.utilities.train_utils:Epoch  55 / 1000 (63.6s):  loss: 0.252  val loss: 0.231  value: 0.154  patience:  16\n",
      "INFO:pykeen.utilities.train_utils:Epoch  56 / 1000 (63.6s):  loss: 0.251  val loss: 0.231  value: 0.154  patience:  17\n",
      "INFO:pykeen.utilities.train_utils:Epoch  57 / 1000 (63.4s):  loss: 0.251  val loss: 0.235  value: 0.154  patience:  18\n",
      "INFO:pykeen.utilities.train_utils:Epoch  58 / 1000 (63.5s):  loss: 0.251  val loss: 0.239  value: 0.154  patience:  19\n",
      "INFO:pykeen.utilities.train_utils:Epoch  59 / 1000 (63.6s):  loss: 0.252  val loss: 0.233  value: 0.154  patience:  20\n",
      "INFO:pykeen.utilities.evaluation_utils.metrics_computations:Evaluation took 22.56s seconds\n"
     ]
    },
    {
     "name": "stdout",
     "output_type": "stream",
     "text": [
      "0.11594586769655696 (0.08408812209695334, 0.18666666666666668)\n"
     ]
    },
    {
     "name": "stderr",
     "output_type": "stream",
     "text": [
      "INFO:pykeen.utilities.train_utils:Epoch  60 / 1000 (63.6s):  loss: 0.252  val loss: 0.241  value: 0.116  patience:  21\n",
      "INFO:pykeen.utilities.train_utils:Epoch  61 / 1000 (63.5s):  loss: 0.252  val loss: 0.231  value: 0.116  patience:  22\n",
      "INFO:pykeen.utilities.train_utils:Epoch  62 / 1000 (63.6s):  loss: 0.251  val loss: 0.255  value: 0.116  patience:  23\n",
      "INFO:pykeen.utilities.train_utils:Epoch  63 / 1000 (63.6s):  loss: 0.251  val loss: 0.238  value: 0.116  patience:  24\n",
      "INFO:pykeen.utilities.train_utils:Epoch  64 / 1000 (63.7s):  loss: 0.251  val loss: 0.240  value: 0.116  patience:  25\n",
      "INFO:pykeen.utilities.train_utils:Epoch  65 / 1000 (63.5s):  loss: 0.252  val loss: 0.235  value: 0.116  patience:  26\n",
      "INFO:pykeen.utilities.train_utils:Epoch  66 / 1000 (63.5s):  loss: 0.251  val loss: 0.236  value: 0.116  patience:  27\n",
      "INFO:pykeen.utilities.train_utils:Epoch  67 / 1000 (63.6s):  loss: 0.251  val loss: 0.233  value: 0.116  patience:  28\n",
      "INFO:pykeen.utilities.train_utils:Epoch  68 / 1000 (63.6s):  loss: 0.251  val loss: 0.245  value: 0.116  patience:  29\n",
      "INFO:pykeen.utilities.train_utils:Epoch  69 / 1000 (63.5s):  loss: 0.251  val loss: 0.238  value: 0.116  patience:  30\n"
     ]
    },
    {
     "name": "stdout",
     "output_type": "stream",
     "text": [
      "Epoch    70: reducing learning rate of group 0 to 1.0000e-03.\n"
     ]
    },
    {
     "name": "stderr",
     "output_type": "stream",
     "text": [
      "INFO:pykeen.utilities.evaluation_utils.metrics_computations:Evaluation took 22.67s seconds\n"
     ]
    },
    {
     "name": "stdout",
     "output_type": "stream",
     "text": [
      "0.13424962704328958 (0.10379406074276121, 0.19)\n"
     ]
    },
    {
     "name": "stderr",
     "output_type": "stream",
     "text": [
      "INFO:pykeen.utilities.train_utils:Epoch  70 / 1000 (63.5s):  loss: 0.251  val loss: 0.241  value: 0.134  patience:  31\n",
      "INFO:pykeen.utilities.evaluation_utils.metrics_computations:Evaluation took 22.83s seconds\n"
     ]
    },
    {
     "name": "stdout",
     "output_type": "stream",
     "text": [
      "0.15192011208605696 (0.11511186307446247, 0.22333333333333333)\n"
     ]
    },
    {
     "name": "stderr",
     "output_type": "stream",
     "text": [
      "INFO:pykeen.utilities.train_utils:Epoch  71 / 1000 (63.7s):  loss: 0.214  val loss: 0.197  value: 0.152  patience:  32\n",
      "INFO:pykeen.utilities.train_utils:Epoch  72 / 1000 (63.7s):  loss: 0.205  val loss: 0.197  value: 0.152  patience:  33\n",
      "INFO:pykeen.utilities.train_utils:Epoch  73 / 1000 (63.6s):  loss: 0.201  val loss: 0.197  value: 0.152  patience:  34\n",
      "INFO:pykeen.utilities.evaluation_utils.metrics_computations:Evaluation took 22.61s seconds\n"
     ]
    },
    {
     "name": "stdout",
     "output_type": "stream",
     "text": [
      "0.1553630764839192 (0.12216617907971854, 0.21333333333333335)\n"
     ]
    },
    {
     "name": "stderr",
     "output_type": "stream",
     "text": [
      "INFO:pykeen.utilities.train_utils:Epoch  74 / 1000 (63.5s):  loss: 0.199  val loss: 0.196  value: 0.155  patience:  35\n",
      "INFO:pykeen.utilities.evaluation_utils.metrics_computations:Evaluation took 22.62s seconds\n"
     ]
    },
    {
     "name": "stdout",
     "output_type": "stream",
     "text": [
      "0.17749681465727274 (0.13862408248099517, 0.24666666666666667)\n"
     ]
    },
    {
     "name": "stderr",
     "output_type": "stream",
     "text": [
      "DEBUG:pykeen.utilities.train_utils:Saving the following model to disk:\n",
      "INFO:pykeen.utilities.train_utils:Epoch  75 / 1000 (63.9s):  loss: 0.198  val loss: 0.192  value: 0.177  patience:   1\n",
      "INFO:pykeen.utilities.train_utils:Epoch  76 / 1000 (63.7s):  loss: 0.198  val loss: 0.194  value: 0.177  patience:   2\n",
      "INFO:pykeen.utilities.train_utils:Epoch  77 / 1000 (63.5s):  loss: 0.197  val loss: 0.193  value: 0.177  patience:   3\n",
      "INFO:pykeen.utilities.evaluation_utils.metrics_computations:Evaluation took 22.61s seconds\n"
     ]
    },
    {
     "name": "stdout",
     "output_type": "stream",
     "text": [
      "0.16590437461460344 (0.1218177642066285, 0.26)\n"
     ]
    },
    {
     "name": "stderr",
     "output_type": "stream",
     "text": [
      "INFO:pykeen.utilities.train_utils:Epoch  78 / 1000 (63.5s):  loss: 0.196  val loss: 0.189  value: 0.166  patience:   4\n",
      "INFO:pykeen.utilities.train_utils:Epoch  79 / 1000 (63.6s):  loss: 0.195  val loss: 0.190  value: 0.166  patience:   5\n",
      "INFO:pykeen.utilities.evaluation_utils.metrics_computations:Evaluation took 22.62s seconds\n"
     ]
    },
    {
     "name": "stdout",
     "output_type": "stream",
     "text": [
      "0.16971606431579941 (0.12597259601961852, 0.26)\n"
     ]
    },
    {
     "name": "stderr",
     "output_type": "stream",
     "text": [
      "INFO:pykeen.utilities.train_utils:Epoch  80 / 1000 (63.6s):  loss: 0.195  val loss: 0.192  value: 0.170  patience:   6\n",
      "INFO:pykeen.utilities.train_utils:Epoch  81 / 1000 (63.4s):  loss: 0.195  val loss: 0.191  value: 0.170  patience:   7\n",
      "INFO:pykeen.utilities.train_utils:Epoch  82 / 1000 (63.5s):  loss: 0.195  val loss: 0.190  value: 0.170  patience:   8\n",
      "INFO:pykeen.utilities.train_utils:Epoch  83 / 1000 (63.6s):  loss: 0.194  val loss: 0.195  value: 0.170  patience:   9\n",
      "INFO:pykeen.utilities.train_utils:Epoch  84 / 1000 (63.6s):  loss: 0.194  val loss: 0.190  value: 0.170  patience:  10\n",
      "INFO:pykeen.utilities.evaluation_utils.metrics_computations:Evaluation took 22.62s seconds\n"
     ]
    },
    {
     "name": "stdout",
     "output_type": "stream",
     "text": [
      "0.1896513005409541 (0.14427491164959044, 0.27666666666666667)\n"
     ]
    },
    {
     "name": "stderr",
     "output_type": "stream",
     "text": [
      "DEBUG:pykeen.utilities.train_utils:Saving the following model to disk:\n",
      "INFO:pykeen.utilities.train_utils:Epoch  85 / 1000 (63.5s):  loss: 0.193  val loss: 0.184  value: 0.190  patience:   1\n",
      "INFO:pykeen.utilities.evaluation_utils.metrics_computations:Evaluation took 22.78s seconds\n"
     ]
    },
    {
     "name": "stdout",
     "output_type": "stream",
     "text": [
      "0.2078414040599747 (0.15807731307222983, 0.30333333333333334)\n"
     ]
    },
    {
     "name": "stderr",
     "output_type": "stream",
     "text": [
      "DEBUG:pykeen.utilities.train_utils:Saving the following model to disk:\n",
      "INFO:pykeen.utilities.train_utils:Epoch  86 / 1000 (63.5s):  loss: 0.193  val loss: 0.183  value: 0.208  patience:   1\n",
      "INFO:pykeen.utilities.train_utils:Epoch  87 / 1000 (63.6s):  loss: 0.193  val loss: 0.188  value: 0.208  patience:   2\n",
      "INFO:pykeen.utilities.train_utils:Epoch  88 / 1000 (63.6s):  loss: 0.193  val loss: 0.185  value: 0.208  patience:   3\n",
      "INFO:pykeen.utilities.train_utils:Epoch  89 / 1000 (63.5s):  loss: 0.193  val loss: 0.190  value: 0.208  patience:   4\n",
      "INFO:pykeen.utilities.evaluation_utils.metrics_computations:Evaluation took 22.58s seconds\n"
     ]
    },
    {
     "name": "stdout",
     "output_type": "stream",
     "text": [
      "0.17286517664829368 (0.12788197677006663, 0.26666666666666666)\n"
     ]
    },
    {
     "name": "stderr",
     "output_type": "stream",
     "text": [
      "INFO:pykeen.utilities.train_utils:Epoch  90 / 1000 (63.5s):  loss: 0.193  val loss: 0.188  value: 0.173  patience:   5\n",
      "INFO:pykeen.utilities.train_utils:Epoch  91 / 1000 (63.5s):  loss: 0.193  val loss: 0.190  value: 0.173  patience:   6\n",
      "INFO:pykeen.utilities.evaluation_utils.metrics_computations:Evaluation took 22.59s seconds\n"
     ]
    },
    {
     "name": "stdout",
     "output_type": "stream",
     "text": [
      "0.19075934024179841 (0.14556132487667683, 0.27666666666666667)\n"
     ]
    },
    {
     "name": "stderr",
     "output_type": "stream",
     "text": [
      "INFO:pykeen.utilities.train_utils:Epoch  92 / 1000 (63.6s):  loss: 0.192  val loss: 0.181  value: 0.191  patience:   7\n",
      "INFO:pykeen.utilities.train_utils:Epoch  93 / 1000 (63.5s):  loss: 0.192  val loss: 0.184  value: 0.191  patience:   8\n",
      "INFO:pykeen.utilities.train_utils:Epoch  94 / 1000 (63.5s):  loss: 0.192  val loss: 0.186  value: 0.191  patience:   9\n",
      "INFO:pykeen.utilities.train_utils:Epoch  95 / 1000 (63.6s):  loss: 0.192  val loss: 0.189  value: 0.191  patience:  10\n",
      "INFO:pykeen.utilities.train_utils:Epoch  96 / 1000 (63.6s):  loss: 0.192  val loss: 0.186  value: 0.191  patience:  11\n",
      "INFO:pykeen.utilities.evaluation_utils.metrics_computations:Evaluation took 22.57s seconds\n"
     ]
    },
    {
     "name": "stdout",
     "output_type": "stream",
     "text": [
      "0.16765201628753262 (0.1269773912507721, 0.24666666666666667)\n"
     ]
    },
    {
     "name": "stderr",
     "output_type": "stream",
     "text": [
      "INFO:pykeen.utilities.train_utils:Epoch  97 / 1000 (63.6s):  loss: 0.192  val loss: 0.180  value: 0.168  patience:  12\n",
      "INFO:pykeen.utilities.train_utils:Epoch  98 / 1000 (63.6s):  loss: 0.191  val loss: 0.184  value: 0.168  patience:  13\n",
      "INFO:pykeen.utilities.train_utils:Epoch  99 / 1000 (63.6s):  loss: 0.191  val loss: 0.183  value: 0.168  patience:  14\n",
      "INFO:pykeen.utilities.evaluation_utils.metrics_computations:Evaluation took 22.64s seconds\n"
     ]
    },
    {
     "name": "stdout",
     "output_type": "stream",
     "text": [
      "0.1445722533356997 (0.10933247612894234, 0.21333333333333335)\n"
     ]
    },
    {
     "name": "stderr",
     "output_type": "stream",
     "text": [
      "INFO:pykeen.utilities.train_utils:Epoch 100 / 1000 (63.7s):  loss: 0.191  val loss: 0.186  value: 0.145  patience:  15\n",
      "INFO:pykeen.utilities.train_utils:Epoch 101 / 1000 (63.5s):  loss: 0.191  val loss: 0.189  value: 0.145  patience:  16\n",
      "INFO:pykeen.utilities.train_utils:Epoch 102 / 1000 (63.5s):  loss: 0.191  val loss: 0.185  value: 0.145  patience:  17\n",
      "INFO:pykeen.utilities.train_utils:Epoch 103 / 1000 (63.6s):  loss: 0.191  val loss: 0.187  value: 0.145  patience:  18\n",
      "INFO:pykeen.utilities.train_utils:Epoch 104 / 1000 (63.6s):  loss: 0.191  val loss: 0.185  value: 0.145  patience:  19\n",
      "INFO:pykeen.utilities.train_utils:Epoch 105 / 1000 (63.5s):  loss: 0.191  val loss: 0.188  value: 0.145  patience:  20\n",
      "INFO:pykeen.utilities.train_utils:Epoch 106 / 1000 (63.6s):  loss: 0.191  val loss: 0.187  value: 0.145  patience:  21\n",
      "INFO:pykeen.utilities.train_utils:Epoch 107 / 1000 (63.6s):  loss: 0.191  val loss: 0.183  value: 0.145  patience:  22\n",
      "INFO:pykeen.utilities.evaluation_utils.metrics_computations:Evaluation took 22.56s seconds\n"
     ]
    },
    {
     "name": "stdout",
     "output_type": "stream",
     "text": [
      "0.1819908011315085 (0.13998911406136605, 0.26)\n"
     ]
    },
    {
     "name": "stderr",
     "output_type": "stream",
     "text": [
      "INFO:pykeen.utilities.train_utils:Epoch 108 / 1000 (63.6s):  loss: 0.191  val loss: 0.179  value: 0.182  patience:  23\n",
      "INFO:pykeen.utilities.train_utils:Epoch 109 / 1000 (63.5s):  loss: 0.190  val loss: 0.183  value: 0.182  patience:  24\n",
      "INFO:pykeen.utilities.evaluation_utils.metrics_computations:Evaluation took 22.57s seconds\n"
     ]
    },
    {
     "name": "stdout",
     "output_type": "stream",
     "text": [
      "0.1768831104008993 (0.14005140575426972, 0.24)\n"
     ]
    },
    {
     "name": "stderr",
     "output_type": "stream",
     "text": [
      "INFO:pykeen.utilities.train_utils:Epoch 110 / 1000 (63.5s):  loss: 0.191  val loss: 0.185  value: 0.177  patience:  25\n",
      "INFO:pykeen.utilities.train_utils:Epoch 111 / 1000 (63.6s):  loss: 0.191  val loss: 0.185  value: 0.177  patience:  26\n",
      "INFO:pykeen.utilities.train_utils:Epoch 112 / 1000 (63.7s):  loss: 0.190  val loss: 0.180  value: 0.177  patience:  27\n",
      "INFO:pykeen.utilities.train_utils:Epoch 113 / 1000 (63.5s):  loss: 0.190  val loss: 0.183  value: 0.177  patience:  28\n",
      "INFO:pykeen.utilities.train_utils:Epoch 114 / 1000 (63.7s):  loss: 0.190  val loss: 0.187  value: 0.177  patience:  29\n",
      "INFO:pykeen.utilities.train_utils:Epoch 115 / 1000 (63.8s):  loss: 0.190  val loss: 0.187  value: 0.177  patience:  30\n",
      "INFO:pykeen.utilities.train_utils:Epoch 116 / 1000 (63.7s):  loss: 0.190  val loss: 0.185  value: 0.177  patience:  31\n",
      "INFO:pykeen.utilities.train_utils:Epoch 117 / 1000 (63.7s):  loss: 0.190  val loss: 0.182  value: 0.177  patience:  32\n",
      "INFO:pykeen.utilities.train_utils:Epoch 118 / 1000 (63.5s):  loss: 0.190  val loss: 0.186  value: 0.177  patience:  33\n",
      "INFO:pykeen.utilities.train_utils:Epoch 119 / 1000 (63.6s):  loss: 0.190  val loss: 0.183  value: 0.177  patience:  34\n",
      "INFO:pykeen.utilities.evaluation_utils.metrics_computations:Evaluation took 22.62s seconds\n"
     ]
    },
    {
     "name": "stdout",
     "output_type": "stream",
     "text": [
      "0.16780539952105095 (0.1271534459847456, 0.24666666666666667)\n"
     ]
    },
    {
     "name": "stderr",
     "output_type": "stream",
     "text": [
      "INFO:pykeen.utilities.train_utils:Epoch 120 / 1000 (63.6s):  loss: 0.190  val loss: 0.184  value: 0.168  patience:  35\n",
      "INFO:pykeen.utilities.train_utils:Epoch 121 / 1000 (63.5s):  loss: 0.190  val loss: 0.189  value: 0.168  patience:  36\n",
      "INFO:pykeen.utilities.train_utils:Epoch 122 / 1000 (63.6s):  loss: 0.190  val loss: 0.183  value: 0.168  patience:  37\n",
      "INFO:pykeen.utilities.train_utils:Epoch 123 / 1000 (63.6s):  loss: 0.190  val loss: 0.181  value: 0.168  patience:  38\n",
      "INFO:pykeen.utilities.train_utils:Epoch 124 / 1000 (63.7s):  loss: 0.190  val loss: 0.180  value: 0.168  patience:  39\n",
      "INFO:pykeen.utilities.train_utils:Epoch 125 / 1000 (63.5s):  loss: 0.190  val loss: 0.181  value: 0.168  patience:  40\n",
      "INFO:pykeen.utilities.train_utils:Epoch 126 / 1000 (63.5s):  loss: 0.190  val loss: 0.180  value: 0.168  patience:  41\n",
      "INFO:pykeen.utilities.train_utils:Epoch 127 / 1000 (63.6s):  loss: 0.190  val loss: 0.186  value: 0.168  patience:  42\n",
      "INFO:pykeen.utilities.train_utils:Epoch 128 / 1000 (63.6s):  loss: 0.190  val loss: 0.185  value: 0.168  patience:  43\n"
     ]
    },
    {
     "name": "stdout",
     "output_type": "stream",
     "text": [
      "Epoch   129: reducing learning rate of group 0 to 1.0000e-04.\n"
     ]
    },
    {
     "name": "stderr",
     "output_type": "stream",
     "text": [
      "INFO:pykeen.utilities.train_utils:Epoch 129 / 1000 (63.5s):  loss: 0.190  val loss: 0.185  value: 0.168  patience:  44\n",
      "INFO:pykeen.utilities.evaluation_utils.metrics_computations:Evaluation took 22.57s seconds\n"
     ]
    },
    {
     "name": "stdout",
     "output_type": "stream",
     "text": [
      "0.1953474430704624 (0.14815262100900345, 0.2866666666666667)\n"
     ]
    },
    {
     "name": "stderr",
     "output_type": "stream",
     "text": [
      "INFO:pykeen.utilities.train_utils:Epoch 130 / 1000 (63.5s):  loss: 0.184  val loss: 0.179  value: 0.195  patience:  45\n",
      "INFO:pykeen.utilities.evaluation_utils.metrics_computations:Evaluation took 22.62s seconds\n"
     ]
    },
    {
     "name": "stdout",
     "output_type": "stream",
     "text": [
      "0.1897075644436226 (0.14434004404123538, 0.27666666666666667)\n"
     ]
    },
    {
     "name": "stderr",
     "output_type": "stream",
     "text": [
      "INFO:pykeen.utilities.train_utils:Epoch 131 / 1000 (63.6s):  loss: 0.183  val loss: 0.178  value: 0.190  patience:  46\n",
      "INFO:pykeen.utilities.train_utils:Epoch 132 / 1000 (63.6s):  loss: 0.182  val loss: 0.178  value: 0.190  patience:  47\n",
      "INFO:pykeen.utilities.evaluation_utils.metrics_computations:Evaluation took 22.62s seconds\n"
     ]
    },
    {
     "name": "stdout",
     "output_type": "stream",
     "text": [
      "0.1798357949374007 (0.1374551054691942, 0.26)\n"
     ]
    },
    {
     "name": "stderr",
     "output_type": "stream",
     "text": [
      "INFO:pykeen.utilities.train_utils:Epoch 133 / 1000 (63.5s):  loss: 0.182  val loss: 0.177  value: 0.180  patience:  48\n",
      "INFO:pykeen.utilities.train_utils:Epoch 134 / 1000 (63.5s):  loss: 0.182  val loss: 0.178  value: 0.180  patience:  49\n",
      "INFO:pykeen.utilities.train_utils:Epoch 135 / 1000 (63.6s):  loss: 0.182  val loss: 0.179  value: 0.180  patience:  50\n",
      "INFO:pykeen.utilities.train_utils:Epoch 136 / 1000 (63.7s):  loss: 0.182  val loss: 0.177  value: 0.180  patience:  51\n",
      "INFO:pykeen.utilities.train_utils:Epoch 137 / 1000 (63.6s):  loss: 0.182  val loss: 0.179  value: 0.180  patience:  52\n",
      "INFO:pykeen.utilities.train_utils:Epoch 138 / 1000 (63.6s):  loss: 0.182  val loss: 0.179  value: 0.180  patience:  53\n",
      "INFO:pykeen.utilities.train_utils:Epoch 139 / 1000 (63.6s):  loss: 0.182  val loss: 0.177  value: 0.180  patience:  54\n",
      "INFO:pykeen.utilities.evaluation_utils.metrics_computations:Evaluation took 22.70s seconds\n"
     ]
    },
    {
     "name": "stdout",
     "output_type": "stream",
     "text": [
      "0.19690688642620094 (0.14735573293740795, 0.2966666666666667)\n"
     ]
    },
    {
     "name": "stderr",
     "output_type": "stream",
     "text": [
      "INFO:pykeen.utilities.train_utils:Epoch 140 / 1000 (63.7s):  loss: 0.182  val loss: 0.177  value: 0.197  patience:  55\n",
      "INFO:pykeen.utilities.train_utils:Epoch 141 / 1000 (63.6s):  loss: 0.182  val loss: 0.177  value: 0.197  patience:  56\n",
      "INFO:pykeen.utilities.train_utils:Epoch 142 / 1000 (63.6s):  loss: 0.181  val loss: 0.178  value: 0.197  patience:  57\n",
      "INFO:pykeen.utilities.train_utils:Epoch 143 / 1000 (63.6s):  loss: 0.181  val loss: 0.177  value: 0.197  patience:  58\n",
      "INFO:pykeen.utilities.train_utils:Epoch 144 / 1000 (63.6s):  loss: 0.181  val loss: 0.177  value: 0.197  patience:  59\n",
      "INFO:pykeen.utilities.train_utils:Epoch 145 / 1000 (63.5s):  loss: 0.182  val loss: 0.177  value: 0.197  patience:  60\n",
      "INFO:pykeen.utilities.train_utils:Epoch 146 / 1000 (63.6s):  loss: 0.181  val loss: 0.177  value: 0.197  patience:  61\n",
      "INFO:pykeen.utilities.evaluation_utils.metrics_computations:Evaluation took 22.62s seconds\n"
     ]
    },
    {
     "name": "stdout",
     "output_type": "stream",
     "text": [
      "0.18475488723473416 (0.13868287563385015, 0.27666666666666667)\n"
     ]
    },
    {
     "name": "stderr",
     "output_type": "stream",
     "text": [
      "INFO:pykeen.utilities.train_utils:Epoch 147 / 1000 (63.6s):  loss: 0.181  val loss: 0.176  value: 0.185  patience:  62\n",
      "INFO:pykeen.utilities.train_utils:Epoch 148 / 1000 (63.7s):  loss: 0.181  val loss: 0.177  value: 0.185  patience:  63\n",
      "INFO:pykeen.utilities.train_utils:Epoch 149 / 1000 (63.5s):  loss: 0.181  val loss: 0.177  value: 0.185  patience:  64\n",
      "INFO:pykeen.utilities.evaluation_utils.metrics_computations:Evaluation took 22.63s seconds\n"
     ]
    },
    {
     "name": "stdout",
     "output_type": "stream",
     "text": [
      "0.18493122661775196 (0.13805666354473786, 0.28)\n"
     ]
    },
    {
     "name": "stderr",
     "output_type": "stream",
     "text": [
      "INFO:pykeen.utilities.train_utils:Epoch 150 / 1000 (63.6s):  loss: 0.181  val loss: 0.178  value: 0.185  patience:  65\n",
      "INFO:pykeen.utilities.train_utils:Epoch 151 / 1000 (63.6s):  loss: 0.181  val loss: 0.177  value: 0.185  patience:  66\n",
      "INFO:pykeen.utilities.train_utils:Epoch 152 / 1000 (63.6s):  loss: 0.181  val loss: 0.177  value: 0.185  patience:  67\n",
      "INFO:pykeen.utilities.train_utils:Epoch 153 / 1000 (63.5s):  loss: 0.181  val loss: 0.178  value: 0.185  patience:  68\n",
      "INFO:pykeen.utilities.train_utils:Epoch 154 / 1000 (63.6s):  loss: 0.181  val loss: 0.178  value: 0.185  patience:  69\n",
      "INFO:pykeen.utilities.train_utils:Epoch 155 / 1000 (63.6s):  loss: 0.181  val loss: 0.178  value: 0.185  patience:  70\n",
      "INFO:pykeen.utilities.train_utils:Epoch 156 / 1000 (63.7s):  loss: 0.181  val loss: 0.178  value: 0.185  patience:  71\n",
      "INFO:pykeen.utilities.evaluation_utils.metrics_computations:Evaluation took 22.56s seconds\n"
     ]
    },
    {
     "name": "stdout",
     "output_type": "stream",
     "text": [
      "0.1943931169522057 (0.14455789529642044, 0.2966666666666667)\n"
     ]
    },
    {
     "name": "stderr",
     "output_type": "stream",
     "text": [
      "INFO:pykeen.utilities.train_utils:Epoch 157 / 1000 (63.5s):  loss: 0.181  val loss: 0.175  value: 0.194  patience:  72\n",
      "INFO:pykeen.utilities.train_utils:Epoch 158 / 1000 (63.6s):  loss: 0.181  val loss: 0.178  value: 0.194  patience:  73\n",
      "INFO:pykeen.utilities.train_utils:Epoch 159 / 1000 (63.7s):  loss: 0.181  val loss: 0.177  value: 0.194  patience:  74\n",
      "INFO:pykeen.utilities.evaluation_utils.metrics_computations:Evaluation took 22.62s seconds\n"
     ]
    },
    {
     "name": "stdout",
     "output_type": "stream",
     "text": [
      "0.18570030291230116 (0.139751000466136, 0.27666666666666667)\n"
     ]
    },
    {
     "name": "stderr",
     "output_type": "stream",
     "text": [
      "INFO:pykeen.utilities.train_utils:Epoch 160 / 1000 (63.6s):  loss: 0.181  val loss: 0.178  value: 0.186  patience:  75\n",
      "INFO:pykeen.utilities.train_utils:Epoch 161 / 1000 (63.5s):  loss: 0.181  val loss: 0.177  value: 0.186  patience:  76\n",
      "INFO:pykeen.utilities.train_utils:Epoch 162 / 1000 (63.6s):  loss: 0.181  val loss: 0.178  value: 0.186  patience:  77\n",
      "INFO:pykeen.utilities.train_utils:Epoch 163 / 1000 (63.6s):  loss: 0.181  val loss: 0.178  value: 0.186  patience:  78\n",
      "INFO:pykeen.utilities.train_utils:Epoch 164 / 1000 (63.7s):  loss: 0.181  val loss: 0.177  value: 0.186  patience:  79\n",
      "INFO:pykeen.utilities.train_utils:Epoch 165 / 1000 (63.5s):  loss: 0.181  val loss: 0.178  value: 0.186  patience:  80\n",
      "INFO:pykeen.utilities.train_utils:Epoch 166 / 1000 (63.6s):  loss: 0.181  val loss: 0.178  value: 0.186  patience:  81\n",
      "INFO:pykeen.utilities.train_utils:Epoch 167 / 1000 (63.8s):  loss: 0.181  val loss: 0.177  value: 0.186  patience:  82\n",
      "INFO:pykeen.utilities.train_utils:Epoch 168 / 1000 (63.8s):  loss: 0.181  val loss: 0.176  value: 0.186  patience:  83\n",
      "INFO:pykeen.utilities.evaluation_utils.metrics_computations:Evaluation took 22.67s seconds\n"
     ]
    },
    {
     "name": "stdout",
     "output_type": "stream",
     "text": [
      "0.18262686706216866 (0.1362985843276532, 0.27666666666666667)\n"
     ]
    },
    {
     "name": "stderr",
     "output_type": "stream",
     "text": [
      "INFO:pykeen.utilities.train_utils:Epoch 169 / 1000 (63.6s):  loss: 0.181  val loss: 0.174  value: 0.183  patience:  84\n",
      "INFO:pykeen.utilities.evaluation_utils.metrics_computations:Evaluation took 22.57s seconds\n"
     ]
    },
    {
     "name": "stdout",
     "output_type": "stream",
     "text": [
      "0.18442258804097078 (0.13830874633618748, 0.27666666666666667)\n"
     ]
    },
    {
     "name": "stderr",
     "output_type": "stream",
     "text": [
      "INFO:pykeen.utilities.train_utils:Epoch 170 / 1000 (63.6s):  loss: 0.181  val loss: 0.178  value: 0.184  patience:  85\n",
      "INFO:pykeen.utilities.train_utils:Epoch 171 / 1000 (63.7s):  loss: 0.181  val loss: 0.176  value: 0.184  patience:  86\n",
      "INFO:pykeen.utilities.train_utils:Epoch 172 / 1000 (63.7s):  loss: 0.181  val loss: 0.175  value: 0.184  patience:  87\n",
      "INFO:pykeen.utilities.train_utils:Epoch 173 / 1000 (63.6s):  loss: 0.181  val loss: 0.176  value: 0.184  patience:  88\n",
      "INFO:pykeen.utilities.train_utils:Epoch 174 / 1000 (63.6s):  loss: 0.181  val loss: 0.176  value: 0.184  patience:  89\n",
      "INFO:pykeen.utilities.train_utils:Epoch 175 / 1000 (63.7s):  loss: 0.181  val loss: 0.175  value: 0.184  patience:  90\n",
      "INFO:pykeen.utilities.train_utils:Epoch 176 / 1000 (63.7s):  loss: 0.181  val loss: 0.176  value: 0.184  patience:  91\n",
      "INFO:pykeen.utilities.train_utils:Epoch 177 / 1000 (63.5s):  loss: 0.181  val loss: 0.176  value: 0.184  patience:  92\n",
      "INFO:pykeen.utilities.train_utils:Epoch 178 / 1000 (63.7s):  loss: 0.181  val loss: 0.175  value: 0.184  patience:  93\n",
      "INFO:pykeen.utilities.train_utils:Epoch 179 / 1000 (63.6s):  loss: 0.181  val loss: 0.176  value: 0.184  patience:  94\n",
      "INFO:pykeen.utilities.evaluation_utils.metrics_computations:Evaluation took 23.85s seconds\n"
     ]
    },
    {
     "name": "stdout",
     "output_type": "stream",
     "text": [
      "0.18378657617321772 (0.1375945490597081, 0.27666666666666667)\n"
     ]
    },
    {
     "name": "stderr",
     "output_type": "stream",
     "text": [
      "INFO:pykeen.utilities.train_utils:Epoch 180 / 1000 (64.9s):  loss: 0.181  val loss: 0.176  value: 0.184  patience:  95\n",
      "INFO:pykeen.utilities.train_utils:Epoch 181 / 1000 (63.8s):  loss: 0.181  val loss: 0.179  value: 0.184  patience:  96\n",
      "INFO:pykeen.utilities.train_utils:Epoch 182 / 1000 (63.7s):  loss: 0.181  val loss: 0.175  value: 0.184  patience:  97\n",
      "INFO:pykeen.utilities.train_utils:Epoch 183 / 1000 (63.6s):  loss: 0.181  val loss: 0.176  value: 0.184  patience:  98\n",
      "INFO:pykeen.utilities.train_utils:Epoch 184 / 1000 (63.7s):  loss: 0.181  val loss: 0.176  value: 0.184  patience:  99\n",
      "INFO:pykeen.utilities.train_utils:Epoch 185 / 1000 (63.5s):  loss: 0.181  val loss: 0.175  value: 0.184  patience: 100\n",
      "DEBUG:pykeen.utilities.train_utils:training took 12575.66s seconds\n",
      "INFO:pykeen.utilities.pipeline:-------------Start Evaluation-------------\n",
      "INFO:pykeen.utilities.evaluation_utils.metrics_computations:Evaluation took 22.63s seconds\n"
     ]
    }
   ],
   "source": [
    "# my\n",
    "results = pykeen.run(\n",
    "    config=config,\n",
    "    output_directory=output_directory,\n",
    ")"
   ]
  },
  {
   "cell_type": "markdown",
   "metadata": {},
   "source": [
    "Check result entries:"
   ]
  },
  {
   "cell_type": "code",
   "execution_count": 14,
   "metadata": {
    "ExecuteTime": {
     "end_time": "2019-06-29T01:27:38.249987Z",
     "start_time": "2019-06-29T01:27:37.732770Z"
    }
   },
   "outputs": [
    {
     "data": {
      "text/plain": [
       "odict_keys(['trained_model', 'losses', 'validation_losses', 'metric_per_epoch', 'entity_to_embedding', 'relation_to_embedding', 'relation_to_radius', 'eval_summary', 'entity_to_id', 'relation_to_id', 'final_configuration', 'search_summary'])"
      ]
     },
     "execution_count": 14,
     "metadata": {},
     "output_type": "execute_result"
    }
   ],
   "source": [
    "results.results.keys()"
   ]
  },
  {
   "cell_type": "markdown",
   "metadata": {},
   "source": [
    "Visualize loss values:"
   ]
  },
  {
   "cell_type": "code",
   "execution_count": 15,
   "metadata": {
    "ExecuteTime": {
     "end_time": "2019-06-29T01:27:40.379397Z",
     "start_time": "2019-06-29T01:27:38.250982Z"
    }
   },
   "outputs": [
    {
     "name": "stderr",
     "output_type": "stream",
     "text": [
      "DEBUG:matplotlib.axes._base:update_title_pos\n",
      "DEBUG:matplotlib.font_manager:findfont: Matching :family=sans-serif:style=normal:variant=normal:weight=normal:stretch=normal:size=10.0 to DejaVu Sans ('D:\\\\uni\\\\master\\\\conda_env\\\\lib\\\\site-packages\\\\matplotlib\\\\mpl-data\\\\fonts\\\\ttf\\\\DejaVuSans.ttf') with score of 0.050000.\n",
      "DEBUG:matplotlib.font_manager:findfont: Matching :family=sans-serif:style=normal:variant=normal:weight=normal:stretch=normal:size=12.0 to DejaVu Sans ('D:\\\\uni\\\\master\\\\conda_env\\\\lib\\\\site-packages\\\\matplotlib\\\\mpl-data\\\\fonts\\\\ttf\\\\DejaVuSans.ttf') with score of 0.050000.\n",
      "DEBUG:matplotlib.axes._base:update_title_pos\n",
      "DEBUG:matplotlib.axes._base:update_title_pos\n",
      "DEBUG:matplotlib.axes._base:update_title_pos\n"
     ]
    },
    {
     "data": {
      "image/png": "[encoded data removed]",
      "text/plain": [
       "<Figure size 432x288 with 1 Axes>"
      ]
     },
     "metadata": {
      "needs_background": "light"
     },
     "output_type": "display_data"
    }
   ],
   "source": [
    "val_losses = results.results['validation_losses']\n",
    "epochs = np.arange(len(val_losses))\n",
    "#plt.title(r'Validation Loss Per Epoch')\n",
    "plt.xlabel('epoch')\n",
    "plt.ylabel('loss')\n",
    "plt.plot(epochs, val_losses)\n",
    "\n",
    "losses = results.results['losses']\n",
    "epochs = np.arange(len(losses))\n",
    "plt.title('Loss Per Epoch')\n",
    "plt.xlabel('epoch')\n",
    "plt.ylabel('loss')\n",
    "plt.plot(epochs, losses) #plt.subplot(122)\n",
    "\n",
    "plt.legend([\"val loss\", \"loss\"])\n",
    "plt.show()"
   ]
  },
  {
   "cell_type": "markdown",
   "metadata": {
    "ExecuteTime": {
     "end_time": "2019-06-25T23:14:06.537086Z",
     "start_time": "2019-06-25T22:53:24.669Z"
    }
   },
   "source": [
    "from sklearn.preprocessing import minmax_scale\n",
    "metric = minmax_scale(results.results['metric_per_epoch'], feature_range=(0,1))\n",
    "epochs = np.arange(len(metric)) * (len(losses) // len(metric))\n",
    "plt.xlabel('epoch')\n",
    "plt.ylabel('loss')\n",
    "plt.plot(epochs, metric)\n",
    "\n",
    "val_losses = - \n",
    "minmax_scale(results.results['validation_losses'], feature_range=(0,1))\n",
    "epochs = np.arange(len(val_losses))\n",
    "plt.title(r'Early stopping evaluation')\n",
    "plt.xlabel('epoch')\n",
    "plt.ylabel('loss')\n",
    "plt.plot(epochs, val_losses)\n",
    "\n",
    "plt.legend([\"metric\", \"val_loss\"])\n",
    "plt.show()"
   ]
  },
  {
   "cell_type": "code",
   "execution_count": 16,
   "metadata": {
    "ExecuteTime": {
     "end_time": "2019-06-29T01:27:40.408142Z",
     "start_time": "2019-06-29T01:27:40.400165Z"
    }
   },
   "outputs": [
    {
     "data": {
      "text/plain": [
       "{'mean_rank': 0.15807731307222983,\n",
       " 'hits@k': {1: 0.08,\n",
       "  3: 0.19666666666666666,\n",
       "  5: 0.22666666666666666,\n",
       "  10: 0.30333333333333334},\n",
       " 'precision': None,\n",
       " 'recall': None,\n",
       " 'accuracy': None,\n",
       " 'f1_score': None}"
      ]
     },
     "execution_count": 16,
     "metadata": {},
     "output_type": "execute_result"
    }
   ],
   "source": [
    "results.results['eval_summary']"
   ]
  },
  {
   "cell_type": "markdown",
   "metadata": {},
   "source": [
    "## Load and evaluate"
   ]
  },
  {
   "cell_type": "code",
   "execution_count": 17,
   "metadata": {
    "ExecuteTime": {
     "end_time": "2019-06-29T01:27:40.457013Z",
     "start_time": "2019-06-29T01:27:40.411134Z"
    }
   },
   "outputs": [],
   "source": [
    "import torch\n",
    "import json\n",
    "import os\n",
    "import pykeen.constants as pkc\n",
    "from pykeen.kge_models import get_kge_model\n",
    "from pykeen.utilities.pipeline import Pipeline"
   ]
  },
  {
   "cell_type": "code",
   "execution_count": 18,
   "metadata": {
    "ExecuteTime": {
     "end_time": "2019-06-29T01:27:40.527290Z",
     "start_time": "2019-06-29T01:27:40.460042Z"
    }
   },
   "outputs": [
    {
     "data": {
      "text/plain": [
       "['hpo',\n",
       " 'KG2E_FB15k_KL_dim50_lr0001_margin1_epochs1000_prediction',\n",
       " 'KG2E_FB15k_KL_dim50_lr0001_margin1_epochs500',\n",
       " 'KG2E_FB15k_KL_dim50_lr001_margin1_epochs500',\n",
       " 'KG2E_KL_FB15k_dim20_lr0001_margin2_epochs1000',\n",
       " 'KG2E_KL_FB15k_dim20_lr001_margin2_epochs1000',\n",
       " 'KG2E_KL_FB15k_dim20_lr005_margin2_epochs1000',\n",
       " 'KG2E_KL_FB15k_dim20_lr01_margin2_epochs1000',\n",
       " 'KG2E_KL_FB15k_dim20_lr1e-05_margin2_epochs1000',\n",
       " 'KG2E_KL_FB15k_dim50_lr00001_epochs1000',\n",
       " 'KG2E_KL_FB15k_dim50_lr0001_margin1_epochs1000',\n",
       " 'KG2E_KL_FB15k_dim50_lr1e-05_margin1_epochs1000',\n",
       " 'region_1000epochs',\n",
       " 'region_20epochs',\n",
       " 'region_300epochs',\n",
       " 'region_5epochs',\n",
       " 'region_dim100_ellipse_rad0_regL01_lr0001_loss-NLL_margin0.5_singlepass-True_negfactor1_epochs500',\n",
       " 'region_dim100_ellipse_rad0_regL1e-05_lr0001_loss-NLL_margin0.5_singlepass-True_negfactor1_epochs500',\n",
       " 'region_dim100_ellipse_rad10_regL1e-05_lr0001_loss-NLL_margin0.0_singlepass-True_negfactor2_epochs50',\n",
       " 'region_dim100_sphere_rad10_regL1e-05_lr0001_loss-MRL_margin0.0_singlepass-False_negfactor1_epochs1',\n",
       " 'region_dim100_sphere_rad10_regL1e-05_lr0001_loss-NLL_margin0.0_singlepass-True_negfactor2_epochs1',\n",
       " 'region_dim100_sphere_rad10_regL1e-05_lr0001_loss-NLL_margin0.0_singlepass-True_negfactor2_epochs3',\n",
       " 'region_dim100_sphere_rad10_regL1e-05_lr0001_loss-NLL_margin0.0_singlepass-True_negfactor2_epochs50',\n",
       " 'region_dim10_sphere_rad10_regL1e-05_lr0001_loss-NLL_margin0.0_singlepass-True_negfactor2_epochs5',\n",
       " 'region_dim20_rad5_regL002_lr5',\n",
       " 'region_dim20_rad5_regL002_lr5_loss-MRL_margin0_singlepass-False_negfactor1',\n",
       " 'region_dim50_rad10_regL01_lr2',\n",
       " 'region_dim50_rad5_regL002_lr1_loss-MRL_margin0.0_singlepass-False_negfactor3',\n",
       " 'region_dim50_sphere_rad10_regL1e-05_lr0001_loss-MRL_margin1_singlepass-False_negfactor1_epochs10',\n",
       " 'region_dim50_sphere_rad10_regL1e-05_lr0001_loss-NLL_margin1_singlepass-True_negfactor1_epochs500',\n",
       " 'region_dim50_sphere_rad10_regL1e-05_lr001_loss-MRL_margin1_singlepass-False_negfactor1_epochs10',\n",
       " 'region_dim50_sphere_rad10_regL1e-05_lr001_loss-MRL_margin2_singlepass-False_negfactor1_epochs10',\n",
       " 'region_dim50_sphere_rad10_regL1e-05_lr001_loss-NLL_margin0.0_singlepass-True_negfactor1_epochs10',\n",
       " 'region_dim50_sphere_rad10_regL1e-05_lr001_loss-NLL_margin1_singlepass-True_negfactor1_epochs500',\n",
       " 'region_dim70_ellipse_rad10_regL1e-05_lr0001_loss-NLL_margin0.0_singlepass-True_negfactor2_epochs50',\n",
       " 'region_dim70_rad10_regL01_lr0001_loss-NLL_margin0.0_singlepass-True_negfactor2_epochs10',\n",
       " 'region_dim70_rad10_regL10_lr5_loss-MRL_margin0.0_singlepass-True_negfactor2',\n",
       " 'region_dim70_rad10_regL10_lr5_loss-NLL_margin0.0_singlepass-True_negfactor2',\n",
       " 'region_dim70_rad10_regL1e-05_lr0001_loss-NLL_margin0.0_singlepass-True_negfactor2_epochs50',\n",
       " 'region_dim70_rad10_regL2_lr10_loss-NLL_margin0.0_singlepass-True_negfactor2_epochs100',\n",
       " 'region_dim70_rad10_regL2_lr10_loss-NLL_margin0.0_singlepass-True_negfactor2_epochs1000',\n",
       " 'region_dim70_rad10_regL2_lr5_loss-NLL_margin0.0_singlepass-True_negfactor2',\n",
       " 'region_dim70_sphere_rad10_regL1e-05_lr0001_loss-MRL_margin0.0_singlepass-False_negfactor1_epochs10',\n",
       " 'region_dim70_sphere_rad10_regL1e-05_lr0001_loss-MRL_margin0.0_singlepass-False_negfactor1_epochs2',\n",
       " 'region_dim70_sphere_rad10_regL1e-05_lr0001_loss-NLL_margin0.0_singlepass-False_negfactor1_epochs10',\n",
       " 'region_dim70_sphere_rad10_regL1e-05_lr0001_loss-NLL_margin0.0_singlepass-True_negfactor1_epochs10',\n",
       " 'region_dim70_sphere_rad10_regL1e-05_lr001_loss-NLL_margin0.0_singlepass-True_negfactor1_epochs10',\n",
       " 'region_FB15k_dim100_ellipse_rad0_regL0_lr001_loss-NLL_margin1_singlepass-True_negfactor1_epochs1000',\n",
       " 'region_FB15k_dim50_ellipse_rad0_regL00001_lr01_loss-MRL_margin0.5_singlepass-False_negfactor1_epochs1000',\n",
       " 'region_FB15k_dim50_ellipse_rad0_regL0001_lr01_loss-MRL_margin1_singlepass-False_negfactor1_epochs1000',\n",
       " 'region_FB15k_dim50_ellipse_rad0_regL0_lr001_loss-MRL_margin1_singlepass-False_negfactor1_epochs1000',\n",
       " 'region_FB15k_dim50_ellipse_rad0_regL0_lr001_loss-NLL_margin1_singlepass-True_negfactor1_epochs1000',\n",
       " 'region_FB15k_dim50_ellipse_rad0_regL0_lr01_loss-MRL_margin0.5_singlepass-False_negfactor1_epochs1000',\n",
       " 'region_FB15k_dim50_ellipse_rad0_regL0_lr01_loss-MRL_margin1_singlepass-False_negfactor1_epochs1000',\n",
       " 'region_FB15k_dim50_sphere_rad0_regL0001_lr01_loss-MRL_margin0.5_singlepass-False_negfactor1_epochs1000',\n",
       " 'region_FB15k_dim50_sphere_rad0_regL001_lr01_loss-MRL_margin0.5_singlepass-False_negfactor1_epochs1000',\n",
       " 'region_FB15k_dim50_sphere_rad0_regL01_lr001_loss-NLL_margin0.5_negfactor1_epochs1000',\n",
       " 'region_FB15k_dim50_sphere_rad0_regL0_lr001_loss-NLL_margin1_singlepass-True_negfactor1_epochs1000',\n",
       " 'region_FB15k_dim50_sphere_rad0_regL0_lr01_loss-MRL_margin0.5_singlepass-False_negfactor1_epochs1000',\n",
       " 'region_FB15k_dim50_sphere_rad0_regL1e-05_lr01_loss-MRL_margin0.5_singlepass-False_negfactor1_epochs1000',\n",
       " 'region_FB15k_dim70_ellipse_rad0_regL0_lr01_loss-MRL_margin1_singlepass-False_negfactor1_epochs1000',\n",
       " 'region_hpo',\n",
       " 'test',\n",
       " 'TransE',\n",
       " 'TransE_3margins',\n",
       " 'TransE_dim20_lr001_margin1_epochs1000',\n",
       " 'TransE_dim20_lr01_margin1_epochs1000',\n",
       " 'TransE_dim50_lr0001_scoreL1_margin1_epochs1000',\n",
       " 'TransE_dim50_lr0001_scoreL1_margin1_epochs1001',\n",
       " 'TransE_dim50_lr0001_scoreL1_margin1_epochs3',\n",
       " 'TransE_dim50_lr001_margin1_epochs1000',\n",
       " 'TransE_dim50_lr001_scoreL1_margin1_epochs1000',\n",
       " 'TransE_dim50_lr001_scoreL2_margin1_epochs1001',\n",
       " 'TransE_dim50_lr1_margin1_epochs1000',\n",
       " 'TransE_dim50_lr1_scoreL2_margin1_epochs1001',\n",
       " 'TransE_ESonMRR_dim50_lr0001_scoreL1_margin1_epochs1000',\n",
       " 'TransE_FB15k_0514_dim50_lr001_margin1_epochs1000',\n",
       " 'TransE_FB15k_dim50_lr0001_margin1_epochs1000',\n",
       " 'TransE_FB15k_dim50_lr0001_margin1_epochs1000_original',\n",
       " 'TransE_FB15k_dim50_lr0001_margin1_epochs20',\n",
       " 'TransE_FB15k_dim50_lr0005_margin1_epochs1000_original',\n",
       " 'TransE_FB15k_dim50_lr001_margin1_epochs1000',\n",
       " 'TransE_FB15k_dim50_lr001_margin1_epochs1000_bs2048',\n",
       " 'TransE_FB15k_dim50_lr001_margin1_epochs1000_original',\n",
       " 'TransE_FB15k_dim50_lr001_margin1_epochs300',\n",
       " 'TransE_FB15k_dim50_lr001_margin1_epochs500',\n",
       " 'TransE_FB15k_dim50_lr001_margin1_epochs51',\n",
       " 'TransE_FB15k_dim50_lr001_margin1_epochs51_original',\n",
       " 'TransE_FB15k_dim50_lr1_margin1_epochs1000',\n",
       " 'TransE_MRR_dim50_lr0001_scoreL1_margin1_epochs1000_batch_1024',\n",
       " 'TransE_MRR_dim50_lr0001_scoreL1_margin1_epochs1000_batch_512_original',\n",
       " 'TransE_MRR_dim50_lr0005_scoreL1_margin1_epochs1000_batch_1024',\n",
       " 'TransE_MRR_dim50_lr001_scoreL1_margin1_epochs1000_batch_1024']"
      ]
     },
     "execution_count": 18,
     "metadata": {},
     "output_type": "execute_result"
    }
   ],
   "source": [
    "model_dir = 'D:/uni/master/models/'\n",
    "models = os.listdir(model_dir)\n",
    "models"
   ]
  },
  {
   "cell_type": "code",
   "execution_count": 19,
   "metadata": {
    "ExecuteTime": {
     "end_time": "2019-06-29T01:27:40.783201Z",
     "start_time": "2019-06-29T01:27:40.528288Z"
    }
   },
   "outputs": [],
   "source": [
    "model_path = ''\n",
    "if model_path:\n",
    "    input_directory = os.path.join(model_dir, model_path)\n",
    "    results = {\n",
    "    'losses': json.load(open(os.path.join(input_directory, 'losses.json'))),\n",
    "    'validation_losses': json.load(open(os.path.join(input_directory, 'val_losses.json'))),\n",
    "    'entity_to_embedding': json.load(open(os.path.join(input_directory, 'entities_to_embeddings.json'))),\n",
    "    'relation_to_embedding': json.load(open(os.path.join(input_directory, 'relations_to_embeddings.json'))),\n",
    "    'final_configuration': json.load(open(os.path.join(input_directory, 'configuration.json'))),\n",
    "    'eval_summary': json.load(open(os.path.join(input_directory, 'evaluation_summary.json'))),\n",
    "    'entity_to_id': json.load(open(os.path.join(input_directory, 'entity_to_id.json'))),\n",
    "    'relation_to_id': json.load(open(os.path.join(input_directory, 'relation_to_id.json')))\n",
    "    }\n",
    "    # Initialize KG embedding model\n",
    "    config = results['final_configuration']\n",
    "    config['training_set_path'] = 'D:/uni/master/data/FB15K/train.tsv'\n",
    "    config['test_set_path'] = 'D:/uni/master/data/FB15K/valid.tsv'\n",
    "    relation_to_id = results['relation_to_id']\n",
    "    entity_to_id = results['entity_to_id']\n",
    "else:\n",
    "    # Initialize KG embedding model\n",
    "    input_directory = output_directory\n",
    "    config[pkc.NUM_ENTITIES] = 14951\n",
    "    config[pkc.NUM_RELATIONS] = 1345\n",
    "    config[pkc.PREFERRED_DEVICE] = 'gpu'\n",
    "    relation_to_id = json.load(open(os.path.join(input_directory, 'relation_to_id.json'),'r'))\n",
    "    entity_to_id = json.load(open(os.path.join(input_directory, 'entity_to_id.json'),'r'))"
   ]
  },
  {
   "cell_type": "markdown",
   "metadata": {},
   "source": [
    "Get evaluation results:\n",
    " * Mean rank\n",
    " * Hits@k, k $\\in$ {1,3,5,10} "
   ]
  },
  {
   "cell_type": "code",
   "execution_count": 20,
   "metadata": {
    "ExecuteTime": {
     "end_time": "2019-06-29T01:27:41.114816Z",
     "start_time": "2019-06-29T01:27:40.793994Z"
    }
   },
   "outputs": [
    {
     "data": {
      "text/plain": [
       "pykeen.kge_models.region.Region"
      ]
     },
     "execution_count": 20,
     "metadata": {},
     "output_type": "execute_result"
    }
   ],
   "source": [
    "pipeline = Pipeline(config)\n",
    "if config['random_seed'] is not None:\n",
    "    torch.manual_seed(config['random_seed'])\n",
    "pipeline.entity_label_to_id = entity_to_id\n",
    "pipeline.relation_label_to_id = relation_to_id\n",
    "    \n",
    "model: torch.nn.Module = get_kge_model(config=config)\n",
    "model.load_state_dict(torch.load(os.path.join(input_directory, 'best_model.pkl')))\n",
    "\n",
    "#results['trained_model'] = model \n",
    "type(model)"
   ]
  },
  {
   "cell_type": "code",
   "execution_count": 21,
   "metadata": {
    "ExecuteTime": {
     "end_time": "2019-06-29T01:27:41.122794Z",
     "start_time": "2019-06-29T01:27:41.116841Z"
    }
   },
   "outputs": [],
   "source": [
    "metrics = [pkc.MEAN_RANK, pkc.HITS_AT_K, pkc.TRIPLE_PREDICTION] #  [pkc.MEAN_RANK, pkc.HITS_AT_K, pkc.TRIPLE_PREDICTION]\n",
    "threshold_search = True"
   ]
  },
  {
   "cell_type": "markdown",
   "metadata": {},
   "source": [
    "#### Evaluate RelationalTriple"
   ]
  },
  {
   "cell_type": "code",
   "execution_count": 22,
   "metadata": {
    "ExecuteTime": {
     "end_time": "2019-06-29T01:34:47.093619Z",
     "start_time": "2019-06-29T01:27:41.124788Z"
    }
   },
   "outputs": [
    {
     "name": "stderr",
     "output_type": "stream",
     "text": [
      "INFO:pykeen.utilities.pipeline:-------------Start Evaluation-------------\n"
     ]
    },
    {
     "ename": "KeyboardInterrupt",
     "evalue": "",
     "output_type": "error",
     "traceback": [
      "\u001b[1;31m---------------------------------------------------------------------------\u001b[0m",
      "\u001b[1;31mKeyboardInterrupt\u001b[0m                         Traceback (most recent call last)",
      "\u001b[1;32m<ipython-input-22-e66721847711>\u001b[0m in \u001b[0;36m<module>\u001b[1;34m\u001b[0m\n\u001b[0;32m      4\u001b[0m     \u001b[0mneg_test_path\u001b[0m \u001b[1;33m=\u001b[0m \u001b[1;34m'D:/uni/master/data/FB15K/valid_neg.tsv'\u001b[0m\u001b[1;33m,\u001b[0m\u001b[1;33m\u001b[0m\u001b[1;33m\u001b[0m\u001b[0m\n\u001b[0;32m      5\u001b[0m     \u001b[0mmetrics\u001b[0m\u001b[1;33m=\u001b[0m \u001b[0mmetrics\u001b[0m\u001b[1;33m,\u001b[0m\u001b[1;33m\u001b[0m\u001b[1;33m\u001b[0m\u001b[0m\n\u001b[1;32m----> 6\u001b[1;33m     \u001b[0mthreshold_search\u001b[0m\u001b[1;33m=\u001b[0m\u001b[1;32mTrue\u001b[0m\u001b[1;33m\u001b[0m\u001b[1;33m\u001b[0m\u001b[0m\n\u001b[0m\u001b[0;32m      7\u001b[0m )\n",
      "\u001b[1;32md:\\uni\\master\\pykeen\\src\\pykeen\\utilities\\pipeline.py\u001b[0m in \u001b[0;36mevaluate\u001b[1;34m(self, trained_model, test_path, neg_test_path, metrics, threshold_search)\u001b[0m\n\u001b[0;32m    235\u001b[0m             \u001b[0mdevice\u001b[0m\u001b[1;33m=\u001b[0m\u001b[0mself\u001b[0m\u001b[1;33m.\u001b[0m\u001b[0mdevice\u001b[0m\u001b[1;33m,\u001b[0m\u001b[1;33m\u001b[0m\u001b[1;33m\u001b[0m\u001b[0m\n\u001b[0;32m    236\u001b[0m             \u001b[0mfilter_neg_triples\u001b[0m\u001b[1;33m=\u001b[0m\u001b[0mself\u001b[0m\u001b[1;33m.\u001b[0m\u001b[0mconfig\u001b[0m\u001b[1;33m[\u001b[0m\u001b[0mpkc\u001b[0m\u001b[1;33m.\u001b[0m\u001b[0mFILTER_NEG_TRIPLES\u001b[0m\u001b[1;33m]\u001b[0m\u001b[1;33m,\u001b[0m\u001b[1;33m\u001b[0m\u001b[1;33m\u001b[0m\u001b[0m\n\u001b[1;32m--> 237\u001b[1;33m             \u001b[0mthreshold_search\u001b[0m\u001b[1;33m=\u001b[0m\u001b[0mthreshold_search\u001b[0m\u001b[1;33m\u001b[0m\u001b[1;33m\u001b[0m\u001b[0m\n\u001b[0m\u001b[0;32m    238\u001b[0m         )\n\u001b[0;32m    239\u001b[0m         \u001b[0mlog\u001b[0m\u001b[1;33m.\u001b[0m\u001b[0minfo\u001b[0m\u001b[1;33m(\u001b[0m\u001b[0mstr\u001b[0m\u001b[1;33m(\u001b[0m\u001b[0mmetric_results\u001b[0m\u001b[1;33m)\u001b[0m\u001b[1;33m)\u001b[0m\u001b[1;33m\u001b[0m\u001b[1;33m\u001b[0m\u001b[0m\n",
      "\u001b[1;32md:\\uni\\master\\pykeen\\src\\pykeen\\utilities\\evaluation_utils\\metrics_computations.py\u001b[0m in \u001b[0;36mcompute_metric_results\u001b[1;34m(metrics, all_entities, kg_embedding_model, mapped_train_triples, mapped_pos_test_triples, mapped_neg_test_triples, batch_size, device, threshold_search, filter_neg_triples, ks)\u001b[0m\n\u001b[0;32m    280\u001b[0m                 \u001b[0mbatch_size\u001b[0m\u001b[1;33m=\u001b[0m\u001b[0mbatch_size\u001b[0m\u001b[1;33m,\u001b[0m\u001b[1;33m\u001b[0m\u001b[1;33m\u001b[0m\u001b[0m\n\u001b[0;32m    281\u001b[0m                 \u001b[0mdevice\u001b[0m\u001b[1;33m=\u001b[0m\u001b[0mdevice\u001b[0m\u001b[1;33m,\u001b[0m\u001b[1;33m\u001b[0m\u001b[1;33m\u001b[0m\u001b[0m\n\u001b[1;32m--> 282\u001b[1;33m                 \u001b[0mall_pos_triples_hashed\u001b[0m\u001b[1;33m=\u001b[0m\u001b[0mall_pos_triples_hashed\u001b[0m\u001b[1;33m,\u001b[0m\u001b[1;33m\u001b[0m\u001b[1;33m\u001b[0m\u001b[0m\n\u001b[0m\u001b[0;32m    283\u001b[0m             )\n\u001b[0;32m    284\u001b[0m \u001b[1;33m\u001b[0m\u001b[0m\n",
      "\u001b[1;32md:\\uni\\master\\pykeen\\src\\pykeen\\utilities\\evaluation_utils\\metrics_computations.py\u001b[0m in \u001b[0;36m_compute_rank\u001b[1;34m(kg_embedding_model, score_of_positive, corrupted_subject_based, corrupted_object_based, batch_size, device, all_pos_triples_hashed)\u001b[0m\n\u001b[0;32m    153\u001b[0m             \u001b[0mtorch\u001b[0m\u001b[1;33m.\u001b[0m\u001b[0mcat\u001b[0m\u001b[1;33m(\u001b[0m\u001b[1;33m[\u001b[0m\u001b[0mcorrupted_subject_based\u001b[0m\u001b[1;33m,\u001b[0m \u001b[0mcorrupted_object_based\u001b[0m\u001b[1;33m]\u001b[0m\u001b[1;33m,\u001b[0m \u001b[0mdim\u001b[0m\u001b[1;33m=\u001b[0m\u001b[1;36m0\u001b[0m\u001b[1;33m)\u001b[0m\u001b[1;33m,\u001b[0m\u001b[1;33m\u001b[0m\u001b[1;33m\u001b[0m\u001b[0m\n\u001b[0;32m    154\u001b[0m             batch_size)):\n\u001b[1;32m--> 155\u001b[1;33m         \u001b[0mcorrupted_scores\u001b[0m\u001b[1;33m[\u001b[0m\u001b[0mi\u001b[0m \u001b[1;33m*\u001b[0m \u001b[0mbatch_size\u001b[0m\u001b[1;33m:\u001b[0m \u001b[1;33m(\u001b[0m\u001b[0mi\u001b[0m \u001b[1;33m+\u001b[0m \u001b[1;36m1\u001b[0m\u001b[1;33m)\u001b[0m \u001b[1;33m*\u001b[0m \u001b[0mbatch_size\u001b[0m\u001b[1;33m]\u001b[0m \u001b[1;33m=\u001b[0m \u001b[0mkg_embedding_model\u001b[0m\u001b[1;33m.\u001b[0m\u001b[0mpredict\u001b[0m\u001b[1;33m(\u001b[0m\u001b[0mbatch\u001b[0m\u001b[1;33m)\u001b[0m\u001b[1;33m.\u001b[0m\u001b[0mreshape\u001b[0m\u001b[1;33m(\u001b[0m\u001b[1;33m-\u001b[0m\u001b[1;36m1\u001b[0m\u001b[1;33m,\u001b[0m\u001b[1;36m1\u001b[0m\u001b[1;33m)\u001b[0m\u001b[1;33m\u001b[0m\u001b[1;33m\u001b[0m\u001b[0m\n\u001b[0m\u001b[0;32m    156\u001b[0m \u001b[1;33m\u001b[0m\u001b[0m\n\u001b[0;32m    157\u001b[0m     \u001b[0mscores_of_corrupted_subjects\u001b[0m \u001b[1;33m=\u001b[0m \u001b[0mcorrupted_scores\u001b[0m\u001b[1;33m[\u001b[0m\u001b[1;33m:\u001b[0m\u001b[0mlen\u001b[0m\u001b[1;33m(\u001b[0m\u001b[0mcorrupted_subject_based\u001b[0m\u001b[1;33m)\u001b[0m\u001b[1;33m]\u001b[0m\u001b[1;33m\u001b[0m\u001b[1;33m\u001b[0m\u001b[0m\n",
      "\u001b[1;32md:\\uni\\master\\pykeen\\src\\pykeen\\kge_models\\region.py\u001b[0m in \u001b[0;36mpredict\u001b[1;34m(self, triples)\u001b[0m\n\u001b[0;32m    146\u001b[0m \u001b[1;33m\u001b[0m\u001b[0m\n\u001b[0;32m    147\u001b[0m     \u001b[1;32mdef\u001b[0m \u001b[0mpredict\u001b[0m\u001b[1;33m(\u001b[0m\u001b[0mself\u001b[0m\u001b[1;33m,\u001b[0m \u001b[0mtriples\u001b[0m\u001b[1;33m)\u001b[0m\u001b[1;33m:\u001b[0m\u001b[1;33m\u001b[0m\u001b[1;33m\u001b[0m\u001b[0m\n\u001b[1;32m--> 148\u001b[1;33m         \u001b[0mscores\u001b[0m \u001b[1;33m=\u001b[0m \u001b[0mself\u001b[0m\u001b[1;33m.\u001b[0m\u001b[0m_score_triples\u001b[0m\u001b[1;33m(\u001b[0m\u001b[0mtriples\u001b[0m\u001b[1;33m)\u001b[0m\u001b[1;33m\u001b[0m\u001b[1;33m\u001b[0m\u001b[0m\n\u001b[0m\u001b[0;32m    149\u001b[0m         \u001b[1;32mreturn\u001b[0m \u001b[0mscores\u001b[0m\u001b[1;33m.\u001b[0m\u001b[0mdetach\u001b[0m\u001b[1;33m(\u001b[0m\u001b[1;33m)\u001b[0m\u001b[1;33m.\u001b[0m\u001b[0mcpu\u001b[0m\u001b[1;33m(\u001b[0m\u001b[1;33m)\u001b[0m\u001b[1;33m.\u001b[0m\u001b[0mnumpy\u001b[0m\u001b[1;33m(\u001b[0m\u001b[1;33m)\u001b[0m\u001b[1;33m\u001b[0m\u001b[1;33m\u001b[0m\u001b[0m\n\u001b[0;32m    150\u001b[0m \u001b[1;33m\u001b[0m\u001b[0m\n",
      "\u001b[1;32md:\\uni\\master\\pykeen\\src\\pykeen\\kge_models\\region.py\u001b[0m in \u001b[0;36m_score_triples\u001b[1;34m(self, triples)\u001b[0m\n\u001b[0;32m    226\u001b[0m             \u001b[0mrelation_embeddings\u001b[0m\u001b[1;33m,\u001b[0m\u001b[1;33m\u001b[0m\u001b[1;33m\u001b[0m\u001b[0m\n\u001b[0;32m    227\u001b[0m             \u001b[0mtail_embeddings\u001b[0m\u001b[1;33m,\u001b[0m\u001b[1;33m\u001b[0m\u001b[1;33m\u001b[0m\u001b[0m\n\u001b[1;32m--> 228\u001b[1;33m             relation_regions)\n\u001b[0m\u001b[0;32m    229\u001b[0m         \u001b[1;32mreturn\u001b[0m \u001b[0mscores\u001b[0m\u001b[1;33m\u001b[0m\u001b[1;33m\u001b[0m\u001b[0m\n\u001b[0;32m    230\u001b[0m \u001b[1;33m\u001b[0m\u001b[0m\n",
      "\u001b[1;32md:\\uni\\master\\pykeen\\src\\pykeen\\kge_models\\region.py\u001b[0m in \u001b[0;36m_compute_scores\u001b[1;34m(self, head_embeddings, relation_embeddings, tail_embeddings, region_m)\u001b[0m\n\u001b[0;32m    245\u001b[0m         \u001b[1;32mif\u001b[0m \u001b[1;33m(\u001b[0m\u001b[0mdists\u001b[0m \u001b[1;33m==\u001b[0m \u001b[1;36m0\u001b[0m\u001b[1;33m)\u001b[0m\u001b[1;33m.\u001b[0m\u001b[0many\u001b[0m\u001b[1;33m(\u001b[0m\u001b[1;33m)\u001b[0m\u001b[1;33m:\u001b[0m\u001b[1;33m\u001b[0m\u001b[1;33m\u001b[0m\u001b[0m\n\u001b[0;32m    246\u001b[0m             \u001b[0mprint\u001b[0m\u001b[1;33m(\u001b[0m\u001b[1;34m\"zero distances in loss computation\"\u001b[0m\u001b[1;33m)\u001b[0m\u001b[1;33m\u001b[0m\u001b[1;33m\u001b[0m\u001b[0m\n\u001b[1;32m--> 247\u001b[1;33m         \u001b[0mprobs\u001b[0m \u001b[1;33m=\u001b[0m \u001b[1;36m1.0\u001b[0m \u001b[1;33m/\u001b[0m \u001b[1;33m(\u001b[0m\u001b[1;36m1\u001b[0m \u001b[1;33m+\u001b[0m \u001b[0mdists\u001b[0m \u001b[1;33m+\u001b[0m \u001b[1;36m1e-15\u001b[0m\u001b[1;33m)\u001b[0m\u001b[1;33m\u001b[0m\u001b[1;33m\u001b[0m\u001b[0m\n\u001b[0m\u001b[0;32m    248\u001b[0m         \u001b[1;31m#print(\"Dist values: \", dists[:10])\u001b[0m\u001b[1;33m\u001b[0m\u001b[1;33m\u001b[0m\u001b[1;33m\u001b[0m\u001b[0m\n\u001b[0;32m    249\u001b[0m         \u001b[1;31m#print(\"Probs values: \", probs[:10])\u001b[0m\u001b[1;33m\u001b[0m\u001b[1;33m\u001b[0m\u001b[1;33m\u001b[0m\u001b[0m\n",
      "\u001b[1;31mKeyboardInterrupt\u001b[0m: "
     ]
    }
   ],
   "source": [
    "val_results = pipeline.evaluate(\n",
    "    model, \n",
    "    'D:/uni/master/data/FB15K/valid.tsv', \n",
    "    neg_test_path = 'D:/uni/master/data/FB15K/valid_neg.tsv', \n",
    "    metrics= metrics,\n",
    "    threshold_search=True\n",
    ")"
   ]
  },
  {
   "cell_type": "code",
   "execution_count": null,
   "metadata": {
    "ExecuteTime": {
     "end_time": "2019-06-29T01:34:47.294815Z",
     "start_time": "2019-06-28T21:57:09.415Z"
    }
   },
   "outputs": [],
   "source": [
    "val_results['eval_summary']"
   ]
  },
  {
   "cell_type": "code",
   "execution_count": null,
   "metadata": {
    "ExecuteTime": {
     "end_time": "2019-06-29T01:34:47.295862Z",
     "start_time": "2019-06-28T21:57:09.418Z"
    }
   },
   "outputs": [],
   "source": [
    "model.relation_thresholds"
   ]
  },
  {
   "cell_type": "code",
   "execution_count": null,
   "metadata": {
    "ExecuteTime": {
     "end_time": "2019-06-29T01:34:47.296863Z",
     "start_time": "2019-06-28T21:57:09.420Z"
    }
   },
   "outputs": [],
   "source": [
    "test_results = pipeline.evaluate(\n",
    "    model, \n",
    "    'D:/uni/master/data/FB15K/test.tsv', \n",
    "    neg_test_path = 'D:/uni/master/data/FB15K/test_neg.tsv',\n",
    "    metrics= metrics,\n",
    "    threshold_search=False\n",
    ")"
   ]
  },
  {
   "cell_type": "code",
   "execution_count": null,
   "metadata": {
    "ExecuteTime": {
     "end_time": "2019-06-29T01:34:47.298806Z",
     "start_time": "2019-06-28T21:57:09.446Z"
    }
   },
   "outputs": [],
   "source": [
    "test_results['eval_summary']"
   ]
  },
  {
   "cell_type": "code",
   "execution_count": null,
   "metadata": {
    "ExecuteTime": {
     "end_time": "2019-06-29T01:34:47.299802Z",
     "start_time": "2019-06-28T21:57:09.448Z"
    }
   },
   "outputs": [],
   "source": [
    "json.dump(val_results['eval_summary'], open(os.path.join(output_directory, 'valid_evaluation_summary.json'),\"w\"))"
   ]
  },
  {
   "cell_type": "code",
   "execution_count": null,
   "metadata": {
    "ExecuteTime": {
     "end_time": "2019-06-29T01:34:47.300799Z",
     "start_time": "2019-06-28T21:57:09.450Z"
    }
   },
   "outputs": [],
   "source": [
    "json.dump(test_results['eval_summary'], open(os.path.join(output_directory, 'evaluation_summary.json'),\"w\"))"
   ]
  },
  {
   "cell_type": "markdown",
   "metadata": {},
   "source": [
    "## Load results"
   ]
  },
  {
   "cell_type": "code",
   "execution_count": null,
   "metadata": {
    "ExecuteTime": {
     "end_time": "2019-06-29T01:34:47.301796Z",
     "start_time": "2019-06-28T21:57:09.454Z"
    }
   },
   "outputs": [],
   "source": [
    "import numpy as np\n",
    "import matplotlib.pyplot as plt\n",
    "import json\n",
    "import os"
   ]
  },
  {
   "cell_type": "code",
   "execution_count": null,
   "metadata": {
    "ExecuteTime": {
     "end_time": "2019-06-29T01:34:47.302793Z",
     "start_time": "2019-06-28T21:57:09.456Z"
    }
   },
   "outputs": [],
   "source": [
    "%matplotlib inline"
   ]
  },
  {
   "cell_type": "code",
   "execution_count": null,
   "metadata": {
    "ExecuteTime": {
     "end_time": "2019-06-29T01:34:47.303791Z",
     "start_time": "2019-06-28T21:57:09.459Z"
    }
   },
   "outputs": [],
   "source": [
    "model_dir = 'D:/uni/master/models/'\n",
    "models = os.listdir(model_dir)\n",
    "models"
   ]
  },
  {
   "cell_type": "code",
   "execution_count": null,
   "metadata": {
    "ExecuteTime": {
     "end_time": "2019-06-29T01:34:47.328724Z",
     "start_time": "2019-06-28T21:57:09.461Z"
    }
   },
   "outputs": [],
   "source": [
    "#output_directory = 'D:/uni/master/models/region_hpo/'\n",
    "model_path = 'region_FB15k_dim50_sphere_rad0_regL0_lr01_loss-MRL_margin0.5_singlepass-False_negfactor1_epochs1000'\n",
    "input_directory = os.path.join(model_dir, model_path)\n",
    "\n",
    "\n",
    "results = {\n",
    "    'losses': json.load(open(os.path.join(input_directory, 'losses.json'))),\n",
    "    'validation_losses': json.load(open(os.path.join(input_directory, 'val_losses.json'))),\n",
    "    'entity_to_embedding': json.load(open(os.path.join(input_directory, 'entities_to_embeddings.json'))),\n",
    "    'relation_to_embedding': json.load(open(os.path.join(input_directory, 'relations_to_embeddings.json'))),\n",
    "    'final_configuration': json.load(open(os.path.join(input_directory, 'configuration.json'))),\n",
    "    'eval_summary': json.load(open(os.path.join(input_directory, 'evaluation_summary.json'))),\n",
    "    'entity_to_id': json.load(open(os.path.join(input_directory, 'entity_to_id.json'))),\n",
    "    'relation_to_id': json.load(open(os.path.join(input_directory, 'relation_to_id.json')))\n",
    "}"
   ]
  },
  {
   "cell_type": "code",
   "execution_count": null,
   "metadata": {
    "ExecuteTime": {
     "end_time": "2019-06-29T01:34:47.329722Z",
     "start_time": "2019-06-28T21:57:09.466Z"
    }
   },
   "outputs": [],
   "source": [
    "results.keys()"
   ]
  },
  {
   "cell_type": "code",
   "execution_count": null,
   "metadata": {
    "ExecuteTime": {
     "end_time": "2019-06-29T01:34:47.330720Z",
     "start_time": "2019-06-28T21:57:09.469Z"
    }
   },
   "outputs": [],
   "source": [
    "results['final_configuration']"
   ]
  },
  {
   "cell_type": "code",
   "execution_count": null,
   "metadata": {
    "ExecuteTime": {
     "end_time": "2019-06-29T01:34:47.331716Z",
     "start_time": "2019-06-28T21:57:09.471Z"
    }
   },
   "outputs": [],
   "source": [
    "losses = results['losses']\n",
    "epochs = np.arange(len(losses))\n",
    "plt.title(r'Loss Per Epoch')\n",
    "plt.xlabel('epoch')\n",
    "plt.ylabel('loss')\n",
    "plt.plot(epochs, losses)\n",
    "plt.show()"
   ]
  },
  {
   "cell_type": "code",
   "execution_count": null,
   "metadata": {
    "ExecuteTime": {
     "end_time": "2019-06-29T01:34:47.332713Z",
     "start_time": "2019-06-28T21:57:09.474Z"
    }
   },
   "outputs": [],
   "source": [
    "losses = results['validation_losses']\n",
    "epochs = np.arange(len(losses))\n",
    "plt.title(r'Loss Per Epoch')\n",
    "plt.xlabel('epoch')\n",
    "plt.ylabel('loss')\n",
    "plt.plot(epochs, losses)\n",
    "plt.show()"
   ]
  },
  {
   "cell_type": "code",
   "execution_count": null,
   "metadata": {
    "ExecuteTime": {
     "end_time": "2019-06-29T01:34:47.334737Z",
     "start_time": "2019-06-28T21:57:09.476Z"
    }
   },
   "outputs": [],
   "source": [
    "results['eval_summary']"
   ]
  },
  {
   "cell_type": "code",
   "execution_count": null,
   "metadata": {},
   "outputs": [],
   "source": []
  }
 ],
 "metadata": {
  "kernelspec": {
   "display_name": "Python 3",
   "language": "python",
   "name": "python3"
  },
  "language_info": {
   "codemirror_mode": {
    "name": "ipython",
    "version": 3
   },
   "file_extension": ".py",
   "mimetype": "text/x-python",
   "name": "python",
   "nbconvert_exporter": "python",
   "pygments_lexer": "ipython3",
   "version": "3.6.8"
  },
  "notify_time": "30",
  "toc": {
   "base_numbering": 1,
   "nav_menu": {},
   "number_sections": true,
   "sideBar": true,
   "skip_h1_title": false,
   "title_cell": "Table of Contents",
   "title_sidebar": "Contents",
   "toc_cell": false,
   "toc_position": {
    "height": "193.717px",
    "left": "10px",
    "top": "150px",
    "width": "256px"
   },
   "toc_section_display": true,
   "toc_window_display": true
  }
 },
 "nbformat": 4,
 "nbformat_minor": 2
}
