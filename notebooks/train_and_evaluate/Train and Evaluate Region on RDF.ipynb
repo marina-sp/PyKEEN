{
 "cells": [
  {
   "cell_type": "code",
   "execution_count": 63,
   "metadata": {
    "ExecuteTime": {
     "end_time": "2019-04-23T20:02:10.909493Z",
     "start_time": "2019-04-23T20:02:10.904538Z"
    }
   },
   "outputs": [],
   "source": [
    "TEST = False"
   ]
  },
  {
   "cell_type": "code",
   "execution_count": 64,
   "metadata": {
    "ExecuteTime": {
     "end_time": "2019-04-23T20:02:11.424467Z",
     "start_time": "2019-04-23T20:02:11.418395Z"
    }
   },
   "outputs": [],
   "source": [
    "train_path = [\n",
    "    'D:/uni/master/data/YAGO39K/Train/triple2id.tsv',\n",
    "    'D:/uni/master/data/YAGO39K/Train/instanceOf2id.tsv',\n",
    "    'D:/uni/master/data/YAGO39K/Train/subClassOf2id.tsv'\n",
    "]\n",
    "val_path =  [\n",
    "    'D:/uni/master/data/YAGO39K/Valid/triple2id_positive.tsv',\n",
    "    'D:/uni/master/data/YAGO39K/Valid/instanceOf2id_positive.tsv',\n",
    "    'D:/uni/master/data/YAGO39K/Valid/subClassOf2id_positive.tsv'\n",
    "]\n",
    "neg_val_path = [\n",
    "    'D:/uni/master/data/YAGO39K/Valid/triple2id_negative.tsv',\n",
    "    'D:/uni/master/data/YAGO39K/Valid/instanceOf2id_negative.tsv',\n",
    "    'D:/uni/master/data/YAGO39K/Valid/subClassOf2id_negative.tsv'\n",
    "]\n",
    "\n",
    "test_path =  [\n",
    "    'D:/uni/master/data/YAGO39K/Test/triple2id_positive.tsv',\n",
    "    'D:/uni/master/data/YAGO39K/Test/instanceOf2id_positive.tsv',\n",
    "    'D:/uni/master/data/YAGO39K/Test/subClassOf2id_positive.tsv'\n",
    "]\n",
    "\n",
    "neg_test_path = [\n",
    "    'D:/uni/master/data/YAGO39K/Test/triple2id_negative.tsv',\n",
    "    'D:/uni/master/data/YAGO39K/Test/instanceOf2id_negative.tsv',\n",
    "    'D:/uni/master/data/YAGO39K/Test/subClassOf2id_negative.tsv'\n",
    "]\n",
    "\n"
   ]
  },
  {
   "cell_type": "code",
   "execution_count": 65,
   "metadata": {
    "ExecuteTime": {
     "end_time": "2019-04-23T20:02:11.987145Z",
     "start_time": "2019-04-23T20:02:11.981161Z"
    }
   },
   "outputs": [],
   "source": [
    "if TEST:\n",
    "    output_directory = 'D:/uni/master/models/test/'\n",
    "    train_path = [\n",
    "        'D:/uni/master/data/debug/triple2id.tsv'\n",
    "    ]\n",
    "    test_path =  [\n",
    "        'D:/uni/master/data/debug/triple2id_positive_test.tsv'\n",
    "]"
   ]
  },
  {
   "cell_type": "markdown",
   "metadata": {},
   "source": [
    "Check which hyper-parameters are required by Region:"
   ]
  },
  {
   "cell_type": "code",
   "execution_count": 66,
   "metadata": {
    "ExecuteTime": {
     "end_time": "2019-04-23T20:02:16.975825Z",
     "start_time": "2019-04-23T20:02:16.969130Z"
    }
   },
   "outputs": [
    {
     "data": {
      "text/plain": [
       "['embedding_dim',\n",
       " 'margin_loss',\n",
       " 'learning_rate',\n",
       " 'normalization_of_entities',\n",
       " 'init_radius']"
      ]
     },
     "execution_count": 66,
     "metadata": {},
     "output_type": "execute_result"
    }
   ],
   "source": [
    "from pykeen.kge_models import Region\n",
    "Region.hyper_params"
   ]
  },
  {
   "cell_type": "markdown",
   "metadata": {},
   "source": [
    "Train and evaluate Region (provide test set):\n",
    "* Define the path to our test set: **test_set_path**\n",
    "* Define the path to our the negative test set: **neg_test_path** in case of triple classfication evaluation\n",
    "* Define whether you want to compute the metrics (mean rank and hits@k) in raw or in a filtered setting: **filter_negative_triples**"
   ]
  },
  {
   "cell_type": "markdown",
   "metadata": {},
   "source": [
    "{'training_set_path': 'D:/uni/master/data/YAGO39K/Train/instanceOf2id.tsv', 'test_set_path': 'D:/uni/master/data/YAGO39K/Valid/instanceOf2id_positive.tsv', 'neg_test_set_path': 'D:/uni/master/data/YAGO39K/Valid/triple2id_negative.tsv', 'execution_mode': 'HPO_mode', 'random_seed': 2, 'kg_embedding_model_name': 'Region', 'embedding_dim': 50, 'normalization_of_entities': 2, 'init_radius': 10, 'reg_lambda': 0.1, 'margin_loss': 0, 'learning_rate': 2, 'num_epochs': 30, 'batch_size': 1024, 'test_batch_size': 1024, 'filter_negative_triples': True, 'maximum_number_of_hpo_iters': 20, 'preferred_device': 'gpu', 'pykeen-version': '0.0.26-dev', 'num_entities': 46100, 'num_relations': 39}"
   ]
  },
  {
   "cell_type": "code",
   "execution_count": 67,
   "metadata": {
    "ExecuteTime": {
     "end_time": "2019-04-23T20:02:18.008517Z",
     "start_time": "2019-04-23T20:02:17.900632Z"
    }
   },
   "outputs": [],
   "source": [
    "config = dict(\n",
    "    metrics                     = ['prediction'],\n",
    "    training_set_path           = train_path,\n",
    "    test_set_path               = val_path,\n",
    "    neg_test_set_path           = neg_val_path,\n",
    "    execution_mode              = 'Training_mode',\n",
    "    random_seed                 = 2,\n",
    "    kg_embedding_model_name     = 'Region',\n",
    "    embedding_dim               = 20,\n",
    "    normalization_of_entities   = 2,\n",
    "    init_radius                 = 5,\n",
    "    reg_lambda                  = 0.02,\n",
    "    margin_loss                 = 0,\n",
    "    learning_rate               = 5,\n",
    "    num_epochs                  = 100 if not TEST else 5,  \n",
    "    batch_size                  = 1024,\n",
    "    test_batch_size             = 4096,\n",
    "    filter_negative_triples     = True,\n",
    "    preferred_device            = 'gpu'\n",
    ")"
   ]
  },
  {
   "cell_type": "code",
   "execution_count": 68,
   "metadata": {
    "ExecuteTime": {
     "end_time": "2019-04-23T20:02:19.920008Z",
     "start_time": "2019-04-23T20:02:19.913026Z"
    }
   },
   "outputs": [
    {
     "data": {
      "text/plain": [
       "'D:/uni/master/models/region_dim20_rad5_regL002_lr5/'"
      ]
     },
     "execution_count": 68,
     "metadata": {},
     "output_type": "execute_result"
    }
   ],
   "source": [
    "output_directory = 'D:/uni/master/models/region_dim{}_rad{}_regL{}_lr{}/'.format(\n",
    "    config['embedding_dim'], config['init_radius'], \n",
    "    str(config['reg_lambda']).replace('.',''), \n",
    "    str(config['learning_rate']).replace('.',''))\n",
    "output_directory"
   ]
  },
  {
   "cell_type": "code",
   "execution_count": 69,
   "metadata": {
    "ExecuteTime": {
     "end_time": "2019-04-23T20:02:24.484828Z",
     "start_time": "2019-04-23T20:02:24.479837Z"
    }
   },
   "outputs": [],
   "source": [
    "import logging\n",
    "import os\n",
    "import sys\n",
    "import time\n",
    "import pykeen"
   ]
  },
  {
   "cell_type": "code",
   "execution_count": 70,
   "metadata": {
    "ExecuteTime": {
     "end_time": "2019-04-23T20:02:25.156851Z",
     "start_time": "2019-04-23T20:02:25.151942Z"
    }
   },
   "outputs": [],
   "source": [
    "logging.basicConfig(level=logging.INFO)\n",
    "logging.getLogger('pykeen').setLevel(logging.INFO)"
   ]
  },
  {
   "cell_type": "code",
   "execution_count": 71,
   "metadata": {
    "ExecuteTime": {
     "end_time": "2019-04-23T20:02:25.529218Z",
     "start_time": "2019-04-23T20:02:25.521274Z"
    }
   },
   "outputs": [
    {
     "name": "stdout",
     "output_type": "stream",
     "text": [
      "3.6.8 |Anaconda, Inc.| (default, Feb 21 2019, 18:30:04) [MSC v.1916 64 bit (AMD64)]\n"
     ]
    }
   ],
   "source": [
    "print(sys.version)"
   ]
  },
  {
   "cell_type": "code",
   "execution_count": 72,
   "metadata": {
    "ExecuteTime": {
     "end_time": "2019-04-23T20:02:27.290188Z",
     "start_time": "2019-04-23T20:02:27.282212Z"
    }
   },
   "outputs": [
    {
     "name": "stdout",
     "output_type": "stream",
     "text": [
      "Wed Apr 24 03:02:27 2019\n"
     ]
    }
   ],
   "source": [
    "print(time.asctime())"
   ]
  },
  {
   "cell_type": "code",
   "execution_count": 73,
   "metadata": {
    "ExecuteTime": {
     "end_time": "2019-04-23T20:02:27.695837Z",
     "start_time": "2019-04-23T20:02:27.688038Z"
    }
   },
   "outputs": [
    {
     "name": "stdout",
     "output_type": "stream",
     "text": [
      "0.0.26-dev\n"
     ]
    }
   ],
   "source": [
    "print(pykeen.get_version())"
   ]
  },
  {
   "cell_type": "markdown",
   "metadata": {},
   "source": [
    "## Train and evaluate Region:"
   ]
  },
  {
   "cell_type": "code",
   "execution_count": 74,
   "metadata": {
    "ExecuteTime": {
     "end_time": "2019-04-23T20:02:28.439031Z",
     "start_time": "2019-04-23T20:02:28.434009Z"
    }
   },
   "outputs": [],
   "source": [
    "import numpy as np\n",
    "import matplotlib.pyplot as plt"
   ]
  },
  {
   "cell_type": "code",
   "execution_count": 75,
   "metadata": {
    "ExecuteTime": {
     "end_time": "2019-04-23T20:02:28.782170Z",
     "start_time": "2019-04-23T20:02:28.775139Z"
    }
   },
   "outputs": [],
   "source": [
    "%matplotlib inline"
   ]
  },
  {
   "cell_type": "code",
   "execution_count": 76,
   "metadata": {
    "ExecuteTime": {
     "end_time": "2019-04-23T20:21:00.212756Z",
     "start_time": "2019-04-23T20:02:30.902006Z"
    }
   },
   "outputs": [
    {
     "name": "stdout",
     "output_type": "stream",
     "text": [
      "{'metrics': ['prediction'], 'training_set_path': ['D:/uni/master/data/YAGO39K/Train/triple2id.tsv', 'D:/uni/master/data/YAGO39K/Train/instanceOf2id.tsv', 'D:/uni/master/data/YAGO39K/Train/subClassOf2id.tsv'], 'test_set_path': ['D:/uni/master/data/YAGO39K/Valid/triple2id_positive.tsv', 'D:/uni/master/data/YAGO39K/Valid/instanceOf2id_positive.tsv', 'D:/uni/master/data/YAGO39K/Valid/subClassOf2id_positive.tsv'], 'neg_test_set_path': ['D:/uni/master/data/YAGO39K/Valid/triple2id_negative.tsv', 'D:/uni/master/data/YAGO39K/Valid/instanceOf2id_negative.tsv', 'D:/uni/master/data/YAGO39K/Valid/subClassOf2id_negative.tsv'], 'execution_mode': 'Training_mode', 'random_seed': 2, 'kg_embedding_model_name': 'Region', 'embedding_dim': 20, 'normalization_of_entities': 2, 'init_radius': 5, 'reg_lambda': 0.02, 'margin_loss': 0, 'learning_rate': 5, 'num_epochs': 100, 'batch_size': 1024, 'test_batch_size': 4096, 'filter_negative_triples': True, 'preferred_device': 'gpu', 'pykeen-version': '0.0.26-dev', 'num_entities': 46100, 'num_relations': 39}\n"
     ]
    },
    {
     "name": "stderr",
     "output_type": "stream",
     "text": [
      "INFO:pykeen.utilities.pipeline:-------------Train KG Embeddings-------------\n",
      "Training epoch:  30%|████████████                            | 30/100 [17:12<41:02, 35.18s/it]INFO:pykeen.utilities.pipeline:-------------Start Evaluation-------------\n",
      "\n",
      "  0%|                                                                   | 0/8 [00:00<?, ?it/s]\n",
      " 12%|███████▍                                                   | 1/8 [00:00<00:00,  8.57it/s]\n",
      "100%|███████████████████████████████████████████████████████████| 8/8 [00:00<00:00, 40.93it/s]"
     ]
    },
    {
     "name": "stdout",
     "output_type": "stream",
     "text": [
      "[[0.76028103]\n",
      " [0.52667874]\n",
      " [0.70157737]\n",
      " ...\n",
      " [0.65605623]\n",
      " [0.64354295]\n",
      " [0.81983089]] [[1]\n",
      " [1]\n",
      " [1]\n",
      " ...\n",
      " [1]\n",
      " [1]\n",
      " [1]]\n"
     ]
    },
    {
     "name": "stderr",
     "output_type": "stream",
     "text": [
      "INFO:pykeen.utilities.evaluation_utils.metrics_computations:Evaluation took 0.26s seconds\n"
     ]
    }
   ],
   "source": [
    "results = pykeen.run(\n",
    "    config=config,\n",
    "    output_directory=output_directory,\n",
    ")"
   ]
  },
  {
   "cell_type": "markdown",
   "metadata": {},
   "source": [
    "Check result entries:"
   ]
  },
  {
   "cell_type": "code",
   "execution_count": 77,
   "metadata": {
    "ExecuteTime": {
     "end_time": "2019-04-23T20:21:00.220488Z",
     "start_time": "2019-04-23T20:21:00.215499Z"
    }
   },
   "outputs": [
    {
     "data": {
      "text/plain": [
       "odict_keys(['trained_model', 'losses', 'validation_losses', 'entity_to_embedding', 'relation_to_embedding', 'eval_summary', 'entity_to_id', 'relation_to_id', 'final_configuration'])"
      ]
     },
     "execution_count": 77,
     "metadata": {},
     "output_type": "execute_result"
    }
   ],
   "source": [
    "results.results.keys()"
   ]
  },
  {
   "cell_type": "markdown",
   "metadata": {},
   "source": [
    "Visualize loss values:"
   ]
  },
  {
   "cell_type": "code",
   "execution_count": 78,
   "metadata": {
    "ExecuteTime": {
     "end_time": "2019-04-23T20:21:00.435912Z",
     "start_time": "2019-04-23T20:21:00.221485Z"
    }
   },
   "outputs": [
    {
     "data": {
      "image/png": "[encoded data removed]",
      "text/plain": [
       "<Figure size 432x288 with 1 Axes>"
      ]
     },
     "metadata": {
      "needs_background": "light"
     },
     "output_type": "display_data"
    }
   ],
   "source": [
    "losses = results.results['losses']\n",
    "epochs = np.arange(len(losses))\n",
    "plt.title(r'Loss Per Epoch')\n",
    "plt.xlabel('epoch')\n",
    "plt.ylabel('loss')\n",
    "plt.plot(epochs, losses)\n",
    "plt.show()"
   ]
  },
  {
   "cell_type": "code",
   "execution_count": 79,
   "metadata": {
    "ExecuteTime": {
     "end_time": "2019-04-23T20:21:00.635411Z",
     "start_time": "2019-04-23T20:21:00.438903Z"
    }
   },
   "outputs": [
    {
     "data": {
      "image/png": "[encoded data removed]",
      "text/plain": [
       "<Figure size 432x288 with 1 Axes>"
      ]
     },
     "metadata": {
      "needs_background": "light"
     },
     "output_type": "display_data"
    }
   ],
   "source": [
    "losses = results.results['validation_losses']\n",
    "epochs = np.arange(len(losses))\n",
    "plt.title(r'Loss Per Epoch')\n",
    "plt.xlabel('epoch')\n",
    "plt.ylabel('loss')\n",
    "plt.plot(epochs, losses)\n",
    "plt.show()"
   ]
  },
  {
   "cell_type": "code",
   "execution_count": 80,
   "metadata": {
    "ExecuteTime": {
     "end_time": "2019-04-23T20:22:00.421650Z",
     "start_time": "2019-04-23T20:22:00.416688Z"
    }
   },
   "outputs": [
    {
     "data": {
      "text/plain": [
       "{'mean_rank': None,\n",
       " 'hits@k': None,\n",
       " 'precision': 0.5860606060606061,\n",
       " 'recall': 0.7564044064924059,\n",
       " 'accuracy': 0.6107577388524643,\n",
       " 'f1_score': 0.6604251444182009}"
      ]
     },
     "execution_count": 80,
     "metadata": {},
     "output_type": "execute_result"
    }
   ],
   "source": [
    "results.results['eval_summary']"
   ]
  },
  {
   "cell_type": "markdown",
   "metadata": {},
   "source": [
    "## Load and evaluate"
   ]
  },
  {
   "cell_type": "code",
   "execution_count": 21,
   "metadata": {
    "ExecuteTime": {
     "end_time": "2019-04-23T13:12:21.798748Z",
     "start_time": "2019-04-23T13:12:21.199180Z"
    }
   },
   "outputs": [],
   "source": [
    "import torch\n",
    "import json\n",
    "import pykeen.constants as pkc\n",
    "from pykeen.kge_models import get_kge_model\n",
    "from pykeen.utilities.pipeline import Pipeline"
   ]
  },
  {
   "cell_type": "code",
   "execution_count": 30,
   "metadata": {
    "ExecuteTime": {
     "end_time": "2019-04-23T13:18:39.737774Z",
     "start_time": "2019-04-23T13:18:39.634065Z"
    }
   },
   "outputs": [],
   "source": [
    "#input_directory = 'D:/uni/master/models/region_hpo/'\n",
    "#input_directory = 'D:/uni/master/models/region_dim50_rad10_regL01_lr2/'\n",
    "input_directory = output_directory"
   ]
  },
  {
   "cell_type": "code",
   "execution_count": 31,
   "metadata": {
    "ExecuteTime": {
     "end_time": "2019-04-23T13:18:42.684371Z",
     "start_time": "2019-04-23T13:18:40.148834Z"
    }
   },
   "outputs": [],
   "source": [
    "results = {\n",
    "    'losses': json.load(open(os.path.join(input_directory, 'losses.json'))),\n",
    "    'validation_losses': json.load(open(os.path.join(input_directory, 'val_losses.json'))),\n",
    "    'entity_to_embedding': json.load(open(os.path.join(input_directory, 'entities_to_embeddings.json'))),\n",
    "    'relation_to_embedding': json.load(open(os.path.join(input_directory, 'relations_to_embeddings.json'))),\n",
    "    'final_configuration': json.load(open(os.path.join(input_directory, 'configuration.json'))),\n",
    "    'eval_summary': json.load(open(os.path.join(input_directory, 'evaluation_summary.json'))),\n",
    "    'entity_to_id': json.load(open(os.path.join(input_directory, 'entity_to_id.json'))),\n",
    "    'relation_to_id': json.load(open(os.path.join(input_directory, 'relation_to_id.json')))\n",
    "}"
   ]
  },
  {
   "cell_type": "code",
   "execution_count": 32,
   "metadata": {
    "ExecuteTime": {
     "end_time": "2019-04-23T13:18:49.388692Z",
     "start_time": "2019-04-23T13:18:42.686300Z"
    }
   },
   "outputs": [
    {
     "data": {
      "text/plain": [
       "pykeen.kge_models.region.Region"
      ]
     },
     "execution_count": 32,
     "metadata": {},
     "output_type": "execute_result"
    }
   ],
   "source": [
    "# Initialize KG embedding model\n",
    "config = results['final_configuration']\n",
    "config['training_set_path'] = train_path\n",
    "config['test_set_path'] = val_path\n",
    "config['neg_test_path'] = neg_val_path\n",
    "\n",
    "pipeline = Pipeline(config)\n",
    "if config['random_seed'] is not None:\n",
    "    torch.manual_seed(config['random_seed'])\n",
    "    \n",
    "model: torch.nn.Module = get_kge_model(config=config)\n",
    "model.load_state_dict(torch.load(os.path.join(input_directory, 'trained_model.pkl')))\n",
    "\n",
    "results['trained_model'] = model \n",
    "type(model)"
   ]
  },
  {
   "cell_type": "markdown",
   "metadata": {},
   "source": [
    "Get evaluation results:\n",
    " * Mean rank\n",
    " * Hits@k, k $\\in$ {1,3,5,10} "
   ]
  },
  {
   "cell_type": "code",
   "execution_count": 37,
   "metadata": {
    "ExecuteTime": {
     "end_time": "2019-04-23T17:55:17.194396Z",
     "start_time": "2019-04-23T13:20:44.117304Z"
    }
   },
   "outputs": [
    {
     "name": "stderr",
     "output_type": "stream",
     "text": [
      "INFO:pykeen.utilities.pipeline:-------------Start Evaluation-------------\n",
      "100%|█████████████████████████████████████████████████| 15341/15341 [4:34:23<00:00,  1.50s/it]\n",
      "100%|███████████████████████████████████████████████████████████| 8/8 [00:00<00:00, 53.11it/s]\n"
     ]
    },
    {
     "name": "stdout",
     "output_type": "stream",
     "text": [
      "[[0.89772409]\n",
      " [0.57648963]\n",
      " [0.89053357]\n",
      " ...\n",
      " [0.06901444]\n",
      " [0.04157575]\n",
      " [0.0432661 ]] [[1]\n",
      " [1]\n",
      " [1]\n",
      " ...\n",
      " [0]\n",
      " [0]\n",
      " [0]]\n"
     ]
    },
    {
     "name": "stderr",
     "output_type": "stream",
     "text": [
      "INFO:pykeen.utilities.evaluation_utils.metrics_computations:Evaluation took 16466.44s seconds\n"
     ]
    }
   ],
   "source": [
    "test_results = pipeline.evaluate(\n",
    "    results['trained_model'], \n",
    "    val_path, \n",
    "    neg_val_path,\n",
    "    metrics=[pkc.MEAN_RANK, pkc.HITS_AT_K, pkc.TRIPLE_PREDICTION]  # [pkc.MEAN_RANK, pkc.HITS_AT_K, pkc.TRIPLE_PREDICTION]\n",
    ")"
   ]
  },
  {
   "cell_type": "code",
   "execution_count": 38,
   "metadata": {
    "ExecuteTime": {
     "end_time": "2019-04-23T17:55:17.259504Z",
     "start_time": "2019-04-23T17:55:17.208381Z"
    }
   },
   "outputs": [
    {
     "data": {
      "text/plain": [
       "{'mean_rank': 0.04254038127338024,\n",
       " 'hits@k': {1: 0.020402842057232255,\n",
       "  3: 0.03995828172870087,\n",
       "  5: 0.054429307085587644,\n",
       "  10: 0.08210025422071573},\n",
       " 'precision': 0.6682993415770033,\n",
       " 'recall': 0.5425330812854442,\n",
       " 'accuracy': 0.6363310173859151,\n",
       " 'f1_score': 0.5988846914912753}"
      ]
     },
     "execution_count": 38,
     "metadata": {},
     "output_type": "execute_result"
    }
   ],
   "source": [
    "test_results['eval_summary']"
   ]
  },
  {
   "cell_type": "markdown",
   "metadata": {
    "ExecuteTime": {
     "end_time": "2019-04-23T18:27:17.835211Z",
     "start_time": "2019-04-23T18:27:17.827232Z"
    }
   },
   "source": [
    "\n",
    "json.dump(test_results['eval_summary'], open(os.path.join(output_directory, 'evaluation_summary.json'),\"w\"))"
   ]
  },
  {
   "cell_type": "markdown",
   "metadata": {},
   "source": [
    "## Load results"
   ]
  },
  {
   "cell_type": "code",
   "execution_count": 55,
   "metadata": {
    "ExecuteTime": {
     "end_time": "2019-04-23T18:27:18.903255Z",
     "start_time": "2019-04-23T18:27:18.899325Z"
    }
   },
   "outputs": [],
   "source": [
    "import numpy as np\n",
    "import matplotlib.pyplot as plt\n",
    "import json"
   ]
  },
  {
   "cell_type": "code",
   "execution_count": 56,
   "metadata": {
    "ExecuteTime": {
     "end_time": "2019-04-23T20:02:28.782170Z",
     "start_time": "2019-04-23T20:02:28.775139Z"
    }
   },
   "outputs": [],
   "source": [
    "%matplotlib inline"
   ]
  },
  {
   "cell_type": "code",
   "execution_count": 57,
   "metadata": {
    "ExecuteTime": {
     "end_time": "2019-04-23T18:27:23.165757Z",
     "start_time": "2019-04-23T18:27:19.626916Z"
    }
   },
   "outputs": [],
   "source": [
    "#output_directory = 'D:/uni/master/models/region_hpo/'\n",
    "\n",
    "results = {\n",
    "    'losses': json.load(open(os.path.join(output_directory, 'losses.json'))),\n",
    "    'validation_losses': json.load(open(os.path.join(output_directory, 'val_losses.json'))),\n",
    "    'entity_to_embedding': json.load(open(os.path.join(output_directory, 'entities_to_embeddings.json'))),\n",
    "    'relation_to_embedding': json.load(open(os.path.join(output_directory, 'relations_to_embeddings.json'))),\n",
    "    'final_configuration': json.load(open(os.path.join(output_directory, 'configuration.json'))),\n",
    "    'eval_summary': json.load(open(os.path.join(output_directory, 'evaluation_summary.json'))),\n",
    "    'entity_to_id': json.load(open(os.path.join(output_directory, 'entity_to_id.json'))),\n",
    "    'relation_to_id': json.load(open(os.path.join(output_directory, 'relation_to_id.json')))\n",
    "}"
   ]
  },
  {
   "cell_type": "code",
   "execution_count": 58,
   "metadata": {
    "ExecuteTime": {
     "end_time": "2019-04-23T18:27:23.177572Z",
     "start_time": "2019-04-23T18:27:23.170590Z"
    }
   },
   "outputs": [
    {
     "data": {
      "text/plain": [
       "dict_keys(['losses', 'validation_losses', 'entity_to_embedding', 'relation_to_embedding', 'final_configuration', 'eval_summary', 'entity_to_id', 'relation_to_id'])"
      ]
     },
     "execution_count": 58,
     "metadata": {},
     "output_type": "execute_result"
    }
   ],
   "source": [
    "results.keys()"
   ]
  },
  {
   "cell_type": "code",
   "execution_count": 59,
   "metadata": {
    "ExecuteTime": {
     "end_time": "2019-04-23T18:27:23.195687Z",
     "start_time": "2019-04-23T18:27:23.181559Z"
    }
   },
   "outputs": [
    {
     "data": {
      "text/plain": [
       "{'metrics': ['prediction'],\n",
       " 'training_set_path': ['D:/uni/master/data/YAGO39K/Train/triple2id.tsv',\n",
       "  'D:/uni/master/data/YAGO39K/Train/instanceOf2id.tsv',\n",
       "  'D:/uni/master/data/YAGO39K/Train/subClassOf2id.tsv'],\n",
       " 'test_set_path': ['D:/uni/master/data/YAGO39K/Test/triple2id_positive.tsv',\n",
       "  'D:/uni/master/data/YAGO39K/Test/instanceOf2id_positive.tsv',\n",
       "  'D:/uni/master/data/YAGO39K/Test/subClassOf2id_positive.tsv'],\n",
       " 'neg_test_path': ['D:/uni/master/data/YAGO39K/Test/triple2id_negative.tsv',\n",
       "  'D:/uni/master/data/YAGO39K/Test/instanceOf2id_negative.tsv',\n",
       "  'D:/uni/master/data/YAGO39K/Test/subClassOf2id_negative.tsv'],\n",
       " 'execution_mode': 'Training_mode',\n",
       " 'random_seed': 2,\n",
       " 'kg_embedding_model_name': 'Region',\n",
       " 'embedding_dim': 50,\n",
       " 'normalization_of_entities': 2,\n",
       " 'init_radius': 10,\n",
       " 'reg_lambda': 0.1,\n",
       " 'margin_loss': 0,\n",
       " 'learning_rate': 2,\n",
       " 'num_epochs': 100,\n",
       " 'batch_size': 1024,\n",
       " 'test_batch_size': 4096,\n",
       " 'filter_negative_triples': True,\n",
       " 'preferred_device': 'gpu',\n",
       " 'pykeen-version': '0.0.26-dev',\n",
       " 'num_entities': 46093,\n",
       " 'num_relations': 39}"
      ]
     },
     "execution_count": 59,
     "metadata": {},
     "output_type": "execute_result"
    }
   ],
   "source": [
    "results['final_configuration']"
   ]
  },
  {
   "cell_type": "code",
   "execution_count": 60,
   "metadata": {
    "ExecuteTime": {
     "end_time": "2019-04-23T18:27:23.713713Z",
     "start_time": "2019-04-23T18:27:23.200508Z"
    }
   },
   "outputs": [
    {
     "data": {
      "image/png": "[encoded data removed]",
      "text/plain": [
       "<Figure size 432x288 with 1 Axes>"
      ]
     },
     "metadata": {
      "needs_background": "light"
     },
     "output_type": "display_data"
    }
   ],
   "source": [
    "losses = results['losses']\n",
    "epochs = np.arange(len(losses))\n",
    "plt.title(r'Loss Per Epoch')\n",
    "plt.xlabel('epoch')\n",
    "plt.ylabel('loss')\n",
    "plt.plot(epochs, losses)\n",
    "plt.show()"
   ]
  },
  {
   "cell_type": "code",
   "execution_count": 61,
   "metadata": {
    "ExecuteTime": {
     "end_time": "2019-04-23T18:27:24.367932Z",
     "start_time": "2019-04-23T18:27:23.722910Z"
    }
   },
   "outputs": [
    {
     "data": {
      "image/png": "[encoded data removed]",
      "text/plain": [
       "<Figure size 432x288 with 1 Axes>"
      ]
     },
     "metadata": {
      "needs_background": "light"
     },
     "output_type": "display_data"
    }
   ],
   "source": [
    "losses = results['validation_losses']\n",
    "epochs = np.arange(len(losses))\n",
    "plt.title(r'Loss Per Epoch')\n",
    "plt.xlabel('epoch')\n",
    "plt.ylabel('loss')\n",
    "plt.plot(epochs, losses)\n",
    "plt.show()"
   ]
  },
  {
   "cell_type": "code",
   "execution_count": 62,
   "metadata": {
    "ExecuteTime": {
     "end_time": "2019-04-23T18:27:24.386196Z",
     "start_time": "2019-04-23T18:27:24.372918Z"
    }
   },
   "outputs": [
    {
     "data": {
      "text/plain": [
       "{'mean_rank': 0.04254038127338024,\n",
       " 'hits@k': {'1': 0.020402842057232255,\n",
       "  '3': 0.03995828172870087,\n",
       "  '5': 0.054429307085587644,\n",
       "  '10': 0.08210025422071573},\n",
       " 'precision': 0.6682993415770033,\n",
       " 'recall': 0.5425330812854442,\n",
       " 'accuracy': 0.6363310173859151,\n",
       " 'f1_score': 0.5988846914912753}"
      ]
     },
     "execution_count": 62,
     "metadata": {},
     "output_type": "execute_result"
    }
   ],
   "source": [
    "results['eval_summary']"
   ]
  },
  {
   "cell_type": "code",
   "execution_count": null,
   "metadata": {},
   "outputs": [],
   "source": []
  },
  {
   "cell_type": "code",
   "execution_count": null,
   "metadata": {},
   "outputs": [],
   "source": []
  },
  {
   "cell_type": "code",
   "execution_count": null,
   "metadata": {},
   "outputs": [],
   "source": []
  },
  {
   "cell_type": "markdown",
   "metadata": {},
   "source": [
    "    config = dict(\n",
    "        training_set_path           = train_path,\n",
    "        test_set_path               = test_path,\n",
    "        execution_mode              = 'Training_mode',\n",
    "        random_seed                 = 2,\n",
    "        kg_embedding_model_name     = 'Region',\n",
    "        embedding_dim               = 100,\n",
    "        scoring_function            = 1,  # corresponds to L1 \n",
    "        normalization_of_entities   = 2,  # corresponds to L2\n",
    "        init_radius                 = 1,\n",
    "        reg_lambda                  = 2,\n",
    "        margin_loss                 = 0,\n",
    "        learning_rate               = 0.1,\n",
    "        num_epochs                  = 100,  \n",
    "        batch_size                  = 1024,\n",
    "        filter_negative_triples     = True,\n",
    "        preferred_device            = 'gpu'\n",
    "    )"
   ]
  },
  {
   "cell_type": "code",
   "execution_count": null,
   "metadata": {
    "ExecuteTime": {
     "end_time": "2019-04-23T08:10:20.351132Z",
     "start_time": "2019-04-23T08:10:20.192Z"
    }
   },
   "outputs": [],
   "source": [
    "losses = losses[:30]\n",
    "epochs = np.arange(len(losses))\n",
    "plt.title(r'Loss Per Epoch')\n",
    "plt.xlabel('epoch')\n",
    "plt.ylabel('loss')\n",
    "plt.plot(epochs, losses)\n",
    "plt.show()"
   ]
  },
  {
   "cell_type": "code",
   "execution_count": null,
   "metadata": {
    "ExecuteTime": {
     "end_time": "2019-04-23T08:10:20.353935Z",
     "start_time": "2019-04-23T08:10:20.195Z"
    }
   },
   "outputs": [],
   "source": [
    "results.results['eval_summary']"
   ]
  },
  {
   "cell_type": "code",
   "execution_count": null,
   "metadata": {},
   "outputs": [],
   "source": []
  }
 ],
 "metadata": {
  "kernelspec": {
   "display_name": "Python 3",
   "language": "python",
   "name": "python3"
  },
  "language_info": {
   "codemirror_mode": {
    "name": "ipython",
    "version": 3
   },
   "file_extension": ".py",
   "mimetype": "text/x-python",
   "name": "python",
   "nbconvert_exporter": "python",
   "pygments_lexer": "ipython3",
   "version": "3.6.8"
  },
  "notify_time": "30",
  "toc": {
   "base_numbering": 1,
   "nav_menu": {},
   "number_sections": true,
   "sideBar": false,
   "skip_h1_title": false,
   "title_cell": "Table of Contents",
   "title_sidebar": "Contents",
   "toc_cell": false,
   "toc_position": {},
   "toc_section_display": false,
   "toc_window_display": true
  }
 },
 "nbformat": 4,
 "nbformat_minor": 2
}
