{
 "cells": [
  {
   "cell_type": "code",
   "execution_count": 1,
   "metadata": {
    "ExecuteTime": {
     "end_time": "2019-04-15T01:34:05.614916Z",
     "start_time": "2019-04-15T01:34:04.413249Z"
    }
   },
   "outputs": [],
   "source": [
    "import logging\n",
    "import os\n",
    "import sys\n",
    "import time\n",
    "\n",
    "import numpy as np\n",
    "import matplotlib.pyplot as plt\n",
    "import pykeen\n",
    "from pykeen.kge_models import Region"
   ]
  },
  {
   "cell_type": "code",
   "execution_count": 2,
   "metadata": {
    "ExecuteTime": {
     "end_time": "2019-04-15T01:34:05.623591Z",
     "start_time": "2019-04-15T01:34:05.616609Z"
    }
   },
   "outputs": [],
   "source": [
    "%matplotlib inline"
   ]
  },
  {
   "cell_type": "code",
   "execution_count": 3,
   "metadata": {
    "ExecuteTime": {
     "end_time": "2019-04-15T01:34:05.635823Z",
     "start_time": "2019-04-15T01:34:05.624589Z"
    }
   },
   "outputs": [],
   "source": [
    "logging.basicConfig(level=logging.INFO)\n",
    "logging.getLogger('pykeen').setLevel(logging.INFO)"
   ]
  },
  {
   "cell_type": "code",
   "execution_count": 4,
   "metadata": {
    "ExecuteTime": {
     "end_time": "2019-04-15T01:34:05.651516Z",
     "start_time": "2019-04-15T01:34:05.638559Z"
    }
   },
   "outputs": [
    {
     "name": "stdout",
     "output_type": "stream",
     "text": [
      "3.6.8 |Anaconda, Inc.| (default, Feb 21 2019, 18:30:04) [MSC v.1916 64 bit (AMD64)]\n"
     ]
    }
   ],
   "source": [
    "print(sys.version)"
   ]
  },
  {
   "cell_type": "code",
   "execution_count": 5,
   "metadata": {
    "ExecuteTime": {
     "end_time": "2019-04-15T01:34:05.669469Z",
     "start_time": "2019-04-15T01:34:05.654509Z"
    }
   },
   "outputs": [
    {
     "name": "stdout",
     "output_type": "stream",
     "text": [
      "Mon Apr 15 08:34:05 2019\n"
     ]
    }
   ],
   "source": [
    "print(time.asctime())"
   ]
  },
  {
   "cell_type": "code",
   "execution_count": 6,
   "metadata": {
    "ExecuteTime": {
     "end_time": "2019-04-15T01:34:05.681448Z",
     "start_time": "2019-04-15T01:34:05.671469Z"
    }
   },
   "outputs": [
    {
     "name": "stdout",
     "output_type": "stream",
     "text": [
      "0.0.26-dev\n"
     ]
    }
   ],
   "source": [
    "print(pykeen.get_version())"
   ]
  },
  {
   "cell_type": "markdown",
   "metadata": {},
   "source": [
    "Check which hyper-parameters are required by TransE:"
   ]
  },
  {
   "cell_type": "code",
   "execution_count": 7,
   "metadata": {
    "ExecuteTime": {
     "end_time": "2019-04-15T01:34:05.702390Z",
     "start_time": "2019-04-15T01:34:05.687425Z"
    }
   },
   "outputs": [
    {
     "data": {
      "text/plain": [
       "['embedding_dim',\n",
       " 'margin_loss',\n",
       " 'learning_rate',\n",
       " 'scoring_function',\n",
       " 'normalization_of_entities',\n",
       " 'init_radius']"
      ]
     },
     "execution_count": 7,
     "metadata": {},
     "output_type": "execute_result"
    }
   ],
   "source": [
    "Region.hyper_params"
   ]
  },
  {
   "cell_type": "markdown",
   "metadata": {},
   "source": [
    "Define output directory:"
   ]
  },
  {
   "cell_type": "code",
   "execution_count": 8,
   "metadata": {
    "ExecuteTime": {
     "end_time": "2019-04-15T01:34:05.723326Z",
     "start_time": "2019-04-15T01:34:05.709375Z"
    }
   },
   "outputs": [],
   "source": [
    "output_directory = 'D:/uni/master/models/region_100epochs/'"
   ]
  },
  {
   "cell_type": "code",
   "execution_count": 9,
   "metadata": {
    "ExecuteTime": {
     "end_time": "2019-04-15T01:34:05.740316Z",
     "start_time": "2019-04-15T01:34:05.726318Z"
    }
   },
   "outputs": [],
   "source": [
    "train_path = [\n",
    "    'D:/uni/master/data/YAGO39K/Train/triple2id.tsv',\n",
    "    'D:/uni/master/data/YAGO39K/Train/instanceOf2id.tsv',\n",
    "    'D:/uni/master/data/YAGO39K/Train/subClassOf2id.tsv'\n",
    "]\n",
    "test_path =  [\n",
    "    'D:/uni/master/data/YAGO39K/Test/triple2id_positive.tsv',\n",
    "    'D:/uni/master/data/YAGO39K/Test/instanceOf2id_positive.tsv',\n",
    "    'D:/uni/master/data/YAGO39K/Test/subClassOf2id_positive.tsv'\n",
    "]"
   ]
  },
  {
   "cell_type": "markdown",
   "metadata": {},
   "source": [
    "Define hyper-parameters inclduing the evaluation information:\n",
    " * If no test set is available define the ration of the training set that should be used as test set: **test_set_ratio**\n",
    " * Define whether you want to compute the metrics (mean rank and hits@k) in raw or in a filtered setting: **filter_negative_triples**"
   ]
  },
  {
   "cell_type": "markdown",
   "metadata": {},
   "source": [
    "Train and evaluate TransE (provide test set):\n",
    "* Define the path to our test set: **test_set_path**\n",
    "* Define whether you want to compute the metrics (mean rank and hits@k) in raw or in a filtered setting: **filter_negative_triples**"
   ]
  },
  {
   "cell_type": "code",
   "execution_count": 10,
   "metadata": {
    "ExecuteTime": {
     "end_time": "2019-04-15T01:34:05.763220Z",
     "start_time": "2019-04-15T01:34:05.742274Z"
    }
   },
   "outputs": [],
   "source": [
    "config = dict(\n",
    "    training_set_path           = train_path,\n",
    "    test_set_path               = test_path,\n",
    "    execution_mode              = 'Training_mode',\n",
    "    random_seed                 = 2,\n",
    "    kg_embedding_model_name     = 'Region',\n",
    "    embedding_dim               = 100,\n",
    "    scoring_function            = 1,  # corresponds to L1 \n",
    "    normalization_of_entities   = 2,  # corresponds to L2\n",
    "    init_radius                 = 1,\n",
    "    reg_lambda                  = 1,\n",
    "    margin_loss                 = 0,\n",
    "    learning_rate               = 0.1,\n",
    "    num_epochs                  = 300,  \n",
    "    batch_size                  = 1024,\n",
    "    test_batch_size             = 10000,\n",
    "    filter_negative_triples     = True,\n",
    "    preferred_device            = 'gpu'\n",
    ")"
   ]
  },
  {
   "cell_type": "markdown",
   "metadata": {},
   "source": [
    "Train and evaluate TransE:"
   ]
  },
  {
   "cell_type": "code",
   "execution_count": 11,
   "metadata": {
    "ExecuteTime": {
     "end_time": "2019-04-15T09:19:48.367734Z",
     "start_time": "2019-04-15T01:34:05.768216Z"
    }
   },
   "outputs": [
    {
     "name": "stdout",
     "output_type": "stream",
     "text": [
      "{'training_set_path': ['D:/uni/master/data/YAGO39K/Train/triple2id.tsv', 'D:/uni/master/data/YAGO39K/Train/instanceOf2id.tsv', 'D:/uni/master/data/YAGO39K/Train/subClassOf2id.tsv'], 'test_set_path': ['D:/uni/master/data/YAGO39K/Test/triple2id_positive.tsv', 'D:/uni/master/data/YAGO39K/Test/instanceOf2id_positive.tsv', 'D:/uni/master/data/YAGO39K/Test/subClassOf2id_positive.tsv'], 'execution_mode': 'Training_mode', 'random_seed': 2, 'kg_embedding_model_name': 'Region', 'embedding_dim': 100, 'scoring_function': 1, 'normalization_of_entities': 2, 'init_radius': 1, 'reg_lambda': 1, 'margin_loss': 0, 'learning_rate': 0.1, 'num_epochs': 300, 'batch_size': 1024, 'test_batch_size': 10000, 'filter_negative_triples': True, 'preferred_device': 'gpu', 'pykeen-version': '0.0.26-dev', 'num_entities': 46093, 'num_relations': 39}\n"
     ]
    },
    {
     "name": "stderr",
     "output_type": "stream",
     "text": [
      "INFO:pykeen.utilities.pipeline:-------------Train KG Embeddings-------------\n",
      "Training epoch: 100%|█████████████████████████████████████| 300/300 [3:26:56<00:00, 41.39s/it]\n",
      "INFO:pykeen.utilities.pipeline:-------------Start Evaluation-------------\n",
      "100%|█████████████████████████████████████████████████| 15364/15364 [4:18:10<00:00,  1.02s/it]\n",
      "INFO:pykeen.utilities.evaluation_utils.metrics_computations:Evaluation took 15495.13s seconds\n"
     ]
    }
   ],
   "source": [
    "results = pykeen.run(\n",
    "    config=config,\n",
    "    output_directory=output_directory,\n",
    ")"
   ]
  },
  {
   "cell_type": "markdown",
   "metadata": {},
   "source": [
    "Check result entries:"
   ]
  },
  {
   "cell_type": "code",
   "execution_count": 12,
   "metadata": {
    "ExecuteTime": {
     "end_time": "2019-04-15T09:19:48.374685Z",
     "start_time": "2019-04-15T09:19:48.369697Z"
    }
   },
   "outputs": [
    {
     "data": {
      "text/plain": [
       "odict_keys(['trained_model', 'losses', 'entity_to_embedding', 'relation_to_embedding', 'eval_summary', 'entity_to_id', 'relation_to_id', 'final_configuration'])"
      ]
     },
     "execution_count": 12,
     "metadata": {},
     "output_type": "execute_result"
    }
   ],
   "source": [
    "results.results.keys()"
   ]
  },
  {
   "cell_type": "markdown",
   "metadata": {},
   "source": [
    "Visualize loss values:"
   ]
  },
  {
   "cell_type": "code",
   "execution_count": 13,
   "metadata": {
    "ExecuteTime": {
     "end_time": "2019-04-15T09:19:48.646595Z",
     "start_time": "2019-04-15T09:19:48.375682Z"
    }
   },
   "outputs": [
    {
     "data": {
      "image/png": "[encoded data removed]",
      "text/plain": [
       "<Figure size 432x288 with 1 Axes>"
      ]
     },
     "metadata": {
      "needs_background": "light"
     },
     "output_type": "display_data"
    }
   ],
   "source": [
    "losses = results.results['losses']\n",
    "epochs = np.arange(len(losses))\n",
    "plt.title(r'Loss Per Epoch')\n",
    "plt.xlabel('epoch')\n",
    "plt.ylabel('loss')\n",
    "plt.plot(epochs, losses)\n",
    "plt.show()"
   ]
  },
  {
   "cell_type": "markdown",
   "metadata": {},
   "source": [
    "Get evaluation results:\n",
    " * Mean rank\n",
    " * Hits@k, k $\\in$ {1,3,5,10} "
   ]
  },
  {
   "cell_type": "code",
   "execution_count": 14,
   "metadata": {
    "ExecuteTime": {
     "end_time": "2019-04-15T09:19:48.651583Z",
     "start_time": "2019-04-15T09:19:48.647560Z"
    }
   },
   "outputs": [
    {
     "data": {
      "text/plain": [
       "{'mean_rank': 0.28826892050317704, 'hits@k': {1: 1.0, 3: 1.0, 5: 1.0, 10: 1.0}}"
      ]
     },
     "execution_count": 14,
     "metadata": {},
     "output_type": "execute_result"
    }
   ],
   "source": [
    "results.results['eval_summary']"
   ]
  },
  {
   "cell_type": "markdown",
   "metadata": {},
   "source": [
    "Load and evaluate"
   ]
  },
  {
   "cell_type": "code",
   "execution_count": null,
   "metadata": {
    "ExecuteTime": {
     "end_time": "2019-04-15T18:26:41.131189Z",
     "start_time": "2019-04-15T18:26:23.017Z"
    }
   },
   "outputs": [],
   "source": [
    "import json\n",
    "import pykeen\n",
    "import torch\n",
    "import pickle as pkl"
   ]
  },
  {
   "cell_type": "code",
   "execution_count": 3,
   "metadata": {
    "ExecuteTime": {
     "end_time": "2019-04-15T12:44:49.438852Z",
     "start_time": "2019-04-15T12:44:49.421609Z"
    }
   },
   "outputs": [],
   "source": [
    "results = json.load(open('D:/uni/master/models/region_100epochs/evaluation_summary.json'))"
   ]
  },
  {
   "cell_type": "code",
   "execution_count": 5,
   "metadata": {
    "ExecuteTime": {
     "end_time": "2019-04-15T12:45:13.936742Z",
     "start_time": "2019-04-15T12:45:13.917152Z"
    }
   },
   "outputs": [
    {
     "data": {
      "text/plain": [
       "1.0"
      ]
     },
     "execution_count": 5,
     "metadata": {},
     "output_type": "execute_result"
    }
   ],
   "source": [
    "results['hits@k']['1']"
   ]
  },
  {
   "cell_type": "code",
   "execution_count": null,
   "metadata": {},
   "outputs": [],
   "source": [
    "model = pkl"
   ]
  },
  {
   "cell_type": "markdown",
   "metadata": {},
   "source": [
    "## Results:"
   ]
  },
  {
   "cell_type": "markdown",
   "metadata": {},
   "source": [
    "    config = dict(\n",
    "        training_set_path           = train_path,\n",
    "        test_set_path               = test_path,\n",
    "        execution_mode              = 'Training_mode',\n",
    "        random_seed                 = 2,\n",
    "        kg_embedding_model_name     = 'Region',\n",
    "        embedding_dim               = 100,\n",
    "        scoring_function            = 1,  # corresponds to L1 \n",
    "        normalization_of_entities   = 2,  # corresponds to L2\n",
    "        init_radius                 = 1,\n",
    "        reg_lambda                  = 2,\n",
    "        margin_loss                 = 0,\n",
    "        learning_rate               = 0.1,\n",
    "        num_epochs                  = 100,  \n",
    "        batch_size                  = 1024,\n",
    "        filter_negative_triples     = True,\n",
    "        preferred_device            = 'gpu'\n",
    "    )"
   ]
  },
  {
   "cell_type": "code",
   "execution_count": 21,
   "metadata": {
    "ExecuteTime": {
     "end_time": "2019-04-14T22:27:39.408263Z",
     "start_time": "2019-04-14T22:27:39.180001Z"
    }
   },
   "outputs": [
    {
     "data": {
      "image/png": "[encoded data removed]",
      "text/plain": [
       "<Figure size 432x288 with 1 Axes>"
      ]
     },
     "metadata": {
      "needs_background": "light"
     },
     "output_type": "display_data"
    }
   ],
   "source": [
    "losses = results.results['losses']\n",
    "epochs = np.arange(len(losses))\n",
    "plt.title(r'Loss Per Epoch')\n",
    "plt.xlabel('epoch')\n",
    "plt.ylabel('loss')\n",
    "plt.plot(epochs, losses)\n",
    "plt.show()"
   ]
  },
  {
   "cell_type": "code",
   "execution_count": 22,
   "metadata": {
    "ExecuteTime": {
     "end_time": "2019-04-14T22:27:54.633849Z",
     "start_time": "2019-04-14T22:27:54.628822Z"
    }
   },
   "outputs": [
    {
     "data": {
      "text/plain": [
       "{'mean_rank': 12258.63, 'hits@k': {1: 0.01, 3: 0.02, 5: 0.02, 10: 0.02}}"
      ]
     },
     "execution_count": 22,
     "metadata": {},
     "output_type": "execute_result"
    }
   ],
   "source": [
    "results.results['eval_summary']"
   ]
  },
  {
   "cell_type": "code",
   "execution_count": null,
   "metadata": {},
   "outputs": [],
   "source": []
  }
 ],
 "metadata": {
  "kernelspec": {
   "display_name": "Python 3",
   "language": "python",
   "name": "python3"
  },
  "language_info": {
   "codemirror_mode": {
    "name": "ipython",
    "version": 3
   },
   "file_extension": ".py",
   "mimetype": "text/x-python",
   "name": "python",
   "nbconvert_exporter": "python",
   "pygments_lexer": "ipython3",
   "version": "3.6.8"
  },
  "notify_time": "30",
  "toc": {
   "base_numbering": 1.0,
   "nav_menu": {},
   "number_sections": true,
   "sideBar": false,
   "skip_h1_title": false,
   "title_cell": "Table of Contents",
   "title_sidebar": "Contents",
   "toc_cell": false,
   "toc_position": {},
   "toc_section_display": true,
   "toc_window_display": false
  }
 },
 "nbformat": 4,
 "nbformat_minor": 2
}
