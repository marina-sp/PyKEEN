{
 "cells": [
  {
   "cell_type": "code",
   "execution_count": 1,
   "metadata": {
    "ExecuteTime": {
     "end_time": "2019-06-25T21:01:21.795610Z",
     "start_time": "2019-06-25T21:01:21.791621Z"
    }
   },
   "outputs": [],
   "source": [
    "TEST = False"
   ]
  },
  {
   "cell_type": "markdown",
   "metadata": {},
   "source": [
    "Check which hyper-parameters are required by TransE:"
   ]
  },
  {
   "cell_type": "code",
   "execution_count": 2,
   "metadata": {
    "ExecuteTime": {
     "end_time": "2019-06-25T21:01:34.836839Z",
     "start_time": "2019-06-25T21:01:22.718001Z"
    }
   },
   "outputs": [
    {
     "data": {
      "text/plain": [
       "['embedding_dim',\n",
       " 'margin_loss',\n",
       " 'learning_rate',\n",
       " 'corrupt_relations',\n",
       " 'scoring_function',\n",
       " 'normalization_of_entities']"
      ]
     },
     "execution_count": 2,
     "metadata": {},
     "output_type": "execute_result"
    }
   ],
   "source": [
    "from pykeen.kge_models import TransE\n",
    "TransE.hyper_params"
   ]
  },
  {
   "cell_type": "markdown",
   "metadata": {},
   "source": [
    "Train and evaluate Region (provide test set):\n",
    "* Define the path to our test set: **test_set_path**\n",
    "* Define the path to our the negative test set: **neg_test_path** in case of triple classfication evaluation\n",
    "* Define whether you want to compute the metrics (mean rank and hits@k) in raw or in a filtered setting: **filter_negative_triples**"
   ]
  },
  {
   "cell_type": "code",
   "execution_count": 14,
   "metadata": {
    "ExecuteTime": {
     "end_time": "2019-06-25T21:04:19.728775Z",
     "start_time": "2019-06-25T21:04:19.723788Z"
    }
   },
   "outputs": [],
   "source": [
    "config = dict(\n",
    "    metrics                     = [],    \n",
    "    training_set_path           = 'D:/uni/master/data/FB15K/train.tsv',\n",
    "    test_set_path               = 'D:/uni/master/data/FB15K/valid_150.tsv',\n",
    "    mapping_path                = 'D:/uni/master/data/fb15k/',\n",
    "    \n",
    "    execution_mode              = 'Training_mode',\n",
    "    random_seed                 = 2,\n",
    "    kg_embedding_model_name     = 'TransE',\n",
    "    embedding_dim               = 50,\n",
    "    scoring_function            = 1,  # corresponds to L1\n",
    "    normalization_of_entities   = 2,  # corresponds to L2\n",
    "    margin_loss                 = 1,\n",
    "    es_metric                   = 'custom',\n",
    "    \n",
    "    learning_rate               = 0.01,\n",
    "    num_epochs                  = 1000,  \n",
    "    batch_size                  = 2048,\n",
    "    test_batch_size             = 6000,\n",
    "    filter_negative_triples     = False,\n",
    "    corrupt_relations           = False,\n",
    "    neg_factor                  = 2,\n",
    "    preferred_device            = 'gpu'\n",
    ")"
   ]
  },
  {
   "cell_type": "code",
   "execution_count": 18,
   "metadata": {
    "ExecuteTime": {
     "end_time": "2019-06-25T21:04:40.663108Z",
     "start_time": "2019-06-25T21:04:40.657125Z"
    }
   },
   "outputs": [
    {
     "data": {
      "text/plain": [
       "'D:/uni/master/models/TransE_FB15k_dim50_lr001_margin1_epochs1000_bs2048/'"
      ]
     },
     "execution_count": 18,
     "metadata": {},
     "output_type": "execute_result"
    }
   ],
   "source": [
    "output_directory = 'D:/uni/master/models/TransE_FB15k_dim{}_lr{}_margin{}_epochs{}_bs{}/'.format(\n",
    "    config['embedding_dim'],\n",
    "    str(config['learning_rate']).replace('.',''),\n",
    "    config['margin_loss'],\n",
    "    config['num_epochs'],\n",
    "    config['batch_size']\n",
    ")\n",
    "output_directory"
   ]
  },
  {
   "cell_type": "code",
   "execution_count": 19,
   "metadata": {
    "ExecuteTime": {
     "end_time": "2019-06-25T21:04:41.518080Z",
     "start_time": "2019-06-25T21:04:41.515088Z"
    }
   },
   "outputs": [],
   "source": [
    "if TEST:\n",
    "    output_directory = 'D:/uni/master/models/test/'"
   ]
  },
  {
   "cell_type": "code",
   "execution_count": 20,
   "metadata": {
    "ExecuteTime": {
     "end_time": "2019-06-25T21:04:41.798726Z",
     "start_time": "2019-06-25T21:04:41.794748Z"
    }
   },
   "outputs": [],
   "source": [
    "import logging\n",
    "import os\n",
    "import sys\n",
    "import time\n",
    "import pykeen"
   ]
  },
  {
   "cell_type": "code",
   "execution_count": 21,
   "metadata": {
    "ExecuteTime": {
     "end_time": "2019-06-25T21:04:42.049088Z",
     "start_time": "2019-06-25T21:04:42.045067Z"
    }
   },
   "outputs": [],
   "source": [
    "logging.basicConfig(level=logging.DEBUG)\n",
    "logging.getLogger('pykeen').setLevel(logging.DEBUG)"
   ]
  },
  {
   "cell_type": "code",
   "execution_count": 22,
   "metadata": {
    "ExecuteTime": {
     "end_time": "2019-06-25T21:04:42.347403Z",
     "start_time": "2019-06-25T21:04:42.342416Z"
    }
   },
   "outputs": [
    {
     "name": "stdout",
     "output_type": "stream",
     "text": [
      "3.6.8 |Anaconda, Inc.| (default, Feb 21 2019, 18:30:04) [MSC v.1916 64 bit (AMD64)]\n"
     ]
    }
   ],
   "source": [
    "print(sys.version)"
   ]
  },
  {
   "cell_type": "code",
   "execution_count": 23,
   "metadata": {
    "ExecuteTime": {
     "end_time": "2019-06-25T21:04:42.613691Z",
     "start_time": "2019-06-25T21:04:42.609709Z"
    },
    "scrolled": true
   },
   "outputs": [
    {
     "name": "stdout",
     "output_type": "stream",
     "text": [
      "Tue Jun 25 23:04:42 2019\n"
     ]
    }
   ],
   "source": [
    "print(time.asctime())"
   ]
  },
  {
   "cell_type": "code",
   "execution_count": 24,
   "metadata": {
    "ExecuteTime": {
     "end_time": "2019-06-25T21:04:43.057536Z",
     "start_time": "2019-06-25T21:04:43.053552Z"
    }
   },
   "outputs": [
    {
     "name": "stdout",
     "output_type": "stream",
     "text": [
      "0.0.26-dev\n"
     ]
    }
   ],
   "source": [
    "print(pykeen.get_version())"
   ]
  },
  {
   "cell_type": "markdown",
   "metadata": {},
   "source": [
    "## Train and evaluate TransE:"
   ]
  },
  {
   "cell_type": "code",
   "execution_count": 25,
   "metadata": {
    "ExecuteTime": {
     "end_time": "2019-06-25T21:04:43.780575Z",
     "start_time": "2019-06-25T21:04:43.777552Z"
    },
    "scrolled": true
   },
   "outputs": [],
   "source": [
    "import numpy as np\n",
    "import matplotlib.pyplot as plt"
   ]
  },
  {
   "cell_type": "code",
   "execution_count": 26,
   "metadata": {
    "ExecuteTime": {
     "end_time": "2019-06-25T21:04:44.077774Z",
     "start_time": "2019-06-25T21:04:44.071756Z"
    }
   },
   "outputs": [
    {
     "name": "stderr",
     "output_type": "stream",
     "text": [
      "DEBUG:matplotlib.pyplot:Loaded backend module://ipykernel.pylab.backend_inline version unknown.\n"
     ]
    }
   ],
   "source": [
    "%matplotlib inline"
   ]
  },
  {
   "cell_type": "code",
   "execution_count": 27,
   "metadata": {
    "ExecuteTime": {
     "end_time": "2019-06-25T21:47:23.899930Z",
     "start_time": "2019-06-25T21:04:44.400382Z"
    }
   },
   "outputs": [
    {
     "name": "stderr",
     "output_type": "stream",
     "text": [
      "DEBUG:pykeen.utilities.pipeline:Reading the label mappings...\n"
     ]
    },
    {
     "name": "stdout",
     "output_type": "stream",
     "text": [
      "{'metrics': [], 'training_set_path': 'D:/uni/master/data/FB15K/train.tsv', 'test_set_path': 'D:/uni/master/data/FB15K/valid_150.tsv', 'mapping_path': 'D:/uni/master/data/fb15k/', 'execution_mode': 'Training_mode', 'random_seed': 2, 'kg_embedding_model_name': 'TransE', 'embedding_dim': 50, 'scoring_function': 1, 'normalization_of_entities': 2, 'margin_loss': 1, 'es_metric': 'custom', 'learning_rate': 0.01, 'num_epochs': 1000, 'batch_size': 2048, 'test_batch_size': 6000, 'filter_negative_triples': False, 'corrupt_relations': False, 'neg_factor': 2, 'preferred_device': 'gpu', 'pykeen-version': '0.0.26-dev', 'num_entities': 14951, 'num_relations': 1345}\n"
     ]
    },
    {
     "name": "stderr",
     "output_type": "stream",
     "text": [
      "INFO:pykeen.utilities.pipeline:-------------Train KG Embeddings-------------\n",
      "DEBUG:pykeen.utilities.train_utils:****running model on cuda:0****\n",
      "INFO:pykeen.utilities.evaluation_utils.metrics_computations:Evaluation took 3.28s seconds\n"
     ]
    },
    {
     "name": "stdout",
     "output_type": "stream",
     "text": [
      "0.11556521349182504 (0.08844668783163596, 0.16666666666666666)\n"
     ]
    },
    {
     "name": "stderr",
     "output_type": "stream",
     "text": [
      "DEBUG:pykeen.utilities.train_utils:Saving the following model to disk:\n",
      "INFO:pykeen.utilities.train_utils:Epoch   0 / 1000 (4.9s):  loss: 0.415  val loss: 0.173  value: 0.116  patience:   1\n",
      "INFO:pykeen.utilities.train_utils:Epoch   1 / 1000 (4.5s):  loss: 0.113  val loss: 0.097  value: 0.116  patience:   2\n",
      "INFO:pykeen.utilities.train_utils:Epoch   2 / 1000 (4.5s):  loss: 0.080  val loss: 0.049  value: 0.116  patience:   3\n",
      "INFO:pykeen.utilities.train_utils:Epoch   3 / 1000 (4.5s):  loss: 0.068  val loss: 0.065  value: 0.116  patience:   4\n",
      "INFO:pykeen.utilities.train_utils:Epoch   4 / 1000 (4.4s):  loss: 0.061  val loss: 0.063  value: 0.116  patience:   5\n",
      "INFO:pykeen.utilities.train_utils:Epoch   5 / 1000 (4.5s):  loss: 0.056  val loss: 0.052  value: 0.116  patience:   6\n",
      "INFO:pykeen.utilities.train_utils:Epoch   6 / 1000 (4.5s):  loss: 0.053  val loss: 0.049  value: 0.116  patience:   7\n",
      "INFO:pykeen.utilities.train_utils:Epoch   7 / 1000 (4.5s):  loss: 0.051  val loss: 0.034  value: 0.116  patience:   8\n",
      "INFO:pykeen.utilities.train_utils:Epoch   8 / 1000 (4.5s):  loss: 0.048  val loss: 0.035  value: 0.116  patience:   9\n",
      "INFO:pykeen.utilities.train_utils:Epoch   9 / 1000 (4.5s):  loss: 0.047  val loss: 0.038  value: 0.116  patience:  10\n",
      "INFO:pykeen.utilities.evaluation_utils.metrics_computations:Evaluation took 3.26s seconds\n"
     ]
    },
    {
     "name": "stdout",
     "output_type": "stream",
     "text": [
      "0.15167109904169954 (0.11572770429281277, 0.22)\n"
     ]
    },
    {
     "name": "stderr",
     "output_type": "stream",
     "text": [
      "DEBUG:pykeen.utilities.train_utils:Saving the following model to disk:\n",
      "INFO:pykeen.utilities.train_utils:Epoch  10 / 1000 (4.6s):  loss: 0.045  val loss: 0.052  value: 0.152  patience:   1\n",
      "INFO:pykeen.utilities.train_utils:Epoch  11 / 1000 (4.5s):  loss: 0.044  val loss: 0.048  value: 0.152  patience:   2\n",
      "INFO:pykeen.utilities.train_utils:Epoch  12 / 1000 (4.5s):  loss: 0.043  val loss: 0.025  value: 0.152  patience:   3\n",
      "INFO:pykeen.utilities.train_utils:Epoch  13 / 1000 (4.5s):  loss: 0.042  val loss: 0.054  value: 0.152  patience:   4\n",
      "INFO:pykeen.utilities.train_utils:Epoch  14 / 1000 (4.5s):  loss: 0.041  val loss: 0.050  value: 0.152  patience:   5\n",
      "INFO:pykeen.utilities.train_utils:Epoch  15 / 1000 (4.7s):  loss: 0.040  val loss: 0.050  value: 0.152  patience:   6\n",
      "INFO:pykeen.utilities.train_utils:Epoch  16 / 1000 (4.5s):  loss: 0.039  val loss: 0.034  value: 0.152  patience:   7\n",
      "INFO:pykeen.utilities.train_utils:Epoch  17 / 1000 (4.5s):  loss: 0.039  val loss: 0.032  value: 0.152  patience:   8\n",
      "INFO:pykeen.utilities.train_utils:Epoch  18 / 1000 (4.5s):  loss: 0.038  val loss: 0.036  value: 0.152  patience:   9\n",
      "INFO:pykeen.utilities.train_utils:Epoch  19 / 1000 (4.5s):  loss: 0.037  val loss: 0.033  value: 0.152  patience:  10\n",
      "INFO:pykeen.utilities.evaluation_utils.metrics_computations:Evaluation took 3.37s seconds\n"
     ]
    },
    {
     "name": "stdout",
     "output_type": "stream",
     "text": [
      "0.16108436617211822 (0.12493613471764711, 0.22666666666666666)\n"
     ]
    },
    {
     "name": "stderr",
     "output_type": "stream",
     "text": [
      "DEBUG:pykeen.utilities.train_utils:Saving the following model to disk:\n",
      "INFO:pykeen.utilities.train_utils:Epoch  20 / 1000 (4.5s):  loss: 0.037  val loss: 0.045  value: 0.161  patience:   1\n",
      "INFO:pykeen.utilities.train_utils:Epoch  21 / 1000 (4.5s):  loss: 0.037  val loss: 0.048  value: 0.161  patience:   2\n",
      "INFO:pykeen.utilities.train_utils:Epoch  22 / 1000 (4.5s):  loss: 0.036  val loss: 0.033  value: 0.161  patience:   3\n",
      "INFO:pykeen.utilities.train_utils:Epoch  23 / 1000 (4.5s):  loss: 0.036  val loss: 0.028  value: 0.161  patience:   4\n",
      "INFO:pykeen.utilities.train_utils:Epoch  24 / 1000 (4.5s):  loss: 0.035  val loss: 0.049  value: 0.161  patience:   5\n",
      "INFO:pykeen.utilities.train_utils:Epoch  25 / 1000 (4.5s):  loss: 0.034  val loss: 0.033  value: 0.161  patience:   6\n",
      "INFO:pykeen.utilities.train_utils:Epoch  26 / 1000 (4.5s):  loss: 0.034  val loss: 0.030  value: 0.161  patience:   7\n",
      "INFO:pykeen.utilities.train_utils:Epoch  27 / 1000 (4.6s):  loss: 0.034  val loss: 0.039  value: 0.161  patience:   8\n",
      "INFO:pykeen.utilities.train_utils:Epoch  28 / 1000 (4.5s):  loss: 0.034  val loss: 0.039  value: 0.161  patience:   9\n",
      "INFO:pykeen.utilities.train_utils:Epoch  29 / 1000 (4.5s):  loss: 0.033  val loss: 0.043  value: 0.161  patience:  10\n",
      "INFO:pykeen.utilities.evaluation_utils.metrics_computations:Evaluation took 3.24s seconds\n"
     ]
    },
    {
     "name": "stdout",
     "output_type": "stream",
     "text": [
      "0.1798274644051839 (0.1374453721362105, 0.26)\n"
     ]
    },
    {
     "name": "stderr",
     "output_type": "stream",
     "text": [
      "DEBUG:pykeen.utilities.train_utils:Saving the following model to disk:\n",
      "INFO:pykeen.utilities.train_utils:Epoch  30 / 1000 (4.5s):  loss: 0.033  val loss: 0.054  value: 0.180  patience:   1\n",
      "INFO:pykeen.utilities.train_utils:Epoch  31 / 1000 (4.5s):  loss: 0.033  val loss: 0.064  value: 0.180  patience:   2\n",
      "INFO:pykeen.utilities.train_utils:Epoch  32 / 1000 (4.5s):  loss: 0.032  val loss: 0.069  value: 0.180  patience:   3\n"
     ]
    },
    {
     "name": "stdout",
     "output_type": "stream",
     "text": [
      "Epoch    33: reducing learning rate of group 0 to 1.0000e-03.\n"
     ]
    },
    {
     "name": "stderr",
     "output_type": "stream",
     "text": [
      "INFO:pykeen.utilities.train_utils:Epoch  33 / 1000 (4.5s):  loss: 0.032  val loss: 0.061  value: 0.180  patience:   4\n",
      "INFO:pykeen.utilities.train_utils:Epoch  34 / 1000 (4.5s):  loss: 0.029  val loss: 0.062  value: 0.180  patience:   5\n",
      "INFO:pykeen.utilities.train_utils:Epoch  35 / 1000 (4.5s):  loss: 0.028  val loss: 0.059  value: 0.180  patience:   6\n",
      "INFO:pykeen.utilities.train_utils:Epoch  36 / 1000 (4.5s):  loss: 0.027  val loss: 0.058  value: 0.180  patience:   7\n",
      "INFO:pykeen.utilities.train_utils:Epoch  37 / 1000 (4.5s):  loss: 0.026  val loss: 0.058  value: 0.180  patience:   8\n",
      "INFO:pykeen.utilities.train_utils:Epoch  38 / 1000 (4.5s):  loss: 0.026  val loss: 0.056  value: 0.180  patience:   9\n",
      "INFO:pykeen.utilities.train_utils:Epoch  39 / 1000 (4.5s):  loss: 0.025  val loss: 0.054  value: 0.180  patience:  10\n",
      "INFO:pykeen.utilities.evaluation_utils.metrics_computations:Evaluation took 3.21s seconds\n"
     ]
    },
    {
     "name": "stdout",
     "output_type": "stream",
     "text": [
      "0.19215933059380197 (0.1462715165593866, 0.28)\n"
     ]
    },
    {
     "name": "stderr",
     "output_type": "stream",
     "text": [
      "DEBUG:pykeen.utilities.train_utils:Saving the following model to disk:\n",
      "INFO:pykeen.utilities.train_utils:Epoch  40 / 1000 (4.5s):  loss: 0.025  val loss: 0.058  value: 0.192  patience:   1\n",
      "INFO:pykeen.utilities.train_utils:Epoch  41 / 1000 (4.5s):  loss: 0.025  val loss: 0.048  value: 0.192  patience:   2\n",
      "INFO:pykeen.utilities.train_utils:Epoch  42 / 1000 (4.5s):  loss: 0.025  val loss: 0.046  value: 0.192  patience:   3\n",
      "INFO:pykeen.utilities.train_utils:Epoch  43 / 1000 (4.4s):  loss: 0.024  val loss: 0.048  value: 0.192  patience:   4\n",
      "INFO:pykeen.utilities.train_utils:Epoch  44 / 1000 (4.4s):  loss: 0.023  val loss: 0.047  value: 0.192  patience:   5\n",
      "INFO:pykeen.utilities.train_utils:Epoch  45 / 1000 (4.4s):  loss: 0.024  val loss: 0.045  value: 0.192  patience:   6\n",
      "INFO:pykeen.utilities.train_utils:Epoch  46 / 1000 (4.5s):  loss: 0.023  val loss: 0.044  value: 0.192  patience:   7\n",
      "INFO:pykeen.utilities.train_utils:Epoch  47 / 1000 (4.5s):  loss: 0.023  val loss: 0.044  value: 0.192  patience:   8\n",
      "INFO:pykeen.utilities.train_utils:Epoch  48 / 1000 (4.4s):  loss: 0.023  val loss: 0.040  value: 0.192  patience:   9\n",
      "INFO:pykeen.utilities.train_utils:Epoch  49 / 1000 (4.4s):  loss: 0.023  val loss: 0.043  value: 0.192  patience:  10\n",
      "INFO:pykeen.utilities.evaluation_utils.metrics_computations:Evaluation took 3.27s seconds\n"
     ]
    },
    {
     "name": "stdout",
     "output_type": "stream",
     "text": [
      "0.20078492577620055 (0.15354776862254757, 0.29)\n"
     ]
    },
    {
     "name": "stderr",
     "output_type": "stream",
     "text": [
      "DEBUG:pykeen.utilities.train_utils:Saving the following model to disk:\n",
      "INFO:pykeen.utilities.train_utils:Epoch  50 / 1000 (4.5s):  loss: 0.023  val loss: 0.042  value: 0.201  patience:   1\n",
      "INFO:pykeen.utilities.train_utils:Epoch  51 / 1000 (4.5s):  loss: 0.023  val loss: 0.041  value: 0.201  patience:   2\n",
      "INFO:pykeen.utilities.train_utils:Epoch  52 / 1000 (4.5s):  loss: 0.022  val loss: 0.039  value: 0.201  patience:   3\n",
      "INFO:pykeen.utilities.train_utils:Epoch  53 / 1000 (4.5s):  loss: 0.023  val loss: 0.036  value: 0.201  patience:   4\n"
     ]
    },
    {
     "name": "stdout",
     "output_type": "stream",
     "text": [
      "Epoch    54: reducing learning rate of group 0 to 1.0000e-04.\n"
     ]
    },
    {
     "name": "stderr",
     "output_type": "stream",
     "text": [
      "INFO:pykeen.utilities.train_utils:Epoch  54 / 1000 (4.5s):  loss: 0.022  val loss: 0.035  value: 0.201  patience:   5\n",
      "INFO:pykeen.utilities.train_utils:Epoch  55 / 1000 (4.5s):  loss: 0.022  val loss: 0.036  value: 0.201  patience:   6\n",
      "INFO:pykeen.utilities.train_utils:Epoch  56 / 1000 (4.5s):  loss: 0.022  val loss: 0.035  value: 0.201  patience:   7\n",
      "INFO:pykeen.utilities.train_utils:Epoch  57 / 1000 (4.5s):  loss: 0.022  val loss: 0.036  value: 0.201  patience:   8\n",
      "INFO:pykeen.utilities.train_utils:Epoch  58 / 1000 (4.5s):  loss: 0.022  val loss: 0.036  value: 0.201  patience:   9\n",
      "INFO:pykeen.utilities.train_utils:Epoch  59 / 1000 (4.5s):  loss: 0.022  val loss: 0.036  value: 0.201  patience:  10\n",
      "INFO:pykeen.utilities.evaluation_utils.metrics_computations:Evaluation took 3.41s seconds\n"
     ]
    },
    {
     "name": "stdout",
     "output_type": "stream",
     "text": [
      "0.20074580782832185 (0.15258422967917482, 0.29333333333333333)\n"
     ]
    },
    {
     "name": "stderr",
     "output_type": "stream",
     "text": [
      "INFO:pykeen.utilities.train_utils:Epoch  60 / 1000 (4.5s):  loss: 0.022  val loss: 0.036  value: 0.201  patience:  11\n",
      "INFO:pykeen.utilities.train_utils:Epoch  61 / 1000 (4.4s):  loss: 0.022  val loss: 0.036  value: 0.201  patience:  12\n",
      "INFO:pykeen.utilities.train_utils:Epoch  62 / 1000 (4.5s):  loss: 0.022  val loss: 0.036  value: 0.201  patience:  13\n",
      "INFO:pykeen.utilities.train_utils:Epoch  63 / 1000 (4.5s):  loss: 0.022  val loss: 0.036  value: 0.201  patience:  14\n",
      "INFO:pykeen.utilities.train_utils:Epoch  64 / 1000 (4.4s):  loss: 0.022  val loss: 0.037  value: 0.201  patience:  15\n",
      "INFO:pykeen.utilities.train_utils:Epoch  65 / 1000 (4.5s):  loss: 0.022  val loss: 0.037  value: 0.201  patience:  16\n",
      "INFO:pykeen.utilities.train_utils:Epoch  66 / 1000 (4.5s):  loss: 0.022  val loss: 0.037  value: 0.201  patience:  17\n",
      "INFO:pykeen.utilities.train_utils:Epoch  67 / 1000 (4.5s):  loss: 0.022  val loss: 0.038  value: 0.201  patience:  18\n",
      "INFO:pykeen.utilities.train_utils:Epoch  68 / 1000 (4.5s):  loss: 0.022  val loss: 0.037  value: 0.201  patience:  19\n",
      "INFO:pykeen.utilities.train_utils:Epoch  69 / 1000 (4.4s):  loss: 0.022  val loss: 0.037  value: 0.201  patience:  20\n",
      "INFO:pykeen.utilities.evaluation_utils.metrics_computations:Evaluation took 3.45s seconds\n"
     ]
    },
    {
     "name": "stdout",
     "output_type": "stream",
     "text": [
      "0.19827714120640536 (0.1497499055489584, 0.29333333333333333)\n"
     ]
    },
    {
     "name": "stderr",
     "output_type": "stream",
     "text": [
      "INFO:pykeen.utilities.train_utils:Epoch  70 / 1000 (4.4s):  loss: 0.022  val loss: 0.037  value: 0.198  patience:  21\n",
      "INFO:pykeen.utilities.train_utils:Epoch  71 / 1000 (4.5s):  loss: 0.022  val loss: 0.037  value: 0.198  patience:  22\n",
      "INFO:pykeen.utilities.train_utils:Epoch  72 / 1000 (4.4s):  loss: 0.022  val loss: 0.037  value: 0.198  patience:  23\n",
      "INFO:pykeen.utilities.train_utils:Epoch  73 / 1000 (4.4s):  loss: 0.022  val loss: 0.037  value: 0.198  patience:  24\n",
      "INFO:pykeen.utilities.train_utils:Epoch  74 / 1000 (4.5s):  loss: 0.022  val loss: 0.038  value: 0.198  patience:  25\n",
      "INFO:pykeen.utilities.train_utils:Epoch  75 / 1000 (4.5s):  loss: 0.022  val loss: 0.038  value: 0.198  patience:  26\n",
      "INFO:pykeen.utilities.train_utils:Epoch  76 / 1000 (4.5s):  loss: 0.021  val loss: 0.037  value: 0.198  patience:  27\n",
      "INFO:pykeen.utilities.train_utils:Epoch  77 / 1000 (4.5s):  loss: 0.021  val loss: 0.037  value: 0.198  patience:  28\n",
      "INFO:pykeen.utilities.train_utils:Epoch  78 / 1000 (4.4s):  loss: 0.022  val loss: 0.037  value: 0.198  patience:  29\n",
      "INFO:pykeen.utilities.train_utils:Epoch  79 / 1000 (4.5s):  loss: 0.021  val loss: 0.037  value: 0.198  patience:  30\n",
      "INFO:pykeen.utilities.evaluation_utils.metrics_computations:Evaluation took 3.34s seconds\n"
     ]
    },
    {
     "name": "stdout",
     "output_type": "stream",
     "text": [
      "0.19834622278802153 (0.14814716109342713, 0.3)\n"
     ]
    },
    {
     "name": "stderr",
     "output_type": "stream",
     "text": [
      "INFO:pykeen.utilities.train_utils:Epoch  80 / 1000 (4.4s):  loss: 0.021  val loss: 0.037  value: 0.198  patience:  31\n",
      "INFO:pykeen.utilities.train_utils:Epoch  81 / 1000 (4.5s):  loss: 0.021  val loss: 0.038  value: 0.198  patience:  32\n",
      "INFO:pykeen.utilities.train_utils:Epoch  82 / 1000 (4.5s):  loss: 0.022  val loss: 0.038  value: 0.198  patience:  33\n",
      "INFO:pykeen.utilities.train_utils:Epoch  83 / 1000 (4.5s):  loss: 0.022  val loss: 0.037  value: 0.198  patience:  34\n",
      "INFO:pykeen.utilities.train_utils:Epoch  84 / 1000 (4.5s):  loss: 0.022  val loss: 0.037  value: 0.198  patience:  35\n",
      "INFO:pykeen.utilities.train_utils:Epoch  85 / 1000 (4.4s):  loss: 0.021  val loss: 0.038  value: 0.198  patience:  36\n",
      "INFO:pykeen.utilities.train_utils:Epoch  86 / 1000 (4.4s):  loss: 0.021  val loss: 0.038  value: 0.198  patience:  37\n",
      "INFO:pykeen.utilities.train_utils:Epoch  87 / 1000 (4.4s):  loss: 0.022  val loss: 0.038  value: 0.198  patience:  38\n",
      "INFO:pykeen.utilities.train_utils:Epoch  88 / 1000 (4.5s):  loss: 0.021  val loss: 0.038  value: 0.198  patience:  39\n",
      "INFO:pykeen.utilities.train_utils:Epoch  89 / 1000 (4.4s):  loss: 0.021  val loss: 0.038  value: 0.198  patience:  40\n",
      "INFO:pykeen.utilities.evaluation_utils.metrics_computations:Evaluation took 3.24s seconds\n"
     ]
    },
    {
     "name": "stdout",
     "output_type": "stream",
     "text": [
      "0.20264990487472032 (0.15300102405473986, 0.3)\n"
     ]
    },
    {
     "name": "stderr",
     "output_type": "stream",
     "text": [
      "DEBUG:pykeen.utilities.train_utils:Saving the following model to disk:\n",
      "INFO:pykeen.utilities.train_utils:Epoch  90 / 1000 (4.5s):  loss: 0.022  val loss: 0.039  value: 0.203  patience:   1\n",
      "INFO:pykeen.utilities.train_utils:Epoch  91 / 1000 (4.5s):  loss: 0.021  val loss: 0.039  value: 0.203  patience:   2\n",
      "INFO:pykeen.utilities.train_utils:Epoch  92 / 1000 (4.4s):  loss: 0.022  val loss: 0.038  value: 0.203  patience:   3\n",
      "INFO:pykeen.utilities.train_utils:Epoch  93 / 1000 (4.4s):  loss: 0.021  val loss: 0.038  value: 0.203  patience:   4\n",
      "INFO:pykeen.utilities.train_utils:Epoch  94 / 1000 (4.5s):  loss: 0.022  val loss: 0.038  value: 0.203  patience:   5\n",
      "INFO:pykeen.utilities.train_utils:Epoch  95 / 1000 (4.4s):  loss: 0.021  val loss: 0.038  value: 0.203  patience:   6\n",
      "INFO:pykeen.utilities.train_utils:Epoch  96 / 1000 (4.4s):  loss: 0.022  val loss: 0.038  value: 0.203  patience:   7\n",
      "INFO:pykeen.utilities.train_utils:Epoch  97 / 1000 (4.4s):  loss: 0.021  val loss: 0.038  value: 0.203  patience:   8\n",
      "INFO:pykeen.utilities.train_utils:Epoch  98 / 1000 (4.4s):  loss: 0.022  val loss: 0.038  value: 0.203  patience:   9\n",
      "INFO:pykeen.utilities.train_utils:Epoch  99 / 1000 (4.5s):  loss: 0.021  val loss: 0.038  value: 0.203  patience:  10\n",
      "INFO:pykeen.utilities.evaluation_utils.metrics_computations:Evaluation took 3.36s seconds\n"
     ]
    },
    {
     "name": "stdout",
     "output_type": "stream",
     "text": [
      "0.20199494332799534 (0.15312877052471446, 0.2966666666666667)\n"
     ]
    },
    {
     "name": "stderr",
     "output_type": "stream",
     "text": [
      "INFO:pykeen.utilities.train_utils:Epoch 100 / 1000 (4.5s):  loss: 0.021  val loss: 0.037  value: 0.202  patience:  11\n",
      "INFO:pykeen.utilities.train_utils:Epoch 101 / 1000 (4.5s):  loss: 0.022  val loss: 0.037  value: 0.202  patience:  12\n",
      "INFO:pykeen.utilities.train_utils:Epoch 102 / 1000 (4.4s):  loss: 0.021  val loss: 0.038  value: 0.202  patience:  13\n",
      "INFO:pykeen.utilities.train_utils:Epoch 103 / 1000 (4.4s):  loss: 0.022  val loss: 0.038  value: 0.202  patience:  14\n",
      "INFO:pykeen.utilities.train_utils:Epoch 104 / 1000 (4.4s):  loss: 0.021  val loss: 0.038  value: 0.202  patience:  15\n",
      "INFO:pykeen.utilities.train_utils:Epoch 105 / 1000 (4.4s):  loss: 0.021  val loss: 0.038  value: 0.202  patience:  16\n",
      "INFO:pykeen.utilities.train_utils:Epoch 106 / 1000 (4.5s):  loss: 0.021  val loss: 0.038  value: 0.202  patience:  17\n",
      "INFO:pykeen.utilities.train_utils:Epoch 107 / 1000 (4.5s):  loss: 0.021  val loss: 0.038  value: 0.202  patience:  18\n",
      "INFO:pykeen.utilities.train_utils:Epoch 108 / 1000 (4.5s):  loss: 0.021  val loss: 0.038  value: 0.202  patience:  19\n",
      "INFO:pykeen.utilities.train_utils:Epoch 109 / 1000 (4.5s):  loss: 0.021  val loss: 0.038  value: 0.202  patience:  20\n",
      "INFO:pykeen.utilities.evaluation_utils.metrics_computations:Evaluation took 3.23s seconds\n"
     ]
    },
    {
     "name": "stdout",
     "output_type": "stream",
     "text": [
      "0.2018441778156464 (0.152084309636584, 0.3)\n"
     ]
    },
    {
     "name": "stderr",
     "output_type": "stream",
     "text": [
      "INFO:pykeen.utilities.train_utils:Epoch 110 / 1000 (4.5s):  loss: 0.021  val loss: 0.038  value: 0.202  patience:  21\n",
      "INFO:pykeen.utilities.train_utils:Epoch 111 / 1000 (4.5s):  loss: 0.021  val loss: 0.038  value: 0.202  patience:  22\n",
      "INFO:pykeen.utilities.train_utils:Epoch 112 / 1000 (4.4s):  loss: 0.021  val loss: 0.037  value: 0.202  patience:  23\n",
      "INFO:pykeen.utilities.train_utils:Epoch 113 / 1000 (4.4s):  loss: 0.021  val loss: 0.037  value: 0.202  patience:  24\n",
      "INFO:pykeen.utilities.train_utils:Epoch 114 / 1000 (4.5s):  loss: 0.021  val loss: 0.037  value: 0.202  patience:  25\n",
      "INFO:pykeen.utilities.train_utils:Epoch 115 / 1000 (4.5s):  loss: 0.021  val loss: 0.037  value: 0.202  patience:  26\n",
      "INFO:pykeen.utilities.train_utils:Epoch 116 / 1000 (4.5s):  loss: 0.021  val loss: 0.037  value: 0.202  patience:  27\n",
      "INFO:pykeen.utilities.train_utils:Epoch 117 / 1000 (4.5s):  loss: 0.021  val loss: 0.037  value: 0.202  patience:  28\n",
      "INFO:pykeen.utilities.train_utils:Epoch 118 / 1000 (4.5s):  loss: 0.021  val loss: 0.037  value: 0.202  patience:  29\n",
      "INFO:pykeen.utilities.train_utils:Epoch 119 / 1000 (4.4s):  loss: 0.021  val loss: 0.037  value: 0.202  patience:  30\n",
      "INFO:pykeen.utilities.evaluation_utils.metrics_computations:Evaluation took 3.33s seconds\n"
     ]
    },
    {
     "name": "stdout",
     "output_type": "stream",
     "text": [
      "0.2027853356122301 (0.1531554752074308, 0.3)\n"
     ]
    },
    {
     "name": "stderr",
     "output_type": "stream",
     "text": [
      "DEBUG:pykeen.utilities.train_utils:Saving the following model to disk:\n",
      "INFO:pykeen.utilities.train_utils:Epoch 120 / 1000 (4.5s):  loss: 0.021  val loss: 0.037  value: 0.203  patience:   1\n",
      "INFO:pykeen.utilities.train_utils:Epoch 121 / 1000 (4.5s):  loss: 0.021  val loss: 0.037  value: 0.203  patience:   2\n",
      "INFO:pykeen.utilities.train_utils:Epoch 122 / 1000 (4.4s):  loss: 0.021  val loss: 0.038  value: 0.203  patience:   3\n",
      "INFO:pykeen.utilities.train_utils:Epoch 123 / 1000 (4.5s):  loss: 0.021  val loss: 0.038  value: 0.203  patience:   4\n",
      "INFO:pykeen.utilities.train_utils:Epoch 124 / 1000 (4.4s):  loss: 0.021  val loss: 0.037  value: 0.203  patience:   5\n",
      "INFO:pykeen.utilities.train_utils:Epoch 125 / 1000 (4.4s):  loss: 0.021  val loss: 0.037  value: 0.203  patience:   6\n",
      "INFO:pykeen.utilities.train_utils:Epoch 126 / 1000 (4.4s):  loss: 0.021  val loss: 0.037  value: 0.203  patience:   7\n",
      "INFO:pykeen.utilities.train_utils:Epoch 127 / 1000 (4.5s):  loss: 0.021  val loss: 0.037  value: 0.203  patience:   8\n",
      "INFO:pykeen.utilities.train_utils:Epoch 128 / 1000 (4.5s):  loss: 0.021  val loss: 0.037  value: 0.203  patience:   9\n",
      "INFO:pykeen.utilities.train_utils:Epoch 129 / 1000 (4.4s):  loss: 0.021  val loss: 0.038  value: 0.203  patience:  10\n",
      "INFO:pykeen.utilities.evaluation_utils.metrics_computations:Evaluation took 3.28s seconds\n"
     ]
    },
    {
     "name": "stdout",
     "output_type": "stream",
     "text": [
      "0.20588828090403027 (0.1541259619978491, 0.31)\n"
     ]
    },
    {
     "name": "stderr",
     "output_type": "stream",
     "text": [
      "DEBUG:pykeen.utilities.train_utils:Saving the following model to disk:\n",
      "INFO:pykeen.utilities.train_utils:Epoch 130 / 1000 (4.5s):  loss: 0.021  val loss: 0.038  value: 0.206  patience:   1\n",
      "INFO:pykeen.utilities.train_utils:Epoch 131 / 1000 (4.4s):  loss: 0.021  val loss: 0.038  value: 0.206  patience:   2\n",
      "INFO:pykeen.utilities.train_utils:Epoch 132 / 1000 (4.5s):  loss: 0.021  val loss: 0.038  value: 0.206  patience:   3\n",
      "INFO:pykeen.utilities.train_utils:Epoch 133 / 1000 (4.5s):  loss: 0.021  val loss: 0.038  value: 0.206  patience:   4\n",
      "INFO:pykeen.utilities.train_utils:Epoch 134 / 1000 (4.5s):  loss: 0.021  val loss: 0.038  value: 0.206  patience:   5\n",
      "INFO:pykeen.utilities.train_utils:Epoch 135 / 1000 (4.5s):  loss: 0.021  val loss: 0.038  value: 0.206  patience:   6\n",
      "INFO:pykeen.utilities.train_utils:Epoch 136 / 1000 (4.5s):  loss: 0.021  val loss: 0.038  value: 0.206  patience:   7\n",
      "INFO:pykeen.utilities.train_utils:Epoch 137 / 1000 (4.5s):  loss: 0.021  val loss: 0.037  value: 0.206  patience:   8\n",
      "INFO:pykeen.utilities.train_utils:Epoch 138 / 1000 (4.4s):  loss: 0.021  val loss: 0.038  value: 0.206  patience:   9\n",
      "INFO:pykeen.utilities.train_utils:Epoch 139 / 1000 (4.4s):  loss: 0.021  val loss: 0.038  value: 0.206  patience:  10\n",
      "INFO:pykeen.utilities.evaluation_utils.metrics_computations:Evaluation took 3.25s seconds\n"
     ]
    },
    {
     "name": "stdout",
     "output_type": "stream",
     "text": [
      "0.20108892876539228 (0.15039527409584674, 0.30333333333333334)\n"
     ]
    },
    {
     "name": "stderr",
     "output_type": "stream",
     "text": [
      "INFO:pykeen.utilities.train_utils:Epoch 140 / 1000 (4.4s):  loss: 0.021  val loss: 0.037  value: 0.201  patience:  11\n",
      "INFO:pykeen.utilities.train_utils:Epoch 141 / 1000 (4.5s):  loss: 0.021  val loss: 0.037  value: 0.201  patience:  12\n",
      "INFO:pykeen.utilities.train_utils:Epoch 142 / 1000 (4.5s):  loss: 0.021  val loss: 0.037  value: 0.201  patience:  13\n",
      "INFO:pykeen.utilities.train_utils:Epoch 143 / 1000 (4.4s):  loss: 0.021  val loss: 0.037  value: 0.201  patience:  14\n",
      "INFO:pykeen.utilities.train_utils:Epoch 144 / 1000 (4.4s):  loss: 0.021  val loss: 0.037  value: 0.201  patience:  15\n",
      "INFO:pykeen.utilities.train_utils:Epoch 145 / 1000 (4.4s):  loss: 0.021  val loss: 0.037  value: 0.201  patience:  16\n",
      "INFO:pykeen.utilities.train_utils:Epoch 146 / 1000 (4.5s):  loss: 0.021  val loss: 0.037  value: 0.201  patience:  17\n",
      "INFO:pykeen.utilities.train_utils:Epoch 147 / 1000 (4.4s):  loss: 0.021  val loss: 0.038  value: 0.201  patience:  18\n",
      "INFO:pykeen.utilities.train_utils:Epoch 148 / 1000 (4.4s):  loss: 0.021  val loss: 0.038  value: 0.201  patience:  19\n",
      "INFO:pykeen.utilities.train_utils:Epoch 149 / 1000 (4.4s):  loss: 0.021  val loss: 0.038  value: 0.201  patience:  20\n",
      "INFO:pykeen.utilities.evaluation_utils.metrics_computations:Evaluation took 3.30s seconds\n"
     ]
    },
    {
     "name": "stdout",
     "output_type": "stream",
     "text": [
      "0.20169997784589705 (0.15026639374133438, 0.30666666666666664)\n"
     ]
    },
    {
     "name": "stderr",
     "output_type": "stream",
     "text": [
      "INFO:pykeen.utilities.train_utils:Epoch 150 / 1000 (4.4s):  loss: 0.021  val loss: 0.037  value: 0.202  patience:  21\n",
      "INFO:pykeen.utilities.train_utils:Epoch 151 / 1000 (4.5s):  loss: 0.021  val loss: 0.037  value: 0.202  patience:  22\n",
      "INFO:pykeen.utilities.train_utils:Epoch 152 / 1000 (4.4s):  loss: 0.021  val loss: 0.037  value: 0.202  patience:  23\n",
      "INFO:pykeen.utilities.train_utils:Epoch 153 / 1000 (4.4s):  loss: 0.021  val loss: 0.037  value: 0.202  patience:  24\n",
      "INFO:pykeen.utilities.train_utils:Epoch 154 / 1000 (4.4s):  loss: 0.021  val loss: 0.037  value: 0.202  patience:  25\n",
      "INFO:pykeen.utilities.train_utils:Epoch 155 / 1000 (4.4s):  loss: 0.021  val loss: 0.038  value: 0.202  patience:  26\n",
      "INFO:pykeen.utilities.train_utils:Epoch 156 / 1000 (4.4s):  loss: 0.021  val loss: 0.038  value: 0.202  patience:  27\n",
      "INFO:pykeen.utilities.train_utils:Epoch 157 / 1000 (4.4s):  loss: 0.021  val loss: 0.038  value: 0.202  patience:  28\n",
      "INFO:pykeen.utilities.train_utils:Epoch 158 / 1000 (4.5s):  loss: 0.020  val loss: 0.038  value: 0.202  patience:  29\n",
      "INFO:pykeen.utilities.train_utils:Epoch 159 / 1000 (4.4s):  loss: 0.021  val loss: 0.038  value: 0.202  patience:  30\n",
      "INFO:pykeen.utilities.evaluation_utils.metrics_computations:Evaluation took 3.23s seconds\n"
     ]
    },
    {
     "name": "stdout",
     "output_type": "stream",
     "text": [
      "0.20661690083617676 (0.15666499172554593, 0.30333333333333334)\n"
     ]
    },
    {
     "name": "stderr",
     "output_type": "stream",
     "text": [
      "DEBUG:pykeen.utilities.train_utils:Saving the following model to disk:\n",
      "INFO:pykeen.utilities.train_utils:Epoch 160 / 1000 (4.5s):  loss: 0.021  val loss: 0.038  value: 0.207  patience:   1\n",
      "INFO:pykeen.utilities.train_utils:Epoch 161 / 1000 (4.5s):  loss: 0.021  val loss: 0.037  value: 0.207  patience:   2\n",
      "INFO:pykeen.utilities.train_utils:Epoch 162 / 1000 (4.4s):  loss: 0.021  val loss: 0.037  value: 0.207  patience:   3\n",
      "INFO:pykeen.utilities.train_utils:Epoch 163 / 1000 (4.5s):  loss: 0.021  val loss: 0.037  value: 0.207  patience:   4\n",
      "INFO:pykeen.utilities.train_utils:Epoch 164 / 1000 (4.5s):  loss: 0.020  val loss: 0.038  value: 0.207  patience:   5\n",
      "INFO:pykeen.utilities.train_utils:Epoch 165 / 1000 (4.5s):  loss: 0.021  val loss: 0.037  value: 0.207  patience:   6\n",
      "INFO:pykeen.utilities.train_utils:Epoch 166 / 1000 (4.4s):  loss: 0.021  val loss: 0.037  value: 0.207  patience:   7\n",
      "INFO:pykeen.utilities.train_utils:Epoch 167 / 1000 (4.5s):  loss: 0.021  val loss: 0.037  value: 0.207  patience:   8\n",
      "INFO:pykeen.utilities.train_utils:Epoch 168 / 1000 (4.4s):  loss: 0.020  val loss: 0.037  value: 0.207  patience:   9\n",
      "INFO:pykeen.utilities.train_utils:Epoch 169 / 1000 (4.5s):  loss: 0.020  val loss: 0.037  value: 0.207  patience:  10\n",
      "INFO:pykeen.utilities.evaluation_utils.metrics_computations:Evaluation took 3.44s seconds\n"
     ]
    },
    {
     "name": "stdout",
     "output_type": "stream",
     "text": [
      "0.2087024615695342 (0.15645702947996942, 0.31333333333333335)\n"
     ]
    },
    {
     "name": "stderr",
     "output_type": "stream",
     "text": [
      "DEBUG:pykeen.utilities.train_utils:Saving the following model to disk:\n",
      "INFO:pykeen.utilities.train_utils:Epoch 170 / 1000 (4.5s):  loss: 0.021  val loss: 0.037  value: 0.209  patience:   1\n",
      "INFO:pykeen.utilities.train_utils:Epoch 171 / 1000 (4.5s):  loss: 0.020  val loss: 0.037  value: 0.209  patience:   2\n",
      "INFO:pykeen.utilities.train_utils:Epoch 172 / 1000 (4.4s):  loss: 0.021  val loss: 0.037  value: 0.209  patience:   3\n",
      "INFO:pykeen.utilities.train_utils:Epoch 173 / 1000 (4.5s):  loss: 0.021  val loss: 0.036  value: 0.209  patience:   4\n",
      "INFO:pykeen.utilities.train_utils:Epoch 174 / 1000 (4.4s):  loss: 0.021  val loss: 0.036  value: 0.209  patience:   5\n",
      "INFO:pykeen.utilities.train_utils:Epoch 175 / 1000 (4.5s):  loss: 0.021  val loss: 0.036  value: 0.209  patience:   6\n",
      "INFO:pykeen.utilities.train_utils:Epoch 176 / 1000 (4.4s):  loss: 0.021  val loss: 0.036  value: 0.209  patience:   7\n",
      "INFO:pykeen.utilities.train_utils:Epoch 177 / 1000 (4.5s):  loss: 0.021  val loss: 0.036  value: 0.209  patience:   8\n",
      "INFO:pykeen.utilities.train_utils:Epoch 178 / 1000 (4.4s):  loss: 0.020  val loss: 0.035  value: 0.209  patience:   9\n",
      "INFO:pykeen.utilities.train_utils:Epoch 179 / 1000 (4.4s):  loss: 0.020  val loss: 0.036  value: 0.209  patience:  10\n",
      "INFO:pykeen.utilities.evaluation_utils.metrics_computations:Evaluation took 3.20s seconds\n"
     ]
    },
    {
     "name": "stdout",
     "output_type": "stream",
     "text": [
      "0.2095100907747627 (0.15653898941020505, 0.31666666666666665)\n"
     ]
    },
    {
     "name": "stderr",
     "output_type": "stream",
     "text": [
      "DEBUG:pykeen.utilities.train_utils:Saving the following model to disk:\n",
      "INFO:pykeen.utilities.train_utils:Epoch 180 / 1000 (4.5s):  loss: 0.020  val loss: 0.036  value: 0.210  patience:   1\n",
      "INFO:pykeen.utilities.train_utils:Epoch 181 / 1000 (4.5s):  loss: 0.020  val loss: 0.036  value: 0.210  patience:   2\n",
      "INFO:pykeen.utilities.train_utils:Epoch 182 / 1000 (4.4s):  loss: 0.021  val loss: 0.036  value: 0.210  patience:   3\n",
      "INFO:pykeen.utilities.train_utils:Epoch 183 / 1000 (4.5s):  loss: 0.021  val loss: 0.036  value: 0.210  patience:   4\n",
      "INFO:pykeen.utilities.train_utils:Epoch 184 / 1000 (4.4s):  loss: 0.021  val loss: 0.036  value: 0.210  patience:   5\n",
      "INFO:pykeen.utilities.train_utils:Epoch 185 / 1000 (4.5s):  loss: 0.020  val loss: 0.036  value: 0.210  patience:   6\n",
      "INFO:pykeen.utilities.train_utils:Epoch 186 / 1000 (4.4s):  loss: 0.021  val loss: 0.036  value: 0.210  patience:   7\n",
      "INFO:pykeen.utilities.train_utils:Epoch 187 / 1000 (4.4s):  loss: 0.020  val loss: 0.036  value: 0.210  patience:   8\n",
      "INFO:pykeen.utilities.train_utils:Epoch 188 / 1000 (4.4s):  loss: 0.020  val loss: 0.036  value: 0.210  patience:   9\n",
      "INFO:pykeen.utilities.train_utils:Epoch 189 / 1000 (4.4s):  loss: 0.020  val loss: 0.036  value: 0.210  patience:  10\n",
      "INFO:pykeen.utilities.evaluation_utils.metrics_computations:Evaluation took 3.25s seconds\n"
     ]
    },
    {
     "name": "stdout",
     "output_type": "stream",
     "text": [
      "0.20708714188228408 (0.1554735163156541, 0.31)\n"
     ]
    },
    {
     "name": "stderr",
     "output_type": "stream",
     "text": [
      "INFO:pykeen.utilities.train_utils:Epoch 190 / 1000 (4.5s):  loss: 0.020  val loss: 0.036  value: 0.207  patience:  11\n",
      "INFO:pykeen.utilities.train_utils:Epoch 191 / 1000 (4.5s):  loss: 0.020  val loss: 0.036  value: 0.207  patience:  12\n",
      "INFO:pykeen.utilities.train_utils:Epoch 192 / 1000 (4.5s):  loss: 0.020  val loss: 0.036  value: 0.207  patience:  13\n",
      "INFO:pykeen.utilities.train_utils:Epoch 193 / 1000 (4.5s):  loss: 0.020  val loss: 0.037  value: 0.207  patience:  14\n",
      "INFO:pykeen.utilities.train_utils:Epoch 194 / 1000 (4.4s):  loss: 0.020  val loss: 0.037  value: 0.207  patience:  15\n",
      "INFO:pykeen.utilities.train_utils:Epoch 195 / 1000 (4.5s):  loss: 0.020  val loss: 0.037  value: 0.207  patience:  16\n",
      "INFO:pykeen.utilities.train_utils:Epoch 196 / 1000 (4.5s):  loss: 0.020  val loss: 0.037  value: 0.207  patience:  17\n",
      "INFO:pykeen.utilities.train_utils:Epoch 197 / 1000 (4.5s):  loss: 0.020  val loss: 0.037  value: 0.207  patience:  18\n",
      "INFO:pykeen.utilities.train_utils:Epoch 198 / 1000 (4.5s):  loss: 0.021  val loss: 0.037  value: 0.207  patience:  19\n",
      "INFO:pykeen.utilities.train_utils:Epoch 199 / 1000 (4.5s):  loss: 0.020  val loss: 0.037  value: 0.207  patience:  20\n",
      "INFO:pykeen.utilities.evaluation_utils.metrics_computations:Evaluation took 3.35s seconds\n"
     ]
    },
    {
     "name": "stdout",
     "output_type": "stream",
     "text": [
      "0.20594053610903135 (0.15418453570381538, 0.31)\n"
     ]
    },
    {
     "name": "stderr",
     "output_type": "stream",
     "text": [
      "INFO:pykeen.utilities.train_utils:Epoch 200 / 1000 (4.5s):  loss: 0.020  val loss: 0.037  value: 0.206  patience:  21\n",
      "INFO:pykeen.utilities.train_utils:Epoch 201 / 1000 (4.5s):  loss: 0.020  val loss: 0.037  value: 0.206  patience:  22\n",
      "INFO:pykeen.utilities.train_utils:Epoch 202 / 1000 (4.5s):  loss: 0.020  val loss: 0.038  value: 0.206  patience:  23\n",
      "INFO:pykeen.utilities.train_utils:Epoch 203 / 1000 (4.5s):  loss: 0.020  val loss: 0.038  value: 0.206  patience:  24\n",
      "INFO:pykeen.utilities.train_utils:Epoch 204 / 1000 (4.5s):  loss: 0.020  val loss: 0.037  value: 0.206  patience:  25\n",
      "INFO:pykeen.utilities.train_utils:Epoch 205 / 1000 (4.5s):  loss: 0.020  val loss: 0.037  value: 0.206  patience:  26\n",
      "INFO:pykeen.utilities.train_utils:Epoch 206 / 1000 (4.5s):  loss: 0.020  val loss: 0.038  value: 0.206  patience:  27\n",
      "INFO:pykeen.utilities.train_utils:Epoch 207 / 1000 (4.5s):  loss: 0.020  val loss: 0.037  value: 0.206  patience:  28\n",
      "INFO:pykeen.utilities.train_utils:Epoch 208 / 1000 (4.5s):  loss: 0.020  val loss: 0.038  value: 0.206  patience:  29\n",
      "INFO:pykeen.utilities.train_utils:Epoch 209 / 1000 (4.5s):  loss: 0.020  val loss: 0.038  value: 0.206  patience:  30\n",
      "INFO:pykeen.utilities.evaluation_utils.metrics_computations:Evaluation took 3.29s seconds\n"
     ]
    },
    {
     "name": "stdout",
     "output_type": "stream",
     "text": [
      "0.2092992229323166 (0.15712874631208762, 0.31333333333333335)\n"
     ]
    },
    {
     "name": "stderr",
     "output_type": "stream",
     "text": [
      "INFO:pykeen.utilities.train_utils:Epoch 210 / 1000 (4.5s):  loss: 0.020  val loss: 0.038  value: 0.209  patience:  31\n",
      "INFO:pykeen.utilities.train_utils:Epoch 211 / 1000 (4.5s):  loss: 0.020  val loss: 0.038  value: 0.209  patience:  32\n",
      "INFO:pykeen.utilities.train_utils:Epoch 212 / 1000 (4.5s):  loss: 0.020  val loss: 0.038  value: 0.209  patience:  33\n",
      "INFO:pykeen.utilities.train_utils:Epoch 213 / 1000 (4.5s):  loss: 0.020  val loss: 0.038  value: 0.209  patience:  34\n",
      "INFO:pykeen.utilities.train_utils:Epoch 214 / 1000 (4.5s):  loss: 0.020  val loss: 0.038  value: 0.209  patience:  35\n",
      "INFO:pykeen.utilities.train_utils:Epoch 215 / 1000 (4.5s):  loss: 0.020  val loss: 0.038  value: 0.209  patience:  36\n",
      "INFO:pykeen.utilities.train_utils:Epoch 216 / 1000 (4.5s):  loss: 0.020  val loss: 0.038  value: 0.209  patience:  37\n",
      "INFO:pykeen.utilities.train_utils:Epoch 217 / 1000 (4.5s):  loss: 0.020  val loss: 0.038  value: 0.209  patience:  38\n",
      "INFO:pykeen.utilities.train_utils:Epoch 218 / 1000 (4.5s):  loss: 0.020  val loss: 0.038  value: 0.209  patience:  39\n",
      "INFO:pykeen.utilities.train_utils:Epoch 219 / 1000 (4.5s):  loss: 0.020  val loss: 0.038  value: 0.209  patience:  40\n",
      "INFO:pykeen.utilities.evaluation_utils.metrics_computations:Evaluation took 3.37s seconds\n"
     ]
    },
    {
     "name": "stdout",
     "output_type": "stream",
     "text": [
      "0.20617485061602145 (0.15363308089981773, 0.31333333333333335)\n"
     ]
    },
    {
     "name": "stderr",
     "output_type": "stream",
     "text": [
      "INFO:pykeen.utilities.train_utils:Epoch 220 / 1000 (4.5s):  loss: 0.020  val loss: 0.038  value: 0.206  patience:  41\n",
      "INFO:pykeen.utilities.train_utils:Epoch 221 / 1000 (4.5s):  loss: 0.020  val loss: 0.037  value: 0.206  patience:  42\n",
      "INFO:pykeen.utilities.train_utils:Epoch 222 / 1000 (4.5s):  loss: 0.020  val loss: 0.038  value: 0.206  patience:  43\n",
      "INFO:pykeen.utilities.train_utils:Epoch 223 / 1000 (4.5s):  loss: 0.020  val loss: 0.037  value: 0.206  patience:  44\n",
      "INFO:pykeen.utilities.train_utils:Epoch 224 / 1000 (4.5s):  loss: 0.020  val loss: 0.037  value: 0.206  patience:  45\n",
      "INFO:pykeen.utilities.train_utils:Epoch 225 / 1000 (4.5s):  loss: 0.020  val loss: 0.037  value: 0.206  patience:  46\n",
      "INFO:pykeen.utilities.train_utils:Epoch 226 / 1000 (4.5s):  loss: 0.020  val loss: 0.037  value: 0.206  patience:  47\n",
      "INFO:pykeen.utilities.train_utils:Epoch 227 / 1000 (4.5s):  loss: 0.020  val loss: 0.037  value: 0.206  patience:  48\n",
      "INFO:pykeen.utilities.train_utils:Epoch 228 / 1000 (4.5s):  loss: 0.020  val loss: 0.037  value: 0.206  patience:  49\n",
      "INFO:pykeen.utilities.train_utils:Epoch 229 / 1000 (4.5s):  loss: 0.020  val loss: 0.037  value: 0.206  patience:  50\n",
      "INFO:pykeen.utilities.evaluation_utils.metrics_computations:Evaluation took 3.29s seconds\n"
     ]
    },
    {
     "name": "stdout",
     "output_type": "stream",
     "text": [
      "0.2069746448175442 (0.15534673377399505, 0.31)\n"
     ]
    },
    {
     "name": "stderr",
     "output_type": "stream",
     "text": [
      "INFO:pykeen.utilities.train_utils:Epoch 230 / 1000 (4.5s):  loss: 0.020  val loss: 0.037  value: 0.207  patience:  51\n",
      "INFO:pykeen.utilities.train_utils:Epoch 231 / 1000 (4.5s):  loss: 0.020  val loss: 0.037  value: 0.207  patience:  52\n",
      "INFO:pykeen.utilities.train_utils:Epoch 232 / 1000 (4.5s):  loss: 0.020  val loss: 0.038  value: 0.207  patience:  53\n",
      "INFO:pykeen.utilities.train_utils:Epoch 233 / 1000 (4.5s):  loss: 0.020  val loss: 0.037  value: 0.207  patience:  54\n",
      "INFO:pykeen.utilities.train_utils:Epoch 234 / 1000 (4.5s):  loss: 0.020  val loss: 0.038  value: 0.207  patience:  55\n",
      "INFO:pykeen.utilities.train_utils:Epoch 235 / 1000 (4.5s):  loss: 0.020  val loss: 0.038  value: 0.207  patience:  56\n",
      "INFO:pykeen.utilities.train_utils:Epoch 236 / 1000 (4.5s):  loss: 0.020  val loss: 0.038  value: 0.207  patience:  57\n",
      "INFO:pykeen.utilities.train_utils:Epoch 237 / 1000 (4.5s):  loss: 0.020  val loss: 0.038  value: 0.207  patience:  58\n",
      "INFO:pykeen.utilities.train_utils:Epoch 238 / 1000 (4.5s):  loss: 0.020  val loss: 0.038  value: 0.207  patience:  59\n",
      "INFO:pykeen.utilities.train_utils:Epoch 239 / 1000 (4.5s):  loss: 0.020  val loss: 0.038  value: 0.207  patience:  60\n",
      "INFO:pykeen.utilities.evaluation_utils.metrics_computations:Evaluation took 3.25s seconds\n"
     ]
    },
    {
     "name": "stdout",
     "output_type": "stream",
     "text": [
      "0.20824019367205004 (0.15593801594403855, 0.31333333333333335)\n"
     ]
    },
    {
     "name": "stderr",
     "output_type": "stream",
     "text": [
      "INFO:pykeen.utilities.train_utils:Epoch 240 / 1000 (4.4s):  loss: 0.020  val loss: 0.038  value: 0.208  patience:  61\n",
      "INFO:pykeen.utilities.train_utils:Epoch 241 / 1000 (4.5s):  loss: 0.020  val loss: 0.038  value: 0.208  patience:  62\n",
      "INFO:pykeen.utilities.train_utils:Epoch 242 / 1000 (4.5s):  loss: 0.020  val loss: 0.037  value: 0.208  patience:  63\n",
      "INFO:pykeen.utilities.train_utils:Epoch 243 / 1000 (4.5s):  loss: 0.020  val loss: 0.037  value: 0.208  patience:  64\n",
      "INFO:pykeen.utilities.train_utils:Epoch 244 / 1000 (4.5s):  loss: 0.020  val loss: 0.037  value: 0.208  patience:  65\n",
      "INFO:pykeen.utilities.train_utils:Epoch 245 / 1000 (4.5s):  loss: 0.020  val loss: 0.037  value: 0.208  patience:  66\n",
      "INFO:pykeen.utilities.train_utils:Epoch 246 / 1000 (4.5s):  loss: 0.020  val loss: 0.037  value: 0.208  patience:  67\n",
      "INFO:pykeen.utilities.train_utils:Epoch 247 / 1000 (4.5s):  loss: 0.020  val loss: 0.037  value: 0.208  patience:  68\n",
      "INFO:pykeen.utilities.train_utils:Epoch 248 / 1000 (4.5s):  loss: 0.020  val loss: 0.037  value: 0.208  patience:  69\n",
      "INFO:pykeen.utilities.train_utils:Epoch 249 / 1000 (4.5s):  loss: 0.020  val loss: 0.037  value: 0.208  patience:  70\n",
      "INFO:pykeen.utilities.evaluation_utils.metrics_computations:Evaluation took 3.27s seconds\n"
     ]
    },
    {
     "name": "stdout",
     "output_type": "stream",
     "text": [
      "0.20805597528059186 (0.1565682434183024, 0.31)\n"
     ]
    },
    {
     "name": "stderr",
     "output_type": "stream",
     "text": [
      "INFO:pykeen.utilities.train_utils:Epoch 250 / 1000 (4.5s):  loss: 0.020  val loss: 0.037  value: 0.208  patience:  71\n",
      "INFO:pykeen.utilities.train_utils:Epoch 251 / 1000 (4.5s):  loss: 0.020  val loss: 0.037  value: 0.208  patience:  72\n",
      "INFO:pykeen.utilities.train_utils:Epoch 252 / 1000 (4.5s):  loss: 0.020  val loss: 0.038  value: 0.208  patience:  73\n",
      "INFO:pykeen.utilities.train_utils:Epoch 253 / 1000 (4.5s):  loss: 0.020  val loss: 0.037  value: 0.208  patience:  74\n",
      "INFO:pykeen.utilities.train_utils:Epoch 254 / 1000 (4.5s):  loss: 0.020  val loss: 0.037  value: 0.208  patience:  75\n",
      "INFO:pykeen.utilities.train_utils:Epoch 255 / 1000 (4.5s):  loss: 0.020  val loss: 0.038  value: 0.208  patience:  76\n",
      "INFO:pykeen.utilities.train_utils:Epoch 256 / 1000 (4.5s):  loss: 0.020  val loss: 0.037  value: 0.208  patience:  77\n",
      "INFO:pykeen.utilities.train_utils:Epoch 257 / 1000 (4.5s):  loss: 0.020  val loss: 0.037  value: 0.208  patience:  78\n",
      "INFO:pykeen.utilities.train_utils:Epoch 258 / 1000 (4.5s):  loss: 0.020  val loss: 0.037  value: 0.208  patience:  79\n",
      "INFO:pykeen.utilities.train_utils:Epoch 259 / 1000 (4.5s):  loss: 0.020  val loss: 0.037  value: 0.208  patience:  80\n",
      "INFO:pykeen.utilities.evaluation_utils.metrics_computations:Evaluation took 3.30s seconds\n"
     ]
    },
    {
     "name": "stdout",
     "output_type": "stream",
     "text": [
      "0.208904399333937 (0.15840611393010842, 0.30666666666666664)\n"
     ]
    },
    {
     "name": "stderr",
     "output_type": "stream",
     "text": [
      "INFO:pykeen.utilities.train_utils:Epoch 260 / 1000 (4.5s):  loss: 0.020  val loss: 0.037  value: 0.209  patience:  81\n",
      "INFO:pykeen.utilities.train_utils:Epoch 261 / 1000 (4.5s):  loss: 0.020  val loss: 0.037  value: 0.209  patience:  82\n",
      "INFO:pykeen.utilities.train_utils:Epoch 262 / 1000 (4.5s):  loss: 0.020  val loss: 0.037  value: 0.209  patience:  83\n",
      "INFO:pykeen.utilities.train_utils:Epoch 263 / 1000 (4.5s):  loss: 0.020  val loss: 0.038  value: 0.209  patience:  84\n",
      "INFO:pykeen.utilities.train_utils:Epoch 264 / 1000 (4.5s):  loss: 0.020  val loss: 0.037  value: 0.209  patience:  85\n",
      "INFO:pykeen.utilities.train_utils:Epoch 265 / 1000 (4.5s):  loss: 0.020  val loss: 0.038  value: 0.209  patience:  86\n",
      "INFO:pykeen.utilities.train_utils:Epoch 266 / 1000 (4.5s):  loss: 0.020  val loss: 0.038  value: 0.209  patience:  87\n",
      "INFO:pykeen.utilities.train_utils:Epoch 267 / 1000 (4.5s):  loss: 0.020  val loss: 0.038  value: 0.209  patience:  88\n",
      "INFO:pykeen.utilities.train_utils:Epoch 268 / 1000 (4.5s):  loss: 0.020  val loss: 0.038  value: 0.209  patience:  89\n",
      "INFO:pykeen.utilities.train_utils:Epoch 269 / 1000 (4.5s):  loss: 0.020  val loss: 0.037  value: 0.209  patience:  90\n",
      "INFO:pykeen.utilities.evaluation_utils.metrics_computations:Evaluation took 3.37s seconds\n"
     ]
    },
    {
     "name": "stdout",
     "output_type": "stream",
     "text": [
      "0.21023885543838716 (0.1599457510254167, 0.30666666666666664)\n"
     ]
    },
    {
     "name": "stderr",
     "output_type": "stream",
     "text": [
      "DEBUG:pykeen.utilities.train_utils:Saving the following model to disk:\n",
      "INFO:pykeen.utilities.train_utils:Epoch 270 / 1000 (4.5s):  loss: 0.020  val loss: 0.037  value: 0.210  patience:   1\n",
      "INFO:pykeen.utilities.train_utils:Epoch 271 / 1000 (4.5s):  loss: 0.020  val loss: 0.037  value: 0.210  patience:   2\n",
      "INFO:pykeen.utilities.train_utils:Epoch 272 / 1000 (4.5s):  loss: 0.020  val loss: 0.038  value: 0.210  patience:   3\n",
      "INFO:pykeen.utilities.train_utils:Epoch 273 / 1000 (4.5s):  loss: 0.020  val loss: 0.038  value: 0.210  patience:   4\n",
      "INFO:pykeen.utilities.train_utils:Epoch 274 / 1000 (4.5s):  loss: 0.020  val loss: 0.038  value: 0.210  patience:   5\n",
      "INFO:pykeen.utilities.train_utils:Epoch 275 / 1000 (4.5s):  loss: 0.020  val loss: 0.038  value: 0.210  patience:   6\n",
      "INFO:pykeen.utilities.train_utils:Epoch 276 / 1000 (4.5s):  loss: 0.020  val loss: 0.037  value: 0.210  patience:   7\n",
      "INFO:pykeen.utilities.train_utils:Epoch 277 / 1000 (4.5s):  loss: 0.020  val loss: 0.037  value: 0.210  patience:   8\n",
      "INFO:pykeen.utilities.train_utils:Epoch 278 / 1000 (4.5s):  loss: 0.020  val loss: 0.038  value: 0.210  patience:   9\n",
      "INFO:pykeen.utilities.train_utils:Epoch 279 / 1000 (4.5s):  loss: 0.020  val loss: 0.038  value: 0.210  patience:  10\n",
      "INFO:pykeen.utilities.evaluation_utils.metrics_computations:Evaluation took 3.33s seconds\n"
     ]
    },
    {
     "name": "stdout",
     "output_type": "stream",
     "text": [
      "0.2109203886467983 (0.1589632714390894, 0.31333333333333335)\n"
     ]
    },
    {
     "name": "stderr",
     "output_type": "stream",
     "text": [
      "DEBUG:pykeen.utilities.train_utils:Saving the following model to disk:\n",
      "INFO:pykeen.utilities.train_utils:Epoch 280 / 1000 (4.5s):  loss: 0.020  val loss: 0.038  value: 0.211  patience:   1\n",
      "INFO:pykeen.utilities.train_utils:Epoch 281 / 1000 (4.5s):  loss: 0.020  val loss: 0.038  value: 0.211  patience:   2\n",
      "INFO:pykeen.utilities.train_utils:Epoch 282 / 1000 (4.5s):  loss: 0.020  val loss: 0.038  value: 0.211  patience:   3\n",
      "INFO:pykeen.utilities.train_utils:Epoch 283 / 1000 (4.5s):  loss: 0.020  val loss: 0.038  value: 0.211  patience:   4\n",
      "INFO:pykeen.utilities.train_utils:Epoch 284 / 1000 (4.5s):  loss: 0.020  val loss: 0.038  value: 0.211  patience:   5\n",
      "INFO:pykeen.utilities.train_utils:Epoch 285 / 1000 (4.5s):  loss: 0.020  val loss: 0.038  value: 0.211  patience:   6\n",
      "INFO:pykeen.utilities.train_utils:Epoch 286 / 1000 (4.5s):  loss: 0.020  val loss: 0.038  value: 0.211  patience:   7\n",
      "INFO:pykeen.utilities.train_utils:Epoch 287 / 1000 (4.5s):  loss: 0.020  val loss: 0.038  value: 0.211  patience:   8\n",
      "INFO:pykeen.utilities.train_utils:Epoch 288 / 1000 (4.5s):  loss: 0.020  val loss: 0.038  value: 0.211  patience:   9\n",
      "INFO:pykeen.utilities.train_utils:Epoch 289 / 1000 (4.5s):  loss: 0.020  val loss: 0.038  value: 0.211  patience:  10\n",
      "INFO:pykeen.utilities.evaluation_utils.metrics_computations:Evaluation took 3.26s seconds\n"
     ]
    },
    {
     "name": "stdout",
     "output_type": "stream",
     "text": [
      "0.2130177603222156 (0.16318487439158041, 0.30666666666666664)\n"
     ]
    },
    {
     "name": "stderr",
     "output_type": "stream",
     "text": [
      "DEBUG:pykeen.utilities.train_utils:Saving the following model to disk:\n",
      "INFO:pykeen.utilities.train_utils:Epoch 290 / 1000 (4.5s):  loss: 0.020  val loss: 0.038  value: 0.213  patience:   1\n",
      "INFO:pykeen.utilities.train_utils:Epoch 291 / 1000 (4.5s):  loss: 0.020  val loss: 0.038  value: 0.213  patience:   2\n",
      "INFO:pykeen.utilities.train_utils:Epoch 292 / 1000 (4.5s):  loss: 0.020  val loss: 0.038  value: 0.213  patience:   3\n",
      "INFO:pykeen.utilities.train_utils:Epoch 293 / 1000 (4.5s):  loss: 0.020  val loss: 0.038  value: 0.213  patience:   4\n",
      "INFO:pykeen.utilities.train_utils:Epoch 294 / 1000 (4.5s):  loss: 0.020  val loss: 0.037  value: 0.213  patience:   5\n",
      "INFO:pykeen.utilities.train_utils:Epoch 295 / 1000 (4.5s):  loss: 0.020  val loss: 0.038  value: 0.213  patience:   6\n",
      "INFO:pykeen.utilities.train_utils:Epoch 296 / 1000 (4.5s):  loss: 0.020  val loss: 0.037  value: 0.213  patience:   7\n",
      "INFO:pykeen.utilities.train_utils:Epoch 297 / 1000 (4.5s):  loss: 0.020  val loss: 0.038  value: 0.213  patience:   8\n",
      "INFO:pykeen.utilities.train_utils:Epoch 298 / 1000 (4.5s):  loss: 0.020  val loss: 0.038  value: 0.213  patience:   9\n",
      "INFO:pykeen.utilities.train_utils:Epoch 299 / 1000 (4.5s):  loss: 0.020  val loss: 0.037  value: 0.213  patience:  10\n",
      "INFO:pykeen.utilities.evaluation_utils.metrics_computations:Evaluation took 3.31s seconds\n"
     ]
    },
    {
     "name": "stdout",
     "output_type": "stream",
     "text": [
      "0.2112926465984513 (0.16026313179926185, 0.31)\n"
     ]
    },
    {
     "name": "stderr",
     "output_type": "stream",
     "text": [
      "INFO:pykeen.utilities.train_utils:Epoch 300 / 1000 (4.5s):  loss: 0.020  val loss: 0.037  value: 0.211  patience:  11\n",
      "INFO:pykeen.utilities.train_utils:Epoch 301 / 1000 (4.5s):  loss: 0.020  val loss: 0.037  value: 0.211  patience:  12\n",
      "INFO:pykeen.utilities.train_utils:Epoch 302 / 1000 (4.5s):  loss: 0.020  val loss: 0.037  value: 0.211  patience:  13\n",
      "INFO:pykeen.utilities.train_utils:Epoch 303 / 1000 (4.5s):  loss: 0.020  val loss: 0.037  value: 0.211  patience:  14\n",
      "INFO:pykeen.utilities.train_utils:Epoch 304 / 1000 (4.5s):  loss: 0.020  val loss: 0.037  value: 0.211  patience:  15\n",
      "INFO:pykeen.utilities.train_utils:Epoch 305 / 1000 (4.5s):  loss: 0.020  val loss: 0.037  value: 0.211  patience:  16\n",
      "INFO:pykeen.utilities.train_utils:Epoch 306 / 1000 (4.5s):  loss: 0.020  val loss: 0.038  value: 0.211  patience:  17\n",
      "INFO:pykeen.utilities.train_utils:Epoch 307 / 1000 (4.5s):  loss: 0.020  val loss: 0.037  value: 0.211  patience:  18\n",
      "INFO:pykeen.utilities.train_utils:Epoch 308 / 1000 (4.5s):  loss: 0.020  val loss: 0.037  value: 0.211  patience:  19\n",
      "INFO:pykeen.utilities.train_utils:Epoch 309 / 1000 (4.5s):  loss: 0.020  val loss: 0.037  value: 0.211  patience:  20\n",
      "INFO:pykeen.utilities.evaluation_utils.metrics_computations:Evaluation took 3.21s seconds\n"
     ]
    },
    {
     "name": "stdout",
     "output_type": "stream",
     "text": [
      "0.21172330215484178 (0.1598771632041041, 0.31333333333333335)\n"
     ]
    },
    {
     "name": "stderr",
     "output_type": "stream",
     "text": [
      "INFO:pykeen.utilities.train_utils:Epoch 310 / 1000 (4.5s):  loss: 0.020  val loss: 0.037  value: 0.212  patience:  21\n",
      "INFO:pykeen.utilities.train_utils:Epoch 311 / 1000 (4.5s):  loss: 0.020  val loss: 0.037  value: 0.212  patience:  22\n",
      "INFO:pykeen.utilities.train_utils:Epoch 312 / 1000 (4.5s):  loss: 0.020  val loss: 0.037  value: 0.212  patience:  23\n",
      "INFO:pykeen.utilities.train_utils:Epoch 313 / 1000 (4.5s):  loss: 0.020  val loss: 0.037  value: 0.212  patience:  24\n",
      "INFO:pykeen.utilities.train_utils:Epoch 314 / 1000 (4.5s):  loss: 0.020  val loss: 0.036  value: 0.212  patience:  25\n",
      "INFO:pykeen.utilities.train_utils:Epoch 315 / 1000 (4.5s):  loss: 0.019  val loss: 0.036  value: 0.212  patience:  26\n",
      "INFO:pykeen.utilities.train_utils:Epoch 316 / 1000 (4.5s):  loss: 0.020  val loss: 0.036  value: 0.212  patience:  27\n",
      "INFO:pykeen.utilities.train_utils:Epoch 317 / 1000 (4.5s):  loss: 0.019  val loss: 0.036  value: 0.212  patience:  28\n",
      "INFO:pykeen.utilities.train_utils:Epoch 318 / 1000 (4.5s):  loss: 0.019  val loss: 0.036  value: 0.212  patience:  29\n",
      "INFO:pykeen.utilities.train_utils:Epoch 319 / 1000 (4.5s):  loss: 0.020  val loss: 0.037  value: 0.212  patience:  30\n",
      "INFO:pykeen.utilities.evaluation_utils.metrics_computations:Evaluation took 3.63s seconds\n"
     ]
    },
    {
     "name": "stdout",
     "output_type": "stream",
     "text": [
      "0.21566516361087576 (0.16534860393535405, 0.31)\n"
     ]
    },
    {
     "name": "stderr",
     "output_type": "stream",
     "text": [
      "DEBUG:pykeen.utilities.train_utils:Saving the following model to disk:\n",
      "INFO:pykeen.utilities.train_utils:Epoch 320 / 1000 (4.5s):  loss: 0.019  val loss: 0.037  value: 0.216  patience:   1\n",
      "INFO:pykeen.utilities.train_utils:Epoch 321 / 1000 (4.5s):  loss: 0.019  val loss: 0.037  value: 0.216  patience:   2\n",
      "INFO:pykeen.utilities.train_utils:Epoch 322 / 1000 (4.5s):  loss: 0.019  val loss: 0.037  value: 0.216  patience:   3\n",
      "INFO:pykeen.utilities.train_utils:Epoch 323 / 1000 (4.5s):  loss: 0.020  val loss: 0.037  value: 0.216  patience:   4\n",
      "INFO:pykeen.utilities.train_utils:Epoch 324 / 1000 (4.5s):  loss: 0.020  val loss: 0.037  value: 0.216  patience:   5\n",
      "INFO:pykeen.utilities.train_utils:Epoch 325 / 1000 (4.5s):  loss: 0.020  val loss: 0.038  value: 0.216  patience:   6\n",
      "INFO:pykeen.utilities.train_utils:Epoch 326 / 1000 (4.5s):  loss: 0.020  val loss: 0.037  value: 0.216  patience:   7\n",
      "INFO:pykeen.utilities.train_utils:Epoch 327 / 1000 (4.5s):  loss: 0.020  val loss: 0.037  value: 0.216  patience:   8\n",
      "INFO:pykeen.utilities.train_utils:Epoch 328 / 1000 (4.4s):  loss: 0.020  val loss: 0.037  value: 0.216  patience:   9\n",
      "INFO:pykeen.utilities.train_utils:Epoch 329 / 1000 (4.4s):  loss: 0.020  val loss: 0.037  value: 0.216  patience:  10\n",
      "INFO:pykeen.utilities.evaluation_utils.metrics_computations:Evaluation took 3.25s seconds\n"
     ]
    },
    {
     "name": "stdout",
     "output_type": "stream",
     "text": [
      "0.21372562674324924 (0.1621717305178425, 0.31333333333333335)\n"
     ]
    },
    {
     "name": "stderr",
     "output_type": "stream",
     "text": [
      "INFO:pykeen.utilities.train_utils:Epoch 330 / 1000 (4.4s):  loss: 0.020  val loss: 0.037  value: 0.214  patience:  11\n",
      "INFO:pykeen.utilities.train_utils:Epoch 331 / 1000 (4.4s):  loss: 0.020  val loss: 0.037  value: 0.214  patience:  12\n",
      "INFO:pykeen.utilities.train_utils:Epoch 332 / 1000 (4.4s):  loss: 0.019  val loss: 0.037  value: 0.214  patience:  13\n",
      "INFO:pykeen.utilities.train_utils:Epoch 333 / 1000 (4.4s):  loss: 0.019  val loss: 0.037  value: 0.214  patience:  14\n",
      "INFO:pykeen.utilities.train_utils:Epoch 334 / 1000 (4.4s):  loss: 0.020  val loss: 0.037  value: 0.214  patience:  15\n",
      "INFO:pykeen.utilities.train_utils:Epoch 335 / 1000 (4.5s):  loss: 0.019  val loss: 0.037  value: 0.214  patience:  16\n",
      "INFO:pykeen.utilities.train_utils:Epoch 336 / 1000 (4.4s):  loss: 0.020  val loss: 0.037  value: 0.214  patience:  17\n",
      "INFO:pykeen.utilities.train_utils:Epoch 337 / 1000 (4.4s):  loss: 0.020  val loss: 0.037  value: 0.214  patience:  18\n",
      "INFO:pykeen.utilities.train_utils:Epoch 338 / 1000 (4.4s):  loss: 0.020  val loss: 0.037  value: 0.214  patience:  19\n",
      "INFO:pykeen.utilities.train_utils:Epoch 339 / 1000 (4.4s):  loss: 0.020  val loss: 0.037  value: 0.214  patience:  20\n",
      "INFO:pykeen.utilities.evaluation_utils.metrics_computations:Evaluation took 3.34s seconds\n"
     ]
    },
    {
     "name": "stdout",
     "output_type": "stream",
     "text": [
      "0.21368799811483083 (0.16303549761820488, 0.31)\n"
     ]
    },
    {
     "name": "stderr",
     "output_type": "stream",
     "text": [
      "INFO:pykeen.utilities.train_utils:Epoch 340 / 1000 (4.4s):  loss: 0.020  val loss: 0.037  value: 0.214  patience:  21\n",
      "INFO:pykeen.utilities.train_utils:Epoch 341 / 1000 (4.5s):  loss: 0.020  val loss: 0.037  value: 0.214  patience:  22\n",
      "INFO:pykeen.utilities.train_utils:Epoch 342 / 1000 (4.5s):  loss: 0.019  val loss: 0.037  value: 0.214  patience:  23\n",
      "INFO:pykeen.utilities.train_utils:Epoch 343 / 1000 (4.4s):  loss: 0.020  val loss: 0.037  value: 0.214  patience:  24\n",
      "INFO:pykeen.utilities.train_utils:Epoch 344 / 1000 (4.4s):  loss: 0.020  val loss: 0.037  value: 0.214  patience:  25\n",
      "INFO:pykeen.utilities.train_utils:Epoch 345 / 1000 (4.4s):  loss: 0.020  val loss: 0.037  value: 0.214  patience:  26\n",
      "INFO:pykeen.utilities.train_utils:Epoch 346 / 1000 (4.4s):  loss: 0.019  val loss: 0.037  value: 0.214  patience:  27\n",
      "INFO:pykeen.utilities.train_utils:Epoch 347 / 1000 (4.4s):  loss: 0.019  val loss: 0.037  value: 0.214  patience:  28\n",
      "INFO:pykeen.utilities.train_utils:Epoch 348 / 1000 (4.4s):  loss: 0.019  val loss: 0.037  value: 0.214  patience:  29\n",
      "INFO:pykeen.utilities.train_utils:Epoch 349 / 1000 (4.4s):  loss: 0.020  val loss: 0.037  value: 0.214  patience:  30\n",
      "INFO:pykeen.utilities.evaluation_utils.metrics_computations:Evaluation took 3.31s seconds\n"
     ]
    },
    {
     "name": "stdout",
     "output_type": "stream",
     "text": [
      "0.21249876897946712 (0.16165501689077247, 0.31)\n"
     ]
    },
    {
     "name": "stderr",
     "output_type": "stream",
     "text": [
      "INFO:pykeen.utilities.train_utils:Epoch 350 / 1000 (4.4s):  loss: 0.019  val loss: 0.037  value: 0.212  patience:  31\n",
      "INFO:pykeen.utilities.train_utils:Epoch 351 / 1000 (4.5s):  loss: 0.019  val loss: 0.037  value: 0.212  patience:  32\n",
      "INFO:pykeen.utilities.train_utils:Epoch 352 / 1000 (4.5s):  loss: 0.019  val loss: 0.037  value: 0.212  patience:  33\n",
      "INFO:pykeen.utilities.train_utils:Epoch 353 / 1000 (4.4s):  loss: 0.019  val loss: 0.037  value: 0.212  patience:  34\n",
      "INFO:pykeen.utilities.train_utils:Epoch 354 / 1000 (4.4s):  loss: 0.020  val loss: 0.037  value: 0.212  patience:  35\n",
      "INFO:pykeen.utilities.train_utils:Epoch 355 / 1000 (4.4s):  loss: 0.019  val loss: 0.037  value: 0.212  patience:  36\n",
      "INFO:pykeen.utilities.train_utils:Epoch 356 / 1000 (4.4s):  loss: 0.019  val loss: 0.037  value: 0.212  patience:  37\n",
      "INFO:pykeen.utilities.train_utils:Epoch 357 / 1000 (4.4s):  loss: 0.020  val loss: 0.037  value: 0.212  patience:  38\n",
      "INFO:pykeen.utilities.train_utils:Epoch 358 / 1000 (4.4s):  loss: 0.019  val loss: 0.037  value: 0.212  patience:  39\n",
      "INFO:pykeen.utilities.train_utils:Epoch 359 / 1000 (4.5s):  loss: 0.019  val loss: 0.037  value: 0.212  patience:  40\n",
      "INFO:pykeen.utilities.evaluation_utils.metrics_computations:Evaluation took 3.47s seconds\n"
     ]
    },
    {
     "name": "stdout",
     "output_type": "stream",
     "text": [
      "0.21592937286263206 (0.16381644932818767, 0.31666666666666665)\n"
     ]
    },
    {
     "name": "stderr",
     "output_type": "stream",
     "text": [
      "DEBUG:pykeen.utilities.train_utils:Saving the following model to disk:\n",
      "INFO:pykeen.utilities.train_utils:Epoch 360 / 1000 (4.5s):  loss: 0.020  val loss: 0.037  value: 0.216  patience:   1\n",
      "INFO:pykeen.utilities.train_utils:Epoch 361 / 1000 (4.5s):  loss: 0.019  val loss: 0.037  value: 0.216  patience:   2\n",
      "INFO:pykeen.utilities.train_utils:Epoch 362 / 1000 (4.5s):  loss: 0.019  val loss: 0.037  value: 0.216  patience:   3\n",
      "INFO:pykeen.utilities.train_utils:Epoch 363 / 1000 (4.5s):  loss: 0.020  val loss: 0.037  value: 0.216  patience:   4\n",
      "INFO:pykeen.utilities.train_utils:Epoch 364 / 1000 (4.5s):  loss: 0.019  val loss: 0.037  value: 0.216  patience:   5\n",
      "INFO:pykeen.utilities.train_utils:Epoch 365 / 1000 (4.4s):  loss: 0.020  val loss: 0.037  value: 0.216  patience:   6\n",
      "INFO:pykeen.utilities.train_utils:Epoch 366 / 1000 (4.5s):  loss: 0.020  val loss: 0.037  value: 0.216  patience:   7\n",
      "INFO:pykeen.utilities.train_utils:Epoch 367 / 1000 (4.4s):  loss: 0.020  val loss: 0.037  value: 0.216  patience:   8\n",
      "INFO:pykeen.utilities.train_utils:Epoch 368 / 1000 (4.4s):  loss: 0.019  val loss: 0.037  value: 0.216  patience:   9\n",
      "INFO:pykeen.utilities.train_utils:Epoch 369 / 1000 (4.4s):  loss: 0.019  val loss: 0.037  value: 0.216  patience:  10\n",
      "INFO:pykeen.utilities.evaluation_utils.metrics_computations:Evaluation took 3.29s seconds\n"
     ]
    },
    {
     "name": "stdout",
     "output_type": "stream",
     "text": [
      "0.21684539053735638 (0.16579151203853013, 0.31333333333333335)\n"
     ]
    },
    {
     "name": "stderr",
     "output_type": "stream",
     "text": [
      "DEBUG:pykeen.utilities.train_utils:Saving the following model to disk:\n",
      "INFO:pykeen.utilities.train_utils:Epoch 370 / 1000 (4.4s):  loss: 0.019  val loss: 0.038  value: 0.217  patience:   1\n",
      "INFO:pykeen.utilities.train_utils:Epoch 371 / 1000 (4.5s):  loss: 0.019  val loss: 0.037  value: 0.217  patience:   2\n",
      "INFO:pykeen.utilities.train_utils:Epoch 372 / 1000 (4.4s):  loss: 0.019  val loss: 0.038  value: 0.217  patience:   3\n",
      "INFO:pykeen.utilities.train_utils:Epoch 373 / 1000 (4.4s):  loss: 0.019  val loss: 0.038  value: 0.217  patience:   4\n",
      "INFO:pykeen.utilities.train_utils:Epoch 374 / 1000 (4.4s):  loss: 0.020  val loss: 0.037  value: 0.217  patience:   5\n",
      "INFO:pykeen.utilities.train_utils:Epoch 375 / 1000 (4.4s):  loss: 0.020  val loss: 0.037  value: 0.217  patience:   6\n",
      "INFO:pykeen.utilities.train_utils:Epoch 376 / 1000 (4.4s):  loss: 0.019  val loss: 0.037  value: 0.217  patience:   7\n",
      "INFO:pykeen.utilities.train_utils:Epoch 377 / 1000 (4.5s):  loss: 0.019  val loss: 0.036  value: 0.217  patience:   8\n",
      "INFO:pykeen.utilities.train_utils:Epoch 378 / 1000 (4.4s):  loss: 0.020  val loss: 0.037  value: 0.217  patience:   9\n",
      "INFO:pykeen.utilities.train_utils:Epoch 379 / 1000 (4.5s):  loss: 0.019  val loss: 0.037  value: 0.217  patience:  10\n",
      "INFO:pykeen.utilities.evaluation_utils.metrics_computations:Evaluation took 3.40s seconds\n"
     ]
    },
    {
     "name": "stdout",
     "output_type": "stream",
     "text": [
      "0.21269162408772085 (0.16098404177294542, 0.31333333333333335)\n"
     ]
    },
    {
     "name": "stderr",
     "output_type": "stream",
     "text": [
      "INFO:pykeen.utilities.train_utils:Epoch 380 / 1000 (4.5s):  loss: 0.019  val loss: 0.037  value: 0.213  patience:  11\n",
      "INFO:pykeen.utilities.train_utils:Epoch 381 / 1000 (4.5s):  loss: 0.020  val loss: 0.036  value: 0.213  patience:  12\n",
      "INFO:pykeen.utilities.train_utils:Epoch 382 / 1000 (4.5s):  loss: 0.019  val loss: 0.036  value: 0.213  patience:  13\n",
      "INFO:pykeen.utilities.train_utils:Epoch 383 / 1000 (4.5s):  loss: 0.019  val loss: 0.036  value: 0.213  patience:  14\n",
      "INFO:pykeen.utilities.train_utils:Epoch 384 / 1000 (4.5s):  loss: 0.019  val loss: 0.037  value: 0.213  patience:  15\n",
      "INFO:pykeen.utilities.train_utils:Epoch 385 / 1000 (4.5s):  loss: 0.019  val loss: 0.037  value: 0.213  patience:  16\n",
      "INFO:pykeen.utilities.train_utils:Epoch 386 / 1000 (4.4s):  loss: 0.019  val loss: 0.036  value: 0.213  patience:  17\n",
      "INFO:pykeen.utilities.train_utils:Epoch 387 / 1000 (4.4s):  loss: 0.019  val loss: 0.036  value: 0.213  patience:  18\n",
      "INFO:pykeen.utilities.train_utils:Epoch 388 / 1000 (4.4s):  loss: 0.019  val loss: 0.036  value: 0.213  patience:  19\n",
      "INFO:pykeen.utilities.train_utils:Epoch 389 / 1000 (4.4s):  loss: 0.019  val loss: 0.036  value: 0.213  patience:  20\n",
      "INFO:pykeen.utilities.evaluation_utils.metrics_computations:Evaluation took 3.29s seconds\n"
     ]
    },
    {
     "name": "stdout",
     "output_type": "stream",
     "text": [
      "0.2117955519073841 (0.15995957275265774, 0.31333333333333335)\n"
     ]
    },
    {
     "name": "stderr",
     "output_type": "stream",
     "text": [
      "INFO:pykeen.utilities.train_utils:Epoch 390 / 1000 (4.5s):  loss: 0.019  val loss: 0.036  value: 0.212  patience:  21\n",
      "INFO:pykeen.utilities.train_utils:Epoch 391 / 1000 (4.5s):  loss: 0.019  val loss: 0.036  value: 0.212  patience:  22\n",
      "INFO:pykeen.utilities.train_utils:Epoch 392 / 1000 (4.4s):  loss: 0.019  val loss: 0.036  value: 0.212  patience:  23\n",
      "INFO:pykeen.utilities.train_utils:Epoch 393 / 1000 (4.4s):  loss: 0.019  val loss: 0.036  value: 0.212  patience:  24\n",
      "INFO:pykeen.utilities.train_utils:Epoch 394 / 1000 (4.4s):  loss: 0.019  val loss: 0.036  value: 0.212  patience:  25\n",
      "INFO:pykeen.utilities.train_utils:Epoch 395 / 1000 (4.4s):  loss: 0.019  val loss: 0.036  value: 0.212  patience:  26\n",
      "INFO:pykeen.utilities.train_utils:Epoch 396 / 1000 (4.4s):  loss: 0.019  val loss: 0.036  value: 0.212  patience:  27\n",
      "INFO:pykeen.utilities.train_utils:Epoch 397 / 1000 (4.4s):  loss: 0.019  val loss: 0.036  value: 0.212  patience:  28\n",
      "INFO:pykeen.utilities.train_utils:Epoch 398 / 1000 (4.4s):  loss: 0.019  val loss: 0.036  value: 0.212  patience:  29\n",
      "INFO:pykeen.utilities.train_utils:Epoch 399 / 1000 (4.5s):  loss: 0.019  val loss: 0.037  value: 0.212  patience:  30\n",
      "INFO:pykeen.utilities.evaluation_utils.metrics_computations:Evaluation took 3.42s seconds\n"
     ]
    },
    {
     "name": "stdout",
     "output_type": "stream",
     "text": [
      "0.21457249488591587 (0.1631489102933101, 0.31333333333333335)\n"
     ]
    },
    {
     "name": "stderr",
     "output_type": "stream",
     "text": [
      "INFO:pykeen.utilities.train_utils:Epoch 400 / 1000 (4.5s):  loss: 0.020  val loss: 0.037  value: 0.215  patience:  31\n",
      "INFO:pykeen.utilities.train_utils:Epoch 401 / 1000 (4.5s):  loss: 0.019  val loss: 0.037  value: 0.215  patience:  32\n",
      "INFO:pykeen.utilities.train_utils:Epoch 402 / 1000 (4.5s):  loss: 0.019  val loss: 0.037  value: 0.215  patience:  33\n",
      "INFO:pykeen.utilities.train_utils:Epoch 403 / 1000 (4.4s):  loss: 0.019  val loss: 0.037  value: 0.215  patience:  34\n",
      "INFO:pykeen.utilities.train_utils:Epoch 404 / 1000 (4.4s):  loss: 0.019  val loss: 0.037  value: 0.215  patience:  35\n",
      "INFO:pykeen.utilities.train_utils:Epoch 405 / 1000 (4.4s):  loss: 0.019  val loss: 0.037  value: 0.215  patience:  36\n",
      "INFO:pykeen.utilities.train_utils:Epoch 406 / 1000 (4.4s):  loss: 0.019  val loss: 0.037  value: 0.215  patience:  37\n",
      "INFO:pykeen.utilities.train_utils:Epoch 407 / 1000 (4.4s):  loss: 0.019  val loss: 0.037  value: 0.215  patience:  38\n",
      "INFO:pykeen.utilities.train_utils:Epoch 408 / 1000 (4.4s):  loss: 0.019  val loss: 0.037  value: 0.215  patience:  39\n",
      "INFO:pykeen.utilities.train_utils:Epoch 409 / 1000 (4.4s):  loss: 0.019  val loss: 0.037  value: 0.215  patience:  40\n",
      "INFO:pykeen.utilities.evaluation_utils.metrics_computations:Evaluation took 3.30s seconds\n"
     ]
    },
    {
     "name": "stdout",
     "output_type": "stream",
     "text": [
      "0.2155142505474502 (0.16424030568091705, 0.31333333333333335)\n"
     ]
    },
    {
     "name": "stderr",
     "output_type": "stream",
     "text": [
      "INFO:pykeen.utilities.train_utils:Epoch 410 / 1000 (4.5s):  loss: 0.019  val loss: 0.037  value: 0.216  patience:  41\n",
      "INFO:pykeen.utilities.train_utils:Epoch 411 / 1000 (4.5s):  loss: 0.019  val loss: 0.037  value: 0.216  patience:  42\n",
      "INFO:pykeen.utilities.train_utils:Epoch 412 / 1000 (4.4s):  loss: 0.019  val loss: 0.037  value: 0.216  patience:  43\n",
      "INFO:pykeen.utilities.train_utils:Epoch 413 / 1000 (4.4s):  loss: 0.019  val loss: 0.037  value: 0.216  patience:  44\n",
      "INFO:pykeen.utilities.train_utils:Epoch 414 / 1000 (4.4s):  loss: 0.019  val loss: 0.037  value: 0.216  patience:  45\n",
      "INFO:pykeen.utilities.train_utils:Epoch 415 / 1000 (4.5s):  loss: 0.019  val loss: 0.037  value: 0.216  patience:  46\n",
      "INFO:pykeen.utilities.train_utils:Epoch 416 / 1000 (4.5s):  loss: 0.019  val loss: 0.037  value: 0.216  patience:  47\n",
      "INFO:pykeen.utilities.train_utils:Epoch 417 / 1000 (4.5s):  loss: 0.019  val loss: 0.037  value: 0.216  patience:  48\n",
      "INFO:pykeen.utilities.train_utils:Epoch 418 / 1000 (4.5s):  loss: 0.019  val loss: 0.037  value: 0.216  patience:  49\n",
      "INFO:pykeen.utilities.train_utils:Epoch 419 / 1000 (4.5s):  loss: 0.019  val loss: 0.037  value: 0.216  patience:  50\n",
      "INFO:pykeen.utilities.evaluation_utils.metrics_computations:Evaluation took 3.46s seconds\n"
     ]
    },
    {
     "name": "stdout",
     "output_type": "stream",
     "text": [
      "0.21661516522934537 (0.1646071795590848, 0.31666666666666665)\n"
     ]
    },
    {
     "name": "stderr",
     "output_type": "stream",
     "text": [
      "INFO:pykeen.utilities.train_utils:Epoch 420 / 1000 (4.5s):  loss: 0.019  val loss: 0.037  value: 0.217  patience:  51\n",
      "INFO:pykeen.utilities.train_utils:Epoch 421 / 1000 (4.5s):  loss: 0.019  val loss: 0.037  value: 0.217  patience:  52\n",
      "INFO:pykeen.utilities.train_utils:Epoch 422 / 1000 (4.4s):  loss: 0.019  val loss: 0.037  value: 0.217  patience:  53\n",
      "INFO:pykeen.utilities.train_utils:Epoch 423 / 1000 (4.4s):  loss: 0.019  val loss: 0.037  value: 0.217  patience:  54\n",
      "INFO:pykeen.utilities.train_utils:Epoch 424 / 1000 (4.4s):  loss: 0.019  val loss: 0.037  value: 0.217  patience:  55\n",
      "INFO:pykeen.utilities.train_utils:Epoch 425 / 1000 (4.4s):  loss: 0.019  val loss: 0.037  value: 0.217  patience:  56\n",
      "INFO:pykeen.utilities.train_utils:Epoch 426 / 1000 (4.4s):  loss: 0.019  val loss: 0.037  value: 0.217  patience:  57\n",
      "INFO:pykeen.utilities.train_utils:Epoch 427 / 1000 (4.4s):  loss: 0.019  val loss: 0.037  value: 0.217  patience:  58\n",
      "INFO:pykeen.utilities.train_utils:Epoch 428 / 1000 (4.4s):  loss: 0.019  val loss: 0.037  value: 0.217  patience:  59\n",
      "INFO:pykeen.utilities.train_utils:Epoch 429 / 1000 (4.4s):  loss: 0.019  val loss: 0.037  value: 0.217  patience:  60\n",
      "INFO:pykeen.utilities.evaluation_utils.metrics_computations:Evaluation took 3.22s seconds\n"
     ]
    },
    {
     "name": "stdout",
     "output_type": "stream",
     "text": [
      "0.21892665044542117 (0.16637606777214042, 0.32)\n"
     ]
    },
    {
     "name": "stderr",
     "output_type": "stream",
     "text": [
      "DEBUG:pykeen.utilities.train_utils:Saving the following model to disk:\n",
      "INFO:pykeen.utilities.train_utils:Epoch 430 / 1000 (4.4s):  loss: 0.019  val loss: 0.037  value: 0.219  patience:   1\n",
      "INFO:pykeen.utilities.train_utils:Epoch 431 / 1000 (4.4s):  loss: 0.019  val loss: 0.037  value: 0.219  patience:   2\n",
      "INFO:pykeen.utilities.train_utils:Epoch 432 / 1000 (4.4s):  loss: 0.019  val loss: 0.037  value: 0.219  patience:   3\n",
      "INFO:pykeen.utilities.train_utils:Epoch 433 / 1000 (4.4s):  loss: 0.019  val loss: 0.037  value: 0.219  patience:   4\n",
      "INFO:pykeen.utilities.train_utils:Epoch 434 / 1000 (4.4s):  loss: 0.019  val loss: 0.037  value: 0.219  patience:   5\n",
      "INFO:pykeen.utilities.train_utils:Epoch 435 / 1000 (4.5s):  loss: 0.019  val loss: 0.037  value: 0.219  patience:   6\n",
      "INFO:pykeen.utilities.train_utils:Epoch 436 / 1000 (4.5s):  loss: 0.019  val loss: 0.037  value: 0.219  patience:   7\n",
      "INFO:pykeen.utilities.train_utils:Epoch 437 / 1000 (4.5s):  loss: 0.019  val loss: 0.037  value: 0.219  patience:   8\n",
      "INFO:pykeen.utilities.train_utils:Epoch 438 / 1000 (4.5s):  loss: 0.019  val loss: 0.037  value: 0.219  patience:   9\n",
      "INFO:pykeen.utilities.train_utils:Epoch 439 / 1000 (4.5s):  loss: 0.019  val loss: 0.037  value: 0.219  patience:  10\n",
      "INFO:pykeen.utilities.evaluation_utils.metrics_computations:Evaluation took 3.41s seconds\n"
     ]
    },
    {
     "name": "stdout",
     "output_type": "stream",
     "text": [
      "0.21661027854988674 (0.1646015359284017, 0.31666666666666665)\n"
     ]
    },
    {
     "name": "stderr",
     "output_type": "stream",
     "text": [
      "INFO:pykeen.utilities.train_utils:Epoch 440 / 1000 (4.5s):  loss: 0.019  val loss: 0.037  value: 0.217  patience:  11\n",
      "INFO:pykeen.utilities.train_utils:Epoch 441 / 1000 (4.5s):  loss: 0.019  val loss: 0.037  value: 0.217  patience:  12\n",
      "INFO:pykeen.utilities.train_utils:Epoch 442 / 1000 (4.5s):  loss: 0.019  val loss: 0.037  value: 0.217  patience:  13\n",
      "INFO:pykeen.utilities.train_utils:Epoch 443 / 1000 (4.5s):  loss: 0.019  val loss: 0.037  value: 0.217  patience:  14\n",
      "INFO:pykeen.utilities.train_utils:Epoch 444 / 1000 (4.4s):  loss: 0.019  val loss: 0.037  value: 0.217  patience:  15\n",
      "INFO:pykeen.utilities.train_utils:Epoch 445 / 1000 (4.4s):  loss: 0.019  val loss: 0.037  value: 0.217  patience:  16\n",
      "INFO:pykeen.utilities.train_utils:Epoch 446 / 1000 (4.4s):  loss: 0.019  val loss: 0.037  value: 0.217  patience:  17\n",
      "INFO:pykeen.utilities.train_utils:Epoch 447 / 1000 (4.4s):  loss: 0.019  val loss: 0.037  value: 0.217  patience:  18\n",
      "INFO:pykeen.utilities.train_utils:Epoch 448 / 1000 (4.4s):  loss: 0.019  val loss: 0.037  value: 0.217  patience:  19\n",
      "INFO:pykeen.utilities.train_utils:Epoch 449 / 1000 (4.4s):  loss: 0.019  val loss: 0.036  value: 0.217  patience:  20\n",
      "INFO:pykeen.utilities.evaluation_utils.metrics_computations:Evaluation took 3.24s seconds\n"
     ]
    },
    {
     "name": "stdout",
     "output_type": "stream",
     "text": [
      "0.215343627570871 (0.1631431295811109, 0.31666666666666665)\n"
     ]
    },
    {
     "name": "stderr",
     "output_type": "stream",
     "text": [
      "INFO:pykeen.utilities.train_utils:Epoch 450 / 1000 (4.4s):  loss: 0.019  val loss: 0.036  value: 0.215  patience:  21\n",
      "INFO:pykeen.utilities.train_utils:Epoch 451 / 1000 (4.4s):  loss: 0.019  val loss: 0.036  value: 0.215  patience:  22\n",
      "INFO:pykeen.utilities.train_utils:Epoch 452 / 1000 (4.4s):  loss: 0.019  val loss: 0.036  value: 0.215  patience:  23\n",
      "INFO:pykeen.utilities.train_utils:Epoch 453 / 1000 (4.4s):  loss: 0.019  val loss: 0.036  value: 0.215  patience:  24\n",
      "INFO:pykeen.utilities.train_utils:Epoch 454 / 1000 (4.4s):  loss: 0.019  val loss: 0.036  value: 0.215  patience:  25\n",
      "INFO:pykeen.utilities.train_utils:Epoch 455 / 1000 (4.4s):  loss: 0.019  val loss: 0.036  value: 0.215  patience:  26\n",
      "INFO:pykeen.utilities.train_utils:Epoch 456 / 1000 (4.4s):  loss: 0.019  val loss: 0.036  value: 0.215  patience:  27\n",
      "INFO:pykeen.utilities.train_utils:Epoch 457 / 1000 (4.5s):  loss: 0.019  val loss: 0.036  value: 0.215  patience:  28\n",
      "INFO:pykeen.utilities.train_utils:Epoch 458 / 1000 (4.4s):  loss: 0.019  val loss: 0.036  value: 0.215  patience:  29\n",
      "INFO:pykeen.utilities.train_utils:Epoch 459 / 1000 (4.5s):  loss: 0.019  val loss: 0.036  value: 0.215  patience:  30\n",
      "INFO:pykeen.utilities.evaluation_utils.metrics_computations:Evaluation took 3.50s seconds\n"
     ]
    },
    {
     "name": "stdout",
     "output_type": "stream",
     "text": [
      "0.21564657619108424 (0.1634911361033492, 0.31666666666666665)\n"
     ]
    },
    {
     "name": "stderr",
     "output_type": "stream",
     "text": [
      "INFO:pykeen.utilities.train_utils:Epoch 460 / 1000 (4.5s):  loss: 0.019  val loss: 0.036  value: 0.216  patience:  31\n",
      "INFO:pykeen.utilities.train_utils:Epoch 461 / 1000 (4.5s):  loss: 0.019  val loss: 0.036  value: 0.216  patience:  32\n",
      "INFO:pykeen.utilities.train_utils:Epoch 462 / 1000 (4.5s):  loss: 0.019  val loss: 0.037  value: 0.216  patience:  33\n",
      "INFO:pykeen.utilities.train_utils:Epoch 463 / 1000 (4.5s):  loss: 0.019  val loss: 0.037  value: 0.216  patience:  34\n",
      "INFO:pykeen.utilities.train_utils:Epoch 464 / 1000 (4.4s):  loss: 0.019  val loss: 0.037  value: 0.216  patience:  35\n",
      "INFO:pykeen.utilities.train_utils:Epoch 465 / 1000 (4.5s):  loss: 0.019  val loss: 0.037  value: 0.216  patience:  36\n",
      "INFO:pykeen.utilities.train_utils:Epoch 466 / 1000 (4.4s):  loss: 0.019  val loss: 0.037  value: 0.216  patience:  37\n",
      "INFO:pykeen.utilities.train_utils:Epoch 467 / 1000 (4.4s):  loss: 0.019  val loss: 0.037  value: 0.216  patience:  38\n",
      "INFO:pykeen.utilities.train_utils:Epoch 468 / 1000 (4.4s):  loss: 0.019  val loss: 0.037  value: 0.216  patience:  39\n",
      "INFO:pykeen.utilities.train_utils:Epoch 469 / 1000 (4.4s):  loss: 0.019  val loss: 0.038  value: 0.216  patience:  40\n",
      "INFO:pykeen.utilities.evaluation_utils.metrics_computations:Evaluation took 3.30s seconds\n"
     ]
    },
    {
     "name": "stdout",
     "output_type": "stream",
     "text": [
      "0.2172962353345536 (0.1645000615551443, 0.32)\n"
     ]
    },
    {
     "name": "stderr",
     "output_type": "stream",
     "text": [
      "INFO:pykeen.utilities.train_utils:Epoch 470 / 1000 (4.4s):  loss: 0.019  val loss: 0.038  value: 0.217  patience:  41\n",
      "INFO:pykeen.utilities.train_utils:Epoch 471 / 1000 (4.5s):  loss: 0.019  val loss: 0.038  value: 0.217  patience:  42\n",
      "INFO:pykeen.utilities.train_utils:Epoch 472 / 1000 (4.4s):  loss: 0.019  val loss: 0.038  value: 0.217  patience:  43\n",
      "INFO:pykeen.utilities.train_utils:Epoch 473 / 1000 (4.4s):  loss: 0.019  val loss: 0.037  value: 0.217  patience:  44\n",
      "INFO:pykeen.utilities.train_utils:Epoch 474 / 1000 (4.4s):  loss: 0.019  val loss: 0.037  value: 0.217  patience:  45\n",
      "INFO:pykeen.utilities.train_utils:Epoch 475 / 1000 (4.5s):  loss: 0.019  val loss: 0.037  value: 0.217  patience:  46\n",
      "INFO:pykeen.utilities.train_utils:Epoch 476 / 1000 (4.5s):  loss: 0.019  val loss: 0.038  value: 0.217  patience:  47\n",
      "INFO:pykeen.utilities.train_utils:Epoch 477 / 1000 (4.5s):  loss: 0.019  val loss: 0.038  value: 0.217  patience:  48\n",
      "INFO:pykeen.utilities.train_utils:Epoch 478 / 1000 (4.5s):  loss: 0.019  val loss: 0.037  value: 0.217  patience:  49\n",
      "INFO:pykeen.utilities.train_utils:Epoch 479 / 1000 (4.5s):  loss: 0.019  val loss: 0.038  value: 0.217  patience:  50\n",
      "INFO:pykeen.utilities.evaluation_utils.metrics_computations:Evaluation took 3.33s seconds\n"
     ]
    },
    {
     "name": "stdout",
     "output_type": "stream",
     "text": [
      "0.21341932191698698 (0.16181927938217222, 0.31333333333333335)\n"
     ]
    },
    {
     "name": "stderr",
     "output_type": "stream",
     "text": [
      "INFO:pykeen.utilities.train_utils:Epoch 480 / 1000 (4.5s):  loss: 0.019  val loss: 0.038  value: 0.213  patience:  51\n",
      "INFO:pykeen.utilities.train_utils:Epoch 481 / 1000 (4.5s):  loss: 0.019  val loss: 0.038  value: 0.213  patience:  52\n",
      "INFO:pykeen.utilities.train_utils:Epoch 482 / 1000 (4.5s):  loss: 0.019  val loss: 0.038  value: 0.213  patience:  53\n",
      "INFO:pykeen.utilities.train_utils:Epoch 483 / 1000 (4.4s):  loss: 0.019  val loss: 0.038  value: 0.213  patience:  54\n",
      "INFO:pykeen.utilities.train_utils:Epoch 484 / 1000 (4.4s):  loss: 0.019  val loss: 0.037  value: 0.213  patience:  55\n",
      "INFO:pykeen.utilities.train_utils:Epoch 485 / 1000 (4.5s):  loss: 0.019  val loss: 0.037  value: 0.213  patience:  56\n",
      "INFO:pykeen.utilities.train_utils:Epoch 486 / 1000 (4.4s):  loss: 0.019  val loss: 0.037  value: 0.213  patience:  57\n",
      "INFO:pykeen.utilities.train_utils:Epoch 487 / 1000 (4.4s):  loss: 0.019  val loss: 0.037  value: 0.213  patience:  58\n",
      "INFO:pykeen.utilities.train_utils:Epoch 488 / 1000 (4.4s):  loss: 0.019  val loss: 0.037  value: 0.213  patience:  59\n",
      "INFO:pykeen.utilities.train_utils:Epoch 489 / 1000 (4.4s):  loss: 0.019  val loss: 0.037  value: 0.213  patience:  60\n",
      "INFO:pykeen.utilities.evaluation_utils.metrics_computations:Evaluation took 3.25s seconds\n"
     ]
    },
    {
     "name": "stdout",
     "output_type": "stream",
     "text": [
      "0.21746718646854876 (0.16469608381020023, 0.32)\n"
     ]
    },
    {
     "name": "stderr",
     "output_type": "stream",
     "text": [
      "INFO:pykeen.utilities.train_utils:Epoch 490 / 1000 (4.4s):  loss: 0.019  val loss: 0.037  value: 0.217  patience:  61\n",
      "INFO:pykeen.utilities.train_utils:Epoch 491 / 1000 (4.5s):  loss: 0.019  val loss: 0.037  value: 0.217  patience:  62\n",
      "INFO:pykeen.utilities.train_utils:Epoch 492 / 1000 (4.5s):  loss: 0.019  val loss: 0.037  value: 0.217  patience:  63\n",
      "INFO:pykeen.utilities.train_utils:Epoch 493 / 1000 (4.5s):  loss: 0.019  val loss: 0.037  value: 0.217  patience:  64\n",
      "INFO:pykeen.utilities.train_utils:Epoch 494 / 1000 (4.5s):  loss: 0.019  val loss: 0.037  value: 0.217  patience:  65\n",
      "INFO:pykeen.utilities.train_utils:Epoch 495 / 1000 (4.5s):  loss: 0.019  val loss: 0.037  value: 0.217  patience:  66\n",
      "INFO:pykeen.utilities.train_utils:Epoch 496 / 1000 (4.5s):  loss: 0.019  val loss: 0.037  value: 0.217  patience:  67\n",
      "INFO:pykeen.utilities.train_utils:Epoch 497 / 1000 (4.5s):  loss: 0.019  val loss: 0.037  value: 0.217  patience:  68\n",
      "INFO:pykeen.utilities.train_utils:Epoch 498 / 1000 (4.4s):  loss: 0.019  val loss: 0.036  value: 0.217  patience:  69\n",
      "INFO:pykeen.utilities.train_utils:Epoch 499 / 1000 (4.4s):  loss: 0.019  val loss: 0.037  value: 0.217  patience:  70\n",
      "INFO:pykeen.utilities.evaluation_utils.metrics_computations:Evaluation took 3.25s seconds\n"
     ]
    },
    {
     "name": "stdout",
     "output_type": "stream",
     "text": [
      "0.2118155010316502 (0.16086550441226574, 0.31)\n"
     ]
    },
    {
     "name": "stderr",
     "output_type": "stream",
     "text": [
      "INFO:pykeen.utilities.train_utils:Epoch 500 / 1000 (4.4s):  loss: 0.019  val loss: 0.037  value: 0.212  patience:  71\n",
      "INFO:pykeen.utilities.train_utils:Epoch 501 / 1000 (4.4s):  loss: 0.019  val loss: 0.036  value: 0.212  patience:  72\n",
      "INFO:pykeen.utilities.train_utils:Epoch 502 / 1000 (4.5s):  loss: 0.019  val loss: 0.036  value: 0.212  patience:  73\n",
      "INFO:pykeen.utilities.train_utils:Epoch 503 / 1000 (4.4s):  loss: 0.019  val loss: 0.037  value: 0.212  patience:  74\n",
      "INFO:pykeen.utilities.train_utils:Epoch 504 / 1000 (4.4s):  loss: 0.019  val loss: 0.036  value: 0.212  patience:  75\n",
      "INFO:pykeen.utilities.train_utils:Epoch 505 / 1000 (4.4s):  loss: 0.019  val loss: 0.036  value: 0.212  patience:  76\n",
      "INFO:pykeen.utilities.train_utils:Epoch 506 / 1000 (4.5s):  loss: 0.019  val loss: 0.037  value: 0.212  patience:  77\n",
      "INFO:pykeen.utilities.train_utils:Epoch 507 / 1000 (4.5s):  loss: 0.019  val loss: 0.037  value: 0.212  patience:  78\n",
      "INFO:pykeen.utilities.train_utils:Epoch 508 / 1000 (4.5s):  loss: 0.019  val loss: 0.037  value: 0.212  patience:  79\n",
      "INFO:pykeen.utilities.train_utils:Epoch 509 / 1000 (4.7s):  loss: 0.019  val loss: 0.037  value: 0.212  patience:  80\n",
      "INFO:pykeen.utilities.evaluation_utils.metrics_computations:Evaluation took 3.89s seconds\n"
     ]
    },
    {
     "name": "stdout",
     "output_type": "stream",
     "text": [
      "0.21504174948634172 (0.16461682718208392, 0.31)\n"
     ]
    },
    {
     "name": "stderr",
     "output_type": "stream",
     "text": [
      "INFO:pykeen.utilities.train_utils:Epoch 510 / 1000 (4.6s):  loss: 0.019  val loss: 0.037  value: 0.215  patience:  81\n",
      "INFO:pykeen.utilities.train_utils:Epoch 511 / 1000 (4.5s):  loss: 0.019  val loss: 0.037  value: 0.215  patience:  82\n",
      "INFO:pykeen.utilities.train_utils:Epoch 512 / 1000 (4.5s):  loss: 0.019  val loss: 0.037  value: 0.215  patience:  83\n",
      "INFO:pykeen.utilities.train_utils:Epoch 513 / 1000 (4.5s):  loss: 0.019  val loss: 0.037  value: 0.215  patience:  84\n",
      "INFO:pykeen.utilities.train_utils:Epoch 514 / 1000 (4.5s):  loss: 0.019  val loss: 0.037  value: 0.215  patience:  85\n",
      "INFO:pykeen.utilities.train_utils:Epoch 515 / 1000 (4.5s):  loss: 0.019  val loss: 0.038  value: 0.215  patience:  86\n",
      "INFO:pykeen.utilities.train_utils:Epoch 516 / 1000 (4.5s):  loss: 0.019  val loss: 0.037  value: 0.215  patience:  87\n",
      "INFO:pykeen.utilities.train_utils:Epoch 517 / 1000 (4.5s):  loss: 0.018  val loss: 0.037  value: 0.215  patience:  88\n",
      "INFO:pykeen.utilities.train_utils:Epoch 518 / 1000 (4.4s):  loss: 0.019  val loss: 0.037  value: 0.215  patience:  89\n",
      "INFO:pykeen.utilities.train_utils:Epoch 519 / 1000 (4.4s):  loss: 0.019  val loss: 0.038  value: 0.215  patience:  90\n",
      "INFO:pykeen.utilities.evaluation_utils.metrics_computations:Evaluation took 3.37s seconds\n"
     ]
    },
    {
     "name": "stdout",
     "output_type": "stream",
     "text": [
      "0.21803744319631294 (0.16718921443741186, 0.31333333333333335)\n"
     ]
    },
    {
     "name": "stderr",
     "output_type": "stream",
     "text": [
      "INFO:pykeen.utilities.train_utils:Epoch 520 / 1000 (4.4s):  loss: 0.019  val loss: 0.037  value: 0.218  patience:  91\n",
      "INFO:pykeen.utilities.train_utils:Epoch 521 / 1000 (4.5s):  loss: 0.019  val loss: 0.037  value: 0.218  patience:  92\n",
      "INFO:pykeen.utilities.train_utils:Epoch 522 / 1000 (4.4s):  loss: 0.019  val loss: 0.037  value: 0.218  patience:  93\n",
      "INFO:pykeen.utilities.train_utils:Epoch 523 / 1000 (4.4s):  loss: 0.019  val loss: 0.037  value: 0.218  patience:  94\n",
      "INFO:pykeen.utilities.train_utils:Epoch 524 / 1000 (4.4s):  loss: 0.019  val loss: 0.037  value: 0.218  patience:  95\n",
      "INFO:pykeen.utilities.train_utils:Epoch 525 / 1000 (4.4s):  loss: 0.019  val loss: 0.037  value: 0.218  patience:  96\n",
      "INFO:pykeen.utilities.train_utils:Epoch 526 / 1000 (4.4s):  loss: 0.019  val loss: 0.037  value: 0.218  patience:  97\n",
      "INFO:pykeen.utilities.train_utils:Epoch 527 / 1000 (4.5s):  loss: 0.019  val loss: 0.037  value: 0.218  patience:  98\n",
      "INFO:pykeen.utilities.train_utils:Epoch 528 / 1000 (4.5s):  loss: 0.019  val loss: 0.037  value: 0.218  patience:  99\n",
      "INFO:pykeen.utilities.train_utils:Epoch 529 / 1000 (4.4s):  loss: 0.019  val loss: 0.037  value: 0.218  patience: 100\n",
      "DEBUG:pykeen.utilities.train_utils:training took 2542.98s seconds\n",
      "INFO:pykeen.utilities.pipeline:-------------Start Evaluation-------------\n",
      "INFO:pykeen.utilities.evaluation_utils.metrics_computations:Evaluation took 0.00s seconds\n"
     ]
    }
   ],
   "source": [
    "# my\n",
    "results = pykeen.run(\n",
    "    config=config,\n",
    "    output_directory=output_directory,\n",
    ")"
   ]
  },
  {
   "cell_type": "markdown",
   "metadata": {},
   "source": [
    "Check result entries:"
   ]
  },
  {
   "cell_type": "code",
   "execution_count": 28,
   "metadata": {
    "ExecuteTime": {
     "end_time": "2019-06-25T21:47:23.918881Z",
     "start_time": "2019-06-25T21:47:23.911901Z"
    }
   },
   "outputs": [
    {
     "data": {
      "text/plain": [
       "odict_keys(['trained_model', 'losses', 'validation_losses', 'metric_per_epoch', 'entity_to_embedding', 'relation_to_embedding', 'eval_summary', 'entity_to_id', 'relation_to_id', 'final_configuration', 'search_summary'])"
      ]
     },
     "execution_count": 28,
     "metadata": {},
     "output_type": "execute_result"
    }
   ],
   "source": [
    "results.results.keys()"
   ]
  },
  {
   "cell_type": "markdown",
   "metadata": {},
   "source": [
    "Visualize loss values:"
   ]
  },
  {
   "cell_type": "code",
   "execution_count": 29,
   "metadata": {
    "ExecuteTime": {
     "end_time": "2019-06-25T21:47:24.789843Z",
     "start_time": "2019-06-25T21:47:23.920876Z"
    }
   },
   "outputs": [
    {
     "name": "stderr",
     "output_type": "stream",
     "text": [
      "DEBUG:matplotlib.axes._base:update_title_pos\n",
      "DEBUG:matplotlib.font_manager:findfont: Matching :family=sans-serif:style=normal:variant=normal:weight=normal:stretch=normal:size=10.0 to DejaVu Sans ('D:\\\\uni\\\\master\\\\conda_env\\\\lib\\\\site-packages\\\\matplotlib\\\\mpl-data\\\\fonts\\\\ttf\\\\DejaVuSans.ttf') with score of 0.050000.\n",
      "DEBUG:matplotlib.font_manager:findfont: Matching :family=sans-serif:style=normal:variant=normal:weight=normal:stretch=normal:size=12.0 to DejaVu Sans ('D:\\\\uni\\\\master\\\\conda_env\\\\lib\\\\site-packages\\\\matplotlib\\\\mpl-data\\\\fonts\\\\ttf\\\\DejaVuSans.ttf') with score of 0.050000.\n",
      "DEBUG:matplotlib.axes._base:update_title_pos\n",
      "DEBUG:matplotlib.axes._base:update_title_pos\n",
      "DEBUG:matplotlib.axes._base:update_title_pos\n",
      "DEBUG:matplotlib.axes._base:update_title_pos\n",
      "DEBUG:matplotlib.axes._base:update_title_pos\n",
      "DEBUG:matplotlib.axes._base:update_title_pos\n",
      "DEBUG:matplotlib.axes._base:update_title_pos\n"
     ]
    },
    {
     "data": {
      "image/png": "[encoded data removed]",
      "text/plain": [
       "<Figure size 720x360 with 2 Axes>"
      ]
     },
     "metadata": {
      "needs_background": "light"
     },
     "output_type": "display_data"
    }
   ],
   "source": [
    "fig, (ax1, ax2) = plt.subplots(1,2, figsize = (10,5), sharey=True)\n",
    "losses = results.results['losses']\n",
    "epochs = np.arange(len(losses))\n",
    "ax1.set_title('Loss Per Epoch')\n",
    "plt.xlabel('epoch')\n",
    "plt.ylabel('loss')\n",
    "ax1.plot(epochs, losses) #plt.subplot(122)\n",
    "val_losses = results.results['validation_losses']\n",
    "epochs = np.arange(len(val_losses))\n",
    "plt.title(r'Validation Loss Per Epoch')\n",
    "plt.xlabel('epoch')\n",
    "plt.ylabel('loss')\n",
    "ax2.plot(epochs, val_losses)\n",
    "plt.show()\n"
   ]
  },
  {
   "cell_type": "code",
   "execution_count": null,
   "metadata": {
    "ExecuteTime": {
     "start_time": "2019-06-25T21:00:55.445Z"
    }
   },
   "outputs": [],
   "source": [
    "from sklearn.preprocessing import minmax_scale\n",
    "metric = minmax_scale(results.results['metric_per_epoch'], feature_range=(0,1))\n",
    "epochs = np.arange(len(losses)) * 15\n",
    "plt.xlabel('epoch')\n",
    "plt.ylabel('loss')\n",
    "plt.plot(epochs, metric)\n",
    "\n",
    "val_losses = minmax_scale(results.results['validation_losses'], feature_range=(0,1))\n",
    "epochs = np.arange(len(val_losses))\n",
    "plt.title(r'Early stopping evaluation')\n",
    "plt.xlabel('epoch')\n",
    "plt.ylabel('loss')\n",
    "plt.plot(epochs, val_losses)\n",
    "\n",
    "plt.legend([\"metric\", \"val_loss\"])\n",
    "plt.show()"
   ]
  },
  {
   "cell_type": "code",
   "execution_count": 30,
   "metadata": {
    "ExecuteTime": {
     "end_time": "2019-06-25T21:47:24.799783Z",
     "start_time": "2019-06-25T21:47:24.794802Z"
    }
   },
   "outputs": [
    {
     "data": {
      "text/plain": [
       "{'mean_rank': None,\n",
       " 'hits@k': None,\n",
       " 'precision': None,\n",
       " 'recall': None,\n",
       " 'accuracy': None,\n",
       " 'f1_score': None}"
      ]
     },
     "execution_count": 30,
     "metadata": {},
     "output_type": "execute_result"
    }
   ],
   "source": [
    "results.results['eval_summary']"
   ]
  },
  {
   "cell_type": "markdown",
   "metadata": {},
   "source": [
    "## Load and evaluate"
   ]
  },
  {
   "cell_type": "code",
   "execution_count": 31,
   "metadata": {
    "ExecuteTime": {
     "end_time": "2019-06-25T21:47:24.813745Z",
     "start_time": "2019-06-25T21:47:24.802775Z"
    }
   },
   "outputs": [],
   "source": [
    "import torch\n",
    "import json\n",
    "import os\n",
    "import pykeen.constants as pkc\n",
    "from pykeen.kge_models import get_kge_model\n",
    "from pykeen.utilities.pipeline import Pipeline"
   ]
  },
  {
   "cell_type": "code",
   "execution_count": 32,
   "metadata": {
    "ExecuteTime": {
     "end_time": "2019-06-25T21:47:24.824717Z",
     "start_time": "2019-06-25T21:47:24.814742Z"
    }
   },
   "outputs": [
    {
     "data": {
      "text/plain": [
       "['hpo',\n",
       " 'KG2E_FB15k_KL_dim50_lr0001_margin1_epochs1000_prediction',\n",
       " 'KG2E_FB15k_KL_dim50_lr0001_margin1_epochs500',\n",
       " 'KG2E_FB15k_KL_dim50_lr001_margin1_epochs500',\n",
       " 'KG2E_KL_FB15k_dim20_lr0001_margin2_epochs1000',\n",
       " 'KG2E_KL_FB15k_dim20_lr001_margin2_epochs1000',\n",
       " 'KG2E_KL_FB15k_dim20_lr005_margin2_epochs1000',\n",
       " 'KG2E_KL_FB15k_dim20_lr01_margin2_epochs1000',\n",
       " 'KG2E_KL_FB15k_dim20_lr1e-05_margin2_epochs1000',\n",
       " 'KG2E_KL_FB15k_dim50_lr00001_epochs1000',\n",
       " 'KG2E_KL_FB15k_dim50_lr0001_margin1_epochs1000',\n",
       " 'KG2E_KL_FB15k_dim50_lr1e-05_margin1_epochs1000',\n",
       " 'region_1000epochs',\n",
       " 'region_20epochs',\n",
       " 'region_300epochs',\n",
       " 'region_5epochs',\n",
       " 'region_dim100_ellipse_rad0_regL01_lr0001_loss-NLL_margin0.5_singlepass-True_negfactor1_epochs500',\n",
       " 'region_dim100_ellipse_rad0_regL1e-05_lr0001_loss-NLL_margin0.5_singlepass-True_negfactor1_epochs500',\n",
       " 'region_dim100_ellipse_rad10_regL1e-05_lr0001_loss-NLL_margin0.0_singlepass-True_negfactor2_epochs50',\n",
       " 'region_dim100_sphere_rad10_regL1e-05_lr0001_loss-MRL_margin0.0_singlepass-False_negfactor1_epochs1',\n",
       " 'region_dim100_sphere_rad10_regL1e-05_lr0001_loss-NLL_margin0.0_singlepass-True_negfactor2_epochs1',\n",
       " 'region_dim100_sphere_rad10_regL1e-05_lr0001_loss-NLL_margin0.0_singlepass-True_negfactor2_epochs3',\n",
       " 'region_dim100_sphere_rad10_regL1e-05_lr0001_loss-NLL_margin0.0_singlepass-True_negfactor2_epochs50',\n",
       " 'region_dim10_sphere_rad10_regL1e-05_lr0001_loss-NLL_margin0.0_singlepass-True_negfactor2_epochs5',\n",
       " 'region_dim20_rad5_regL002_lr5',\n",
       " 'region_dim20_rad5_regL002_lr5_loss-MRL_margin0_singlepass-False_negfactor1',\n",
       " 'region_dim50_rad10_regL01_lr2',\n",
       " 'region_dim50_rad5_regL002_lr1_loss-MRL_margin0.0_singlepass-False_negfactor3',\n",
       " 'region_dim50_sphere_rad10_regL1e-05_lr0001_loss-MRL_margin1_singlepass-False_negfactor1_epochs10',\n",
       " 'region_dim50_sphere_rad10_regL1e-05_lr0001_loss-NLL_margin1_singlepass-True_negfactor1_epochs500',\n",
       " 'region_dim50_sphere_rad10_regL1e-05_lr001_loss-MRL_margin1_singlepass-False_negfactor1_epochs10',\n",
       " 'region_dim50_sphere_rad10_regL1e-05_lr001_loss-MRL_margin2_singlepass-False_negfactor1_epochs10',\n",
       " 'region_dim50_sphere_rad10_regL1e-05_lr001_loss-NLL_margin0.0_singlepass-True_negfactor1_epochs10',\n",
       " 'region_dim50_sphere_rad10_regL1e-05_lr001_loss-NLL_margin1_singlepass-True_negfactor1_epochs500',\n",
       " 'region_dim70_ellipse_rad10_regL1e-05_lr0001_loss-NLL_margin0.0_singlepass-True_negfactor2_epochs50',\n",
       " 'region_dim70_rad10_regL01_lr0001_loss-NLL_margin0.0_singlepass-True_negfactor2_epochs10',\n",
       " 'region_dim70_rad10_regL10_lr5_loss-MRL_margin0.0_singlepass-True_negfactor2',\n",
       " 'region_dim70_rad10_regL10_lr5_loss-NLL_margin0.0_singlepass-True_negfactor2',\n",
       " 'region_dim70_rad10_regL1e-05_lr0001_loss-NLL_margin0.0_singlepass-True_negfactor2_epochs50',\n",
       " 'region_dim70_rad10_regL2_lr10_loss-NLL_margin0.0_singlepass-True_negfactor2_epochs100',\n",
       " 'region_dim70_rad10_regL2_lr10_loss-NLL_margin0.0_singlepass-True_negfactor2_epochs1000',\n",
       " 'region_dim70_rad10_regL2_lr5_loss-NLL_margin0.0_singlepass-True_negfactor2',\n",
       " 'region_dim70_sphere_rad10_regL1e-05_lr0001_loss-MRL_margin0.0_singlepass-False_negfactor1_epochs10',\n",
       " 'region_dim70_sphere_rad10_regL1e-05_lr0001_loss-MRL_margin0.0_singlepass-False_negfactor1_epochs2',\n",
       " 'region_dim70_sphere_rad10_regL1e-05_lr0001_loss-NLL_margin0.0_singlepass-False_negfactor1_epochs10',\n",
       " 'region_dim70_sphere_rad10_regL1e-05_lr0001_loss-NLL_margin0.0_singlepass-True_negfactor1_epochs10',\n",
       " 'region_dim70_sphere_rad10_regL1e-05_lr001_loss-NLL_margin0.0_singlepass-True_negfactor1_epochs10',\n",
       " 'region_FB15k_dim100_ellipse_rad0_regL0_lr001_loss-NLL_margin1_singlepass-True_negfactor1_epochs1000',\n",
       " 'region_FB15k_dim50_ellipse_rad0_regL00001_lr01_loss-MRL_margin0.5_singlepass-False_negfactor1_epochs1000',\n",
       " 'region_FB15k_dim50_ellipse_rad0_regL0001_lr01_loss-MRL_margin1_singlepass-False_negfactor1_epochs1000',\n",
       " 'region_FB15k_dim50_ellipse_rad0_regL0_lr001_loss-MRL_margin1_singlepass-False_negfactor1_epochs1000',\n",
       " 'region_FB15k_dim50_ellipse_rad0_regL0_lr001_loss-NLL_margin1_singlepass-True_negfactor1_epochs1000',\n",
       " 'region_FB15k_dim50_ellipse_rad0_regL0_lr01_loss-MRL_margin0.5_singlepass-False_negfactor1_epochs1000',\n",
       " 'region_FB15k_dim50_ellipse_rad0_regL0_lr01_loss-MRL_margin1_singlepass-False_negfactor1_epochs1000',\n",
       " 'region_FB15k_dim50_sphere_rad0_regL0001_lr01_loss-MRL_margin0.5_singlepass-False_negfactor1_epochs1000',\n",
       " 'region_FB15k_dim50_sphere_rad0_regL001_lr01_loss-MRL_margin0.5_singlepass-False_negfactor1_epochs1000',\n",
       " 'region_FB15k_dim50_sphere_rad0_regL0_lr001_loss-NLL_margin1_singlepass-True_negfactor1_epochs1000',\n",
       " 'region_FB15k_dim50_sphere_rad0_regL0_lr01_loss-MRL_margin0.5_singlepass-False_negfactor1_epochs1000',\n",
       " 'region_FB15k_dim50_sphere_rad0_regL1e-05_lr01_loss-MRL_margin0.5_singlepass-False_negfactor1_epochs1000',\n",
       " 'region_FB15k_dim70_ellipse_rad0_regL0_lr01_loss-MRL_margin1_singlepass-False_negfactor1_epochs1000',\n",
       " 'region_hpo',\n",
       " 'test',\n",
       " 'TransE',\n",
       " 'TransE_3margins',\n",
       " 'TransE_dim20_lr001_margin1_epochs1000',\n",
       " 'TransE_dim20_lr01_margin1_epochs1000',\n",
       " 'TransE_dim50_lr0001_scoreL1_margin1_epochs1000',\n",
       " 'TransE_dim50_lr0001_scoreL1_margin1_epochs1001',\n",
       " 'TransE_dim50_lr0001_scoreL1_margin1_epochs3',\n",
       " 'TransE_dim50_lr001_margin1_epochs1000',\n",
       " 'TransE_dim50_lr001_scoreL1_margin1_epochs1000',\n",
       " 'TransE_dim50_lr001_scoreL2_margin1_epochs1001',\n",
       " 'TransE_dim50_lr1_margin1_epochs1000',\n",
       " 'TransE_dim50_lr1_scoreL2_margin1_epochs1001',\n",
       " 'TransE_ESonMRR_dim50_lr0001_scoreL1_margin1_epochs1000',\n",
       " 'TransE_FB15k_0514_dim50_lr001_margin1_epochs1000',\n",
       " 'TransE_FB15k_dim50_lr0001_margin1_epochs1000',\n",
       " 'TransE_FB15k_dim50_lr0001_margin1_epochs1000_original',\n",
       " 'TransE_FB15k_dim50_lr0001_margin1_epochs20',\n",
       " 'TransE_FB15k_dim50_lr0005_margin1_epochs1000_original',\n",
       " 'TransE_FB15k_dim50_lr001_margin1_epochs1000',\n",
       " 'TransE_FB15k_dim50_lr001_margin1_epochs1000_bs2048',\n",
       " 'TransE_FB15k_dim50_lr001_margin1_epochs1000_original',\n",
       " 'TransE_FB15k_dim50_lr001_margin1_epochs300',\n",
       " 'TransE_FB15k_dim50_lr001_margin1_epochs500',\n",
       " 'TransE_FB15k_dim50_lr001_margin1_epochs51',\n",
       " 'TransE_FB15k_dim50_lr001_margin1_epochs51_original',\n",
       " 'TransE_FB15k_dim50_lr1_margin1_epochs1000',\n",
       " 'TransE_MRR_dim50_lr0001_scoreL1_margin1_epochs1000_batch_1024',\n",
       " 'TransE_MRR_dim50_lr0001_scoreL1_margin1_epochs1000_batch_512_original',\n",
       " 'TransE_MRR_dim50_lr0005_scoreL1_margin1_epochs1000_batch_1024',\n",
       " 'TransE_MRR_dim50_lr001_scoreL1_margin1_epochs1000_batch_1024']"
      ]
     },
     "execution_count": 32,
     "metadata": {},
     "output_type": "execute_result"
    }
   ],
   "source": [
    "model_dir = 'D:/uni/master/models/'\n",
    "models = os.listdir(model_dir)\n",
    "models"
   ]
  },
  {
   "cell_type": "code",
   "execution_count": 33,
   "metadata": {
    "ExecuteTime": {
     "end_time": "2019-06-25T21:47:24.853665Z",
     "start_time": "2019-06-25T21:47:24.827714Z"
    }
   },
   "outputs": [],
   "source": [
    "model_path = ''\n",
    "if model_path:\n",
    "    input_directory = os.path.join(model_dir, model_path)\n",
    "    results = {\n",
    "    'losses': json.load(open(os.path.join(input_directory, 'losses.json'))),\n",
    "    'validation_losses': json.load(open(os.path.join(input_directory, 'val_losses.json'))),\n",
    "    'entity_to_embedding': json.load(open(os.path.join(input_directory, 'entities_to_embeddings.json'))),\n",
    "    'relation_to_embedding': json.load(open(os.path.join(input_directory, 'relations_to_embeddings.json'))),\n",
    "    'final_configuration': json.load(open(os.path.join(input_directory, 'configuration.json'))),\n",
    "    'eval_summary': json.load(open(os.path.join(input_directory, 'evaluation_summary.json'))),\n",
    "    'entity_to_id': json.load(open(os.path.join(input_directory, 'entity_to_id.json'))),\n",
    "    'relation_to_id': json.load(open(os.path.join(input_directory, 'relation_to_id.json')))\n",
    "    }\n",
    "    # Initialize KG embedding model\n",
    "    config = results['final_configuration']\n",
    "    config['training_set_path'] = 'D:/uni/master/data/FB15K/train.tsv'\n",
    "    config['test_set_path'] = 'D:/uni/master/data/FB15K/valid.tsv'\n",
    "    relation_to_id = results['relation_to_id']\n",
    "    entity_to_id = results['entity_to_id']\n",
    "else:\n",
    "    # Initialize KG embedding model\n",
    "    input_directory = output_directory\n",
    "    config[pkc.NUM_ENTITIES] = 14951\n",
    "    config[pkc.NUM_RELATIONS] = 1345\n",
    "    config[pkc.PREFERRED_DEVICE] = 'gpu'\n",
    "    relation_to_id = json.load(open(os.path.join(input_directory, 'relation_to_id.json'),'r'))\n",
    "    entity_to_id = json.load(open(os.path.join(input_directory, 'entity_to_id.json'),'r'))"
   ]
  },
  {
   "cell_type": "markdown",
   "metadata": {},
   "source": [
    "Get evaluation results:\n",
    " * Mean rank\n",
    " * Hits@k, k $\\in$ {1,3,5,10} "
   ]
  },
  {
   "cell_type": "code",
   "execution_count": 34,
   "metadata": {
    "ExecuteTime": {
     "end_time": "2019-06-25T21:47:24.890539Z",
     "start_time": "2019-06-25T21:47:24.854667Z"
    }
   },
   "outputs": [
    {
     "data": {
      "text/plain": [
       "pykeen.kge_models.trans_e.TransE"
      ]
     },
     "execution_count": 34,
     "metadata": {},
     "output_type": "execute_result"
    }
   ],
   "source": [
    "pipeline = Pipeline(config)\n",
    "if config['random_seed'] is not None:\n",
    "    torch.manual_seed(config['random_seed'])\n",
    "pipeline.entity_label_to_id = entity_to_id\n",
    "pipeline.relation_label_to_id = relation_to_id\n",
    "    \n",
    "model: torch.nn.Module = get_kge_model(config=config)\n",
    "model.load_state_dict(torch.load(os.path.join(input_directory, 'best_model.pkl')))\n",
    "\n",
    "#results['trained_model'] = model \n",
    "type(model)"
   ]
  },
  {
   "cell_type": "code",
   "execution_count": 35,
   "metadata": {
    "ExecuteTime": {
     "end_time": "2019-06-25T21:47:24.899515Z",
     "start_time": "2019-06-25T21:47:24.892534Z"
    }
   },
   "outputs": [],
   "source": [
    "metrics = [pkc.MEAN_RANK, pkc.HITS_AT_K, pkc.TRIPLE_PREDICTION] #  [pkc.MEAN_RANK, pkc.HITS_AT_K, pkc.TRIPLE_PREDICTION]"
   ]
  },
  {
   "cell_type": "markdown",
   "metadata": {},
   "source": [
    "#### Evaluate RelationalTriple"
   ]
  },
  {
   "cell_type": "code",
   "execution_count": 36,
   "metadata": {
    "ExecuteTime": {
     "end_time": "2019-06-25T21:56:40.572803Z",
     "start_time": "2019-06-25T21:47:24.901510Z"
    }
   },
   "outputs": [
    {
     "name": "stderr",
     "output_type": "stream",
     "text": [
      "INFO:pykeen.utilities.pipeline:-------------Start Evaluation-------------\n",
      "INFO:pykeen.utilities.evaluation_utils.metrics_computations:Best accuracy 0.95 achieved on threshold: 9.28\n",
      "INFO:pykeen.utilities.evaluation_utils.metrics_computations:Evaluation took 544.01s seconds\n",
      "INFO:pykeen.utilities.pipeline:MetricResults(mean_rank=0.20744016455369696, hits_at_k={1: 0.11251, 3: 0.23001, 5: 0.29985, 10: 0.40415}, precision=0.9504797399096028, recall=0.95892, accuracy=0.9544745369444333, fscore=0.9546812154036081)\n"
     ]
    }
   ],
   "source": [
    "val_results = pipeline.evaluate(\n",
    "    model, \n",
    "    'D:/uni/master/data/FB15K/valid.tsv', \n",
    "    neg_test_path = 'D:/uni/master/data/FB15K/valid_neg.tsv', \n",
    "    metrics= metrics,\n",
    "    threshold_search=True\n",
    ")"
   ]
  },
  {
   "cell_type": "code",
   "execution_count": 37,
   "metadata": {
    "ExecuteTime": {
     "end_time": "2019-06-25T21:56:40.579785Z",
     "start_time": "2019-06-25T21:56:40.573801Z"
    }
   },
   "outputs": [
    {
     "data": {
      "text/plain": [
       "{'mean_rank': 0.20744016455369696,\n",
       " 'hits@k': {1: 0.11251, 3: 0.23001, 5: 0.29985, 10: 0.40415},\n",
       " 'precision': 0.9504797399096028,\n",
       " 'recall': 0.95892,\n",
       " 'accuracy': 0.9544745369444333,\n",
       " 'f1_score': 0.9546812154036081}"
      ]
     },
     "execution_count": 37,
     "metadata": {},
     "output_type": "execute_result"
    }
   ],
   "source": [
    "val_results['eval_summary']"
   ]
  },
  {
   "cell_type": "code",
   "execution_count": 38,
   "metadata": {
    "ExecuteTime": {
     "end_time": "2019-06-25T21:56:40.596739Z",
     "start_time": "2019-06-25T21:56:40.580782Z"
    }
   },
   "outputs": [
    {
     "data": {
      "text/plain": [
       "array([11.43597844, 11.43597844, 11.43597844, ..., 11.43597844,\n",
       "        7.06906481,  9.41723442])"
      ]
     },
     "execution_count": 38,
     "metadata": {},
     "output_type": "execute_result"
    }
   ],
   "source": [
    "model.relation_thresholds"
   ]
  },
  {
   "cell_type": "code",
   "execution_count": 39,
   "metadata": {
    "ExecuteTime": {
     "end_time": "2019-06-25T22:07:24.217001Z",
     "start_time": "2019-06-25T21:56:40.598734Z"
    }
   },
   "outputs": [
    {
     "name": "stderr",
     "output_type": "stream",
     "text": [
      "INFO:pykeen.utilities.pipeline:-------------Start Evaluation-------------\n",
      "INFO:pykeen.utilities.evaluation_utils.metrics_computations:Best accuracy 0.95 achieved on threshold: 9.28\n",
      "INFO:pykeen.utilities.evaluation_utils.metrics_computations:Evaluation took 631.95s seconds\n",
      "INFO:pykeen.utilities.pipeline:MetricResults(mean_rank=0.20741377028749763, hits_at_k={1: 0.11284725161246635, 3: 0.2307477442399824, 5: 0.2981581486685514, 10: 0.4009750977637081}, precision=0.9482987036943872, recall=0.9572886864959117, accuracy=0.9525413971758491, fscore=0.9527724890903271)\n"
     ]
    }
   ],
   "source": [
    "test_results = pipeline.evaluate(\n",
    "    model, \n",
    "    'D:/uni/master/data/FB15K/test.tsv', \n",
    "    neg_test_path = 'D:/uni/master/data/FB15K/test_neg.tsv',\n",
    "    metrics= metrics,\n",
    "    threshold_search=False\n",
    ")"
   ]
  },
  {
   "cell_type": "code",
   "execution_count": 40,
   "metadata": {
    "ExecuteTime": {
     "end_time": "2019-06-25T22:07:24.224918Z",
     "start_time": "2019-06-25T22:07:24.218968Z"
    }
   },
   "outputs": [
    {
     "data": {
      "text/plain": [
       "{'mean_rank': 0.20741377028749763,\n",
       " 'hits@k': {1: 0.11284725161246635,\n",
       "  3: 0.2307477442399824,\n",
       "  5: 0.2981581486685514,\n",
       "  10: 0.4009750977637081},\n",
       " 'precision': 0.9482987036943872,\n",
       " 'recall': 0.9572886864959117,\n",
       " 'accuracy': 0.9525413971758491,\n",
       " 'f1_score': 0.9527724890903271}"
      ]
     },
     "execution_count": 40,
     "metadata": {},
     "output_type": "execute_result"
    }
   ],
   "source": [
    "test_results['eval_summary']"
   ]
  },
  {
   "cell_type": "code",
   "execution_count": 41,
   "metadata": {
    "ExecuteTime": {
     "end_time": "2019-06-25T22:07:24.236922Z",
     "start_time": "2019-06-25T22:07:24.225917Z"
    }
   },
   "outputs": [],
   "source": [
    "json.dump(val_results['eval_summary'], open(os.path.join(output_directory, 'valid_evaluation_summary.json'),\"w\"))"
   ]
  },
  {
   "cell_type": "code",
   "execution_count": 42,
   "metadata": {
    "ExecuteTime": {
     "end_time": "2019-06-25T22:07:24.243903Z",
     "start_time": "2019-06-25T22:07:24.237919Z"
    }
   },
   "outputs": [],
   "source": [
    "json.dump(test_results['eval_summary'], open(os.path.join(output_directory, 'evaluation_summary.json'),\"w\"))"
   ]
  },
  {
   "cell_type": "markdown",
   "metadata": {
    "heading_collapsed": true
   },
   "source": [
    "## Load results"
   ]
  },
  {
   "cell_type": "code",
   "execution_count": null,
   "metadata": {
    "ExecuteTime": {
     "end_time": "2019-06-16T22:41:15.010892Z",
     "start_time": "2019-06-16T22:20:47.816Z"
    },
    "hidden": true
   },
   "outputs": [],
   "source": [
    "import numpy as np\n",
    "import matplotlib.pyplot as plt\n",
    "import json\n",
    "import os"
   ]
  },
  {
   "cell_type": "code",
   "execution_count": null,
   "metadata": {
    "ExecuteTime": {
     "end_time": "2019-06-16T22:41:15.013884Z",
     "start_time": "2019-06-16T22:20:47.818Z"
    },
    "hidden": true
   },
   "outputs": [],
   "source": [
    "%matplotlib inline"
   ]
  },
  {
   "cell_type": "code",
   "execution_count": null,
   "metadata": {
    "ExecuteTime": {
     "end_time": "2019-06-16T22:41:15.015881Z",
     "start_time": "2019-06-16T22:20:47.819Z"
    },
    "hidden": true
   },
   "outputs": [],
   "source": [
    "model_dir = 'D:/uni/master/models/'\n",
    "models = os.listdir(model_dir)\n",
    "models"
   ]
  },
  {
   "cell_type": "code",
   "execution_count": 35,
   "metadata": {
    "ExecuteTime": {
     "end_time": "2019-06-20T20:31:13.667605Z",
     "start_time": "2019-06-20T20:31:12.965482Z"
    },
    "hidden": true
   },
   "outputs": [],
   "source": [
    "#output_directory = 'D:/uni/master/models/region_hpo/'\n",
    "model_path = 'TransE_FB15k_dim50_lr001_margin1_epochs1000'\n",
    "input_directory = os.path.join(model_dir, model_path)\n",
    "\n",
    "\n",
    "results = {\n",
    "    'losses': json.load(open(os.path.join(input_directory, 'losses.json'))),\n",
    "    'validation_losses': json.load(open(os.path.join(input_directory, 'val_losses.json'))),\n",
    "    'entity_to_embedding': json.load(open(os.path.join(input_directory, 'entities_to_embeddings.json'))),\n",
    "    'relation_to_embedding': json.load(open(os.path.join(input_directory, 'relations_to_embeddings.json'))),\n",
    "    'final_configuration': json.load(open(os.path.join(input_directory, 'configuration.json'))),\n",
    "    'eval_summary': json.load(open(os.path.join(input_directory, 'evaluation_summary.json'))),\n",
    "    'entity_to_id': json.load(open(os.path.join(input_directory, 'entity_to_id.json'))),\n",
    "    'relation_to_id': json.load(open(os.path.join(input_directory, 'relation_to_id.json')))\n",
    "}"
   ]
  },
  {
   "cell_type": "code",
   "execution_count": 36,
   "metadata": {
    "ExecuteTime": {
     "end_time": "2019-06-20T20:31:14.276702Z",
     "start_time": "2019-06-20T20:31:14.243789Z"
    },
    "hidden": true
   },
   "outputs": [
    {
     "data": {
      "text/plain": [
       "dict_keys(['losses', 'validation_losses', 'entity_to_embedding', 'relation_to_embedding', 'final_configuration', 'eval_summary', 'entity_to_id', 'relation_to_id'])"
      ]
     },
     "execution_count": 36,
     "metadata": {},
     "output_type": "execute_result"
    }
   ],
   "source": [
    "results.keys()"
   ]
  },
  {
   "cell_type": "code",
   "execution_count": 37,
   "metadata": {
    "ExecuteTime": {
     "end_time": "2019-06-20T20:31:14.939560Z",
     "start_time": "2019-06-20T20:31:14.881640Z"
    },
    "hidden": true
   },
   "outputs": [
    {
     "data": {
      "text/plain": [
       "{'metrics': ['mean_rank'],\n",
       " 'training_set_path': 'D:/uni/master/data/FB15K/train.tsv',\n",
       " 'test_set_path': 'D:/uni/master/data/FB15K/valid.tsv',\n",
       " 'mapping_path': 'D:/uni/master/data/fb15k/',\n",
       " 'execution_mode': 'Training_mode',\n",
       " 'random_seed': 2,\n",
       " 'kg_embedding_model_name': 'TransE',\n",
       " 'embedding_dim': 50,\n",
       " 'scoring_function': 1,\n",
       " 'normalization_of_entities': 2,\n",
       " 'margin_loss': 1,\n",
       " 'learning_rate': 0.01,\n",
       " 'num_epochs': 1000,\n",
       " 'batch_size': 1024,\n",
       " 'test_batch_size': 6000,\n",
       " 'filter_negative_triples': False,\n",
       " 'preferred_device': 'gpu',\n",
       " 'pykeen-version': '0.0.26-dev',\n",
       " 'num_entities': 14951,\n",
       " 'num_relations': 1345}"
      ]
     },
     "execution_count": 37,
     "metadata": {},
     "output_type": "execute_result"
    }
   ],
   "source": [
    "results['final_configuration']"
   ]
  },
  {
   "cell_type": "code",
   "execution_count": 38,
   "metadata": {
    "ExecuteTime": {
     "end_time": "2019-06-20T20:31:17.822826Z",
     "start_time": "2019-06-20T20:31:16.925657Z"
    },
    "hidden": true
   },
   "outputs": [
    {
     "data": {
      "image/png": "[encoded data removed]",
      "text/plain": [
       "<Figure size 432x288 with 1 Axes>"
      ]
     },
     "metadata": {
      "needs_background": "light"
     },
     "output_type": "display_data"
    }
   ],
   "source": [
    "losses = results['losses']\n",
    "epochs = np.arange(len(losses))\n",
    "plt.title(r'Loss Per Epoch')\n",
    "plt.xlabel('epoch')\n",
    "plt.ylabel('loss')\n",
    "plt.plot(epochs, losses)\n",
    "plt.show()"
   ]
  },
  {
   "cell_type": "code",
   "execution_count": 39,
   "metadata": {
    "ExecuteTime": {
     "end_time": "2019-06-20T20:31:18.698327Z",
     "start_time": "2019-06-20T20:31:18.528120Z"
    },
    "hidden": true
   },
   "outputs": [
    {
     "data": {
      "image/png": "[encoded data removed]",
      "text/plain": [
       "<Figure size 432x288 with 1 Axes>"
      ]
     },
     "metadata": {
      "needs_background": "light"
     },
     "output_type": "display_data"
    }
   ],
   "source": [
    "losses = results['validation_losses']\n",
    "epochs = np.arange(len(losses))\n",
    "plt.title(r'Loss Per Epoch')\n",
    "plt.xlabel('epoch')\n",
    "plt.ylabel('loss')\n",
    "plt.plot(epochs, losses)\n",
    "plt.show()"
   ]
  },
  {
   "cell_type": "code",
   "execution_count": 40,
   "metadata": {
    "ExecuteTime": {
     "end_time": "2019-06-20T20:31:20.945294Z",
     "start_time": "2019-06-20T20:31:20.939311Z"
    },
    "hidden": true
   },
   "outputs": [
    {
     "data": {
      "text/plain": [
       "{'mean_rank': 242.50736,\n",
       " 'hits@k': {'1': 0.09983, '3': 0.20312, '5': 0.26493, '10': 0.36188},\n",
       " 'precision': None,\n",
       " 'recall': None,\n",
       " 'accuracy': None,\n",
       " 'f1_score': None}"
      ]
     },
     "execution_count": 40,
     "metadata": {},
     "output_type": "execute_result"
    }
   ],
   "source": [
    "results['eval_summary']"
   ]
  },
  {
   "cell_type": "code",
   "execution_count": null,
   "metadata": {
    "hidden": true
   },
   "outputs": [],
   "source": []
  }
 ],
 "metadata": {
  "kernelspec": {
   "display_name": "Python 3",
   "language": "python",
   "name": "python3"
  },
  "language_info": {
   "codemirror_mode": {
    "name": "ipython",
    "version": 3
   },
   "file_extension": ".py",
   "mimetype": "text/x-python",
   "name": "python",
   "nbconvert_exporter": "python",
   "pygments_lexer": "ipython3",
   "version": "3.6.8"
  },
  "notify_time": "30",
  "toc": {
   "base_numbering": 1,
   "nav_menu": {},
   "number_sections": true,
   "sideBar": true,
   "skip_h1_title": false,
   "title_cell": "Table of Contents",
   "title_sidebar": "Contents",
   "toc_cell": false,
   "toc_position": {
    "height": "193.717px",
    "left": "10px",
    "top": "150px",
    "width": "165px"
   },
   "toc_section_display": true,
   "toc_window_display": true
  }
 },
 "nbformat": 4,
 "nbformat_minor": 2
}
