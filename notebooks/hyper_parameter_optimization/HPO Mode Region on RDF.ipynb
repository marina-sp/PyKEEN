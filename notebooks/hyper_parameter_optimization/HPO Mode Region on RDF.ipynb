{
 "cells": [
  {
   "cell_type": "code",
   "execution_count": 1,
   "metadata": {
    "ExecuteTime": {
     "end_time": "2019-07-05T12:52:31.429739Z",
     "start_time": "2019-07-05T12:52:31.425757Z"
    }
   },
   "outputs": [],
   "source": [
    "TEST = False\n",
    "name = 'MRL_ellipse_l'"
   ]
  },
  {
   "cell_type": "code",
   "execution_count": 2,
   "metadata": {
    "ExecuteTime": {
     "end_time": "2019-07-05T12:52:42.671253Z",
     "start_time": "2019-07-05T12:52:31.449709Z"
    }
   },
   "outputs": [],
   "source": [
    "import logging\n",
    "import os\n",
    "import sys\n",
    "import time\n",
    "\n",
    "import numpy as np\n",
    "import matplotlib.pyplot as plt\n",
    "import pykeen\n",
    "from pykeen.kge_models import Region\n",
    "\n",
    "import json"
   ]
  },
  {
   "cell_type": "code",
   "execution_count": 3,
   "metadata": {
    "ExecuteTime": {
     "end_time": "2019-07-05T12:52:42.714189Z",
     "start_time": "2019-07-05T12:52:42.675252Z"
    }
   },
   "outputs": [],
   "source": [
    "%matplotlib inline"
   ]
  },
  {
   "cell_type": "code",
   "execution_count": 4,
   "metadata": {
    "ExecuteTime": {
     "end_time": "2019-07-05T12:52:42.739086Z",
     "start_time": "2019-07-05T12:52:42.717129Z"
    }
   },
   "outputs": [],
   "source": [
    "logging.basicConfig(level=logging.INFO)\n",
    "logging.getLogger('pykeen').setLevel(logging.INFO)"
   ]
  },
  {
   "cell_type": "code",
   "execution_count": 5,
   "metadata": {
    "ExecuteTime": {
     "end_time": "2019-07-05T12:52:42.821853Z",
     "start_time": "2019-07-05T12:52:42.743059Z"
    }
   },
   "outputs": [
    {
     "name": "stdout",
     "output_type": "stream",
     "text": [
      "3.6.8 |Anaconda, Inc.| (default, Feb 21 2019, 18:30:04) [MSC v.1916 64 bit (AMD64)]\n"
     ]
    }
   ],
   "source": [
    "print(sys.version)"
   ]
  },
  {
   "cell_type": "code",
   "execution_count": null,
   "metadata": {
    "ExecuteTime": {
     "start_time": "2019-07-05T12:52:31.436Z"
    }
   },
   "outputs": [
    {
     "name": "stdout",
     "output_type": "stream",
     "text": [
      "Fri Jul  5 14:52:42 2019\n"
     ]
    }
   ],
   "source": [
    "print(time.asctime())"
   ]
  },
  {
   "cell_type": "code",
   "execution_count": null,
   "metadata": {
    "ExecuteTime": {
     "start_time": "2019-07-05T12:52:31.439Z"
    }
   },
   "outputs": [
    {
     "name": "stdout",
     "output_type": "stream",
     "text": [
      "0.0.26-dev\n"
     ]
    }
   ],
   "source": [
    "print(pykeen.get_version())"
   ]
  },
  {
   "cell_type": "markdown",
   "metadata": {},
   "source": [
    "Check which hyper-parameters are required by Region:"
   ]
  },
  {
   "cell_type": "code",
   "execution_count": null,
   "metadata": {
    "ExecuteTime": {
     "start_time": "2019-07-05T12:52:31.441Z"
    }
   },
   "outputs": [
    {
     "data": {
      "text/plain": [
       "['embedding_dim',\n",
       " 'margin_loss',\n",
       " 'learning_rate',\n",
       " 'corrupt_relations',\n",
       " 'normalization_of_entities',\n",
       " 'init_radius',\n",
       " 'reg_lambda',\n",
       " 'loss_type',\n",
       " 'neg_factor',\n",
       " 'region_type']"
      ]
     },
     "execution_count": 8,
     "metadata": {},
     "output_type": "execute_result"
    }
   ],
   "source": [
    "Region.hyper_params"
   ]
  },
  {
   "cell_type": "markdown",
   "metadata": {},
   "source": [
    "Define output directory:"
   ]
  },
  {
   "cell_type": "code",
   "execution_count": null,
   "metadata": {
    "ExecuteTime": {
     "start_time": "2019-07-05T12:52:31.443Z"
    }
   },
   "outputs": [
    {
     "data": {
      "text/plain": [
       "'D:/uni/master/models/region_hpo/opt_2019_7_5_MRL_ellipse_lessdim'"
      ]
     },
     "execution_count": 9,
     "metadata": {},
     "output_type": "execute_result"
    }
   ],
   "source": [
    "today = time.localtime()\n",
    "output_directory = 'D:/uni/master/models/region_hpo/opt_{}_{}_{}_{}'.format(today.tm_year, today.tm_mon, today.tm_mday, name)\n",
    "output_directory"
   ]
  },
  {
   "cell_type": "markdown",
   "metadata": {},
   "source": [
    "Define hyper-parameters inclduing the evaluation information:\n",
    " * Define the hyper-parameter optimization mode: **HPO_mode**\n",
    " * Define for each hyper-parameter a list of values (single valued lists are possible)\n",
    " * Define the number of hyper-parameter optimization iterations: **maximum_number_of_hpo_iters**\n",
    " * Define the path to the test set (**test_set_path**) or define the ratio of the training set that should be used as test set (**test_set_ratio**)\n",
    " * Define whether you want to compute the metrics (mean rank and hits@k) in raw or in a filtered setting: **filter_negative_triples**"
   ]
  },
  {
   "cell_type": "code",
   "execution_count": null,
   "metadata": {
    "ExecuteTime": {
     "start_time": "2019-07-05T12:52:31.445Z"
    }
   },
   "outputs": [],
   "source": [
    "config = dict(\n",
    "    metrics                     = ['mean_rank'],\n",
    "    training_set_path           = 'D:/uni/master/data/FB15K/train.tsv', \n",
    "    test_set_path               = 'D:/uni/master/data/FB15K/valid_150.tsv',\n",
    "    mapping_path                = 'D:/uni/master/data/fb15k/',\n",
    "    execution_mode              = 'HPO_mode', # Define hyper-parameter optimization mode\n",
    "    random_seed                 = 5,\n",
    "    \n",
    "    kg_embedding_model_name     = 'Region',\n",
    "    region_type                 = ['ellipse'],\n",
    "    embedding_dim               = [30],\n",
    "    normalization_of_entities   = [2],\n",
    "    init_radius                 = 0,\n",
    "    reg_lambda                  = [0.01], # [5, 1, 0.1, 0.01, 0],\n",
    "    loss_type                   = ['MRL'],\n",
    "    margin_loss                 = [0.5],  # [0.0, 0.02, 0.05, 0.1, 0.2, 0.3],\n",
    "    \n",
    "    neg_factor                  = [1],\n",
    "    corrupt_relations           = [False], # [True, False],\n",
    "    filter_negative_triples     = False,\n",
    "    \n",
    "    es_metric                   = 'custom',\n",
    "    learning_rate               = [1e-1],\n",
    "    num_epochs                  = [500] if not TEST else [10],  \n",
    "    batch_size                  = [2048],\n",
    "    test_batch_size             = [4096],\n",
    "    maximum_number_of_hpo_iters = 1, # Define the number HPO iterations\n",
    "    preferred_device            = 'gpu'\n",
    ")"
   ]
  },
  {
   "cell_type": "markdown",
   "metadata": {
    "ExecuteTime": {
     "end_time": "2019-06-28T19:53:20.430564Z",
     "start_time": "2019-06-28T19:53:20.419587Z"
    }
   },
   "source": [
    "config = dict(\n",
    "    metrics                     = ['mean_rank'],\n",
    "    training_set_path           = 'D:/uni/master/data/FB15K/train.tsv', \n",
    "    test_set_path               = 'D:/uni/master/data/FB15K/valid_150.tsv',\n",
    "    mapping_path                = 'D:/uni/master/data/fb15k/',\n",
    "    execution_mode              = 'HPO_mode', # Define hyper-parameter optimization mode\n",
    "    random_seed                 = 5,\n",
    "    \n",
    "    kg_embedding_model_name     = 'Region',\n",
    "    region_type                 = ['sphere'],\n",
    "    embedding_dim               = [50],\n",
    "    normalization_of_entities   = [1,2],\n",
    "    init_radius                 = 0,\n",
    "    reg_lambda                  = [100, 10, 1, 0, 0.1, 0.01],\n",
    "    loss_type                   = ['NLL'],\n",
    "    margin_loss                 = [0],  # [0.0, 0.02, 0.05, 0.1, 0.2, 0.3],\n",
    "    \n",
    "    neg_factor                  = [1, 2, 5],\n",
    "    corrupt_relations           = [True, False],\n",
    "    filter_negative_triples     = False,\n",
    "    \n",
    "    es_metric                   = 'custom',\n",
    "    learning_rate               = [1e-1],\n",
    "    num_epochs                  = [1000] if not TEST else [10],  \n",
    "    batch_size                  = [2048],\n",
    "    test_batch_size             = [4096],\n",
    "    maximum_number_of_hpo_iters = 10, # Define the number HPO iterations\n",
    "    preferred_device            = 'gpu'\n",
    ")"
   ]
  },
  {
   "cell_type": "markdown",
   "metadata": {},
   "source": [
    "Train and evaluate Region:"
   ]
  },
  {
   "cell_type": "code",
   "execution_count": null,
   "metadata": {
    "ExecuteTime": {
     "start_time": "2019-07-05T12:52:31.450Z"
    }
   },
   "outputs": [
    {
     "name": "stderr",
     "output_type": "stream",
     "text": [
      "\r",
      "HPO Iteration:   0%|                                                                             | 0/1 [00:00<?, ?it/s]"
     ]
    },
    {
     "name": "stdout",
     "output_type": "stream",
     "text": [
      "{'metrics': 'mean_rank', 'training_set_path': 'D:/uni/master/data/FB15K/train.tsv', 'test_set_path': 'D:/uni/master/data/FB15K/valid_150.tsv', 'mapping_path': 'D:/uni/master/data/fb15k/', 'execution_mode': 'HPO_mode', 'random_seed': 5, 'kg_embedding_model_name': 'Region', 'region_type': 'ellipse', 'embedding_dim': 30, 'normalization_of_entities': 2, 'init_radius': 0, 'reg_lambda': 0.01, 'loss_type': 'MRL', 'margin_loss': 0.5, 'neg_factor': 1, 'corrupt_relations': False, 'filter_negative_triples': False, 'es_metric': 'custom', 'learning_rate': 0.1, 'num_epochs': 500, 'batch_size': 2048, 'test_batch_size': 4096, 'maximum_number_of_hpo_iters': 1, 'preferred_device': 'gpu', 'pykeen-version': '0.0.26-dev', 'num_entities': 14951, 'num_relations': 1345}\n"
     ]
    },
    {
     "name": "stderr",
     "output_type": "stream",
     "text": [
      "INFO:pykeen.utilities.evaluation_utils.metrics_computations:Evaluation took 15.98s seconds\n"
     ]
    },
    {
     "name": "stdout",
     "output_type": "stream",
     "text": [
      "0.12946576553904768 (0.10006450327967042, 0.18333333333333332)\n"
     ]
    },
    {
     "name": "stderr",
     "output_type": "stream",
     "text": [
      "INFO:pykeen.utilities.train_utils:Epoch   0 /  500 (11.0s):  loss: 0.213  val loss: 0.093  value: 0.129  patience:   1\n",
      "INFO:pykeen.utilities.train_utils:Epoch   1 /  500 (9.6s):  loss: 0.069  val loss: 0.065  value: 0.129  patience:   2\n",
      "INFO:pykeen.utilities.train_utils:Epoch   2 /  500 (9.5s):  loss: 0.051  val loss: 0.057  value: 0.129  patience:   3\n",
      "INFO:pykeen.utilities.train_utils:Epoch   3 /  500 (9.5s):  loss: 0.044  val loss: 0.045  value: 0.129  patience:   4\n",
      "INFO:pykeen.utilities.train_utils:Epoch   4 /  500 (9.6s):  loss: 0.041  val loss: 0.039  value: 0.129  patience:   5\n",
      "INFO:pykeen.utilities.train_utils:Epoch   5 /  500 (9.7s):  loss: 0.039  val loss: 0.050  value: 0.129  patience:   6\n",
      "INFO:pykeen.utilities.train_utils:Epoch   6 /  500 (10.0s):  loss: 0.037  val loss: 0.046  value: 0.129  patience:   7\n",
      "INFO:pykeen.utilities.train_utils:Epoch   7 /  500 (10.6s):  loss: 0.035  val loss: 0.048  value: 0.129  patience:   8\n",
      "INFO:pykeen.utilities.train_utils:Epoch   8 /  500 (11.2s):  loss: 0.035  val loss: 0.039  value: 0.129  patience:   9\n",
      "INFO:pykeen.utilities.train_utils:Epoch   9 /  500 (11.1s):  loss: 0.034  val loss: 0.046  value: 0.129  patience:  10\n",
      "INFO:pykeen.utilities.evaluation_utils.metrics_computations:Evaluation took 18.22s seconds\n"
     ]
    },
    {
     "name": "stdout",
     "output_type": "stream",
     "text": [
      "0.15845967060930252 (0.12490439532027958, 0.21666666666666667)\n"
     ]
    },
    {
     "name": "stderr",
     "output_type": "stream",
     "text": [
      "INFO:pykeen.utilities.train_utils:Epoch  10 /  500 (10.2s):  loss: 0.033  val loss: 0.044  value: 0.158  patience:   1\n",
      "INFO:pykeen.utilities.train_utils:Epoch  11 /  500 (10.5s):  loss: 0.033  val loss: 0.042  value: 0.158  patience:   2\n",
      "INFO:pykeen.utilities.train_utils:Epoch  12 /  500 (10.5s):  loss: 0.032  val loss: 0.043  value: 0.158  patience:   3\n",
      "INFO:pykeen.utilities.train_utils:Epoch  13 /  500 (10.1s):  loss: 0.032  val loss: 0.038  value: 0.158  patience:   4\n",
      "INFO:pykeen.utilities.train_utils:Epoch  14 /  500 (10.2s):  loss: 0.032  val loss: 0.042  value: 0.158  patience:   5\n",
      "INFO:pykeen.utilities.train_utils:Epoch  15 /  500 (10.1s):  loss: 0.032  val loss: 0.038  value: 0.158  patience:   6\n",
      "INFO:pykeen.utilities.train_utils:Epoch  16 /  500 (10.1s):  loss: 0.031  val loss: 0.036  value: 0.158  patience:   7\n",
      "INFO:pykeen.utilities.train_utils:Epoch  17 /  500 (10.5s):  loss: 0.031  val loss: 0.042  value: 0.158  patience:   8\n",
      "INFO:pykeen.utilities.train_utils:Epoch  18 /  500 (10.0s):  loss: 0.031  val loss: 0.043  value: 0.158  patience:   9\n",
      "INFO:pykeen.utilities.train_utils:Epoch  19 /  500 (10.0s):  loss: 0.031  val loss: 0.041  value: 0.158  patience:  10\n",
      "INFO:pykeen.utilities.evaluation_utils.metrics_computations:Evaluation took 17.43s seconds\n"
     ]
    },
    {
     "name": "stdout",
     "output_type": "stream",
     "text": [
      "0.196425361523384 (0.1532931668194514, 0.2733333333333333)\n"
     ]
    },
    {
     "name": "stderr",
     "output_type": "stream",
     "text": [
      "INFO:pykeen.utilities.train_utils:Epoch  20 /  500 (10.1s):  loss: 0.031  val loss: 0.038  value: 0.196  patience:   1\n",
      "INFO:pykeen.utilities.train_utils:Epoch  21 /  500 (10.0s):  loss: 0.031  val loss: 0.035  value: 0.196  patience:   2\n",
      "INFO:pykeen.utilities.train_utils:Epoch  22 /  500 (10.0s):  loss: 0.030  val loss: 0.036  value: 0.196  patience:   3\n",
      "INFO:pykeen.utilities.train_utils:Epoch  23 /  500 (10.0s):  loss: 0.031  val loss: 0.038  value: 0.196  patience:   4\n",
      "INFO:pykeen.utilities.train_utils:Epoch  24 /  500 (10.0s):  loss: 0.030  val loss: 0.042  value: 0.196  patience:   5\n",
      "INFO:pykeen.utilities.train_utils:Epoch  25 /  500 (10.2s):  loss: 0.030  val loss: 0.036  value: 0.196  patience:   6\n",
      "INFO:pykeen.utilities.train_utils:Epoch  26 /  500 (10.0s):  loss: 0.031  val loss: 0.044  value: 0.196  patience:   7\n",
      "INFO:pykeen.utilities.train_utils:Epoch  27 /  500 (10.0s):  loss: 0.030  val loss: 0.032  value: 0.196  patience:   8\n",
      "INFO:pykeen.utilities.train_utils:Epoch  28 /  500 (10.0s):  loss: 0.030  val loss: 0.048  value: 0.196  patience:   9\n",
      "INFO:pykeen.utilities.train_utils:Epoch  29 /  500 (10.1s):  loss: 0.031  val loss: 0.039  value: 0.196  patience:  10\n",
      "INFO:pykeen.utilities.evaluation_utils.metrics_computations:Evaluation took 17.65s seconds\n"
     ]
    },
    {
     "name": "stdout",
     "output_type": "stream",
     "text": [
      "0.1721357109664145 (0.13035479288768295, 0.25333333333333335)\n"
     ]
    },
    {
     "name": "stderr",
     "output_type": "stream",
     "text": [
      "INFO:pykeen.utilities.train_utils:Epoch  30 /  500 (10.0s):  loss: 0.030  val loss: 0.047  value: 0.172  patience:  11\n",
      "INFO:pykeen.utilities.train_utils:Epoch  31 /  500 (10.1s):  loss: 0.030  val loss: 0.031  value: 0.172  patience:  12\n",
      "INFO:pykeen.utilities.train_utils:Epoch  32 /  500 (10.0s):  loss: 0.030  val loss: 0.037  value: 0.172  patience:  13\n",
      "INFO:pykeen.utilities.train_utils:Epoch  33 /  500 (10.0s):  loss: 0.030  val loss: 0.033  value: 0.172  patience:  14\n",
      "INFO:pykeen.utilities.train_utils:Epoch  34 /  500 (10.0s):  loss: 0.030  val loss: 0.033  value: 0.172  patience:  15\n",
      "INFO:pykeen.utilities.train_utils:Epoch  35 /  500 (10.0s):  loss: 0.030  val loss: 0.033  value: 0.172  patience:  16\n",
      "INFO:pykeen.utilities.train_utils:Epoch  36 /  500 (10.1s):  loss: 0.030  val loss: 0.033  value: 0.172  patience:  17\n",
      "INFO:pykeen.utilities.train_utils:Epoch  37 /  500 (10.1s):  loss: 0.030  val loss: 0.032  value: 0.172  patience:  18\n",
      "INFO:pykeen.utilities.train_utils:Epoch  38 /  500 (10.0s):  loss: 0.029  val loss: 0.050  value: 0.172  patience:  19\n",
      "INFO:pykeen.utilities.train_utils:Epoch  39 /  500 (10.0s):  loss: 0.030  val loss: 0.043  value: 0.172  patience:  20\n",
      "INFO:pykeen.utilities.evaluation_utils.metrics_computations:Evaluation took 17.34s seconds\n"
     ]
    },
    {
     "name": "stdout",
     "output_type": "stream",
     "text": [
      "0.1818898760686401 (0.1464343769369097, 0.24)\n"
     ]
    },
    {
     "name": "stderr",
     "output_type": "stream",
     "text": [
      "INFO:pykeen.utilities.train_utils:Epoch  40 /  500 (10.0s):  loss: 0.030  val loss: 0.046  value: 0.182  patience:  21\n",
      "INFO:pykeen.utilities.train_utils:Epoch  41 /  500 (10.0s):  loss: 0.030  val loss: 0.038  value: 0.182  patience:  22\n",
      "INFO:pykeen.utilities.train_utils:Epoch  42 /  500 (10.0s):  loss: 0.030  val loss: 0.035  value: 0.182  patience:  23\n",
      "INFO:pykeen.utilities.train_utils:Epoch  43 /  500 (10.0s):  loss: 0.029  val loss: 0.036  value: 0.182  patience:  24\n",
      "INFO:pykeen.utilities.train_utils:Epoch  44 /  500 (10.0s):  loss: 0.030  val loss: 0.046  value: 0.182  patience:  25\n",
      "INFO:pykeen.utilities.train_utils:Epoch  45 /  500 (9.9s):  loss: 0.029  val loss: 0.042  value: 0.182  patience:  26\n",
      "INFO:pykeen.utilities.train_utils:Epoch  46 /  500 (10.0s):  loss: 0.030  val loss: 0.040  value: 0.182  patience:  27\n",
      "INFO:pykeen.utilities.train_utils:Epoch  47 /  500 (10.0s):  loss: 0.030  val loss: 0.051  value: 0.182  patience:  28\n",
      "INFO:pykeen.utilities.train_utils:Epoch  48 /  500 (10.5s):  loss: 0.030  val loss: 0.045  value: 0.182  patience:  29\n",
      "INFO:pykeen.utilities.train_utils:Epoch  49 /  500 (10.0s):  loss: 0.030  val loss: 0.036  value: 0.182  patience:  30\n",
      "INFO:pykeen.utilities.evaluation_utils.metrics_computations:Evaluation took 17.44s seconds\n"
     ]
    },
    {
     "name": "stdout",
     "output_type": "stream",
     "text": [
      "0.2064736790076807 (0.16353133186766775, 0.28)\n"
     ]
    },
    {
     "name": "stderr",
     "output_type": "stream",
     "text": [
      "INFO:pykeen.utilities.train_utils:Epoch  50 /  500 (10.0s):  loss: 0.029  val loss: 0.030  value: 0.206  patience:   1\n",
      "INFO:pykeen.utilities.train_utils:Epoch  51 /  500 (10.0s):  loss: 0.030  val loss: 0.033  value: 0.206  patience:   2\n",
      "INFO:pykeen.utilities.train_utils:Epoch  52 /  500 (10.0s):  loss: 0.029  val loss: 0.032  value: 0.206  patience:   3\n",
      "INFO:pykeen.utilities.train_utils:Epoch  53 /  500 (10.1s):  loss: 0.029  val loss: 0.046  value: 0.206  patience:   4\n",
      "INFO:pykeen.utilities.train_utils:Epoch  54 /  500 (10.0s):  loss: 0.029  val loss: 0.040  value: 0.206  patience:   5\n",
      "INFO:pykeen.utilities.train_utils:Epoch  55 /  500 (10.0s):  loss: 0.030  val loss: 0.035  value: 0.206  patience:   6\n",
      "INFO:pykeen.utilities.train_utils:Epoch  56 /  500 (10.1s):  loss: 0.030  val loss: 0.034  value: 0.206  patience:   7\n",
      "INFO:pykeen.utilities.train_utils:Epoch  57 /  500 (10.0s):  loss: 0.030  val loss: 0.039  value: 0.206  patience:   8\n",
      "INFO:pykeen.utilities.train_utils:Epoch  58 /  500 (10.0s):  loss: 0.029  val loss: 0.033  value: 0.206  patience:   9\n",
      "INFO:pykeen.utilities.train_utils:Epoch  59 /  500 (10.1s):  loss: 0.029  val loss: 0.044  value: 0.206  patience:  10\n",
      "INFO:pykeen.utilities.evaluation_utils.metrics_computations:Evaluation took 17.56s seconds\n"
     ]
    },
    {
     "name": "stdout",
     "output_type": "stream",
     "text": [
      "0.18039905679854995 (0.13719182390476775, 0.2633333333333333)\n"
     ]
    },
    {
     "name": "stderr",
     "output_type": "stream",
     "text": [
      "INFO:pykeen.utilities.train_utils:Epoch  60 /  500 (10.0s):  loss: 0.029  val loss: 0.042  value: 0.180  patience:  11\n",
      "INFO:pykeen.utilities.train_utils:Epoch  61 /  500 (10.2s):  loss: 0.029  val loss: 0.035  value: 0.180  patience:  12\n",
      "INFO:pykeen.utilities.evaluation_utils.metrics_computations:Evaluation took 17.49s seconds\n"
     ]
    },
    {
     "name": "stdout",
     "output_type": "stream",
     "text": [
      "0.17712888407849134 (0.13260465776440783, 0.26666666666666666)\n"
     ]
    },
    {
     "name": "stderr",
     "output_type": "stream",
     "text": [
      "INFO:pykeen.utilities.train_utils:Epoch  62 /  500 (10.1s):  loss: 0.029  val loss: 0.029  value: 0.177  patience:  13\n",
      "INFO:pykeen.utilities.evaluation_utils.metrics_computations:Evaluation took 17.46s seconds\n"
     ]
    },
    {
     "name": "stdout",
     "output_type": "stream",
     "text": [
      "0.20054530732188056 (0.15421540058757027, 0.2866666666666667)\n"
     ]
    },
    {
     "name": "stderr",
     "output_type": "stream",
     "text": [
      "INFO:pykeen.utilities.train_utils:Epoch  63 /  500 (9.9s):  loss: 0.029  val loss: 0.028  value: 0.201  patience:  14\n",
      "INFO:pykeen.utilities.train_utils:Epoch  64 /  500 (10.0s):  loss: 0.029  val loss: 0.029  value: 0.201  patience:  15\n",
      "INFO:pykeen.utilities.train_utils:Epoch  65 /  500 (10.0s):  loss: 0.029  val loss: 0.041  value: 0.201  patience:  16\n",
      "INFO:pykeen.utilities.train_utils:Epoch  66 /  500 (10.1s):  loss: 0.029  val loss: 0.041  value: 0.201  patience:  17\n",
      "INFO:pykeen.utilities.train_utils:Epoch  67 /  500 (10.5s):  loss: 0.029  val loss: 0.036  value: 0.201  patience:  18\n",
      "INFO:pykeen.utilities.train_utils:Epoch  68 /  500 (10.3s):  loss: 0.029  val loss: 0.031  value: 0.201  patience:  19\n",
      "INFO:pykeen.utilities.train_utils:Epoch  69 /  500 (10.2s):  loss: 0.029  val loss: 0.033  value: 0.201  patience:  20\n",
      "INFO:pykeen.utilities.evaluation_utils.metrics_computations:Evaluation took 17.36s seconds\n"
     ]
    },
    {
     "name": "stdout",
     "output_type": "stream",
     "text": [
      "0.17265553931550787 (0.13280734481454176, 0.24666666666666667)\n"
     ]
    },
    {
     "name": "stderr",
     "output_type": "stream",
     "text": [
      "INFO:pykeen.utilities.train_utils:Epoch  70 /  500 (10.1s):  loss: 0.029  val loss: 0.045  value: 0.173  patience:  21\n",
      "INFO:pykeen.utilities.train_utils:Epoch  71 /  500 (10.1s):  loss: 0.029  val loss: 0.037  value: 0.173  patience:  22\n",
      "INFO:pykeen.utilities.train_utils:Epoch  72 /  500 (10.1s):  loss: 0.029  val loss: 0.037  value: 0.173  patience:  23\n",
      "INFO:pykeen.utilities.train_utils:Epoch  73 /  500 (10.1s):  loss: 0.029  val loss: 0.037  value: 0.173  patience:  24\n",
      "INFO:pykeen.utilities.train_utils:Epoch  74 /  500 (10.2s):  loss: 0.029  val loss: 0.038  value: 0.173  patience:  25\n",
      "INFO:pykeen.utilities.train_utils:Epoch  75 /  500 (10.1s):  loss: 0.029  val loss: 0.035  value: 0.173  patience:  26\n",
      "INFO:pykeen.utilities.train_utils:Epoch  76 /  500 (9.9s):  loss: 0.029  val loss: 0.041  value: 0.173  patience:  27\n",
      "INFO:pykeen.utilities.train_utils:Epoch  77 /  500 (9.9s):  loss: 0.029  val loss: 0.036  value: 0.173  patience:  28\n",
      "INFO:pykeen.utilities.train_utils:Epoch  78 /  500 (9.9s):  loss: 0.029  val loss: 0.042  value: 0.173  patience:  29\n",
      "INFO:pykeen.utilities.train_utils:Epoch  79 /  500 (10.0s):  loss: 0.029  val loss: 0.035  value: 0.173  patience:  30\n",
      "INFO:pykeen.utilities.evaluation_utils.metrics_computations:Evaluation took 17.22s seconds\n"
     ]
    },
    {
     "name": "stdout",
     "output_type": "stream",
     "text": [
      "0.18318732293437998 (0.14688176587515844, 0.24333333333333335)\n"
     ]
    },
    {
     "name": "stderr",
     "output_type": "stream",
     "text": [
      "INFO:pykeen.utilities.train_utils:Epoch  80 /  500 (9.9s):  loss: 0.029  val loss: 0.040  value: 0.183  patience:  31\n",
      "INFO:pykeen.utilities.train_utils:Epoch  81 /  500 (10.0s):  loss: 0.029  val loss: 0.030  value: 0.183  patience:  32\n",
      "INFO:pykeen.utilities.train_utils:Epoch  82 /  500 (10.0s):  loss: 0.029  val loss: 0.034  value: 0.183  patience:  33\n",
      "INFO:pykeen.utilities.train_utils:Epoch  83 /  500 (9.9s):  loss: 0.029  val loss: 0.032  value: 0.183  patience:  34\n"
     ]
    },
    {
     "name": "stdout",
     "output_type": "stream",
     "text": [
      "Epoch    84: reducing learning rate of group 0 to 1.0000e-02.\n"
     ]
    },
    {
     "name": "stderr",
     "output_type": "stream",
     "text": [
      "INFO:pykeen.utilities.train_utils:Epoch  84 /  500 (10.9s):  loss: 0.029  val loss: 0.036  value: 0.183  patience:  35\n",
      "INFO:pykeen.utilities.train_utils:Epoch  85 /  500 (10.0s):  loss: 0.023  val loss: 0.034  value: 0.183  patience:  36\n",
      "INFO:pykeen.utilities.train_utils:Epoch  86 /  500 (9.9s):  loss: 0.022  val loss: 0.032  value: 0.183  patience:  37\n",
      "INFO:pykeen.utilities.train_utils:Epoch  87 /  500 (9.9s):  loss: 0.021  val loss: 0.035  value: 0.183  patience:  38\n",
      "INFO:pykeen.utilities.train_utils:Epoch  88 /  500 (9.9s):  loss: 0.021  val loss: 0.030  value: 0.183  patience:  39\n",
      "INFO:pykeen.utilities.train_utils:Epoch  89 /  500 (9.9s):  loss: 0.021  val loss: 0.031  value: 0.183  patience:  40\n",
      "INFO:pykeen.utilities.evaluation_utils.metrics_computations:Evaluation took 17.60s seconds\n"
     ]
    },
    {
     "name": "stdout",
     "output_type": "stream",
     "text": [
      "0.21180422122220754 (0.17032136963402073, 0.28)\n"
     ]
    },
    {
     "name": "stderr",
     "output_type": "stream",
     "text": [
      "INFO:pykeen.utilities.train_utils:Epoch  90 /  500 (10.0s):  loss: 0.020  val loss: 0.030  value: 0.212  patience:   1\n",
      "INFO:pykeen.utilities.train_utils:Epoch  91 /  500 (9.9s):  loss: 0.020  val loss: 0.029  value: 0.212  patience:   2\n",
      "INFO:pykeen.utilities.train_utils:Epoch  92 /  500 (10.0s):  loss: 0.020  val loss: 0.031  value: 0.212  patience:   3\n",
      "INFO:pykeen.utilities.train_utils:Epoch  93 /  500 (9.9s):  loss: 0.020  val loss: 0.031  value: 0.212  patience:   4\n",
      "INFO:pykeen.utilities.train_utils:Epoch  94 /  500 (10.0s):  loss: 0.020  val loss: 0.031  value: 0.212  patience:   5\n",
      "INFO:pykeen.utilities.train_utils:Epoch  95 /  500 (9.9s):  loss: 0.019  val loss: 0.029  value: 0.212  patience:   6\n",
      "INFO:pykeen.utilities.train_utils:Epoch  96 /  500 (9.9s):  loss: 0.019  val loss: 0.029  value: 0.212  patience:   7\n",
      "INFO:pykeen.utilities.train_utils:Epoch  97 /  500 (9.9s):  loss: 0.019  val loss: 0.028  value: 0.212  patience:   8\n",
      "INFO:pykeen.utilities.train_utils:Epoch  98 /  500 (9.9s):  loss: 0.019  val loss: 0.029  value: 0.212  patience:   9\n",
      "INFO:pykeen.utilities.train_utils:Epoch  99 /  500 (10.0s):  loss: 0.019  val loss: 0.029  value: 0.212  patience:  10\n",
      "INFO:pykeen.utilities.evaluation_utils.metrics_computations:Evaluation took 17.10s seconds\n"
     ]
    },
    {
     "name": "stdout",
     "output_type": "stream",
     "text": [
      "0.22267304349571362 (0.17703986396199933, 0.3)\n"
     ]
    },
    {
     "name": "stderr",
     "output_type": "stream",
     "text": [
      "INFO:pykeen.utilities.train_utils:Epoch 100 /  500 (10.0s):  loss: 0.019  val loss: 0.027  value: 0.223  patience:   1\n",
      "INFO:pykeen.utilities.train_utils:Epoch 101 /  500 (10.0s):  loss: 0.019  val loss: 0.028  value: 0.223  patience:   2\n",
      "INFO:pykeen.utilities.evaluation_utils.metrics_computations:Evaluation took 17.25s seconds\n"
     ]
    },
    {
     "name": "stdout",
     "output_type": "stream",
     "text": [
      "0.22469540876536276 (0.17620735569933627, 0.31)\n"
     ]
    },
    {
     "name": "stderr",
     "output_type": "stream",
     "text": [
      "INFO:pykeen.utilities.train_utils:Epoch 102 /  500 (10.0s):  loss: 0.019  val loss: 0.027  value: 0.225  patience:   1\n",
      "INFO:pykeen.utilities.evaluation_utils.metrics_computations:Evaluation took 17.61s seconds\n"
     ]
    },
    {
     "name": "stdout",
     "output_type": "stream",
     "text": [
      "0.22136936509178043 (0.17427764777148955, 0.30333333333333334)\n"
     ]
    },
    {
     "name": "stderr",
     "output_type": "stream",
     "text": [
      "INFO:pykeen.utilities.train_utils:Epoch 103 /  500 (10.1s):  loss: 0.019  val loss: 0.026  value: 0.221  patience:   2\n",
      "INFO:pykeen.utilities.evaluation_utils.metrics_computations:Evaluation took 18.20s seconds\n"
     ]
    },
    {
     "name": "stdout",
     "output_type": "stream",
     "text": [
      "0.23023165876363014 (0.17775634805969628, 0.32666666666666666)\n"
     ]
    },
    {
     "name": "stderr",
     "output_type": "stream",
     "text": [
      "INFO:pykeen.utilities.train_utils:Epoch 104 /  500 (11.1s):  loss: 0.018  val loss: 0.025  value: 0.230  patience:   1\n",
      "INFO:pykeen.utilities.train_utils:Epoch 105 /  500 (10.0s):  loss: 0.018  val loss: 0.025  value: 0.230  patience:   2\n",
      "INFO:pykeen.utilities.evaluation_utils.metrics_computations:Evaluation took 17.14s seconds\n"
     ]
    },
    {
     "name": "stdout",
     "output_type": "stream",
     "text": [
      "0.22679269235610613 (0.17992871024732265, 0.30666666666666664)\n"
     ]
    },
    {
     "name": "stderr",
     "output_type": "stream",
     "text": [
      "INFO:pykeen.utilities.train_utils:Epoch 106 /  500 (10.3s):  loss: 0.018  val loss: 0.024  value: 0.227  patience:   3\n",
      "INFO:pykeen.utilities.train_utils:Epoch 107 /  500 (9.9s):  loss: 0.018  val loss: 0.027  value: 0.227  patience:   4\n",
      "INFO:pykeen.utilities.train_utils:Epoch 108 /  500 (9.9s):  loss: 0.018  val loss: 0.027  value: 0.227  patience:   5\n",
      "INFO:pykeen.utilities.train_utils:Epoch 109 /  500 (9.9s):  loss: 0.018  val loss: 0.027  value: 0.227  patience:   6\n",
      "INFO:pykeen.utilities.evaluation_utils.metrics_computations:Evaluation took 17.48s seconds\n"
     ]
    },
    {
     "name": "stdout",
     "output_type": "stream",
     "text": [
      "0.23083726006974842 (0.17949038613383742, 0.3233333333333333)\n"
     ]
    },
    {
     "name": "stderr",
     "output_type": "stream",
     "text": [
      "INFO:pykeen.utilities.train_utils:Epoch 110 /  500 (9.9s):  loss: 0.018  val loss: 0.024  value: 0.231  patience:   1\n",
      "INFO:pykeen.utilities.train_utils:Epoch 111 /  500 (9.9s):  loss: 0.018  val loss: 0.025  value: 0.231  patience:   2\n",
      "INFO:pykeen.utilities.train_utils:Epoch 112 /  500 (9.9s):  loss: 0.018  val loss: 0.026  value: 0.231  patience:   3\n",
      "INFO:pykeen.utilities.train_utils:Epoch 113 /  500 (9.9s):  loss: 0.018  val loss: 0.027  value: 0.231  patience:   4\n",
      "INFO:pykeen.utilities.train_utils:Epoch 114 /  500 (9.8s):  loss: 0.018  val loss: 0.025  value: 0.231  patience:   5\n",
      "INFO:pykeen.utilities.train_utils:Epoch 115 /  500 (9.9s):  loss: 0.018  val loss: 0.027  value: 0.231  patience:   6\n",
      "INFO:pykeen.utilities.train_utils:Epoch 116 /  500 (9.9s):  loss: 0.018  val loss: 0.027  value: 0.231  patience:   7\n",
      "INFO:pykeen.utilities.train_utils:Epoch 117 /  500 (9.9s):  loss: 0.018  val loss: 0.029  value: 0.231  patience:   8\n",
      "INFO:pykeen.utilities.train_utils:Epoch 118 /  500 (9.9s):  loss: 0.018  val loss: 0.030  value: 0.231  patience:   9\n",
      "INFO:pykeen.utilities.train_utils:Epoch 119 /  500 (9.9s):  loss: 0.018  val loss: 0.028  value: 0.231  patience:  10\n",
      "INFO:pykeen.utilities.evaluation_utils.metrics_computations:Evaluation took 17.32s seconds\n"
     ]
    },
    {
     "name": "stdout",
     "output_type": "stream",
     "text": [
      "0.22748206218038236 (0.1785582710742264, 0.31333333333333335)\n"
     ]
    },
    {
     "name": "stderr",
     "output_type": "stream",
     "text": [
      "INFO:pykeen.utilities.train_utils:Epoch 120 /  500 (10.0s):  loss: 0.017  val loss: 0.026  value: 0.227  patience:  11\n",
      "INFO:pykeen.utilities.train_utils:Epoch 121 /  500 (9.9s):  loss: 0.018  val loss: 0.026  value: 0.227  patience:  12\n",
      "INFO:pykeen.utilities.train_utils:Epoch 122 /  500 (10.0s):  loss: 0.017  val loss: 0.027  value: 0.227  patience:  13\n",
      "INFO:pykeen.utilities.train_utils:Epoch 123 /  500 (9.9s):  loss: 0.018  val loss: 0.025  value: 0.227  patience:  14\n",
      "INFO:pykeen.utilities.train_utils:Epoch 124 /  500 (10.0s):  loss: 0.017  val loss: 0.024  value: 0.227  patience:  15\n",
      "INFO:pykeen.utilities.train_utils:Epoch 125 /  500 (9.9s):  loss: 0.017  val loss: 0.026  value: 0.227  patience:  16\n",
      "INFO:pykeen.utilities.train_utils:Epoch 126 /  500 (9.9s):  loss: 0.017  val loss: 0.025  value: 0.227  patience:  17\n"
     ]
    },
    {
     "name": "stdout",
     "output_type": "stream",
     "text": [
      "Epoch   127: reducing learning rate of group 0 to 1.0000e-03.\n"
     ]
    },
    {
     "name": "stderr",
     "output_type": "stream",
     "text": [
      "INFO:pykeen.utilities.train_utils:Epoch 127 /  500 (9.9s):  loss: 0.017  val loss: 0.025  value: 0.227  patience:  18\n",
      "INFO:pykeen.utilities.train_utils:Epoch 128 /  500 (9.9s):  loss: 0.017  val loss: 0.025  value: 0.227  patience:  19\n",
      "INFO:pykeen.utilities.train_utils:Epoch 129 /  500 (9.9s):  loss: 0.017  val loss: 0.025  value: 0.227  patience:  20\n",
      "INFO:pykeen.utilities.evaluation_utils.metrics_computations:Evaluation took 17.47s seconds\n"
     ]
    },
    {
     "name": "stdout",
     "output_type": "stream",
     "text": [
      "0.2347250978586152 (0.18886457418258748, 0.31)\n"
     ]
    },
    {
     "name": "stderr",
     "output_type": "stream",
     "text": [
      "INFO:pykeen.utilities.train_utils:Epoch 130 /  500 (10.0s):  loss: 0.017  val loss: 0.026  value: 0.235  patience:   1\n",
      "INFO:pykeen.utilities.train_utils:Epoch 131 /  500 (10.0s):  loss: 0.017  val loss: 0.026  value: 0.235  patience:   2\n",
      "INFO:pykeen.utilities.train_utils:Epoch 132 /  500 (9.9s):  loss: 0.017  val loss: 0.026  value: 0.235  patience:   3\n",
      "INFO:pykeen.utilities.train_utils:Epoch 133 /  500 (9.9s):  loss: 0.017  val loss: 0.025  value: 0.235  patience:   4\n",
      "INFO:pykeen.utilities.train_utils:Epoch 134 /  500 (10.0s):  loss: 0.017  val loss: 0.025  value: 0.235  patience:   5\n",
      "INFO:pykeen.utilities.train_utils:Epoch 135 /  500 (9.9s):  loss: 0.017  val loss: 0.025  value: 0.235  patience:   6\n",
      "INFO:pykeen.utilities.train_utils:Epoch 136 /  500 (9.9s):  loss: 0.017  val loss: 0.025  value: 0.235  patience:   7\n",
      "INFO:pykeen.utilities.train_utils:Epoch 137 /  500 (9.9s):  loss: 0.017  val loss: 0.025  value: 0.235  patience:   8\n",
      "INFO:pykeen.utilities.train_utils:Epoch 138 /  500 (9.9s):  loss: 0.017  val loss: 0.025  value: 0.235  patience:   9\n",
      "INFO:pykeen.utilities.train_utils:Epoch 139 /  500 (9.9s):  loss: 0.017  val loss: 0.025  value: 0.235  patience:  10\n",
      "INFO:pykeen.utilities.evaluation_utils.metrics_computations:Evaluation took 17.17s seconds\n"
     ]
    },
    {
     "name": "stdout",
     "output_type": "stream",
     "text": [
      "0.23736891434325683 (0.18983226590682245, 0.31666666666666665)\n"
     ]
    },
    {
     "name": "stderr",
     "output_type": "stream",
     "text": [
      "INFO:pykeen.utilities.train_utils:Epoch 140 /  500 (10.0s):  loss: 0.017  val loss: 0.025  value: 0.237  patience:   1\n",
      "INFO:pykeen.utilities.train_utils:Epoch 141 /  500 (9.9s):  loss: 0.017  val loss: 0.025  value: 0.237  patience:   2\n",
      "INFO:pykeen.utilities.train_utils:Epoch 142 /  500 (9.9s):  loss: 0.017  val loss: 0.025  value: 0.237  patience:   3\n",
      "INFO:pykeen.utilities.train_utils:Epoch 143 /  500 (10.0s):  loss: 0.017  val loss: 0.024  value: 0.237  patience:   4\n",
      "INFO:pykeen.utilities.train_utils:Epoch 144 /  500 (9.9s):  loss: 0.017  val loss: 0.025  value: 0.237  patience:   5\n",
      "INFO:pykeen.utilities.train_utils:Epoch 145 /  500 (9.9s):  loss: 0.017  val loss: 0.025  value: 0.237  patience:   6\n",
      "INFO:pykeen.utilities.train_utils:Epoch 146 /  500 (9.9s):  loss: 0.017  val loss: 0.025  value: 0.237  patience:   7\n",
      "INFO:pykeen.utilities.train_utils:Epoch 147 /  500 (9.9s):  loss: 0.017  val loss: 0.025  value: 0.237  patience:   8\n"
     ]
    },
    {
     "name": "stdout",
     "output_type": "stream",
     "text": [
      "Epoch   148: reducing learning rate of group 0 to 1.0000e-04.\n"
     ]
    },
    {
     "name": "stderr",
     "output_type": "stream",
     "text": [
      "INFO:pykeen.utilities.train_utils:Epoch 148 /  500 (9.9s):  loss: 0.017  val loss: 0.025  value: 0.237  patience:   9\n",
      "INFO:pykeen.utilities.train_utils:Epoch 149 /  500 (9.9s):  loss: 0.017  val loss: 0.025  value: 0.237  patience:  10\n",
      "INFO:pykeen.utilities.evaluation_utils.metrics_computations:Evaluation took 17.30s seconds\n"
     ]
    },
    {
     "name": "stdout",
     "output_type": "stream",
     "text": [
      "0.23679960278526432 (0.189105075067278, 0.31666666666666665)\n"
     ]
    },
    {
     "name": "stderr",
     "output_type": "stream",
     "text": [
      "INFO:pykeen.utilities.train_utils:Epoch 150 /  500 (10.0s):  loss: 0.017  val loss: 0.025  value: 0.237  patience:  11\n",
      "INFO:pykeen.utilities.train_utils:Epoch 151 /  500 (9.9s):  loss: 0.017  val loss: 0.025  value: 0.237  patience:  12\n",
      "INFO:pykeen.utilities.train_utils:Epoch 152 /  500 (9.9s):  loss: 0.017  val loss: 0.025  value: 0.237  patience:  13\n",
      "INFO:pykeen.utilities.train_utils:Epoch 153 /  500 (9.9s):  loss: 0.017  val loss: 0.025  value: 0.237  patience:  14\n",
      "INFO:pykeen.utilities.train_utils:Epoch 154 /  500 (9.9s):  loss: 0.017  val loss: 0.025  value: 0.237  patience:  15\n",
      "INFO:pykeen.utilities.train_utils:Epoch 155 /  500 (9.9s):  loss: 0.017  val loss: 0.025  value: 0.237  patience:  16\n",
      "INFO:pykeen.utilities.train_utils:Epoch 156 /  500 (9.9s):  loss: 0.017  val loss: 0.025  value: 0.237  patience:  17\n",
      "INFO:pykeen.utilities.train_utils:Epoch 157 /  500 (9.9s):  loss: 0.017  val loss: 0.025  value: 0.237  patience:  18\n",
      "INFO:pykeen.utilities.train_utils:Epoch 158 /  500 (9.9s):  loss: 0.017  val loss: 0.025  value: 0.237  patience:  19\n",
      "INFO:pykeen.utilities.train_utils:Epoch 159 /  500 (9.9s):  loss: 0.017  val loss: 0.025  value: 0.237  patience:  20\n",
      "INFO:pykeen.utilities.evaluation_utils.metrics_computations:Evaluation took 17.31s seconds\n"
     ]
    },
    {
     "name": "stdout",
     "output_type": "stream",
     "text": [
      "0.23854038660434468 (0.1889808672051874, 0.3233333333333333)\n"
     ]
    },
    {
     "name": "stderr",
     "output_type": "stream",
     "text": [
      "INFO:pykeen.utilities.train_utils:Epoch 160 /  500 (9.9s):  loss: 0.017  val loss: 0.025  value: 0.239  patience:   1\n",
      "INFO:pykeen.utilities.train_utils:Epoch 161 /  500 (10.1s):  loss: 0.017  val loss: 0.025  value: 0.239  patience:   2\n",
      "INFO:pykeen.utilities.train_utils:Epoch 162 /  500 (10.1s):  loss: 0.017  val loss: 0.025  value: 0.239  patience:   3\n",
      "INFO:pykeen.utilities.train_utils:Epoch 163 /  500 (10.2s):  loss: 0.017  val loss: 0.025  value: 0.239  patience:   4\n",
      "INFO:pykeen.utilities.train_utils:Epoch 164 /  500 (10.3s):  loss: 0.017  val loss: 0.025  value: 0.239  patience:   5\n",
      "INFO:pykeen.utilities.train_utils:Epoch 165 /  500 (10.2s):  loss: 0.017  val loss: 0.025  value: 0.239  patience:   6\n",
      "INFO:pykeen.utilities.train_utils:Epoch 166 /  500 (10.4s):  loss: 0.017  val loss: 0.025  value: 0.239  patience:   7\n",
      "INFO:pykeen.utilities.train_utils:Epoch 167 /  500 (10.0s):  loss: 0.017  val loss: 0.025  value: 0.239  patience:   8\n",
      "INFO:pykeen.utilities.train_utils:Epoch 168 /  500 (9.9s):  loss: 0.017  val loss: 0.025  value: 0.239  patience:   9\n",
      "INFO:pykeen.utilities.train_utils:Epoch 169 /  500 (10.1s):  loss: 0.017  val loss: 0.025  value: 0.239  patience:  10\n",
      "INFO:pykeen.utilities.evaluation_utils.metrics_computations:Evaluation took 18.56s seconds\n"
     ]
    },
    {
     "name": "stdout",
     "output_type": "stream",
     "text": [
      "0.2369975464952817 (0.18705145915826724, 0.3233333333333333)\n"
     ]
    },
    {
     "name": "stderr",
     "output_type": "stream",
     "text": [
      "INFO:pykeen.utilities.train_utils:Epoch 170 /  500 (10.0s):  loss: 0.017  val loss: 0.025  value: 0.237  patience:  11\n",
      "INFO:pykeen.utilities.train_utils:Epoch 171 /  500 (9.9s):  loss: 0.017  val loss: 0.025  value: 0.237  patience:  12\n",
      "INFO:pykeen.utilities.train_utils:Epoch 172 /  500 (10.1s):  loss: 0.017  val loss: 0.025  value: 0.237  patience:  13\n",
      "INFO:pykeen.utilities.train_utils:Epoch 173 /  500 (10.0s):  loss: 0.017  val loss: 0.025  value: 0.237  patience:  14\n",
      "INFO:pykeen.utilities.train_utils:Epoch 174 /  500 (10.3s):  loss: 0.017  val loss: 0.025  value: 0.237  patience:  15\n",
      "INFO:pykeen.utilities.train_utils:Epoch 175 /  500 (10.6s):  loss: 0.017  val loss: 0.025  value: 0.237  patience:  16\n",
      "INFO:pykeen.utilities.train_utils:Epoch 176 /  500 (10.3s):  loss: 0.017  val loss: 0.025  value: 0.237  patience:  17\n",
      "INFO:pykeen.utilities.train_utils:Epoch 177 /  500 (10.6s):  loss: 0.017  val loss: 0.025  value: 0.237  patience:  18\n",
      "INFO:pykeen.utilities.train_utils:Epoch 178 /  500 (10.2s):  loss: 0.017  val loss: 0.025  value: 0.237  patience:  19\n",
      "INFO:pykeen.utilities.train_utils:Epoch 179 /  500 (10.0s):  loss: 0.017  val loss: 0.025  value: 0.237  patience:  20\n",
      "INFO:pykeen.utilities.evaluation_utils.metrics_computations:Evaluation took 17.65s seconds\n"
     ]
    },
    {
     "name": "stdout",
     "output_type": "stream",
     "text": [
      "0.2377046834764535 (0.18793396652137986, 0.3233333333333333)\n"
     ]
    },
    {
     "name": "stderr",
     "output_type": "stream",
     "text": [
      "INFO:pykeen.utilities.train_utils:Epoch 180 /  500 (10.0s):  loss: 0.017  val loss: 0.025  value: 0.238  patience:  21\n",
      "INFO:pykeen.utilities.train_utils:Epoch 181 /  500 (9.9s):  loss: 0.017  val loss: 0.025  value: 0.238  patience:  22\n",
      "INFO:pykeen.utilities.train_utils:Epoch 182 /  500 (10.0s):  loss: 0.017  val loss: 0.025  value: 0.238  patience:  23\n",
      "INFO:pykeen.utilities.train_utils:Epoch 183 /  500 (9.9s):  loss: 0.017  val loss: 0.025  value: 0.238  patience:  24\n",
      "INFO:pykeen.utilities.train_utils:Epoch 184 /  500 (9.9s):  loss: 0.017  val loss: 0.025  value: 0.238  patience:  25\n",
      "INFO:pykeen.utilities.train_utils:Epoch 185 /  500 (9.9s):  loss: 0.017  val loss: 0.025  value: 0.238  patience:  26\n",
      "INFO:pykeen.utilities.train_utils:Epoch 186 /  500 (9.9s):  loss: 0.017  val loss: 0.025  value: 0.238  patience:  27\n",
      "INFO:pykeen.utilities.train_utils:Epoch 187 /  500 (9.9s):  loss: 0.017  val loss: 0.025  value: 0.238  patience:  28\n",
      "INFO:pykeen.utilities.train_utils:Epoch 188 /  500 (9.9s):  loss: 0.017  val loss: 0.025  value: 0.238  patience:  29\n",
      "INFO:pykeen.utilities.train_utils:Epoch 189 /  500 (9.9s):  loss: 0.017  val loss: 0.025  value: 0.238  patience:  30\n",
      "INFO:pykeen.utilities.evaluation_utils.metrics_computations:Evaluation took 17.73s seconds\n"
     ]
    },
    {
     "name": "stdout",
     "output_type": "stream",
     "text": [
      "0.2376510426515167 (0.1878669157826863, 0.3233333333333333)\n"
     ]
    },
    {
     "name": "stderr",
     "output_type": "stream",
     "text": [
      "INFO:pykeen.utilities.train_utils:Epoch 190 /  500 (10.3s):  loss: 0.017  val loss: 0.025  value: 0.238  patience:  31\n",
      "INFO:pykeen.utilities.train_utils:Epoch 191 /  500 (10.1s):  loss: 0.017  val loss: 0.025  value: 0.238  patience:  32\n",
      "INFO:pykeen.utilities.train_utils:Epoch 192 /  500 (10.6s):  loss: 0.017  val loss: 0.025  value: 0.238  patience:  33\n",
      "INFO:pykeen.utilities.train_utils:Epoch 193 /  500 (10.5s):  loss: 0.017  val loss: 0.025  value: 0.238  patience:  34\n",
      "INFO:pykeen.utilities.train_utils:Epoch 194 /  500 (10.8s):  loss: 0.017  val loss: 0.025  value: 0.238  patience:  35\n",
      "INFO:pykeen.utilities.train_utils:Epoch 195 /  500 (10.6s):  loss: 0.017  val loss: 0.025  value: 0.238  patience:  36\n",
      "INFO:pykeen.utilities.train_utils:Epoch 196 /  500 (10.0s):  loss: 0.017  val loss: 0.025  value: 0.238  patience:  37\n",
      "INFO:pykeen.utilities.train_utils:Epoch 197 /  500 (9.9s):  loss: 0.017  val loss: 0.025  value: 0.238  patience:  38\n",
      "INFO:pykeen.utilities.train_utils:Epoch 198 /  500 (9.9s):  loss: 0.017  val loss: 0.025  value: 0.238  patience:  39\n",
      "INFO:pykeen.utilities.train_utils:Epoch 199 /  500 (9.9s):  loss: 0.017  val loss: 0.025  value: 0.238  patience:  40\n",
      "INFO:pykeen.utilities.evaluation_utils.metrics_computations:Evaluation took 17.44s seconds\n"
     ]
    },
    {
     "name": "stdout",
     "output_type": "stream",
     "text": [
      "0.23928084149409648 (0.18991203744096405, 0.3233333333333333)\n"
     ]
    },
    {
     "name": "stderr",
     "output_type": "stream",
     "text": [
      "INFO:pykeen.utilities.train_utils:Epoch 200 /  500 (9.9s):  loss: 0.017  val loss: 0.025  value: 0.239  patience:   1\n",
      "INFO:pykeen.utilities.train_utils:Epoch 201 /  500 (9.9s):  loss: 0.017  val loss: 0.025  value: 0.239  patience:   2\n",
      "INFO:pykeen.utilities.train_utils:Epoch 202 /  500 (10.0s):  loss: 0.017  val loss: 0.025  value: 0.239  patience:   3\n",
      "INFO:pykeen.utilities.train_utils:Epoch 203 /  500 (9.9s):  loss: 0.017  val loss: 0.025  value: 0.239  patience:   4\n",
      "INFO:pykeen.utilities.train_utils:Epoch 204 /  500 (9.9s):  loss: 0.017  val loss: 0.025  value: 0.239  patience:   5\n",
      "INFO:pykeen.utilities.train_utils:Epoch 205 /  500 (10.0s):  loss: 0.017  val loss: 0.025  value: 0.239  patience:   6\n",
      "INFO:pykeen.utilities.train_utils:Epoch 206 /  500 (10.0s):  loss: 0.017  val loss: 0.025  value: 0.239  patience:   7\n",
      "INFO:pykeen.utilities.train_utils:Epoch 207 /  500 (10.4s):  loss: 0.017  val loss: 0.025  value: 0.239  patience:   8\n",
      "INFO:pykeen.utilities.train_utils:Epoch 208 /  500 (10.2s):  loss: 0.017  val loss: 0.025  value: 0.239  patience:   9\n",
      "INFO:pykeen.utilities.train_utils:Epoch 209 /  500 (10.1s):  loss: 0.017  val loss: 0.025  value: 0.239  patience:  10\n",
      "INFO:pykeen.utilities.evaluation_utils.metrics_computations:Evaluation took 17.10s seconds\n"
     ]
    },
    {
     "name": "stdout",
     "output_type": "stream",
     "text": [
      "0.23906630737318688 (0.1896418987084545, 0.3233333333333333)\n"
     ]
    },
    {
     "name": "stderr",
     "output_type": "stream",
     "text": [
      "INFO:pykeen.utilities.train_utils:Epoch 210 /  500 (9.9s):  loss: 0.017  val loss: 0.025  value: 0.239  patience:  11\n",
      "INFO:pykeen.utilities.train_utils:Epoch 211 /  500 (9.8s):  loss: 0.017  val loss: 0.025  value: 0.239  patience:  12\n",
      "INFO:pykeen.utilities.train_utils:Epoch 212 /  500 (9.9s):  loss: 0.017  val loss: 0.025  value: 0.239  patience:  13\n",
      "INFO:pykeen.utilities.train_utils:Epoch 213 /  500 (9.8s):  loss: 0.017  val loss: 0.025  value: 0.239  patience:  14\n",
      "INFO:pykeen.utilities.train_utils:Epoch 214 /  500 (9.8s):  loss: 0.017  val loss: 0.025  value: 0.239  patience:  15\n",
      "INFO:pykeen.utilities.train_utils:Epoch 215 /  500 (9.8s):  loss: 0.017  val loss: 0.025  value: 0.239  patience:  16\n",
      "INFO:pykeen.utilities.train_utils:Epoch 216 /  500 (9.8s):  loss: 0.017  val loss: 0.025  value: 0.239  patience:  17\n",
      "INFO:pykeen.utilities.train_utils:Epoch 217 /  500 (9.9s):  loss: 0.017  val loss: 0.025  value: 0.239  patience:  18\n",
      "INFO:pykeen.utilities.train_utils:Epoch 218 /  500 (9.9s):  loss: 0.017  val loss: 0.025  value: 0.239  patience:  19\n",
      "INFO:pykeen.utilities.train_utils:Epoch 219 /  500 (9.9s):  loss: 0.017  val loss: 0.025  value: 0.239  patience:  20\n",
      "INFO:pykeen.utilities.evaluation_utils.metrics_computations:Evaluation took 17.10s seconds\n"
     ]
    },
    {
     "name": "stdout",
     "output_type": "stream",
     "text": [
      "0.23926794245118205 (0.18989578708555124, 0.3233333333333333)\n"
     ]
    },
    {
     "name": "stderr",
     "output_type": "stream",
     "text": [
      "INFO:pykeen.utilities.train_utils:Epoch 220 /  500 (9.9s):  loss: 0.017  val loss: 0.025  value: 0.239  patience:  21\n",
      "INFO:pykeen.utilities.train_utils:Epoch 221 /  500 (9.9s):  loss: 0.017  val loss: 0.025  value: 0.239  patience:  22\n",
      "INFO:pykeen.utilities.train_utils:Epoch 222 /  500 (9.8s):  loss: 0.017  val loss: 0.025  value: 0.239  patience:  23\n",
      "INFO:pykeen.utilities.train_utils:Epoch 223 /  500 (9.9s):  loss: 0.017  val loss: 0.025  value: 0.239  patience:  24\n",
      "INFO:pykeen.utilities.train_utils:Epoch 224 /  500 (9.9s):  loss: 0.017  val loss: 0.025  value: 0.239  patience:  25\n",
      "INFO:pykeen.utilities.train_utils:Epoch 225 /  500 (9.9s):  loss: 0.017  val loss: 0.025  value: 0.239  patience:  26\n",
      "INFO:pykeen.utilities.train_utils:Epoch 226 /  500 (10.0s):  loss: 0.017  val loss: 0.025  value: 0.239  patience:  27\n",
      "INFO:pykeen.utilities.train_utils:Epoch 227 /  500 (10.3s):  loss: 0.017  val loss: 0.025  value: 0.239  patience:  28\n",
      "INFO:pykeen.utilities.train_utils:Epoch 228 /  500 (10.0s):  loss: 0.017  val loss: 0.025  value: 0.239  patience:  29\n",
      "INFO:pykeen.utilities.train_utils:Epoch 229 /  500 (10.0s):  loss: 0.017  val loss: 0.025  value: 0.239  patience:  30\n",
      "INFO:pykeen.utilities.evaluation_utils.metrics_computations:Evaluation took 19.36s seconds\n"
     ]
    },
    {
     "name": "stdout",
     "output_type": "stream",
     "text": [
      "0.23903169899202498 (0.18959834689429494, 0.3233333333333333)\n"
     ]
    },
    {
     "name": "stderr",
     "output_type": "stream",
     "text": [
      "INFO:pykeen.utilities.train_utils:Epoch 230 /  500 (10.0s):  loss: 0.017  val loss: 0.025  value: 0.239  patience:  31\n",
      "INFO:pykeen.utilities.train_utils:Epoch 231 /  500 (11.8s):  loss: 0.017  val loss: 0.025  value: 0.239  patience:  32\n",
      "INFO:pykeen.utilities.train_utils:Epoch 232 /  500 (10.8s):  loss: 0.017  val loss: 0.025  value: 0.239  patience:  33\n",
      "INFO:pykeen.utilities.train_utils:Epoch 233 /  500 (11.1s):  loss: 0.017  val loss: 0.025  value: 0.239  patience:  34\n",
      "INFO:pykeen.utilities.train_utils:Epoch 234 /  500 (10.9s):  loss: 0.017  val loss: 0.025  value: 0.239  patience:  35\n",
      "INFO:pykeen.utilities.train_utils:Epoch 235 /  500 (10.7s):  loss: 0.017  val loss: 0.025  value: 0.239  patience:  36\n",
      "INFO:pykeen.utilities.train_utils:Epoch 236 /  500 (10.5s):  loss: 0.017  val loss: 0.025  value: 0.239  patience:  37\n",
      "INFO:pykeen.utilities.train_utils:Epoch 237 /  500 (10.6s):  loss: 0.017  val loss: 0.025  value: 0.239  patience:  38\n",
      "INFO:pykeen.utilities.train_utils:Epoch 238 /  500 (10.6s):  loss: 0.017  val loss: 0.025  value: 0.239  patience:  39\n",
      "INFO:pykeen.utilities.train_utils:Epoch 239 /  500 (10.5s):  loss: 0.017  val loss: 0.025  value: 0.239  patience:  40\n",
      "INFO:pykeen.utilities.evaluation_utils.metrics_computations:Evaluation took 18.41s seconds\n"
     ]
    },
    {
     "name": "stdout",
     "output_type": "stream",
     "text": [
      "0.2393426833251847 (0.1899899607521962, 0.3233333333333333)\n"
     ]
    },
    {
     "name": "stderr",
     "output_type": "stream",
     "text": [
      "INFO:pykeen.utilities.train_utils:Epoch 240 /  500 (10.6s):  loss: 0.017  val loss: 0.025  value: 0.239  patience:   1\n",
      "INFO:pykeen.utilities.train_utils:Epoch 241 /  500 (10.2s):  loss: 0.017  val loss: 0.025  value: 0.239  patience:   2\n",
      "INFO:pykeen.utilities.train_utils:Epoch 242 /  500 (10.2s):  loss: 0.017  val loss: 0.025  value: 0.239  patience:   3\n",
      "INFO:pykeen.utilities.train_utils:Epoch 243 /  500 (10.0s):  loss: 0.017  val loss: 0.025  value: 0.239  patience:   4\n",
      "INFO:pykeen.utilities.train_utils:Epoch 244 /  500 (9.9s):  loss: 0.017  val loss: 0.025  value: 0.239  patience:   5\n",
      "INFO:pykeen.utilities.train_utils:Epoch 245 /  500 (9.9s):  loss: 0.017  val loss: 0.025  value: 0.239  patience:   6\n",
      "INFO:pykeen.utilities.train_utils:Epoch 246 /  500 (9.9s):  loss: 0.017  val loss: 0.025  value: 0.239  patience:   7\n",
      "INFO:pykeen.utilities.train_utils:Epoch 247 /  500 (9.9s):  loss: 0.017  val loss: 0.025  value: 0.239  patience:   8\n",
      "INFO:pykeen.utilities.train_utils:Epoch 248 /  500 (10.0s):  loss: 0.017  val loss: 0.025  value: 0.239  patience:   9\n",
      "INFO:pykeen.utilities.train_utils:Epoch 249 /  500 (10.0s):  loss: 0.017  val loss: 0.025  value: 0.239  patience:  10\n",
      "INFO:pykeen.utilities.evaluation_utils.metrics_computations:Evaluation took 17.94s seconds\n"
     ]
    },
    {
     "name": "stdout",
     "output_type": "stream",
     "text": [
      "0.2392347255909323 (0.18985394485805174, 0.3233333333333333)\n"
     ]
    },
    {
     "name": "stderr",
     "output_type": "stream",
     "text": [
      "INFO:pykeen.utilities.train_utils:Epoch 250 /  500 (10.3s):  loss: 0.017  val loss: 0.025  value: 0.239  patience:  11\n",
      "INFO:pykeen.utilities.train_utils:Epoch 251 /  500 (10.2s):  loss: 0.017  val loss: 0.025  value: 0.239  patience:  12\n",
      "INFO:pykeen.utilities.train_utils:Epoch 252 /  500 (10.1s):  loss: 0.017  val loss: 0.025  value: 0.239  patience:  13\n",
      "INFO:pykeen.utilities.train_utils:Epoch 253 /  500 (10.5s):  loss: 0.017  val loss: 0.025  value: 0.239  patience:  14\n",
      "INFO:pykeen.utilities.train_utils:Epoch 254 /  500 (10.2s):  loss: 0.017  val loss: 0.025  value: 0.239  patience:  15\n",
      "INFO:pykeen.utilities.train_utils:Epoch 255 /  500 (10.0s):  loss: 0.017  val loss: 0.025  value: 0.239  patience:  16\n",
      "INFO:pykeen.utilities.train_utils:Epoch 256 /  500 (10.3s):  loss: 0.017  val loss: 0.025  value: 0.239  patience:  17\n",
      "INFO:pykeen.utilities.train_utils:Epoch 257 /  500 (10.3s):  loss: 0.017  val loss: 0.025  value: 0.239  patience:  18\n",
      "INFO:pykeen.utilities.train_utils:Epoch 258 /  500 (10.0s):  loss: 0.017  val loss: 0.025  value: 0.239  patience:  19\n",
      "INFO:pykeen.utilities.train_utils:Epoch 259 /  500 (10.0s):  loss: 0.017  val loss: 0.025  value: 0.239  patience:  20\n",
      "INFO:pykeen.utilities.evaluation_utils.metrics_computations:Evaluation took 17.50s seconds\n"
     ]
    },
    {
     "name": "stdout",
     "output_type": "stream",
     "text": [
      "0.23742478867184647 (0.1875842929696506, 0.3233333333333333)\n"
     ]
    },
    {
     "name": "stderr",
     "output_type": "stream",
     "text": [
      "INFO:pykeen.utilities.train_utils:Epoch 260 /  500 (10.0s):  loss: 0.017  val loss: 0.025  value: 0.237  patience:  21\n",
      "INFO:pykeen.utilities.train_utils:Epoch 261 /  500 (10.0s):  loss: 0.017  val loss: 0.025  value: 0.237  patience:  22\n",
      "INFO:pykeen.utilities.train_utils:Epoch 262 /  500 (10.0s):  loss: 0.017  val loss: 0.025  value: 0.237  patience:  23\n",
      "INFO:pykeen.utilities.train_utils:Epoch 263 /  500 (10.1s):  loss: 0.017  val loss: 0.025  value: 0.237  patience:  24\n",
      "INFO:pykeen.utilities.train_utils:Epoch 264 /  500 (10.0s):  loss: 0.017  val loss: 0.025  value: 0.237  patience:  25\n",
      "INFO:pykeen.utilities.train_utils:Epoch 265 /  500 (10.6s):  loss: 0.017  val loss: 0.025  value: 0.237  patience:  26\n",
      "INFO:pykeen.utilities.train_utils:Epoch 266 /  500 (10.0s):  loss: 0.017  val loss: 0.025  value: 0.237  patience:  27\n",
      "INFO:pykeen.utilities.train_utils:Epoch 267 /  500 (10.0s):  loss: 0.017  val loss: 0.025  value: 0.237  patience:  28\n",
      "INFO:pykeen.utilities.train_utils:Epoch 268 /  500 (9.9s):  loss: 0.017  val loss: 0.025  value: 0.237  patience:  29\n",
      "INFO:pykeen.utilities.train_utils:Epoch 269 /  500 (9.9s):  loss: 0.017  val loss: 0.025  value: 0.237  patience:  30\n",
      "INFO:pykeen.utilities.evaluation_utils.metrics_computations:Evaluation took 17.38s seconds\n"
     ]
    },
    {
     "name": "stdout",
     "output_type": "stream",
     "text": [
      "0.23886684360777533 (0.18939099136234921, 0.3233333333333333)\n"
     ]
    },
    {
     "name": "stderr",
     "output_type": "stream",
     "text": [
      "INFO:pykeen.utilities.train_utils:Epoch 270 /  500 (10.0s):  loss: 0.017  val loss: 0.025  value: 0.239  patience:  31\n",
      "INFO:pykeen.utilities.train_utils:Epoch 271 /  500 (10.2s):  loss: 0.017  val loss: 0.025  value: 0.239  patience:  32\n",
      "INFO:pykeen.utilities.train_utils:Epoch 272 /  500 (10.1s):  loss: 0.017  val loss: 0.025  value: 0.239  patience:  33\n",
      "INFO:pykeen.utilities.train_utils:Epoch 273 /  500 (10.0s):  loss: 0.017  val loss: 0.025  value: 0.239  patience:  34\n",
      "INFO:pykeen.utilities.train_utils:Epoch 274 /  500 (10.3s):  loss: 0.017  val loss: 0.025  value: 0.239  patience:  35\n",
      "INFO:pykeen.utilities.train_utils:Epoch 275 /  500 (10.6s):  loss: 0.017  val loss: 0.025  value: 0.239  patience:  36\n",
      "INFO:pykeen.utilities.train_utils:Epoch 276 /  500 (10.5s):  loss: 0.017  val loss: 0.025  value: 0.239  patience:  37\n",
      "INFO:pykeen.utilities.train_utils:Epoch 277 /  500 (10.3s):  loss: 0.017  val loss: 0.025  value: 0.239  patience:  38\n",
      "INFO:pykeen.utilities.train_utils:Epoch 278 /  500 (12.0s):  loss: 0.017  val loss: 0.025  value: 0.239  patience:  39\n",
      "INFO:pykeen.utilities.train_utils:Epoch 279 /  500 (11.2s):  loss: 0.017  val loss: 0.025  value: 0.239  patience:  40\n",
      "INFO:pykeen.utilities.evaluation_utils.metrics_computations:Evaluation took 20.36s seconds\n"
     ]
    },
    {
     "name": "stdout",
     "output_type": "stream",
     "text": [
      "0.23902584112012285 (0.18959097597389385, 0.3233333333333333)\n"
     ]
    },
    {
     "name": "stderr",
     "output_type": "stream",
     "text": [
      "INFO:pykeen.utilities.train_utils:Epoch 280 /  500 (10.8s):  loss: 0.017  val loss: 0.025  value: 0.239  patience:  41\n",
      "INFO:pykeen.utilities.train_utils:Epoch 281 /  500 (10.5s):  loss: 0.017  val loss: 0.025  value: 0.239  patience:  42\n",
      "INFO:pykeen.utilities.train_utils:Epoch 282 /  500 (10.9s):  loss: 0.017  val loss: 0.025  value: 0.239  patience:  43\n",
      "INFO:pykeen.utilities.train_utils:Epoch 283 /  500 (10.4s):  loss: 0.017  val loss: 0.025  value: 0.239  patience:  44\n",
      "INFO:pykeen.utilities.train_utils:Epoch 284 /  500 (10.2s):  loss: 0.017  val loss: 0.025  value: 0.239  patience:  45\n",
      "INFO:pykeen.utilities.train_utils:Epoch 285 /  500 (10.1s):  loss: 0.017  val loss: 0.025  value: 0.239  patience:  46\n",
      "INFO:pykeen.utilities.train_utils:Epoch 286 /  500 (10.1s):  loss: 0.017  val loss: 0.025  value: 0.239  patience:  47\n",
      "INFO:pykeen.utilities.train_utils:Epoch 287 /  500 (9.9s):  loss: 0.017  val loss: 0.025  value: 0.239  patience:  48\n",
      "INFO:pykeen.utilities.train_utils:Epoch 288 /  500 (10.0s):  loss: 0.017  val loss: 0.025  value: 0.239  patience:  49\n",
      "INFO:pykeen.utilities.train_utils:Epoch 289 /  500 (10.0s):  loss: 0.017  val loss: 0.025  value: 0.239  patience:  50\n",
      "INFO:pykeen.utilities.evaluation_utils.metrics_computations:Evaluation took 18.47s seconds\n"
     ]
    },
    {
     "name": "stdout",
     "output_type": "stream",
     "text": [
      "0.23920630137346907 (0.18981814518761217, 0.3233333333333333)\n"
     ]
    },
    {
     "name": "stderr",
     "output_type": "stream",
     "text": [
      "INFO:pykeen.utilities.train_utils:Epoch 290 /  500 (10.4s):  loss: 0.017  val loss: 0.025  value: 0.239  patience:  51\n",
      "INFO:pykeen.utilities.train_utils:Epoch 291 /  500 (10.5s):  loss: 0.016  val loss: 0.025  value: 0.239  patience:  52\n",
      "INFO:pykeen.utilities.train_utils:Epoch 292 /  500 (10.5s):  loss: 0.017  val loss: 0.025  value: 0.239  patience:  53\n",
      "INFO:pykeen.utilities.train_utils:Epoch 293 /  500 (10.6s):  loss: 0.017  val loss: 0.025  value: 0.239  patience:  54\n",
      "INFO:pykeen.utilities.train_utils:Epoch 294 /  500 (10.2s):  loss: 0.017  val loss: 0.025  value: 0.239  patience:  55\n",
      "INFO:pykeen.utilities.train_utils:Epoch 295 /  500 (10.6s):  loss: 0.017  val loss: 0.025  value: 0.239  patience:  56\n",
      "INFO:pykeen.utilities.train_utils:Epoch 296 /  500 (10.2s):  loss: 0.017  val loss: 0.025  value: 0.239  patience:  57\n",
      "INFO:pykeen.utilities.train_utils:Epoch 297 /  500 (10.0s):  loss: 0.017  val loss: 0.025  value: 0.239  patience:  58\n",
      "INFO:pykeen.utilities.train_utils:Epoch 298 /  500 (10.1s):  loss: 0.017  val loss: 0.025  value: 0.239  patience:  59\n",
      "INFO:pykeen.utilities.train_utils:Epoch 299 /  500 (10.1s):  loss: 0.017  val loss: 0.025  value: 0.239  patience:  60\n",
      "INFO:pykeen.utilities.evaluation_utils.metrics_computations:Evaluation took 17.50s seconds\n"
     ]
    },
    {
     "name": "stdout",
     "output_type": "stream",
     "text": [
      "0.23811276773791176 (0.18844464611351208, 0.3233333333333333)\n"
     ]
    },
    {
     "name": "stderr",
     "output_type": "stream",
     "text": [
      "INFO:pykeen.utilities.train_utils:Epoch 300 /  500 (10.0s):  loss: 0.017  val loss: 0.025  value: 0.238  patience:  61\n",
      "INFO:pykeen.utilities.train_utils:Epoch 301 /  500 (10.1s):  loss: 0.017  val loss: 0.025  value: 0.238  patience:  62\n",
      "INFO:pykeen.utilities.train_utils:Epoch 302 /  500 (10.3s):  loss: 0.017  val loss: 0.025  value: 0.238  patience:  63\n",
      "INFO:pykeen.utilities.train_utils:Epoch 303 /  500 (10.0s):  loss: 0.017  val loss: 0.025  value: 0.238  patience:  64\n",
      "INFO:pykeen.utilities.train_utils:Epoch 304 /  500 (10.1s):  loss: 0.017  val loss: 0.025  value: 0.238  patience:  65\n",
      "INFO:pykeen.utilities.train_utils:Epoch 305 /  500 (10.0s):  loss: 0.017  val loss: 0.025  value: 0.238  patience:  66\n",
      "INFO:pykeen.utilities.train_utils:Epoch 306 /  500 (10.0s):  loss: 0.017  val loss: 0.025  value: 0.238  patience:  67\n",
      "INFO:pykeen.utilities.train_utils:Epoch 307 /  500 (10.8s):  loss: 0.017  val loss: 0.025  value: 0.238  patience:  68\n",
      "INFO:pykeen.utilities.train_utils:Epoch 308 /  500 (11.4s):  loss: 0.017  val loss: 0.025  value: 0.238  patience:  69\n",
      "INFO:pykeen.utilities.train_utils:Epoch 309 /  500 (10.3s):  loss: 0.017  val loss: 0.025  value: 0.238  patience:  70\n",
      "INFO:pykeen.utilities.evaluation_utils.metrics_computations:Evaluation took 17.98s seconds\n"
     ]
    },
    {
     "name": "stdout",
     "output_type": "stream",
     "text": [
      "0.23811613560935957 (0.1884488649366773, 0.3233333333333333)\n"
     ]
    },
    {
     "name": "stderr",
     "output_type": "stream",
     "text": [
      "INFO:pykeen.utilities.train_utils:Epoch 310 /  500 (10.2s):  loss: 0.017  val loss: 0.025  value: 0.238  patience:  71\n",
      "INFO:pykeen.utilities.train_utils:Epoch 311 /  500 (10.0s):  loss: 0.016  val loss: 0.025  value: 0.238  patience:  72\n",
      "INFO:pykeen.utilities.train_utils:Epoch 312 /  500 (10.1s):  loss: 0.017  val loss: 0.025  value: 0.238  patience:  73\n",
      "INFO:pykeen.utilities.train_utils:Epoch 313 /  500 (9.9s):  loss: 0.017  val loss: 0.025  value: 0.238  patience:  74\n",
      "INFO:pykeen.utilities.train_utils:Epoch 314 /  500 (10.3s):  loss: 0.017  val loss: 0.025  value: 0.238  patience:  75\n",
      "INFO:pykeen.utilities.train_utils:Epoch 315 /  500 (10.6s):  loss: 0.017  val loss: 0.025  value: 0.238  patience:  76\n",
      "INFO:pykeen.utilities.train_utils:Epoch 316 /  500 (10.4s):  loss: 0.017  val loss: 0.025  value: 0.238  patience:  77\n",
      "INFO:pykeen.utilities.train_utils:Epoch 317 /  500 (10.6s):  loss: 0.017  val loss: 0.025  value: 0.238  patience:  78\n",
      "INFO:pykeen.utilities.train_utils:Epoch 318 /  500 (10.7s):  loss: 0.017  val loss: 0.025  value: 0.238  patience:  79\n",
      "INFO:pykeen.utilities.train_utils:Epoch 319 /  500 (10.6s):  loss: 0.017  val loss: 0.025  value: 0.238  patience:  80\n",
      "INFO:pykeen.utilities.evaluation_utils.metrics_computations:Evaluation took 18.66s seconds\n"
     ]
    },
    {
     "name": "stdout",
     "output_type": "stream",
     "text": [
      "0.2396152228277822 (0.190333654104374, 0.3233333333333333)\n"
     ]
    },
    {
     "name": "stderr",
     "output_type": "stream",
     "text": [
      "INFO:pykeen.utilities.train_utils:Epoch 320 /  500 (10.6s):  loss: 0.017  val loss: 0.025  value: 0.240  patience:   1\n",
      "INFO:pykeen.utilities.train_utils:Epoch 321 /  500 (10.3s):  loss: 0.017  val loss: 0.025  value: 0.240  patience:   2\n",
      "INFO:pykeen.utilities.train_utils:Epoch 322 /  500 (10.7s):  loss: 0.017  val loss: 0.025  value: 0.240  patience:   3\n",
      "INFO:pykeen.utilities.train_utils:Epoch 323 /  500 (10.6s):  loss: 0.016  val loss: 0.025  value: 0.240  patience:   4\n",
      "INFO:pykeen.utilities.train_utils:Epoch 324 /  500 (10.8s):  loss: 0.017  val loss: 0.025  value: 0.240  patience:   5\n",
      "INFO:pykeen.utilities.train_utils:Epoch 325 /  500 (10.6s):  loss: 0.017  val loss: 0.025  value: 0.240  patience:   6\n",
      "INFO:pykeen.utilities.train_utils:Epoch 326 /  500 (10.8s):  loss: 0.017  val loss: 0.025  value: 0.240  patience:   7\n",
      "INFO:pykeen.utilities.train_utils:Epoch 327 /  500 (11.3s):  loss: 0.017  val loss: 0.025  value: 0.240  patience:   8\n",
      "INFO:pykeen.utilities.train_utils:Epoch 328 /  500 (10.2s):  loss: 0.017  val loss: 0.025  value: 0.240  patience:   9\n",
      "INFO:pykeen.utilities.train_utils:Epoch 329 /  500 (10.3s):  loss: 0.017  val loss: 0.025  value: 0.240  patience:  10\n",
      "INFO:pykeen.utilities.evaluation_utils.metrics_computations:Evaluation took 17.98s seconds\n"
     ]
    },
    {
     "name": "stdout",
     "output_type": "stream",
     "text": [
      "0.23862225553853209 (0.19024254041484534, 0.32)\n"
     ]
    },
    {
     "name": "stderr",
     "output_type": "stream",
     "text": [
      "INFO:pykeen.utilities.train_utils:Epoch 330 /  500 (10.6s):  loss: 0.017  val loss: 0.025  value: 0.239  patience:  11\n",
      "INFO:pykeen.utilities.train_utils:Epoch 331 /  500 (10.4s):  loss: 0.017  val loss: 0.025  value: 0.239  patience:  12\n",
      "INFO:pykeen.utilities.train_utils:Epoch 332 /  500 (10.7s):  loss: 0.017  val loss: 0.025  value: 0.239  patience:  13\n",
      "INFO:pykeen.utilities.train_utils:Epoch 333 /  500 (10.2s):  loss: 0.017  val loss: 0.025  value: 0.239  patience:  14\n",
      "INFO:pykeen.utilities.train_utils:Epoch 334 /  500 (10.1s):  loss: 0.016  val loss: 0.025  value: 0.239  patience:  15\n",
      "INFO:pykeen.utilities.train_utils:Epoch 335 /  500 (10.0s):  loss: 0.017  val loss: 0.025  value: 0.239  patience:  16\n",
      "INFO:pykeen.utilities.train_utils:Epoch 336 /  500 (10.1s):  loss: 0.017  val loss: 0.025  value: 0.239  patience:  17\n",
      "INFO:pykeen.utilities.train_utils:Epoch 337 /  500 (10.1s):  loss: 0.017  val loss: 0.025  value: 0.239  patience:  18\n",
      "INFO:pykeen.utilities.train_utils:Epoch 338 /  500 (10.0s):  loss: 0.017  val loss: 0.025  value: 0.239  patience:  19\n",
      "INFO:pykeen.utilities.train_utils:Epoch 339 /  500 (10.0s):  loss: 0.017  val loss: 0.025  value: 0.239  patience:  20\n",
      "INFO:pykeen.utilities.evaluation_utils.metrics_computations:Evaluation took 17.57s seconds\n"
     ]
    },
    {
     "name": "stdout",
     "output_type": "stream",
     "text": [
      "0.23851122919949672 (0.1901014396782807, 0.32)\n"
     ]
    },
    {
     "name": "stderr",
     "output_type": "stream",
     "text": [
      "INFO:pykeen.utilities.train_utils:Epoch 340 /  500 (10.1s):  loss: 0.017  val loss: 0.025  value: 0.239  patience:  21\n",
      "INFO:pykeen.utilities.train_utils:Epoch 341 /  500 (10.1s):  loss: 0.017  val loss: 0.025  value: 0.239  patience:  22\n",
      "INFO:pykeen.utilities.train_utils:Epoch 342 /  500 (10.8s):  loss: 0.017  val loss: 0.025  value: 0.239  patience:  23\n",
      "INFO:pykeen.utilities.train_utils:Epoch 343 /  500 (10.3s):  loss: 0.017  val loss: 0.025  value: 0.239  patience:  24\n",
      "INFO:pykeen.utilities.train_utils:Epoch 344 /  500 (10.3s):  loss: 0.017  val loss: 0.025  value: 0.239  patience:  25\n",
      "INFO:pykeen.utilities.train_utils:Epoch 345 /  500 (10.3s):  loss: 0.017  val loss: 0.025  value: 0.239  patience:  26\n",
      "INFO:pykeen.utilities.train_utils:Epoch 346 /  500 (10.5s):  loss: 0.017  val loss: 0.025  value: 0.239  patience:  27\n",
      "INFO:pykeen.utilities.train_utils:Epoch 347 /  500 (10.1s):  loss: 0.016  val loss: 0.025  value: 0.239  patience:  28\n",
      "INFO:pykeen.utilities.train_utils:Epoch 348 /  500 (10.2s):  loss: 0.017  val loss: 0.025  value: 0.239  patience:  29\n",
      "INFO:pykeen.utilities.train_utils:Epoch 349 /  500 (10.8s):  loss: 0.017  val loss: 0.025  value: 0.239  patience:  30\n",
      "INFO:pykeen.utilities.evaluation_utils.metrics_computations:Evaluation took 19.05s seconds\n"
     ]
    },
    {
     "name": "stdout",
     "output_type": "stream",
     "text": [
      "0.23936674428217866 (0.190020284965446, 0.3233333333333333)\n"
     ]
    },
    {
     "name": "stderr",
     "output_type": "stream",
     "text": [
      "INFO:pykeen.utilities.train_utils:Epoch 350 /  500 (10.2s):  loss: 0.017  val loss: 0.025  value: 0.239  patience:  31\n",
      "INFO:pykeen.utilities.train_utils:Epoch 351 /  500 (10.3s):  loss: 0.017  val loss: 0.025  value: 0.239  patience:  32\n",
      "INFO:pykeen.utilities.train_utils:Epoch 352 /  500 (10.2s):  loss: 0.017  val loss: 0.025  value: 0.239  patience:  33\n",
      "INFO:pykeen.utilities.train_utils:Epoch 353 /  500 (10.6s):  loss: 0.017  val loss: 0.025  value: 0.239  patience:  34\n"
     ]
    }
   ],
   "source": [
    "results = pykeen.run(\n",
    "    config=config,\n",
    "    output_directory=output_directory\n",
    ")"
   ]
  },
  {
   "cell_type": "code",
   "execution_count": null,
   "metadata": {
    "ExecuteTime": {
     "start_time": "2019-07-05T12:52:31.453Z"
    }
   },
   "outputs": [],
   "source": [
    "config['reg_lambda'] = [0.1]\n",
    "results30 = pykeen.run(\n",
    "    config=config,\n",
    "    output_directory=output_directory\n",
    ")"
   ]
  },
  {
   "cell_type": "code",
   "execution_count": null,
   "metadata": {
    "ExecuteTime": {
     "start_time": "2019-07-05T12:52:31.457Z"
    }
   },
   "outputs": [],
   "source": [
    "config['reg_lambda'] = [1]\n",
    "results40 = pykeen.run(\n",
    "    config=config,\n",
    "    output_directory=output_directory\n",
    ")"
   ]
  },
  {
   "cell_type": "code",
   "execution_count": null,
   "metadata": {
    "ExecuteTime": {
     "start_time": "2019-07-05T12:52:31.460Z"
    }
   },
   "outputs": [],
   "source": [
    "config['reg_lambda'] = [5]\n",
    "results40 = pykeen.run(\n",
    "    config=config,\n",
    "    output_directory=output_directory\n",
    ")"
   ]
  },
  {
   "cell_type": "markdown",
   "metadata": {},
   "source": [
    "Check result entries:"
   ]
  },
  {
   "cell_type": "code",
   "execution_count": null,
   "metadata": {
    "ExecuteTime": {
     "start_time": "2019-07-05T12:52:31.462Z"
    }
   },
   "outputs": [],
   "source": [
    "results.results.keys()"
   ]
  },
  {
   "cell_type": "code",
   "execution_count": null,
   "metadata": {
    "ExecuteTime": {
     "start_time": "2019-07-05T12:52:31.464Z"
    }
   },
   "outputs": [],
   "source": [
    "results = {\n",
    "    'losses': json.load(open(os.path.join(output_directory, 'losses.json'))),\n",
    "    'validation_losses': json.load(open(os.path.join(output_directory, 'val_losses.json'))),\n",
    "    'entity_to_embedding': json.load(open(os.path.join(output_directory, 'entities_to_embeddings.json'))),\n",
    "    'relation_to_embedding': json.load(open(os.path.join(output_directory, 'relations_to_embeddings.json'))),\n",
    "    'final_configuration': json.load(open(os.path.join(output_directory, 'configuration.json'))),\n",
    "    'eval_summary': json.load(open(os.path.join(output_directory, 'evaluation_summary.json'))),\n",
    "    'search_summary': json.load(open(os.path.join(output_directory, 'search_summary.json'))),\n",
    "    'entity_to_id': json.load(open(os.path.join(output_directory, 'entity_to_id.json'))),\n",
    "    'relation_to_id': json.load(open(os.path.join(output_directory, 'relation_to_id.json')))\n",
    "}"
   ]
  },
  {
   "cell_type": "code",
   "execution_count": null,
   "metadata": {
    "ExecuteTime": {
     "start_time": "2019-07-05T12:52:31.466Z"
    }
   },
   "outputs": [],
   "source": [
    "results['search_summary']"
   ]
  },
  {
   "cell_type": "code",
   "execution_count": null,
   "metadata": {
    "ExecuteTime": {
     "start_time": "2019-07-05T12:52:31.469Z"
    }
   },
   "outputs": [],
   "source": [
    "import torch, os\n",
    "import pykeen.constants as pkc\n",
    "from pykeen.kge_models import get_kge_model\n",
    "# Initialize KG embedding model\n",
    "config = results['final_configuration']\n",
    "if config['random_seed'] is not None:\n",
    "    torch.manual_seed(config['random_seed'])\n",
    "    \n",
    "model: torch.nn.Module = get_kge_model(config=config)\n",
    "model.load_state_dict(torch.load(os.path.join(output_directory, 'trained_model.pkl')))\n",
    "\n",
    "results['trained_model'] = model "
   ]
  },
  {
   "cell_type": "markdown",
   "metadata": {},
   "source": [
    "Get the model configuration that lead to best results:"
   ]
  },
  {
   "cell_type": "code",
   "execution_count": null,
   "metadata": {
    "ExecuteTime": {
     "start_time": "2019-07-05T12:52:31.472Z"
    }
   },
   "outputs": [],
   "source": [
    "results['final_configuration']"
   ]
  },
  {
   "cell_type": "markdown",
   "metadata": {},
   "source": [
    "Access trained model:"
   ]
  },
  {
   "cell_type": "code",
   "execution_count": null,
   "metadata": {
    "ExecuteTime": {
     "start_time": "2019-07-05T12:52:31.473Z"
    }
   },
   "outputs": [],
   "source": [
    "results['trained_model']"
   ]
  },
  {
   "cell_type": "markdown",
   "metadata": {},
   "source": [
    "Visualize loss values:"
   ]
  },
  {
   "cell_type": "code",
   "execution_count": null,
   "metadata": {
    "ExecuteTime": {
     "start_time": "2019-07-05T12:52:31.476Z"
    }
   },
   "outputs": [],
   "source": [
    "losses = results['losses']\n",
    "epochs = np.arange(len(losses))\n",
    "plt.title(r'Loss Per Epoch')\n",
    "plt.xlabel('epoch')\n",
    "plt.ylabel('loss')\n",
    "plt.plot(epochs, losses)\n",
    "plt.show()"
   ]
  },
  {
   "cell_type": "code",
   "execution_count": null,
   "metadata": {
    "ExecuteTime": {
     "start_time": "2019-07-05T12:52:31.477Z"
    }
   },
   "outputs": [],
   "source": [
    "losses = results['validation_losses']\n",
    "epochs = np.arange(len(losses))\n",
    "plt.title(r'Loss Per Epoch')\n",
    "plt.xlabel('epoch')\n",
    "plt.ylabel('loss')\n",
    "plt.plot(epochs, losses)\n",
    "plt.show()"
   ]
  },
  {
   "cell_type": "markdown",
   "metadata": {},
   "source": [
    "Get evaluation results:\n",
    " * Mean rank\n",
    " * Hits@k, k $\\in$ {1,3,5,10} "
   ]
  },
  {
   "cell_type": "code",
   "execution_count": null,
   "metadata": {
    "ExecuteTime": {
     "start_time": "2019-07-05T12:52:31.480Z"
    }
   },
   "outputs": [],
   "source": [
    "results['eval_summary']"
   ]
  },
  {
   "cell_type": "markdown",
   "metadata": {},
   "source": [
    "1.\n",
    "\n",
    "    {'training_set_path': 'D:/uni/master/data/YAGO39K/Train/triple2id.tsv',\n",
    "     'test_set_path': 'D:/uni/master/data/YAGO39K/Valid/instanceOf2id_positive.tsv',\n",
    "     'neg_test_set_path': 'D:/uni/master/data/YAGO39K/Valid/instanceOf2id_negative.tsv',\n",
    "     'execution_mode': 'HPO_mode',\n",
    "     'random_seed': 2,\n",
    "     'kg_embedding_model_name': 'Region',\n",
    "     'embedding_dim': 20,\n",
    "     'normalization_of_entities': 2,\n",
    "     'init_radius': 5,\n",
    "     'reg_lambda': 0.02,\n",
    "     'margin_loss': 0,\n",
    "     'learning_rate': 5,\n",
    "     'num_epochs': 30,\n",
    "     'batch_size': 1024,\n",
    "     'test_batch_size': 1024,\n",
    "     'filter_negative_triples': True,\n",
    "     'maximum_number_of_hpo_iters': 20,\n",
    "     'preferred_device': 'gpu',\n",
    "     'pykeen-version': '0.0.26-dev',\n",
    "     'num_entities': 46100,\n",
    "     'num_relations': 39}\n",
    "\n",
    "\n",
    "     {'mean_rank': None,\n",
    "     'hits@k': None,\n",
    "     'precision': [0.5817929759704251],\n",
    "     'recall': [0.7386089563913696],\n",
    "     'accuracy': [0.6035163257983495],\n",
    "     'f1_score': 0.6508889335669357}\n",
    "\n",
    "     30 epochs overfit"
   ]
  },
  {
   "cell_type": "markdown",
   "metadata": {},
   "source": [
    "2.\n",
    "   \n",
    "       {'training_set_path': 'D:/uni/master/data/YAGO39K/Train/instanceOf2id.tsv', 'test_set_path': 'D:/uni/master/data/YAGO39K/Valid/subClassOf2id_positive.tsv', 'neg_test_set_path': 'D:/uni/master/data/YAGO39K/Valid/triple2id_negative.tsv', 'execution_mode': 'HPO_mode', 'random_seed': 2, 'kg_embedding_model_name': 'Region', 'embedding_dim': 100, 'normalization_of_entities': 2, 'init_radius': 0.5, 'reg_lambda': 0.2, 'margin_loss': 0, 'learning_rate': 5, 'num_epochs': 30, 'batch_size': 1024, 'test_batch_size': 1024, 'filter_negative_triples': True, 'maximum_number_of_hpo_iters': 20, 'preferred_device': 'gpu', 'pykeen-version': '0.0.26-dev', 'num_entities': 46100, 'num_relations': 39}\n",
    "\n",
    "    MetricResults(mean_rank=None, hits_at_k=None, precision=(0.5531790499390986,), recall=(0.7401082067661822,), accuracy=(0.5707994911439476,), fscore=0.6331344448781575)\n",
    "\n",
    "    18 epochs\n"
   ]
  },
  {
   "cell_type": "markdown",
   "metadata": {},
   "source": [
    "3.\n",
    "\n",
    "    {'training_set_path': 'D:/uni/master/data/YAGO39K/Train/instanceOf2id.tsv', 'test_set_path': 'D:/uni/master/data/YAGO39K/Valid/instanceOf2id_positive.tsv', 'neg_test_set_path': 'D:/uni/master/data/YAGO39K/Valid/triple2id_negative.tsv', 'execution_mode': 'HPO_mode', 'random_seed': 2, 'kg_embedding_model_name': 'Region', 'embedding_dim': 50, 'normalization_of_entities': 2, 'init_radius': 10, 'reg_lambda': 0.1, 'margin_loss': 0, 'learning_rate': 2, 'num_epochs': 30, 'batch_size': 1024, 'test_batch_size': 1024, 'filter_negative_triples': True, 'maximum_number_of_hpo_iters': 20, 'preferred_device': 'gpu', 'pykeen-version': '0.0.26-dev', 'num_entities': 46100, 'num_relations': 39}\n",
    "\n",
    "    MetricResults(mean_rank=None, hits_at_k=None, precision=(0.5531279471864193,), recall=(0.6881559220389805,), accuracy=(0.5657435495971557,), fscore=0.6132977023847561)\n",
    "\n",
    "    30 epochs not finished\n",
    "\n"
   ]
  },
  {
   "cell_type": "markdown",
   "metadata": {},
   "source": [
    "        {'metrics': 'mean_rank', 'training_set_path': 'D:/uni/master/data/FB15K/train.tsv', 'test_set_path': 'D:/uni/master/data/FB15K/valid_150.tsv', 'mapping_path': 'D:/uni/master/data/fb15k/', 'execution_mode': 'HPO_mode', 'random_seed': 5, 'kg_embedding_model_name': 'Region', 'region_type': 'sphere', 'embedding_dim': 50, 'normalization_of_entities': 2, 'init_radius': 0, 'reg_lambda': 0.01, 'loss_type': 'MRL', 'margin_loss': 0.5, 'neg_factor': 5, 'corrupt_relations': False, 'filter_negative_triples': False, 'es_metric': 'custom', 'learning_rate': 0.1, 'num_epochs': 1000, 'batch_size': 2048, 'test_batch_size': 4096, 'maximum_number_of_hpo_iters': 5, 'preferred_device': 'gpu', 'pykeen-version': '0.0.26-dev', 'num_entities': 14951, 'num_relations': 1345}"
   ]
  },
  {
   "cell_type": "markdown",
   "metadata": {
    "heading_collapsed": true
   },
   "source": [
    "### "
   ]
  }
 ],
 "metadata": {
  "kernelspec": {
   "display_name": "Python 3",
   "language": "python",
   "name": "python3"
  },
  "language_info": {
   "codemirror_mode": {
    "name": "ipython",
    "version": 3
   },
   "file_extension": ".py",
   "mimetype": "text/x-python",
   "name": "python",
   "nbconvert_exporter": "python",
   "pygments_lexer": "ipython3",
   "version": "3.6.8"
  },
  "toc": {
   "base_numbering": 1,
   "nav_menu": {},
   "number_sections": true,
   "sideBar": false,
   "skip_h1_title": false,
   "title_cell": "Table of Contents",
   "title_sidebar": "Contents",
   "toc_cell": false,
   "toc_position": {},
   "toc_section_display": true,
   "toc_window_display": false
  }
 },
 "nbformat": 4,
 "nbformat_minor": 2
}
